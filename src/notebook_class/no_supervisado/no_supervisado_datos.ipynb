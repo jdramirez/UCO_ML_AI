{
 "cells": [
  {
   "cell_type": "markdown",
   "metadata": {
    "slideshow": {
     "slide_type": "slide"
    }
   },
   "source": [
    "# No supervisado datos\n",
    "* Utilizar PCA, para observar los datos\n",
    "* Utilizar K-means para agrupar los datos\n",
    "* Utilizar PCA y Cluster para entender nuestros datos o generar etiquetas"
   ]
  },
  {
   "cell_type": "code",
   "execution_count": 1,
   "metadata": {
    "scrolled": true,
    "slideshow": {
     "slide_type": "slide"
    }
   },
   "outputs": [
    {
     "name": "stdout",
     "output_type": "stream",
     "text": [
      "Requirement already satisfied: numpy in /Users/joseramirez/repository/dathic-growth_backend/venv/lib/python3.9/site-packages (1.23.0)\n",
      "Requirement already satisfied: pandas in /Users/joseramirez/repository/dathic-growth_backend/venv/lib/python3.9/site-packages (1.2.3)\n",
      "Requirement already satisfied: plotly in /Users/joseramirez/repository/dathic-growth_backend/venv/lib/python3.9/site-packages (5.13.0)\n",
      "Requirement already satisfied: scipy in /Users/joseramirez/repository/dathic-growth_backend/venv/lib/python3.9/site-packages (1.10.1)\n",
      "Requirement already satisfied: kaleido in /Users/joseramirez/repository/dathic-growth_backend/venv/lib/python3.9/site-packages (0.2.1)\n",
      "Requirement already satisfied: pytz>=2017.3 in /Users/joseramirez/repository/dathic-growth_backend/venv/lib/python3.9/site-packages (from pandas) (2021.1)\n",
      "Requirement already satisfied: python-dateutil>=2.7.3 in /Users/joseramirez/repository/dathic-growth_backend/venv/lib/python3.9/site-packages (from pandas) (2.8.1)\n",
      "Requirement already satisfied: tenacity>=6.2.0 in /Users/joseramirez/repository/dathic-growth_backend/venv/lib/python3.9/site-packages (from plotly) (8.2.1)\n",
      "Requirement already satisfied: six>=1.5 in /Users/joseramirez/repository/dathic-growth_backend/venv/lib/python3.9/site-packages (from python-dateutil>=2.7.3->pandas) (1.15.0)\n"
     ]
    }
   ],
   "source": [
    "! pip install numpy pandas plotly scipy kaleido"
   ]
  },
  {
   "cell_type": "code",
   "execution_count": 2,
   "metadata": {},
   "outputs": [],
   "source": [
    "import numpy as np\n",
    "import os\n",
    "import pandas as pd\n",
    "from scipy import stats\n",
    "from sklearn.cluster import KMeans\n",
    "from sklearn.preprocessing import StandardScaler\n",
    "from sklearn.decomposition import PCA\n",
    "import matplotlib.pyplot as plt\n",
    "import tarfile\n",
    "import zipfile\n",
    "from sklearn.cluster import AgglomerativeClustering\n",
    "from scipy.io import loadmat\n",
    "from urllib.request import urlretrieve\n",
    "from os.path import isfile, isdir\n",
    "from IPython.display import Image \n",
    "import plotly.figure_factory as ff\n",
    "import plotly.express as px\n",
    "\n",
    "pd.set_option('display.max_rows', 500)\n",
    "pd.set_option('display.max_columns', 500)\n",
    "%matplotlib inline"
   ]
  },
  {
   "cell_type": "markdown",
   "metadata": {},
   "source": [
    "## PCA\n",
    "* Cuales modelos son similares?"
   ]
  },
  {
   "cell_type": "code",
   "execution_count": 3,
   "metadata": {},
   "outputs": [],
   "source": [
    "global static_img\n",
    "static_img=True\n",
    "def display_static(fig):\n",
    "    if static_img:\n",
    "        return Image(fig.to_image(format=\"png\"))\n",
    "    else:\n",
    "        return fig\n",
    "    "
   ]
  },
  {
   "cell_type": "code",
   "execution_count": 4,
   "metadata": {
    "scrolled": true
   },
   "outputs": [],
   "source": [
    "df = pd.read_csv(\"data/CARS.csv\")\n",
    "df[\"Invoice\"] = df[\"Invoice\"].replace('[\\$,]', '', regex=True).astype(float)"
   ]
  },
  {
   "cell_type": "code",
   "execution_count": 5,
   "metadata": {},
   "outputs": [
    {
     "data": {
      "text/html": [
       "<div>\n",
       "<style scoped>\n",
       "    .dataframe tbody tr th:only-of-type {\n",
       "        vertical-align: middle;\n",
       "    }\n",
       "\n",
       "    .dataframe tbody tr th {\n",
       "        vertical-align: top;\n",
       "    }\n",
       "\n",
       "    .dataframe thead th {\n",
       "        text-align: right;\n",
       "    }\n",
       "</style>\n",
       "<table border=\"1\" class=\"dataframe\">\n",
       "  <thead>\n",
       "    <tr style=\"text-align: right;\">\n",
       "      <th></th>\n",
       "      <th>Make</th>\n",
       "      <th>Model</th>\n",
       "      <th>Type</th>\n",
       "      <th>Origin</th>\n",
       "      <th>DriveTrain</th>\n",
       "      <th>MSRP</th>\n",
       "      <th>Invoice</th>\n",
       "      <th>EngineSize</th>\n",
       "      <th>Cylinders</th>\n",
       "      <th>Horsepower</th>\n",
       "      <th>MPG_City</th>\n",
       "      <th>MPG_Highway</th>\n",
       "      <th>Weight</th>\n",
       "      <th>Wheelbase</th>\n",
       "      <th>Length</th>\n",
       "    </tr>\n",
       "  </thead>\n",
       "  <tbody>\n",
       "    <tr>\n",
       "      <th>count</th>\n",
       "      <td>428</td>\n",
       "      <td>428</td>\n",
       "      <td>428</td>\n",
       "      <td>428</td>\n",
       "      <td>428</td>\n",
       "      <td>428</td>\n",
       "      <td>428.000000</td>\n",
       "      <td>428.000000</td>\n",
       "      <td>426.000000</td>\n",
       "      <td>428.000000</td>\n",
       "      <td>428.000000</td>\n",
       "      <td>428.000000</td>\n",
       "      <td>428.000000</td>\n",
       "      <td>428.000000</td>\n",
       "      <td>428.000000</td>\n",
       "    </tr>\n",
       "    <tr>\n",
       "      <th>unique</th>\n",
       "      <td>38</td>\n",
       "      <td>425</td>\n",
       "      <td>6</td>\n",
       "      <td>3</td>\n",
       "      <td>3</td>\n",
       "      <td>410</td>\n",
       "      <td>NaN</td>\n",
       "      <td>NaN</td>\n",
       "      <td>NaN</td>\n",
       "      <td>NaN</td>\n",
       "      <td>NaN</td>\n",
       "      <td>NaN</td>\n",
       "      <td>NaN</td>\n",
       "      <td>NaN</td>\n",
       "      <td>NaN</td>\n",
       "    </tr>\n",
       "    <tr>\n",
       "      <th>top</th>\n",
       "      <td>Toyota</td>\n",
       "      <td>C240 4dr</td>\n",
       "      <td>Sedan</td>\n",
       "      <td>Asia</td>\n",
       "      <td>Front</td>\n",
       "      <td>$31,545</td>\n",
       "      <td>NaN</td>\n",
       "      <td>NaN</td>\n",
       "      <td>NaN</td>\n",
       "      <td>NaN</td>\n",
       "      <td>NaN</td>\n",
       "      <td>NaN</td>\n",
       "      <td>NaN</td>\n",
       "      <td>NaN</td>\n",
       "      <td>NaN</td>\n",
       "    </tr>\n",
       "    <tr>\n",
       "      <th>freq</th>\n",
       "      <td>28</td>\n",
       "      <td>2</td>\n",
       "      <td>262</td>\n",
       "      <td>158</td>\n",
       "      <td>226</td>\n",
       "      <td>2</td>\n",
       "      <td>NaN</td>\n",
       "      <td>NaN</td>\n",
       "      <td>NaN</td>\n",
       "      <td>NaN</td>\n",
       "      <td>NaN</td>\n",
       "      <td>NaN</td>\n",
       "      <td>NaN</td>\n",
       "      <td>NaN</td>\n",
       "      <td>NaN</td>\n",
       "    </tr>\n",
       "    <tr>\n",
       "      <th>mean</th>\n",
       "      <td>NaN</td>\n",
       "      <td>NaN</td>\n",
       "      <td>NaN</td>\n",
       "      <td>NaN</td>\n",
       "      <td>NaN</td>\n",
       "      <td>NaN</td>\n",
       "      <td>30014.700935</td>\n",
       "      <td>3.196729</td>\n",
       "      <td>5.807512</td>\n",
       "      <td>215.885514</td>\n",
       "      <td>20.060748</td>\n",
       "      <td>26.843458</td>\n",
       "      <td>3577.953271</td>\n",
       "      <td>108.154206</td>\n",
       "      <td>186.362150</td>\n",
       "    </tr>\n",
       "    <tr>\n",
       "      <th>std</th>\n",
       "      <td>NaN</td>\n",
       "      <td>NaN</td>\n",
       "      <td>NaN</td>\n",
       "      <td>NaN</td>\n",
       "      <td>NaN</td>\n",
       "      <td>NaN</td>\n",
       "      <td>17642.117750</td>\n",
       "      <td>1.108595</td>\n",
       "      <td>1.558443</td>\n",
       "      <td>71.836032</td>\n",
       "      <td>5.238218</td>\n",
       "      <td>5.741201</td>\n",
       "      <td>758.983215</td>\n",
       "      <td>8.311813</td>\n",
       "      <td>14.357991</td>\n",
       "    </tr>\n",
       "    <tr>\n",
       "      <th>min</th>\n",
       "      <td>NaN</td>\n",
       "      <td>NaN</td>\n",
       "      <td>NaN</td>\n",
       "      <td>NaN</td>\n",
       "      <td>NaN</td>\n",
       "      <td>NaN</td>\n",
       "      <td>9875.000000</td>\n",
       "      <td>1.300000</td>\n",
       "      <td>3.000000</td>\n",
       "      <td>73.000000</td>\n",
       "      <td>10.000000</td>\n",
       "      <td>12.000000</td>\n",
       "      <td>1850.000000</td>\n",
       "      <td>89.000000</td>\n",
       "      <td>143.000000</td>\n",
       "    </tr>\n",
       "    <tr>\n",
       "      <th>25%</th>\n",
       "      <td>NaN</td>\n",
       "      <td>NaN</td>\n",
       "      <td>NaN</td>\n",
       "      <td>NaN</td>\n",
       "      <td>NaN</td>\n",
       "      <td>NaN</td>\n",
       "      <td>18866.000000</td>\n",
       "      <td>2.375000</td>\n",
       "      <td>4.000000</td>\n",
       "      <td>165.000000</td>\n",
       "      <td>17.000000</td>\n",
       "      <td>24.000000</td>\n",
       "      <td>3104.000000</td>\n",
       "      <td>103.000000</td>\n",
       "      <td>178.000000</td>\n",
       "    </tr>\n",
       "    <tr>\n",
       "      <th>50%</th>\n",
       "      <td>NaN</td>\n",
       "      <td>NaN</td>\n",
       "      <td>NaN</td>\n",
       "      <td>NaN</td>\n",
       "      <td>NaN</td>\n",
       "      <td>NaN</td>\n",
       "      <td>25294.500000</td>\n",
       "      <td>3.000000</td>\n",
       "      <td>6.000000</td>\n",
       "      <td>210.000000</td>\n",
       "      <td>19.000000</td>\n",
       "      <td>26.000000</td>\n",
       "      <td>3474.500000</td>\n",
       "      <td>107.000000</td>\n",
       "      <td>187.000000</td>\n",
       "    </tr>\n",
       "    <tr>\n",
       "      <th>75%</th>\n",
       "      <td>NaN</td>\n",
       "      <td>NaN</td>\n",
       "      <td>NaN</td>\n",
       "      <td>NaN</td>\n",
       "      <td>NaN</td>\n",
       "      <td>NaN</td>\n",
       "      <td>35710.250000</td>\n",
       "      <td>3.900000</td>\n",
       "      <td>6.000000</td>\n",
       "      <td>255.000000</td>\n",
       "      <td>21.250000</td>\n",
       "      <td>29.000000</td>\n",
       "      <td>3977.750000</td>\n",
       "      <td>112.000000</td>\n",
       "      <td>194.000000</td>\n",
       "    </tr>\n",
       "    <tr>\n",
       "      <th>max</th>\n",
       "      <td>NaN</td>\n",
       "      <td>NaN</td>\n",
       "      <td>NaN</td>\n",
       "      <td>NaN</td>\n",
       "      <td>NaN</td>\n",
       "      <td>NaN</td>\n",
       "      <td>173560.000000</td>\n",
       "      <td>8.300000</td>\n",
       "      <td>12.000000</td>\n",
       "      <td>500.000000</td>\n",
       "      <td>60.000000</td>\n",
       "      <td>66.000000</td>\n",
       "      <td>7190.000000</td>\n",
       "      <td>144.000000</td>\n",
       "      <td>238.000000</td>\n",
       "    </tr>\n",
       "  </tbody>\n",
       "</table>\n",
       "</div>"
      ],
      "text/plain": [
       "          Make     Model   Type Origin DriveTrain     MSRP        Invoice  \\\n",
       "count      428       428    428    428        428      428     428.000000   \n",
       "unique      38       425      6      3          3      410            NaN   \n",
       "top     Toyota  C240 4dr  Sedan   Asia      Front  $31,545            NaN   \n",
       "freq        28         2    262    158        226        2            NaN   \n",
       "mean       NaN       NaN    NaN    NaN        NaN      NaN   30014.700935   \n",
       "std        NaN       NaN    NaN    NaN        NaN      NaN   17642.117750   \n",
       "min        NaN       NaN    NaN    NaN        NaN      NaN    9875.000000   \n",
       "25%        NaN       NaN    NaN    NaN        NaN      NaN   18866.000000   \n",
       "50%        NaN       NaN    NaN    NaN        NaN      NaN   25294.500000   \n",
       "75%        NaN       NaN    NaN    NaN        NaN      NaN   35710.250000   \n",
       "max        NaN       NaN    NaN    NaN        NaN      NaN  173560.000000   \n",
       "\n",
       "        EngineSize   Cylinders  Horsepower    MPG_City  MPG_Highway  \\\n",
       "count   428.000000  426.000000  428.000000  428.000000   428.000000   \n",
       "unique         NaN         NaN         NaN         NaN          NaN   \n",
       "top            NaN         NaN         NaN         NaN          NaN   \n",
       "freq           NaN         NaN         NaN         NaN          NaN   \n",
       "mean      3.196729    5.807512  215.885514   20.060748    26.843458   \n",
       "std       1.108595    1.558443   71.836032    5.238218     5.741201   \n",
       "min       1.300000    3.000000   73.000000   10.000000    12.000000   \n",
       "25%       2.375000    4.000000  165.000000   17.000000    24.000000   \n",
       "50%       3.000000    6.000000  210.000000   19.000000    26.000000   \n",
       "75%       3.900000    6.000000  255.000000   21.250000    29.000000   \n",
       "max       8.300000   12.000000  500.000000   60.000000    66.000000   \n",
       "\n",
       "             Weight   Wheelbase      Length  \n",
       "count    428.000000  428.000000  428.000000  \n",
       "unique          NaN         NaN         NaN  \n",
       "top             NaN         NaN         NaN  \n",
       "freq            NaN         NaN         NaN  \n",
       "mean    3577.953271  108.154206  186.362150  \n",
       "std      758.983215    8.311813   14.357991  \n",
       "min     1850.000000   89.000000  143.000000  \n",
       "25%     3104.000000  103.000000  178.000000  \n",
       "50%     3474.500000  107.000000  187.000000  \n",
       "75%     3977.750000  112.000000  194.000000  \n",
       "max     7190.000000  144.000000  238.000000  "
      ]
     },
     "execution_count": 5,
     "metadata": {},
     "output_type": "execute_result"
    }
   ],
   "source": [
    "df.describe(include=\"all\")"
   ]
  },
  {
   "cell_type": "code",
   "execution_count": 6,
   "metadata": {},
   "outputs": [
    {
     "data": {
      "text/plain": [
       "PCA(n_components=2)"
      ]
     },
     "execution_count": 6,
     "metadata": {},
     "output_type": "execute_result"
    }
   ],
   "source": [
    "pca = PCA(n_components=2)\n",
    "X = df[[\"EngineSize\",\"Cylinders\",\"Horsepower\",\"MPG_City\",\"MPG_Highway\",\"Weight\",\"Wheelbase\",\"Length\"]].fillna(0)\n",
    "# center, remove mean\n",
    "#X = X.sub(X.mean(axis=0), axis=1)\n",
    "scaler = StandardScaler()\n",
    "scaler.fit(X)\n",
    "X_sc = scaler.transform(X)\n",
    "pca.fit(X_sc)"
   ]
  },
  {
   "cell_type": "code",
   "execution_count": 7,
   "metadata": {},
   "outputs": [
    {
     "data": {
      "text/plain": [
       "array([[-0.38777255, -0.36326891, -0.33140171,  0.35867452,  0.35957626,\n",
       "        -0.38389832, -0.32249629, -0.31387383],\n",
       "       [ 0.08763927,  0.18034495,  0.39715417, -0.25114062, -0.24366903,\n",
       "        -0.10688009, -0.57353016, -0.58245791]])"
      ]
     },
     "execution_count": 7,
     "metadata": {},
     "output_type": "execute_result"
    }
   ],
   "source": [
    "pca.components_"
   ]
  },
  {
   "cell_type": "code",
   "execution_count": null,
   "metadata": {},
   "outputs": [],
   "source": []
  },
  {
   "cell_type": "code",
   "execution_count": 8,
   "metadata": {},
   "outputs": [
    {
     "data": {
      "image/png": "[encoded data removed]",
      "text/plain": [
       "<IPython.core.display.Image object>"
      ]
     },
     "metadata": {},
     "output_type": "display_data"
    }
   ],
   "source": [
    "X_hat = pca.transform(X_sc)\n",
    "df_2d = pd.DataFrame(data=X_hat,columns=[\"comp1\",\"comp2\"])\n",
    "df_2d[\"Model\"] = df[\"Model\"]\n",
    "df_2d[\"Make\"] = df[\"Make\"]\n",
    "fig = px.scatter(df_2d, x=\"comp1\", y=\"comp2\", \n",
    "                 color=\"Make\", custom_data=['Make', 'Model'],\n",
    "                 title=\"Autos 2D with PCA\"\n",
    "                )\n",
    "fig.update_traces( hovertemplate='Comp1: %{x} <br>Comp2: %{y} <br>Brand: %{customdata[0]}-%{customdata[1]}')\n",
    "display(display_static(fig))"
   ]
  },
  {
   "cell_type": "code",
   "execution_count": 9,
   "metadata": {},
   "outputs": [
    {
     "name": "stdout",
     "output_type": "stream",
     "text": [
      "[0.71064877 0.13328633]\n"
     ]
    }
   ],
   "source": [
    "# las priemras 2 componentes explican 84% de la varianza d elos datos\n",
    "print(pca.explained_variance_ratio_)"
   ]
  },
  {
   "cell_type": "code",
   "execution_count": 10,
   "metadata": {},
   "outputs": [
    {
     "data": {
      "text/plain": [
       "array([5.69850446, 1.06878782])"
      ]
     },
     "execution_count": 10,
     "metadata": {},
     "output_type": "execute_result"
    }
   ],
   "source": [
    "# eigen values\n",
    "pca.explained_variance_"
   ]
  },
  {
   "cell_type": "code",
   "execution_count": 11,
   "metadata": {},
   "outputs": [
    {
     "data": {
      "text/plain": [
       "array([[-0.38777255, -0.36326891, -0.33140171,  0.35867452,  0.35957626,\n",
       "        -0.38389832, -0.32249629, -0.31387383],\n",
       "       [ 0.08763927,  0.18034495,  0.39715417, -0.25114062, -0.24366903,\n",
       "        -0.10688009, -0.57353016, -0.58245791]])"
      ]
     },
     "execution_count": 11,
     "metadata": {},
     "output_type": "execute_result"
    }
   ],
   "source": [
    "# eigen vector\n",
    "pca.components_"
   ]
  },
  {
   "cell_type": "markdown",
   "metadata": {},
   "source": [
    "#### More exmaples on\n",
    "https://jdramirez.github.io/UCO_ML_AI/PCA.html"
   ]
  },
  {
   "cell_type": "markdown",
   "metadata": {},
   "source": [
    "## K-Mean\n",
    "Use k-means to find similar cars"
   ]
  },
  {
   "cell_type": "code",
   "execution_count": 84,
   "metadata": {},
   "outputs": [],
   "source": [
    "kmeans = KMeans(n_clusters=4, random_state=0).fit(X_sc)"
   ]
  },
  {
   "cell_type": "code",
   "execution_count": 85,
   "metadata": {},
   "outputs": [
    {
     "data": {
      "text/plain": [
       "array([[-1.1175571 , -1.16286836, -1.05154231,  1.21302464,  1.1414147 ,\n",
       "        -1.10217583, -0.83719832, -0.88653629],\n",
       "       [-0.15186283, -0.08262071, -0.06282695, -0.15105604, -0.05455511,\n",
       "        -0.09088182, -0.11567295, -0.03841553],\n",
       "       [ 1.18079808,  0.89281252,  0.55671532, -0.8891844 , -1.06566823,\n",
       "         1.51854331,  1.5150616 ,  1.33102836],\n",
       "       [ 1.25706826,  1.4791274 ,  1.62931818, -0.7220299 , -0.69655741,\n",
       "         0.54775946,  0.10414987,  0.16551601]])"
      ]
     },
     "execution_count": 85,
     "metadata": {},
     "output_type": "execute_result"
    }
   ],
   "source": [
    "# centroides\n",
    "kmeans.cluster_centers_"
   ]
  },
  {
   "cell_type": "code",
   "execution_count": 86,
   "metadata": {},
   "outputs": [
    {
     "data": {
      "text/plain": [
       "array([1, 0, 1, 1, 1, 1, 1, 0, 0, 1, 1, 1, 1, 1, 1, 1, 1, 3, 2, 3, 3, 0,\n",
       "       0, 1, 1, 3, 1, 3, 1, 1, 1, 1, 1, 1, 1, 1, 1, 1, 3, 3, 2, 1, 3, 1,\n",
       "       1, 1, 2, 1, 1, 1, 1, 1, 1, 1, 1, 2, 3, 1, 2, 3, 3, 3, 2, 2, 2, 2,\n",
       "       1, 0, 0, 0, 0, 0, 1, 0, 1, 1, 1, 1, 1, 1, 2, 1, 3, 3, 2, 1, 2, 2,\n",
       "       2, 1, 0, 0, 1, 1, 1, 1, 1, 1, 1, 1, 1, 1, 2, 1, 2, 2, 0, 0, 1, 1,\n",
       "       1, 1, 1, 2, 3, 1, 2, 2, 2, 2, 2, 1, 0, 0, 0, 0, 0, 1, 1, 2, 2, 2,\n",
       "       2, 1, 3, 3, 2, 2, 0, 0, 1, 2, 2, 2, 2, 1, 2, 2, 2, 0, 0, 1, 1, 1,\n",
       "       0, 0, 0, 0, 0, 0, 0, 1, 1, 2, 2, 0, 2, 1, 0, 0, 0, 0, 0, 0, 1, 1,\n",
       "       1, 1, 1, 1, 1, 1, 1, 3, 3, 1, 3, 2, 1, 1, 1, 1, 3, 3, 3, 3, 3, 3,\n",
       "       3, 3, 3, 1, 1, 1, 1, 0, 0, 0, 0, 0, 0, 1, 1, 2, 0, 2, 3, 1, 3, 2,\n",
       "       1, 1, 1, 1, 1, 3, 3, 3, 1, 2, 2, 1, 1, 3, 3, 2, 2, 2, 0, 0, 0, 0,\n",
       "       0, 0, 1, 0, 0, 0, 0, 0, 2, 2, 3, 0, 1, 1, 1, 1, 1, 1, 3, 3, 3, 1,\n",
       "       3, 1, 3, 2, 2, 3, 3, 3, 0, 1, 1, 1, 3, 2, 1, 2, 2, 1, 2, 2, 2, 1,\n",
       "       1, 2, 1, 0, 0, 1, 0, 1, 1, 1, 1, 1, 0, 2, 1, 1, 0, 0, 1, 0, 1, 1,\n",
       "       1, 2, 2, 1, 1, 1, 2, 1, 0, 1, 1, 1, 0, 1, 1, 0, 1, 3, 1, 2, 3, 0,\n",
       "       3, 1, 1, 1, 3, 1, 1, 1, 1, 1, 1, 1, 1, 1, 1, 0, 0, 0, 0, 0, 1, 0,\n",
       "       0, 0, 0, 1, 1, 1, 1, 1, 1, 1, 1, 0, 1, 1, 1, 0, 0, 0, 0, 1, 0, 0,\n",
       "       2, 1, 1, 2, 0, 0, 0, 0, 0, 0, 0, 0, 1, 0, 1, 1, 1, 1, 1, 1, 1, 0,\n",
       "       0, 0, 2, 2, 0, 2, 0, 0, 0, 0, 1, 0, 0, 1, 3, 2, 3, 0, 0, 3, 2, 0,\n",
       "       1, 1, 1, 1, 1, 1, 1, 1, 0, 1], dtype=int32)"
      ]
     },
     "execution_count": 86,
     "metadata": {},
     "output_type": "execute_result"
    }
   ],
   "source": [
    "kmeans.labels_"
   ]
  },
  {
   "cell_type": "code",
   "execution_count": 87,
   "metadata": {},
   "outputs": [],
   "source": [
    "df_2d[\"labels\"] = [str(i) for i in kmeans.labels_] "
   ]
  },
  {
   "cell_type": "code",
   "execution_count": 88,
   "metadata": {},
   "outputs": [
    {
     "data": {
      "image/png": "[encoded data removed]",
      "text/plain": [
       "<IPython.core.display.Image object>"
      ]
     },
     "metadata": {},
     "output_type": "display_data"
    }
   ],
   "source": [
    "#from PIL import Image\n",
    "df_2d_centroide = pd.DataFrame(data=pca.transform(kmeans.cluster_centers_), columns=[\"comp1\",\"comp2\"])\n",
    "df_2d_centroide[\"is_centroide\"] = \"Y\"\n",
    "df_2d_centroide[\"labels\"] = [str(i) for i in range(4)]\n",
    "df_2d[\"is_centroide\"] = \"N\"\n",
    "df_2d_w_c = pd.concat((df_2d,df_2d_centroide), axis=0)\n",
    "\n",
    "fig = px.scatter(df_2d_w_c, x=\"comp1\", y=\"comp2\", \n",
    "                 color=\"labels\", custom_data=['Make', 'Model'],\n",
    "                 symbol=\"is_centroide\",\n",
    "                 title=\"Autos 2D with PCA and K-means\"\n",
    "                )\n",
    "display(Image(fig.to_image(format=\"png\")))"
   ]
  },
  {
   "cell_type": "markdown",
   "metadata": {},
   "source": [
    "## Dendograma\n",
    "Cluster haciendo jerarquias"
   ]
  },
  {
   "cell_type": "code",
   "execution_count": 89,
   "metadata": {},
   "outputs": [
    {
     "data": {
      "application/vnd.plotly.v1+json": {
       "config": {
        "plotlyServerURL": "https://plot.ly"
       },
       "data": [
        {
         "hoverinfo": "text",
         "marker": {
          "color": "rgb(61,153,112)"
         },
         "mode": "lines",
         "type": "scatter",
         "x": [
          5,
          5,
          15,
          15
         ],
         "xaxis": "x",
         "y": [
          0,
          1.3766427250461366,
          1.3766427250461366,
          0
         ],
         "yaxis": "y"
        },
        {
         "hoverinfo": "text",
         "marker": {
          "color": "rgb(61,153,112)"
         },
         "mode": "lines",
         "type": "scatter",
         "x": [
          55,
          55,
          65,
          65
         ],
         "xaxis": "x",
         "y": [
          0,
          0.4407951848073419,
          0.4407951848073419,
          0
         ],
         "yaxis": "y"
        },
        {
         "hoverinfo": "text",
         "marker": {
          "color": "rgb(61,153,112)"
         },
         "mode": "lines",
         "type": "scatter",
         "x": [
          45,
          45,
          60,
          60
         ],
         "xaxis": "x",
         "y": [
          0,
          0.7639621584838846,
          0.7639621584838846,
          0.4407951848073419
         ],
         "yaxis": "y"
        },
        {
         "hoverinfo": "text",
         "marker": {
          "color": "rgb(61,153,112)"
         },
         "mode": "lines",
         "type": "scatter",
         "x": [
          35,
          35,
          52.5,
          52.5
         ],
         "xaxis": "x",
         "y": [
          0,
          1.0647382743132376,
          1.0647382743132376,
          0.7639621584838846
         ],
         "yaxis": "y"
        },
        {
         "hoverinfo": "text",
         "marker": {
          "color": "rgb(61,153,112)"
         },
         "mode": "lines",
         "type": "scatter",
         "x": [
          25,
          25,
          43.75,
          43.75
         ],
         "xaxis": "x",
         "y": [
          0,
          1.6449819136366497,
          1.6449819136366497,
          1.0647382743132376
         ],
         "yaxis": "y"
        },
        {
         "hoverinfo": "text",
         "marker": {
          "color": "rgb(61,153,112)"
         },
         "mode": "lines",
         "type": "scatter",
         "x": [
          10,
          10,
          34.375,
          34.375
         ],
         "xaxis": "x",
         "y": [
          1.3766427250461366,
          2.033527592825295,
          2.033527592825295,
          1.6449819136366497
         ],
         "yaxis": "y"
        },
        {
         "hoverinfo": "text",
         "marker": {
          "color": "rgb(61,153,112)"
         },
         "mode": "lines",
         "type": "scatter",
         "x": [
          75,
          75,
          85,
          85
         ],
         "xaxis": "x",
         "y": [
          0,
          0.17678163154097484,
          0.17678163154097484,
          0
         ],
         "yaxis": "y"
        },
        {
         "hoverinfo": "text",
         "marker": {
          "color": "rgb(61,153,112)"
         },
         "mode": "lines",
         "type": "scatter",
         "x": [
          115,
          115,
          125,
          125
         ],
         "xaxis": "x",
         "y": [
          0,
          0.5024131758914188,
          0.5024131758914188,
          0
         ],
         "yaxis": "y"
        },
        {
         "hoverinfo": "text",
         "marker": {
          "color": "rgb(61,153,112)"
         },
         "mode": "lines",
         "type": "scatter",
         "x": [
          105,
          105,
          120,
          120
         ],
         "xaxis": "x",
         "y": [
          0,
          0.8603083261505542,
          0.8603083261505542,
          0.5024131758914188
         ],
         "yaxis": "y"
        },
        {
         "hoverinfo": "text",
         "marker": {
          "color": "rgb(61,153,112)"
         },
         "mode": "lines",
         "type": "scatter",
         "x": [
          95,
          95,
          112.5,
          112.5
         ],
         "xaxis": "x",
         "y": [
          0,
          1.3240455436276783,
          1.3240455436276783,
          0.8603083261505542
         ],
         "yaxis": "y"
        },
        {
         "hoverinfo": "text",
         "marker": {
          "color": "rgb(61,153,112)"
         },
         "mode": "lines",
         "type": "scatter",
         "x": [
          80,
          80,
          103.75,
          103.75
         ],
         "xaxis": "x",
         "y": [
          0.17678163154097484,
          2.074224751629029,
          2.074224751629029,
          1.3240455436276783
         ],
         "yaxis": "y"
        },
        {
         "hoverinfo": "text",
         "marker": {
          "color": "rgb(61,153,112)"
         },
         "mode": "lines",
         "type": "scatter",
         "x": [
          22.1875,
          22.1875,
          91.875,
          91.875
         ],
         "xaxis": "x",
         "y": [
          2.033527592825295,
          2.581499712605417,
          2.581499712605417,
          2.074224751629029
         ],
         "yaxis": "y"
        },
        {
         "hoverinfo": "text",
         "marker": {
          "color": "rgb(61,153,112)"
         },
         "mode": "lines",
         "type": "scatter",
         "x": [
          145,
          145,
          155,
          155
         ],
         "xaxis": "x",
         "y": [
          0,
          0.7931618327872396,
          0.7931618327872396,
          0
         ],
         "yaxis": "y"
        },
        {
         "hoverinfo": "text",
         "marker": {
          "color": "rgb(61,153,112)"
         },
         "mode": "lines",
         "type": "scatter",
         "x": [
          135,
          135,
          150,
          150
         ],
         "xaxis": "x",
         "y": [
          0,
          1.3534732972795,
          1.3534732972795,
          0.7931618327872396
         ],
         "yaxis": "y"
        },
        {
         "hoverinfo": "text",
         "marker": {
          "color": "rgb(61,153,112)"
         },
         "mode": "lines",
         "type": "scatter",
         "x": [
          175,
          175,
          185,
          185
         ],
         "xaxis": "x",
         "y": [
          0,
          0.6314305668042566,
          0.6314305668042566,
          0
         ],
         "yaxis": "y"
        },
        {
         "hoverinfo": "text",
         "marker": {
          "color": "rgb(61,153,112)"
         },
         "mode": "lines",
         "type": "scatter",
         "x": [
          205,
          205,
          215,
          215
         ],
         "xaxis": "x",
         "y": [
          0,
          0.3668481894353864,
          0.3668481894353864,
          0
         ],
         "yaxis": "y"
        },
        {
         "hoverinfo": "text",
         "marker": {
          "color": "rgb(61,153,112)"
         },
         "mode": "lines",
         "type": "scatter",
         "x": [
          195,
          195,
          210,
          210
         ],
         "xaxis": "x",
         "y": [
          0,
          0.8044198168750263,
          0.8044198168750263,
          0.3668481894353864
         ],
         "yaxis": "y"
        },
        {
         "hoverinfo": "text",
         "marker": {
          "color": "rgb(61,153,112)"
         },
         "mode": "lines",
         "type": "scatter",
         "x": [
          180,
          180,
          202.5,
          202.5
         ],
         "xaxis": "x",
         "y": [
          0.6314305668042566,
          1.060819703608684,
          1.060819703608684,
          0.8044198168750263
         ],
         "yaxis": "y"
        },
        {
         "hoverinfo": "text",
         "marker": {
          "color": "rgb(61,153,112)"
         },
         "mode": "lines",
         "type": "scatter",
         "x": [
          165,
          165,
          191.25,
          191.25
         ],
         "xaxis": "x",
         "y": [
          0,
          1.5390978240787594,
          1.5390978240787594,
          1.060819703608684
         ],
         "yaxis": "y"
        },
        {
         "hoverinfo": "text",
         "marker": {
          "color": "rgb(61,153,112)"
         },
         "mode": "lines",
         "type": "scatter",
         "x": [
          142.5,
          142.5,
          178.125,
          178.125
         ],
         "xaxis": "x",
         "y": [
          1.3534732972795,
          1.9467369651771083,
          1.9467369651771083,
          1.5390978240787594
         ],
         "yaxis": "y"
        },
        {
         "hoverinfo": "text",
         "marker": {
          "color": "rgb(61,153,112)"
         },
         "mode": "lines",
         "type": "scatter",
         "x": [
          225,
          225,
          235,
          235
         ],
         "xaxis": "x",
         "y": [
          0,
          0.34756140922510254,
          0.34756140922510254,
          0
         ],
         "yaxis": "y"
        },
        {
         "hoverinfo": "text",
         "marker": {
          "color": "rgb(61,153,112)"
         },
         "mode": "lines",
         "type": "scatter",
         "x": [
          245,
          245,
          255,
          255
         ],
         "xaxis": "x",
         "y": [
          0,
          0.6665804637095292,
          0.6665804637095292,
          0
         ],
         "yaxis": "y"
        },
        {
         "hoverinfo": "text",
         "marker": {
          "color": "rgb(61,153,112)"
         },
         "mode": "lines",
         "type": "scatter",
         "x": [
          230,
          230,
          250,
          250
         ],
         "xaxis": "x",
         "y": [
          0.34756140922510254,
          0.8296824983056018,
          0.8296824983056018,
          0.6665804637095292
         ],
         "yaxis": "y"
        },
        {
         "hoverinfo": "text",
         "marker": {
          "color": "rgb(61,153,112)"
         },
         "mode": "lines",
         "type": "scatter",
         "x": [
          265,
          265,
          275,
          275
         ],
         "xaxis": "x",
         "y": [
          0,
          0.33640721453094435,
          0.33640721453094435,
          0
         ],
         "yaxis": "y"
        },
        {
         "hoverinfo": "text",
         "marker": {
          "color": "rgb(61,153,112)"
         },
         "mode": "lines",
         "type": "scatter",
         "x": [
          285,
          285,
          295,
          295
         ],
         "xaxis": "x",
         "y": [
          0,
          0.05935923420498357,
          0.05935923420498357,
          0
         ],
         "yaxis": "y"
        },
        {
         "hoverinfo": "text",
         "marker": {
          "color": "rgb(61,153,112)"
         },
         "mode": "lines",
         "type": "scatter",
         "x": [
          305,
          305,
          315,
          315
         ],
         "xaxis": "x",
         "y": [
          0,
          0.22929562005336643,
          0.22929562005336643,
          0
         ],
         "yaxis": "y"
        },
        {
         "hoverinfo": "text",
         "marker": {
          "color": "rgb(61,153,112)"
         },
         "mode": "lines",
         "type": "scatter",
         "x": [
          290,
          290,
          310,
          310
         ],
         "xaxis": "x",
         "y": [
          0.05935923420498357,
          0.7329632731058123,
          0.7329632731058123,
          0.22929562005336643
         ],
         "yaxis": "y"
        },
        {
         "hoverinfo": "text",
         "marker": {
          "color": "rgb(61,153,112)"
         },
         "mode": "lines",
         "type": "scatter",
         "x": [
          335,
          335,
          345,
          345
         ],
         "xaxis": "x",
         "y": [
          0,
          0.07255017513942419,
          0.07255017513942419,
          0
         ],
         "yaxis": "y"
        },
        {
         "hoverinfo": "text",
         "marker": {
          "color": "rgb(61,153,112)"
         },
         "mode": "lines",
         "type": "scatter",
         "x": [
          355,
          355,
          365,
          365
         ],
         "xaxis": "x",
         "y": [
          0,
          0.14378125618540472,
          0.14378125618540472,
          0
         ],
         "yaxis": "y"
        },
        {
         "hoverinfo": "text",
         "marker": {
          "color": "rgb(61,153,112)"
         },
         "mode": "lines",
         "type": "scatter",
         "x": [
          340,
          340,
          360,
          360
         ],
         "xaxis": "x",
         "y": [
          0.07255017513942419,
          0.48858516762599186,
          0.48858516762599186,
          0.14378125618540472
         ],
         "yaxis": "y"
        },
        {
         "hoverinfo": "text",
         "marker": {
          "color": "rgb(61,153,112)"
         },
         "mode": "lines",
         "type": "scatter",
         "x": [
          325,
          325,
          350,
          350
         ],
         "xaxis": "x",
         "y": [
          0,
          0.8844116212932362,
          0.8844116212932362,
          0.48858516762599186
         ],
         "yaxis": "y"
        },
        {
         "hoverinfo": "text",
         "marker": {
          "color": "rgb(61,153,112)"
         },
         "mode": "lines",
         "type": "scatter",
         "x": [
          300,
          300,
          337.5,
          337.5
         ],
         "xaxis": "x",
         "y": [
          0.7329632731058123,
          1.0115651357275055,
          1.0115651357275055,
          0.8844116212932362
         ],
         "yaxis": "y"
        },
        {
         "hoverinfo": "text",
         "marker": {
          "color": "rgb(61,153,112)"
         },
         "mode": "lines",
         "type": "scatter",
         "x": [
          270,
          270,
          318.75,
          318.75
         ],
         "xaxis": "x",
         "y": [
          0.33640721453094435,
          1.1107223948711185,
          1.1107223948711185,
          1.0115651357275055
         ],
         "yaxis": "y"
        },
        {
         "hoverinfo": "text",
         "marker": {
          "color": "rgb(61,153,112)"
         },
         "mode": "lines",
         "type": "scatter",
         "x": [
          240,
          240,
          294.375,
          294.375
         ],
         "xaxis": "x",
         "y": [
          0.8296824983056018,
          1.8085630468508815,
          1.8085630468508815,
          1.1107223948711185
         ],
         "yaxis": "y"
        },
        {
         "hoverinfo": "text",
         "marker": {
          "color": "rgb(61,153,112)"
         },
         "mode": "lines",
         "type": "scatter",
         "x": [
          385,
          385,
          395,
          395
         ],
         "xaxis": "x",
         "y": [
          0,
          0,
          0,
          0
         ],
         "yaxis": "y"
        },
        {
         "hoverinfo": "text",
         "marker": {
          "color": "rgb(61,153,112)"
         },
         "mode": "lines",
         "type": "scatter",
         "x": [
          415,
          415,
          425,
          425
         ],
         "xaxis": "x",
         "y": [
          0,
          0,
          0,
          0
         ],
         "yaxis": "y"
        },
        {
         "hoverinfo": "text",
         "marker": {
          "color": "rgb(61,153,112)"
         },
         "mode": "lines",
         "type": "scatter",
         "x": [
          445,
          445,
          455,
          455
         ],
         "xaxis": "x",
         "y": [
          0,
          0,
          0,
          0
         ],
         "yaxis": "y"
        },
        {
         "hoverinfo": "text",
         "marker": {
          "color": "rgb(61,153,112)"
         },
         "mode": "lines",
         "type": "scatter",
         "x": [
          435,
          435,
          450,
          450
         ],
         "xaxis": "x",
         "y": [
          0,
          0,
          0,
          0
         ],
         "yaxis": "y"
        },
        {
         "hoverinfo": "text",
         "marker": {
          "color": "rgb(61,153,112)"
         },
         "mode": "lines",
         "type": "scatter",
         "x": [
          420,
          420,
          442.5,
          442.5
         ],
         "xaxis": "x",
         "y": [
          0,
          0.00659547046722031,
          0.00659547046722031,
          0
         ],
         "yaxis": "y"
        },
        {
         "hoverinfo": "text",
         "marker": {
          "color": "rgb(61,153,112)"
         },
         "mode": "lines",
         "type": "scatter",
         "x": [
          405,
          405,
          431.25,
          431.25
         ],
         "xaxis": "x",
         "y": [
          0,
          0.2091572409647399,
          0.2091572409647399,
          0.00659547046722031
         ],
         "yaxis": "y"
        },
        {
         "hoverinfo": "text",
         "marker": {
          "color": "rgb(61,153,112)"
         },
         "mode": "lines",
         "type": "scatter",
         "x": [
          390,
          390,
          418.125,
          418.125
         ],
         "xaxis": "x",
         "y": [
          0,
          0.6268105479053591,
          0.6268105479053591,
          0.2091572409647399
         ],
         "yaxis": "y"
        },
        {
         "hoverinfo": "text",
         "marker": {
          "color": "rgb(61,153,112)"
         },
         "mode": "lines",
         "type": "scatter",
         "x": [
          375,
          375,
          404.0625,
          404.0625
         ],
         "xaxis": "x",
         "y": [
          0,
          1.386578117151217,
          1.386578117151217,
          0.6268105479053591
         ],
         "yaxis": "y"
        },
        {
         "hoverinfo": "text",
         "marker": {
          "color": "rgb(61,153,112)"
         },
         "mode": "lines",
         "type": "scatter",
         "x": [
          475,
          475,
          485,
          485
         ],
         "xaxis": "x",
         "y": [
          0,
          0,
          0,
          0
         ],
         "yaxis": "y"
        },
        {
         "hoverinfo": "text",
         "marker": {
          "color": "rgb(61,153,112)"
         },
         "mode": "lines",
         "type": "scatter",
         "x": [
          465,
          465,
          480,
          480
         ],
         "xaxis": "x",
         "y": [
          0,
          0.7720184531902091,
          0.7720184531902091,
          0
         ],
         "yaxis": "y"
        },
        {
         "hoverinfo": "text",
         "marker": {
          "color": "rgb(61,153,112)"
         },
         "mode": "lines",
         "type": "scatter",
         "x": [
          515,
          515,
          525,
          525
         ],
         "xaxis": "x",
         "y": [
          0,
          0.5109143115690568,
          0.5109143115690568,
          0
         ],
         "yaxis": "y"
        },
        {
         "hoverinfo": "text",
         "marker": {
          "color": "rgb(61,153,112)"
         },
         "mode": "lines",
         "type": "scatter",
         "x": [
          505,
          505,
          520,
          520
         ],
         "xaxis": "x",
         "y": [
          0,
          0.7424460576153299,
          0.7424460576153299,
          0.5109143115690568
         ],
         "yaxis": "y"
        },
        {
         "hoverinfo": "text",
         "marker": {
          "color": "rgb(61,153,112)"
         },
         "mode": "lines",
         "type": "scatter",
         "x": [
          495,
          495,
          512.5,
          512.5
         ],
         "xaxis": "x",
         "y": [
          0,
          1.0090353699490506,
          1.0090353699490506,
          0.7424460576153299
         ],
         "yaxis": "y"
        },
        {
         "hoverinfo": "text",
         "marker": {
          "color": "rgb(61,153,112)"
         },
         "mode": "lines",
         "type": "scatter",
         "x": [
          472.5,
          472.5,
          503.75,
          503.75
         ],
         "xaxis": "x",
         "y": [
          0.7720184531902091,
          1.39318680813606,
          1.39318680813606,
          1.0090353699490506
         ],
         "yaxis": "y"
        },
        {
         "hoverinfo": "text",
         "marker": {
          "color": "rgb(61,153,112)"
         },
         "mode": "lines",
         "type": "scatter",
         "x": [
          389.53125,
          389.53125,
          488.125,
          488.125
         ],
         "xaxis": "x",
         "y": [
          1.386578117151217,
          2.155744664953073,
          2.155744664953073,
          1.39318680813606
         ],
         "yaxis": "y"
        },
        {
         "hoverinfo": "text",
         "marker": {
          "color": "rgb(61,153,112)"
         },
         "mode": "lines",
         "type": "scatter",
         "x": [
          267.1875,
          267.1875,
          438.828125,
          438.828125
         ],
         "xaxis": "x",
         "y": [
          1.8085630468508815,
          2.7543031827269617,
          2.7543031827269617,
          2.155744664953073
         ],
         "yaxis": "y"
        },
        {
         "hoverinfo": "text",
         "marker": {
          "color": "rgb(61,153,112)"
         },
         "mode": "lines",
         "type": "scatter",
         "x": [
          160.3125,
          160.3125,
          353.0078125,
          353.0078125
         ],
         "xaxis": "x",
         "y": [
          1.9467369651771083,
          3.515999960363973,
          3.515999960363973,
          2.7543031827269617
         ],
         "yaxis": "y"
        },
        {
         "hoverinfo": "text",
         "marker": {
          "color": "rgb(61,153,112)"
         },
         "mode": "lines",
         "type": "scatter",
         "x": [
          57.03125,
          57.03125,
          256.66015625,
          256.66015625
         ],
         "xaxis": "x",
         "y": [
          2.581499712605417,
          4.47625933333318,
          4.47625933333318,
          3.515999960363973
         ],
         "yaxis": "y"
        },
        {
         "hoverinfo": "text",
         "marker": {
          "color": "rgb(61,153,112)"
         },
         "mode": "lines",
         "type": "scatter",
         "x": [
          555,
          555,
          565,
          565
         ],
         "xaxis": "x",
         "y": [
          0,
          0.8608245840194403,
          0.8608245840194403,
          0
         ],
         "yaxis": "y"
        },
        {
         "hoverinfo": "text",
         "marker": {
          "color": "rgb(61,153,112)"
         },
         "mode": "lines",
         "type": "scatter",
         "x": [
          545,
          545,
          560,
          560
         ],
         "xaxis": "x",
         "y": [
          0,
          1.238530555143815,
          1.238530555143815,
          0.8608245840194403
         ],
         "yaxis": "y"
        },
        {
         "hoverinfo": "text",
         "marker": {
          "color": "rgb(61,153,112)"
         },
         "mode": "lines",
         "type": "scatter",
         "x": [
          595,
          595,
          605,
          605
         ],
         "xaxis": "x",
         "y": [
          0,
          0.02110550549510526,
          0.02110550549510526,
          0
         ],
         "yaxis": "y"
        },
        {
         "hoverinfo": "text",
         "marker": {
          "color": "rgb(61,153,112)"
         },
         "mode": "lines",
         "type": "scatter",
         "x": [
          585,
          585,
          600,
          600
         ],
         "xaxis": "x",
         "y": [
          0,
          0.42853672687095534,
          0.42853672687095534,
          0.02110550549510526
         ],
         "yaxis": "y"
        },
        {
         "hoverinfo": "text",
         "marker": {
          "color": "rgb(61,153,112)"
         },
         "mode": "lines",
         "type": "scatter",
         "x": [
          575,
          575,
          592.5,
          592.5
         ],
         "xaxis": "x",
         "y": [
          0,
          1.5359234090133622,
          1.5359234090133622,
          0.42853672687095534
         ],
         "yaxis": "y"
        },
        {
         "hoverinfo": "text",
         "marker": {
          "color": "rgb(61,153,112)"
         },
         "mode": "lines",
         "type": "scatter",
         "x": [
          625,
          625,
          635,
          635
         ],
         "xaxis": "x",
         "y": [
          0,
          0.5133169165772321,
          0.5133169165772321,
          0
         ],
         "yaxis": "y"
        },
        {
         "hoverinfo": "text",
         "marker": {
          "color": "rgb(61,153,112)"
         },
         "mode": "lines",
         "type": "scatter",
         "x": [
          615,
          615,
          630,
          630
         ],
         "xaxis": "x",
         "y": [
          0,
          0.608250912963334,
          0.608250912963334,
          0.5133169165772321
         ],
         "yaxis": "y"
        },
        {
         "hoverinfo": "text",
         "marker": {
          "color": "rgb(61,153,112)"
         },
         "mode": "lines",
         "type": "scatter",
         "x": [
          655,
          655,
          665,
          665
         ],
         "xaxis": "x",
         "y": [
          0,
          0.3165825824265789,
          0.3165825824265789,
          0
         ],
         "yaxis": "y"
        },
        {
         "hoverinfo": "text",
         "marker": {
          "color": "rgb(61,153,112)"
         },
         "mode": "lines",
         "type": "scatter",
         "x": [
          645,
          645,
          660,
          660
         ],
         "xaxis": "x",
         "y": [
          0,
          1.0054042073585485,
          1.0054042073585485,
          0.3165825824265789
         ],
         "yaxis": "y"
        },
        {
         "hoverinfo": "text",
         "marker": {
          "color": "rgb(61,153,112)"
         },
         "mode": "lines",
         "type": "scatter",
         "x": [
          622.5,
          622.5,
          652.5,
          652.5
         ],
         "xaxis": "x",
         "y": [
          0.608250912963334,
          1.7043392943616007,
          1.7043392943616007,
          1.0054042073585485
         ],
         "yaxis": "y"
        },
        {
         "hoverinfo": "text",
         "marker": {
          "color": "rgb(61,153,112)"
         },
         "mode": "lines",
         "type": "scatter",
         "x": [
          583.75,
          583.75,
          637.5,
          637.5
         ],
         "xaxis": "x",
         "y": [
          1.5359234090133622,
          2.2071396304756745,
          2.2071396304756745,
          1.7043392943616007
         ],
         "yaxis": "y"
        },
        {
         "hoverinfo": "text",
         "marker": {
          "color": "rgb(61,153,112)"
         },
         "mode": "lines",
         "type": "scatter",
         "x": [
          552.5,
          552.5,
          610.625,
          610.625
         ],
         "xaxis": "x",
         "y": [
          1.238530555143815,
          2.7408967857266693,
          2.7408967857266693,
          2.2071396304756745
         ],
         "yaxis": "y"
        },
        {
         "hoverinfo": "text",
         "marker": {
          "color": "rgb(61,153,112)"
         },
         "mode": "lines",
         "type": "scatter",
         "x": [
          695,
          695,
          705,
          705
         ],
         "xaxis": "x",
         "y": [
          0,
          0.20314049039038817,
          0.20314049039038817,
          0
         ],
         "yaxis": "y"
        },
        {
         "hoverinfo": "text",
         "marker": {
          "color": "rgb(61,153,112)"
         },
         "mode": "lines",
         "type": "scatter",
         "x": [
          685,
          685,
          700,
          700
         ],
         "xaxis": "x",
         "y": [
          0,
          1.110998431165903,
          1.110998431165903,
          0.20314049039038817
         ],
         "yaxis": "y"
        },
        {
         "hoverinfo": "text",
         "marker": {
          "color": "rgb(61,153,112)"
         },
         "mode": "lines",
         "type": "scatter",
         "x": [
          735,
          735,
          745,
          745
         ],
         "xaxis": "x",
         "y": [
          0,
          0.07255017513942436,
          0.07255017513942436,
          0
         ],
         "yaxis": "y"
        },
        {
         "hoverinfo": "text",
         "marker": {
          "color": "rgb(61,153,112)"
         },
         "mode": "lines",
         "type": "scatter",
         "x": [
          725,
          725,
          740,
          740
         ],
         "xaxis": "x",
         "y": [
          0,
          0.6140785793283269,
          0.6140785793283269,
          0.07255017513942436
         ],
         "yaxis": "y"
        },
        {
         "hoverinfo": "text",
         "marker": {
          "color": "rgb(61,153,112)"
         },
         "mode": "lines",
         "type": "scatter",
         "x": [
          715,
          715,
          732.5,
          732.5
         ],
         "xaxis": "x",
         "y": [
          0,
          0.9245680092932024,
          0.9245680092932024,
          0.6140785793283269
         ],
         "yaxis": "y"
        },
        {
         "hoverinfo": "text",
         "marker": {
          "color": "rgb(61,153,112)"
         },
         "mode": "lines",
         "type": "scatter",
         "x": [
          755,
          755,
          765,
          765
         ],
         "xaxis": "x",
         "y": [
          0,
          0.9032805661391312,
          0.9032805661391312,
          0
         ],
         "yaxis": "y"
        },
        {
         "hoverinfo": "text",
         "marker": {
          "color": "rgb(61,153,112)"
         },
         "mode": "lines",
         "type": "scatter",
         "x": [
          785,
          785,
          795,
          795
         ],
         "xaxis": "x",
         "y": [
          0,
          0.669570806084279,
          0.669570806084279,
          0
         ],
         "yaxis": "y"
        },
        {
         "hoverinfo": "text",
         "marker": {
          "color": "rgb(61,153,112)"
         },
         "mode": "lines",
         "type": "scatter",
         "x": [
          775,
          775,
          790,
          790
         ],
         "xaxis": "x",
         "y": [
          0,
          1.2147791979358908,
          1.2147791979358908,
          0.669570806084279
         ],
         "yaxis": "y"
        },
        {
         "hoverinfo": "text",
         "marker": {
          "color": "rgb(61,153,112)"
         },
         "mode": "lines",
         "type": "scatter",
         "x": [
          760,
          760,
          782.5,
          782.5
         ],
         "xaxis": "x",
         "y": [
          0.9032805661391312,
          1.2830210021437727,
          1.2830210021437727,
          1.2147791979358908
         ],
         "yaxis": "y"
        },
        {
         "hoverinfo": "text",
         "marker": {
          "color": "rgb(61,153,112)"
         },
         "mode": "lines",
         "type": "scatter",
         "x": [
          723.75,
          723.75,
          771.25,
          771.25
         ],
         "xaxis": "x",
         "y": [
          0.9245680092932024,
          1.782625736811748,
          1.782625736811748,
          1.2830210021437727
         ],
         "yaxis": "y"
        },
        {
         "hoverinfo": "text",
         "marker": {
          "color": "rgb(61,153,112)"
         },
         "mode": "lines",
         "type": "scatter",
         "x": [
          692.5,
          692.5,
          747.5,
          747.5
         ],
         "xaxis": "x",
         "y": [
          1.110998431165903,
          1.9960734192638436,
          1.9960734192638436,
          1.782625736811748
         ],
         "yaxis": "y"
        },
        {
         "hoverinfo": "text",
         "marker": {
          "color": "rgb(61,153,112)"
         },
         "mode": "lines",
         "type": "scatter",
         "x": [
          675,
          675,
          720,
          720
         ],
         "xaxis": "x",
         "y": [
          0,
          2.9894599976628395,
          2.9894599976628395,
          1.9960734192638436
         ],
         "yaxis": "y"
        },
        {
         "hoverinfo": "text",
         "marker": {
          "color": "rgb(61,153,112)"
         },
         "mode": "lines",
         "type": "scatter",
         "x": [
          581.5625,
          581.5625,
          697.5,
          697.5
         ],
         "xaxis": "x",
         "y": [
          2.7408967857266693,
          3.6659931641046484,
          3.6659931641046484,
          2.9894599976628395
         ],
         "yaxis": "y"
        },
        {
         "hoverinfo": "text",
         "marker": {
          "color": "rgb(61,153,112)"
         },
         "mode": "lines",
         "type": "scatter",
         "x": [
          535,
          535,
          639.53125,
          639.53125
         ],
         "xaxis": "x",
         "y": [
          0,
          4.620329962210145,
          4.620329962210145,
          3.6659931641046484
         ],
         "yaxis": "y"
        },
        {
         "hoverinfo": "text",
         "marker": {
          "color": "rgb(61,153,112)"
         },
         "mode": "lines",
         "type": "scatter",
         "x": [
          805,
          805,
          815,
          815
         ],
         "xaxis": "x",
         "y": [
          0,
          0.7573302012861695,
          0.7573302012861695,
          0
         ],
         "yaxis": "y"
        },
        {
         "hoverinfo": "text",
         "marker": {
          "color": "rgb(61,153,112)"
         },
         "mode": "lines",
         "type": "scatter",
         "x": [
          845,
          845,
          855,
          855
         ],
         "xaxis": "x",
         "y": [
          0,
          0.031658258242657895,
          0.031658258242657895,
          0
         ],
         "yaxis": "y"
        },
        {
         "hoverinfo": "text",
         "marker": {
          "color": "rgb(61,153,112)"
         },
         "mode": "lines",
         "type": "scatter",
         "x": [
          875,
          875,
          885,
          885
         ],
         "xaxis": "x",
         "y": [
          0,
          0.00923365865410855,
          0.00923365865410855,
          0
         ],
         "yaxis": "y"
        },
        {
         "hoverinfo": "text",
         "marker": {
          "color": "rgb(61,153,112)"
         },
         "mode": "lines",
         "type": "scatter",
         "x": [
          865,
          865,
          880,
          880
         ],
         "xaxis": "x",
         "y": [
          0,
          0.13985695653704647,
          0.13985695653704647,
          0.00923365865410855
         ],
         "yaxis": "y"
        },
        {
         "hoverinfo": "text",
         "marker": {
          "color": "rgb(61,153,112)"
         },
         "mode": "lines",
         "type": "scatter",
         "x": [
          850,
          850,
          872.5,
          872.5
         ],
         "xaxis": "x",
         "y": [
          0.031658258242657895,
          0.3030442659319022,
          0.3030442659319022,
          0.13985695653704647
         ],
         "yaxis": "y"
        },
        {
         "hoverinfo": "text",
         "marker": {
          "color": "rgb(61,153,112)"
         },
         "mode": "lines",
         "type": "scatter",
         "x": [
          835,
          835,
          861.25,
          861.25
         ],
         "xaxis": "x",
         "y": [
          0,
          0.5225353016837871,
          0.5225353016837871,
          0.3030442659319022
         ],
         "yaxis": "y"
        },
        {
         "hoverinfo": "text",
         "marker": {
          "color": "rgb(61,153,112)"
         },
         "mode": "lines",
         "type": "scatter",
         "x": [
          825,
          825,
          848.125,
          848.125
         ],
         "xaxis": "x",
         "y": [
          0,
          0.5886504543166151,
          0.5886504543166151,
          0.5225353016837871
         ],
         "yaxis": "y"
        },
        {
         "hoverinfo": "text",
         "marker": {
          "color": "rgb(61,153,112)"
         },
         "mode": "lines",
         "type": "scatter",
         "x": [
          905,
          905,
          915,
          915
         ],
         "xaxis": "x",
         "y": [
          0,
          0.21595428191804764,
          0.21595428191804764,
          0
         ],
         "yaxis": "y"
        },
        {
         "hoverinfo": "text",
         "marker": {
          "color": "rgb(61,153,112)"
         },
         "mode": "lines",
         "type": "scatter",
         "x": [
          895,
          895,
          910,
          910
         ],
         "xaxis": "x",
         "y": [
          0,
          0.6616960915858818,
          0.6616960915858818,
          0.21595428191804764
         ],
         "yaxis": "y"
        },
        {
         "hoverinfo": "text",
         "marker": {
          "color": "rgb(61,153,112)"
         },
         "mode": "lines",
         "type": "scatter",
         "x": [
          836.5625,
          836.5625,
          902.5,
          902.5
         ],
         "xaxis": "x",
         "y": [
          0.5886504543166151,
          1.022072398119621,
          1.022072398119621,
          0.6616960915858818
         ],
         "yaxis": "y"
        },
        {
         "hoverinfo": "text",
         "marker": {
          "color": "rgb(61,153,112)"
         },
         "mode": "lines",
         "type": "scatter",
         "x": [
          810,
          810,
          869.53125,
          869.53125
         ],
         "xaxis": "x",
         "y": [
          0.7573302012861695,
          1.1324604615011835,
          1.1324604615011835,
          1.022072398119621
         ],
         "yaxis": "y"
        },
        {
         "hoverinfo": "text",
         "marker": {
          "color": "rgb(61,153,112)"
         },
         "mode": "lines",
         "type": "scatter",
         "x": [
          925,
          925,
          935,
          935
         ],
         "xaxis": "x",
         "y": [
          0,
          0.27922827888262536,
          0.27922827888262536,
          0
         ],
         "yaxis": "y"
        },
        {
         "hoverinfo": "text",
         "marker": {
          "color": "rgb(61,153,112)"
         },
         "mode": "lines",
         "type": "scatter",
         "x": [
          955,
          955,
          965,
          965
         ],
         "xaxis": "x",
         "y": [
          0,
          0.13948321668990776,
          0.13948321668990776,
          0
         ],
         "yaxis": "y"
        },
        {
         "hoverinfo": "text",
         "marker": {
          "color": "rgb(61,153,112)"
         },
         "mode": "lines",
         "type": "scatter",
         "x": [
          975,
          975,
          985,
          985
         ],
         "xaxis": "x",
         "y": [
          0,
          0.011871846840996708,
          0.011871846840996708,
          0
         ],
         "yaxis": "y"
        },
        {
         "hoverinfo": "text",
         "marker": {
          "color": "rgb(61,153,112)"
         },
         "mode": "lines",
         "type": "scatter",
         "x": [
          995,
          995,
          1005,
          1005
         ],
         "xaxis": "x",
         "y": [
          0,
          0.13948321668990776,
          0.13948321668990776,
          0
         ],
         "yaxis": "y"
        },
        {
         "hoverinfo": "text",
         "marker": {
          "color": "rgb(61,153,112)"
         },
         "mode": "lines",
         "type": "scatter",
         "x": [
          980,
          980,
          1000,
          1000
         ],
         "xaxis": "x",
         "y": [
          0.011871846840996708,
          0.3854127477633728,
          0.3854127477633728,
          0.13948321668990776
         ],
         "yaxis": "y"
        },
        {
         "hoverinfo": "text",
         "marker": {
          "color": "rgb(61,153,112)"
         },
         "mode": "lines",
         "type": "scatter",
         "x": [
          960,
          960,
          990,
          990
         ],
         "xaxis": "x",
         "y": [
          0.13948321668990776,
          0.7053607980247537,
          0.7053607980247537,
          0.3854127477633728
         ],
         "yaxis": "y"
        },
        {
         "hoverinfo": "text",
         "marker": {
          "color": "rgb(61,153,112)"
         },
         "mode": "lines",
         "type": "scatter",
         "x": [
          945,
          945,
          975,
          975
         ],
         "xaxis": "x",
         "y": [
          0,
          1.1026303919999334,
          1.1026303919999334,
          0.7053607980247537
         ],
         "yaxis": "y"
        },
        {
         "hoverinfo": "text",
         "marker": {
          "color": "rgb(61,153,112)"
         },
         "mode": "lines",
         "type": "scatter",
         "x": [
          930,
          930,
          960,
          960
         ],
         "xaxis": "x",
         "y": [
          0.27922827888262536,
          1.297333261925008,
          1.297333261925008,
          1.1026303919999334
         ],
         "yaxis": "y"
        },
        {
         "hoverinfo": "text",
         "marker": {
          "color": "rgb(61,153,112)"
         },
         "mode": "lines",
         "type": "scatter",
         "x": [
          839.765625,
          839.765625,
          945,
          945
         ],
         "xaxis": "x",
         "y": [
          1.1324604615011835,
          1.5965750378860881,
          1.5965750378860881,
          1.297333261925008
         ],
         "yaxis": "y"
        },
        {
         "hoverinfo": "text",
         "marker": {
          "color": "rgb(61,153,112)"
         },
         "mode": "lines",
         "type": "scatter",
         "x": [
          1025,
          1025,
          1035,
          1035
         ],
         "xaxis": "x",
         "y": [
          0,
          0.45867692989585823,
          0.45867692989585823,
          0
         ],
         "yaxis": "y"
        },
        {
         "hoverinfo": "text",
         "marker": {
          "color": "rgb(61,153,112)"
         },
         "mode": "lines",
         "type": "scatter",
         "x": [
          1015,
          1015,
          1030,
          1030
         ],
         "xaxis": "x",
         "y": [
          0,
          0.8452840500392081,
          0.8452840500392081,
          0.45867692989585823
         ],
         "yaxis": "y"
        },
        {
         "hoverinfo": "text",
         "marker": {
          "color": "rgb(61,153,112)"
         },
         "mode": "lines",
         "type": "scatter",
         "x": [
          1045,
          1045,
          1055,
          1055
         ],
         "xaxis": "x",
         "y": [
          0,
          0.5047019005026115,
          0.5047019005026115,
          0
         ],
         "yaxis": "y"
        },
        {
         "hoverinfo": "text",
         "marker": {
          "color": "rgb(61,153,112)"
         },
         "mode": "lines",
         "type": "scatter",
         "x": [
          1075,
          1075,
          1085,
          1085
         ],
         "xaxis": "x",
         "y": [
          0,
          0.3196750839218841,
          0.3196750839218841,
          0
         ],
         "yaxis": "y"
        },
        {
         "hoverinfo": "text",
         "marker": {
          "color": "rgb(61,153,112)"
         },
         "mode": "lines",
         "type": "scatter",
         "x": [
          1065,
          1065,
          1080,
          1080
         ],
         "xaxis": "x",
         "y": [
          0,
          0.5206759742362687,
          0.5206759742362687,
          0.3196750839218841
         ],
         "yaxis": "y"
        },
        {
         "hoverinfo": "text",
         "marker": {
          "color": "rgb(61,153,112)"
         },
         "mode": "lines",
         "type": "scatter",
         "x": [
          1105,
          1105,
          1115,
          1115
         ],
         "xaxis": "x",
         "y": [
          0,
          0,
          0,
          0
         ],
         "yaxis": "y"
        },
        {
         "hoverinfo": "text",
         "marker": {
          "color": "rgb(61,153,112)"
         },
         "mode": "lines",
         "type": "scatter",
         "x": [
          1095,
          1095,
          1110,
          1110
         ],
         "xaxis": "x",
         "y": [
          0,
          0.42819665454013367,
          0.42819665454013367,
          0
         ],
         "yaxis": "y"
        },
        {
         "hoverinfo": "text",
         "marker": {
          "color": "rgb(61,153,112)"
         },
         "mode": "lines",
         "type": "scatter",
         "x": [
          1125,
          1125,
          1135,
          1135
         ],
         "xaxis": "x",
         "y": [
          0,
          0.43662014492999013,
          0.43662014492999013,
          0
         ],
         "yaxis": "y"
        },
        {
         "hoverinfo": "text",
         "marker": {
          "color": "rgb(61,153,112)"
         },
         "mode": "lines",
         "type": "scatter",
         "x": [
          1102.5,
          1102.5,
          1130,
          1130
         ],
         "xaxis": "x",
         "y": [
          0.42819665454013367,
          0.687582258922163,
          0.687582258922163,
          0.43662014492999013
         ],
         "yaxis": "y"
        },
        {
         "hoverinfo": "text",
         "marker": {
          "color": "rgb(61,153,112)"
         },
         "mode": "lines",
         "type": "scatter",
         "x": [
          1072.5,
          1072.5,
          1116.25,
          1116.25
         ],
         "xaxis": "x",
         "y": [
          0.5206759742362687,
          0.9333532822742471,
          0.9333532822742471,
          0.687582258922163
         ],
         "yaxis": "y"
        },
        {
         "hoverinfo": "text",
         "marker": {
          "color": "rgb(61,153,112)"
         },
         "mode": "lines",
         "type": "scatter",
         "x": [
          1050,
          1050,
          1094.375,
          1094.375
         ],
         "xaxis": "x",
         "y": [
          0.5047019005026115,
          0.9757830262015764,
          0.9757830262015764,
          0.9333532822742471
         ],
         "yaxis": "y"
        },
        {
         "hoverinfo": "text",
         "marker": {
          "color": "rgb(61,153,112)"
         },
         "mode": "lines",
         "type": "scatter",
         "x": [
          1145,
          1145,
          1155,
          1155
         ],
         "xaxis": "x",
         "y": [
          0,
          0.5135165862378397,
          0.5135165862378397,
          0
         ],
         "yaxis": "y"
        },
        {
         "hoverinfo": "text",
         "marker": {
          "color": "rgb(61,153,112)"
         },
         "mode": "lines",
         "type": "scatter",
         "x": [
          1165,
          1165,
          1175,
          1175
         ],
         "xaxis": "x",
         "y": [
          0,
          0.3799404211862313,
          0.3799404211862313,
          0
         ],
         "yaxis": "y"
        },
        {
         "hoverinfo": "text",
         "marker": {
          "color": "rgb(61,153,112)"
         },
         "mode": "lines",
         "type": "scatter",
         "x": [
          1185,
          1185,
          1195,
          1195
         ],
         "xaxis": "x",
         "y": [
          0,
          0.003957282280332236,
          0.003957282280332236,
          0
         ],
         "yaxis": "y"
        },
        {
         "hoverinfo": "text",
         "marker": {
          "color": "rgb(61,153,112)"
         },
         "mode": "lines",
         "type": "scatter",
         "x": [
          1205,
          1205,
          1215,
          1215
         ],
         "xaxis": "x",
         "y": [
          0,
          0.11463027843191562,
          0.11463027843191562,
          0
         ],
         "yaxis": "y"
        },
        {
         "hoverinfo": "text",
         "marker": {
          "color": "rgb(61,153,112)"
         },
         "mode": "lines",
         "type": "scatter",
         "x": [
          1190,
          1190,
          1210,
          1210
         ],
         "xaxis": "x",
         "y": [
          0.003957282280332236,
          0.6215258543963026,
          0.6215258543963026,
          0.11463027843191562
         ],
         "yaxis": "y"
        },
        {
         "hoverinfo": "text",
         "marker": {
          "color": "rgb(61,153,112)"
         },
         "mode": "lines",
         "type": "scatter",
         "x": [
          1170,
          1170,
          1200,
          1200
         ],
         "xaxis": "x",
         "y": [
          0.3799404211862313,
          0.7394166301063599,
          0.7394166301063599,
          0.6215258543963026
         ],
         "yaxis": "y"
        },
        {
         "hoverinfo": "text",
         "marker": {
          "color": "rgb(61,153,112)"
         },
         "mode": "lines",
         "type": "scatter",
         "x": [
          1150,
          1150,
          1185,
          1185
         ],
         "xaxis": "x",
         "y": [
          0.5135165862378397,
          1.0702444529812802,
          1.0702444529812802,
          0.7394166301063599
         ],
         "yaxis": "y"
        },
        {
         "hoverinfo": "text",
         "marker": {
          "color": "rgb(61,153,112)"
         },
         "mode": "lines",
         "type": "scatter",
         "x": [
          1072.1875,
          1072.1875,
          1167.5,
          1167.5
         ],
         "xaxis": "x",
         "y": [
          0.9757830262015764,
          1.3195562125374303,
          1.3195562125374303,
          1.0702444529812802
         ],
         "yaxis": "y"
        },
        {
         "hoverinfo": "text",
         "marker": {
          "color": "rgb(61,153,112)"
         },
         "mode": "lines",
         "type": "scatter",
         "x": [
          1022.5,
          1022.5,
          1119.84375,
          1119.84375
         ],
         "xaxis": "x",
         "y": [
          0.8452840500392081,
          1.4691766215819533,
          1.4691766215819533,
          1.3195562125374303
         ],
         "yaxis": "y"
        },
        {
         "hoverinfo": "text",
         "marker": {
          "color": "rgb(61,153,112)"
         },
         "mode": "lines",
         "type": "scatter",
         "x": [
          1235,
          1235,
          1245,
          1245
         ],
         "xaxis": "x",
         "y": [
          0,
          0.3984118649954745,
          0.3984118649954745,
          0
         ],
         "yaxis": "y"
        },
        {
         "hoverinfo": "text",
         "marker": {
          "color": "rgb(61,153,112)"
         },
         "mode": "lines",
         "type": "scatter",
         "x": [
          1265,
          1265,
          1275,
          1275
         ],
         "xaxis": "x",
         "y": [
          0,
          0.10776334616106555,
          0.10776334616106555,
          0
         ],
         "yaxis": "y"
        },
        {
         "hoverinfo": "text",
         "marker": {
          "color": "rgb(61,153,112)"
         },
         "mode": "lines",
         "type": "scatter",
         "x": [
          1255,
          1255,
          1270,
          1270
         ],
         "xaxis": "x",
         "y": [
          0,
          0.5089940301976521,
          0.5089940301976521,
          0.10776334616106555
         ],
         "yaxis": "y"
        },
        {
         "hoverinfo": "text",
         "marker": {
          "color": "rgb(61,153,112)"
         },
         "mode": "lines",
         "type": "scatter",
         "x": [
          1240,
          1240,
          1262.5,
          1262.5
         ],
         "xaxis": "x",
         "y": [
          0.3984118649954745,
          1.0678656889179021,
          1.0678656889179021,
          0.5089940301976521
         ],
         "yaxis": "y"
        },
        {
         "hoverinfo": "text",
         "marker": {
          "color": "rgb(61,153,112)"
         },
         "mode": "lines",
         "type": "scatter",
         "x": [
          1225,
          1225,
          1251.25,
          1251.25
         ],
         "xaxis": "x",
         "y": [
          0,
          1.1625364070056756,
          1.1625364070056756,
          1.0678656889179021
         ],
         "yaxis": "y"
        },
        {
         "hoverinfo": "text",
         "marker": {
          "color": "rgb(61,153,112)"
         },
         "mode": "lines",
         "type": "scatter",
         "x": [
          1315,
          1315,
          1325,
          1325
         ],
         "xaxis": "x",
         "y": [
          0,
          0,
          0,
          0
         ],
         "yaxis": "y"
        },
        {
         "hoverinfo": "text",
         "marker": {
          "color": "rgb(61,153,112)"
         },
         "mode": "lines",
         "type": "scatter",
         "x": [
          1305,
          1305,
          1320,
          1320
         ],
         "xaxis": "x",
         "y": [
          0,
          0.21927306135912047,
          0.21927306135912047,
          0
         ],
         "yaxis": "y"
        },
        {
         "hoverinfo": "text",
         "marker": {
          "color": "rgb(61,153,112)"
         },
         "mode": "lines",
         "type": "scatter",
         "x": [
          1295,
          1295,
          1312.5,
          1312.5
         ],
         "xaxis": "x",
         "y": [
          0,
          0.40490630461108007,
          0.40490630461108007,
          0.21927306135912047
         ],
         "yaxis": "y"
        },
        {
         "hoverinfo": "text",
         "marker": {
          "color": "rgb(61,153,112)"
         },
         "mode": "lines",
         "type": "scatter",
         "x": [
          1285,
          1285,
          1303.75,
          1303.75
         ],
         "xaxis": "x",
         "y": [
          0,
          0.7339967786035912,
          0.7339967786035912,
          0.40490630461108007
         ],
         "yaxis": "y"
        },
        {
         "hoverinfo": "text",
         "marker": {
          "color": "rgb(61,153,112)"
         },
         "mode": "lines",
         "type": "scatter",
         "x": [
          1335,
          1335,
          1345,
          1345
         ],
         "xaxis": "x",
         "y": [
          0,
          0.07552692494306501,
          0.07552692494306501,
          0
         ],
         "yaxis": "y"
        },
        {
         "hoverinfo": "text",
         "marker": {
          "color": "rgb(61,153,112)"
         },
         "mode": "lines",
         "type": "scatter",
         "x": [
          1375,
          1375,
          1385,
          1385
         ],
         "xaxis": "x",
         "y": [
          0,
          0.1480404754202705,
          0.1480404754202705,
          0
         ],
         "yaxis": "y"
        },
        {
         "hoverinfo": "text",
         "marker": {
          "color": "rgb(61,153,112)"
         },
         "mode": "lines",
         "type": "scatter",
         "x": [
          1365,
          1365,
          1380,
          1380
         ],
         "xaxis": "x",
         "y": [
          0,
          0.24736330367902512,
          0.24736330367902512,
          0.1480404754202705
         ],
         "yaxis": "y"
        },
        {
         "hoverinfo": "text",
         "marker": {
          "color": "rgb(61,153,112)"
         },
         "mode": "lines",
         "type": "scatter",
         "x": [
          1405,
          1405,
          1415,
          1415
         ],
         "xaxis": "x",
         "y": [
          0,
          0.16098528993780198,
          0.16098528993780198,
          0
         ],
         "yaxis": "y"
        },
        {
         "hoverinfo": "text",
         "marker": {
          "color": "rgb(61,153,112)"
         },
         "mode": "lines",
         "type": "scatter",
         "x": [
          1395,
          1395,
          1410,
          1410
         ],
         "xaxis": "x",
         "y": [
          0,
          0.24989236006504278,
          0.24989236006504278,
          0.16098528993780198
         ],
         "yaxis": "y"
        },
        {
         "hoverinfo": "text",
         "marker": {
          "color": "rgb(61,153,112)"
         },
         "mode": "lines",
         "type": "scatter",
         "x": [
          1372.5,
          1372.5,
          1402.5,
          1402.5
         ],
         "xaxis": "x",
         "y": [
          0.24736330367902512,
          0.53899093688355,
          0.53899093688355,
          0.24989236006504278
         ],
         "yaxis": "y"
        },
        {
         "hoverinfo": "text",
         "marker": {
          "color": "rgb(61,153,112)"
         },
         "mode": "lines",
         "type": "scatter",
         "x": [
          1355,
          1355,
          1387.5,
          1387.5
         ],
         "xaxis": "x",
         "y": [
          0,
          0.61571528118491,
          0.61571528118491,
          0.53899093688355
         ],
         "yaxis": "y"
        },
        {
         "hoverinfo": "text",
         "marker": {
          "color": "rgb(61,153,112)"
         },
         "mode": "lines",
         "type": "scatter",
         "x": [
          1340,
          1340,
          1371.25,
          1371.25
         ],
         "xaxis": "x",
         "y": [
          0.07552692494306501,
          0.881784235162757,
          0.881784235162757,
          0.61571528118491
         ],
         "yaxis": "y"
        },
        {
         "hoverinfo": "text",
         "marker": {
          "color": "rgb(61,153,112)"
         },
         "mode": "lines",
         "type": "scatter",
         "x": [
          1294.375,
          1294.375,
          1355.625,
          1355.625
         ],
         "xaxis": "x",
         "y": [
          0.7339967786035912,
          1.0221313920867514,
          1.0221313920867514,
          0.881784235162757
         ],
         "yaxis": "y"
        },
        {
         "hoverinfo": "text",
         "marker": {
          "color": "rgb(61,153,112)"
         },
         "mode": "lines",
         "type": "scatter",
         "x": [
          1425,
          1425,
          1435,
          1435
         ],
         "xaxis": "x",
         "y": [
          0,
          0.3940674977541629,
          0.3940674977541629,
          0
         ],
         "yaxis": "y"
        },
        {
         "hoverinfo": "text",
         "marker": {
          "color": "rgb(61,153,112)"
         },
         "mode": "lines",
         "type": "scatter",
         "x": [
          1455,
          1455,
          1465,
          1465
         ],
         "xaxis": "x",
         "y": [
          0,
          0.02902007005576976,
          0.02902007005576976,
          0
         ],
         "yaxis": "y"
        },
        {
         "hoverinfo": "text",
         "marker": {
          "color": "rgb(61,153,112)"
         },
         "mode": "lines",
         "type": "scatter",
         "x": [
          1445,
          1445,
          1460,
          1460
         ],
         "xaxis": "x",
         "y": [
          0,
          0.15055193377250667,
          0.15055193377250667,
          0.02902007005576976
         ],
         "yaxis": "y"
        },
        {
         "hoverinfo": "text",
         "marker": {
          "color": "rgb(61,153,112)"
         },
         "mode": "lines",
         "type": "scatter",
         "x": [
          1475,
          1475,
          1485,
          1485
         ],
         "xaxis": "x",
         "y": [
          0,
          0.02902007005576976,
          0.02902007005576976,
          0
         ],
         "yaxis": "y"
        },
        {
         "hoverinfo": "text",
         "marker": {
          "color": "rgb(61,153,112)"
         },
         "mode": "lines",
         "type": "scatter",
         "x": [
          1495,
          1495,
          1505,
          1505
         ],
         "xaxis": "x",
         "y": [
          0,
          0.0870602101673092,
          0.0870602101673092,
          0
         ],
         "yaxis": "y"
        },
        {
         "hoverinfo": "text",
         "marker": {
          "color": "rgb(61,153,112)"
         },
         "mode": "lines",
         "type": "scatter",
         "x": [
          1480,
          1480,
          1500,
          1500
         ],
         "xaxis": "x",
         "y": [
          0.02902007005576976,
          0.2816750184487215,
          0.2816750184487215,
          0.0870602101673092
         ],
         "yaxis": "y"
        },
        {
         "hoverinfo": "text",
         "marker": {
          "color": "rgb(61,153,112)"
         },
         "mode": "lines",
         "type": "scatter",
         "x": [
          1452.5,
          1452.5,
          1490,
          1490
         ],
         "xaxis": "x",
         "y": [
          0.15055193377250667,
          0.5167319294187035,
          0.5167319294187035,
          0.2816750184487215
         ],
         "yaxis": "y"
        },
        {
         "hoverinfo": "text",
         "marker": {
          "color": "rgb(61,153,112)"
         },
         "mode": "lines",
         "type": "scatter",
         "x": [
          1430,
          1430,
          1471.25,
          1471.25
         ],
         "xaxis": "x",
         "y": [
          0.3940674977541629,
          0.6326273215250021,
          0.6326273215250021,
          0.5167319294187035
         ],
         "yaxis": "y"
        },
        {
         "hoverinfo": "text",
         "marker": {
          "color": "rgb(61,153,112)"
         },
         "mode": "lines",
         "type": "scatter",
         "x": [
          1515,
          1515,
          1525,
          1525
         ],
         "xaxis": "x",
         "y": [
          0,
          0.3176227369702831,
          0.3176227369702831,
          0
         ],
         "yaxis": "y"
        },
        {
         "hoverinfo": "text",
         "marker": {
          "color": "rgb(61,153,112)"
         },
         "mode": "lines",
         "type": "scatter",
         "x": [
          1535,
          1535,
          1545,
          1545
         ],
         "xaxis": "x",
         "y": [
          0,
          0.4366535540408523,
          0.4366535540408523,
          0
         ],
         "yaxis": "y"
        },
        {
         "hoverinfo": "text",
         "marker": {
          "color": "rgb(61,153,112)"
         },
         "mode": "lines",
         "type": "scatter",
         "x": [
          1520,
          1520,
          1540,
          1540
         ],
         "xaxis": "x",
         "y": [
          0.3176227369702831,
          0.661340547701305,
          0.661340547701305,
          0.4366535540408523
         ],
         "yaxis": "y"
        },
        {
         "hoverinfo": "text",
         "marker": {
          "color": "rgb(61,153,112)"
         },
         "mode": "lines",
         "type": "scatter",
         "x": [
          1450.625,
          1450.625,
          1530,
          1530
         ],
         "xaxis": "x",
         "y": [
          0.6326273215250021,
          0.9411469717192529,
          0.9411469717192529,
          0.661340547701305
         ],
         "yaxis": "y"
        },
        {
         "hoverinfo": "text",
         "marker": {
          "color": "rgb(61,153,112)"
         },
         "mode": "lines",
         "type": "scatter",
         "x": [
          1565,
          1565,
          1575,
          1575
         ],
         "xaxis": "x",
         "y": [
          0,
          0,
          0,
          0
         ],
         "yaxis": "y"
        },
        {
         "hoverinfo": "text",
         "marker": {
          "color": "rgb(61,153,112)"
         },
         "mode": "lines",
         "type": "scatter",
         "x": [
          1555,
          1555,
          1570,
          1570
         ],
         "xaxis": "x",
         "y": [
          0,
          0.314046019770402,
          0.314046019770402,
          0
         ],
         "yaxis": "y"
        },
        {
         "hoverinfo": "text",
         "marker": {
          "color": "rgb(61,153,112)"
         },
         "mode": "lines",
         "type": "scatter",
         "x": [
          1605,
          1605,
          1615,
          1615
         ],
         "xaxis": "x",
         "y": [
          0,
          0,
          0,
          0
         ],
         "yaxis": "y"
        },
        {
         "hoverinfo": "text",
         "marker": {
          "color": "rgb(61,153,112)"
         },
         "mode": "lines",
         "type": "scatter",
         "x": [
          1595,
          1595,
          1610,
          1610
         ],
         "xaxis": "x",
         "y": [
          0,
          0.1763677535015709,
          0.1763677535015709,
          0
         ],
         "yaxis": "y"
        },
        {
         "hoverinfo": "text",
         "marker": {
          "color": "rgb(61,153,112)"
         },
         "mode": "lines",
         "type": "scatter",
         "x": [
          1585,
          1585,
          1602.5,
          1602.5
         ],
         "xaxis": "x",
         "y": [
          0,
          0.2587267068293609,
          0.2587267068293609,
          0.1763677535015709
         ],
         "yaxis": "y"
        },
        {
         "hoverinfo": "text",
         "marker": {
          "color": "rgb(61,153,112)"
         },
         "mode": "lines",
         "type": "scatter",
         "x": [
          1625,
          1625,
          1635,
          1635
         ],
         "xaxis": "x",
         "y": [
          0,
          0.4823666329193535,
          0.4823666329193535,
          0
         ],
         "yaxis": "y"
        },
        {
         "hoverinfo": "text",
         "marker": {
          "color": "rgb(61,153,112)"
         },
         "mode": "lines",
         "type": "scatter",
         "x": [
          1593.75,
          1593.75,
          1630,
          1630
         ],
         "xaxis": "x",
         "y": [
          0.2587267068293609,
          0.5769476802056995,
          0.5769476802056995,
          0.4823666329193535
         ],
         "yaxis": "y"
        },
        {
         "hoverinfo": "text",
         "marker": {
          "color": "rgb(61,153,112)"
         },
         "mode": "lines",
         "type": "scatter",
         "x": [
          1562.5,
          1562.5,
          1611.875,
          1611.875
         ],
         "xaxis": "x",
         "y": [
          0.314046019770402,
          0.794457468132567,
          0.794457468132567,
          0.5769476802056995
         ],
         "yaxis": "y"
        },
        {
         "hoverinfo": "text",
         "marker": {
          "color": "rgb(61,153,112)"
         },
         "mode": "lines",
         "type": "scatter",
         "x": [
          1655,
          1655,
          1665,
          1665
         ],
         "xaxis": "x",
         "y": [
          0,
          0.2651568718531224,
          0.2651568718531224,
          0
         ],
         "yaxis": "y"
        },
        {
         "hoverinfo": "text",
         "marker": {
          "color": "rgb(61,153,112)"
         },
         "mode": "lines",
         "type": "scatter",
         "x": [
          1645,
          1645,
          1660,
          1660
         ],
         "xaxis": "x",
         "y": [
          0,
          0.5799990193829636,
          0.5799990193829636,
          0.2651568718531224
         ],
         "yaxis": "y"
        },
        {
         "hoverinfo": "text",
         "marker": {
          "color": "rgb(61,153,112)"
         },
         "mode": "lines",
         "type": "scatter",
         "x": [
          1675,
          1675,
          1685,
          1685
         ],
         "xaxis": "x",
         "y": [
          0,
          0.4159942903180524,
          0.4159942903180524,
          0
         ],
         "yaxis": "y"
        },
        {
         "hoverinfo": "text",
         "marker": {
          "color": "rgb(61,153,112)"
         },
         "mode": "lines",
         "type": "scatter",
         "x": [
          1705,
          1705,
          1715,
          1715
         ],
         "xaxis": "x",
         "y": [
          0,
          0.026381881868881574,
          0.026381881868881574,
          0
         ],
         "yaxis": "y"
        },
        {
         "hoverinfo": "text",
         "marker": {
          "color": "rgb(61,153,112)"
         },
         "mode": "lines",
         "type": "scatter",
         "x": [
          1695,
          1695,
          1710,
          1710
         ],
         "xaxis": "x",
         "y": [
          0,
          0.45931370728498455,
          0.45931370728498455,
          0.026381881868881574
         ],
         "yaxis": "y"
        },
        {
         "hoverinfo": "text",
         "marker": {
          "color": "rgb(61,153,112)"
         },
         "mode": "lines",
         "type": "scatter",
         "x": [
          1680,
          1680,
          1702.5,
          1702.5
         ],
         "xaxis": "x",
         "y": [
          0.4159942903180524,
          0.6522941765118083,
          0.6522941765118083,
          0.45931370728498455
         ],
         "yaxis": "y"
        },
        {
         "hoverinfo": "text",
         "marker": {
          "color": "rgb(61,153,112)"
         },
         "mode": "lines",
         "type": "scatter",
         "x": [
          1652.5,
          1652.5,
          1691.25,
          1691.25
         ],
         "xaxis": "x",
         "y": [
          0.5799990193829636,
          0.7971616015591234,
          0.7971616015591234,
          0.6522941765118083
         ],
         "yaxis": "y"
        },
        {
         "hoverinfo": "text",
         "marker": {
          "color": "rgb(61,153,112)"
         },
         "mode": "lines",
         "type": "scatter",
         "x": [
          1587.1875,
          1587.1875,
          1671.875,
          1671.875
         ],
         "xaxis": "x",
         "y": [
          0.794457468132567,
          1.2380461562454337,
          1.2380461562454337,
          0.7971616015591234
         ],
         "yaxis": "y"
        },
        {
         "hoverinfo": "text",
         "marker": {
          "color": "rgb(61,153,112)"
         },
         "mode": "lines",
         "type": "scatter",
         "x": [
          1490.3125,
          1490.3125,
          1629.53125,
          1629.53125
         ],
         "xaxis": "x",
         "y": [
          0.9411469717192529,
          1.4565836012526507,
          1.4565836012526507,
          1.2380461562454337
         ],
         "yaxis": "y"
        },
        {
         "hoverinfo": "text",
         "marker": {
          "color": "rgb(61,153,112)"
         },
         "mode": "lines",
         "type": "scatter",
         "x": [
          1325,
          1325,
          1559.921875,
          1559.921875
         ],
         "xaxis": "x",
         "y": [
          1.0221313920867514,
          1.6609169265078758,
          1.6609169265078758,
          1.4565836012526507
         ],
         "yaxis": "y"
        },
        {
         "hoverinfo": "text",
         "marker": {
          "color": "rgb(61,153,112)"
         },
         "mode": "lines",
         "type": "scatter",
         "x": [
          1238.125,
          1238.125,
          1442.4609375,
          1442.4609375
         ],
         "xaxis": "x",
         "y": [
          1.1625364070056756,
          1.8542705804631137,
          1.8542705804631137,
          1.6609169265078758
         ],
         "yaxis": "y"
        },
        {
         "hoverinfo": "text",
         "marker": {
          "color": "rgb(61,153,112)"
         },
         "mode": "lines",
         "type": "scatter",
         "x": [
          1071.171875,
          1071.171875,
          1340.29296875,
          1340.29296875
         ],
         "xaxis": "x",
         "y": [
          1.4691766215819533,
          2.373357605091366,
          2.373357605091366,
          1.8542705804631137
         ],
         "yaxis": "y"
        },
        {
         "hoverinfo": "text",
         "marker": {
          "color": "rgb(61,153,112)"
         },
         "mode": "lines",
         "type": "scatter",
         "x": [
          892.3828125,
          892.3828125,
          1205.732421875,
          1205.732421875
         ],
         "xaxis": "x",
         "y": [
          1.5965750378860881,
          2.5658770284812085,
          2.5658770284812085,
          2.373357605091366
         ],
         "yaxis": "y"
        },
        {
         "hoverinfo": "text",
         "marker": {
          "color": "rgb(61,153,112)"
         },
         "mode": "lines",
         "type": "scatter",
         "x": [
          1745,
          1745,
          1755,
          1755
         ],
         "xaxis": "x",
         "y": [
          0,
          0.3734648431730917,
          0.3734648431730917,
          0
         ],
         "yaxis": "y"
        },
        {
         "hoverinfo": "text",
         "marker": {
          "color": "rgb(61,153,112)"
         },
         "mode": "lines",
         "type": "scatter",
         "x": [
          1735,
          1735,
          1750,
          1750
         ],
         "xaxis": "x",
         "y": [
          0,
          0.702248415415063,
          0.702248415415063,
          0.3734648431730917
         ],
         "yaxis": "y"
        },
        {
         "hoverinfo": "text",
         "marker": {
          "color": "rgb(61,153,112)"
         },
         "mode": "lines",
         "type": "scatter",
         "x": [
          1725,
          1725,
          1742.5,
          1742.5
         ],
         "xaxis": "x",
         "y": [
          0,
          0.7833517748138139,
          0.7833517748138139,
          0.702248415415063
         ],
         "yaxis": "y"
        },
        {
         "hoverinfo": "text",
         "marker": {
          "color": "rgb(61,153,112)"
         },
         "mode": "lines",
         "type": "scatter",
         "x": [
          1795,
          1795,
          1805,
          1805
         ],
         "xaxis": "x",
         "y": [
          0,
          0.16488676168050984,
          0.16488676168050984,
          0
         ],
         "yaxis": "y"
        },
        {
         "hoverinfo": "text",
         "marker": {
          "color": "rgb(61,153,112)"
         },
         "mode": "lines",
         "type": "scatter",
         "x": [
          1785,
          1785,
          1800,
          1800
         ],
         "xaxis": "x",
         "y": [
          0,
          0.26872532904724217,
          0.26872532904724217,
          0.16488676168050984
         ],
         "yaxis": "y"
        },
        {
         "hoverinfo": "text",
         "marker": {
          "color": "rgb(61,153,112)"
         },
         "mode": "lines",
         "type": "scatter",
         "x": [
          1775,
          1775,
          1792.5,
          1792.5
         ],
         "xaxis": "x",
         "y": [
          0,
          0.5567283051120444,
          0.5567283051120444,
          0.26872532904724217
         ],
         "yaxis": "y"
        },
        {
         "hoverinfo": "text",
         "marker": {
          "color": "rgb(61,153,112)"
         },
         "mode": "lines",
         "type": "scatter",
         "x": [
          1765,
          1765,
          1783.75,
          1783.75
         ],
         "xaxis": "x",
         "y": [
          0,
          1.2037269615913178,
          1.2037269615913178,
          0.5567283051120444
         ],
         "yaxis": "y"
        },
        {
         "hoverinfo": "text",
         "marker": {
          "color": "rgb(61,153,112)"
         },
         "mode": "lines",
         "type": "scatter",
         "x": [
          1733.75,
          1733.75,
          1774.375,
          1774.375
         ],
         "xaxis": "x",
         "y": [
          0.7833517748138139,
          1.7109220370051172,
          1.7109220370051172,
          1.2037269615913178
         ],
         "yaxis": "y"
        },
        {
         "hoverinfo": "text",
         "marker": {
          "color": "rgb(61,153,112)"
         },
         "mode": "lines",
         "type": "scatter",
         "x": [
          1825,
          1825,
          1835,
          1835
         ],
         "xaxis": "x",
         "y": [
          0,
          0.5003710281520319,
          0.5003710281520319,
          0
         ],
         "yaxis": "y"
        },
        {
         "hoverinfo": "text",
         "marker": {
          "color": "rgb(61,153,112)"
         },
         "mode": "lines",
         "type": "scatter",
         "x": [
          1815,
          1815,
          1830,
          1830
         ],
         "xaxis": "x",
         "y": [
          0,
          0.9922538455896165,
          0.9922538455896165,
          0.5003710281520319
         ],
         "yaxis": "y"
        },
        {
         "hoverinfo": "text",
         "marker": {
          "color": "rgb(61,153,112)"
         },
         "mode": "lines",
         "type": "scatter",
         "x": [
          1875,
          1875,
          1885,
          1885
         ],
         "xaxis": "x",
         "y": [
          0,
          0.017148223214772995,
          0.017148223214772995,
          0
         ],
         "yaxis": "y"
        },
        {
         "hoverinfo": "text",
         "marker": {
          "color": "rgb(61,153,112)"
         },
         "mode": "lines",
         "type": "scatter",
         "x": [
          1865,
          1865,
          1880,
          1880
         ],
         "xaxis": "x",
         "y": [
          0,
          0.7798768424067805,
          0.7798768424067805,
          0.017148223214772995
         ],
         "yaxis": "y"
        },
        {
         "hoverinfo": "text",
         "marker": {
          "color": "rgb(61,153,112)"
         },
         "mode": "lines",
         "type": "scatter",
         "x": [
          1855,
          1855,
          1872.5,
          1872.5
         ],
         "xaxis": "x",
         "y": [
          0,
          0.8076698769387711,
          0.8076698769387711,
          0.7798768424067805
         ],
         "yaxis": "y"
        },
        {
         "hoverinfo": "text",
         "marker": {
          "color": "rgb(61,153,112)"
         },
         "mode": "lines",
         "type": "scatter",
         "x": [
          1845,
          1845,
          1863.75,
          1863.75
         ],
         "xaxis": "x",
         "y": [
          0,
          1.2223791923548293,
          1.2223791923548293,
          0.8076698769387711
         ],
         "yaxis": "y"
        },
        {
         "hoverinfo": "text",
         "marker": {
          "color": "rgb(61,153,112)"
         },
         "mode": "lines",
         "type": "scatter",
         "x": [
          1915,
          1915,
          1925,
          1925
         ],
         "xaxis": "x",
         "y": [
          0,
          0,
          0,
          0
         ],
         "yaxis": "y"
        },
        {
         "hoverinfo": "text",
         "marker": {
          "color": "rgb(61,153,112)"
         },
         "mode": "lines",
         "type": "scatter",
         "x": [
          1905,
          1905,
          1920,
          1920
         ],
         "xaxis": "x",
         "y": [
          0,
          0.3774948632217267,
          0.3774948632217267,
          0
         ],
         "yaxis": "y"
        },
        {
         "hoverinfo": "text",
         "marker": {
          "color": "rgb(61,153,112)"
         },
         "mode": "lines",
         "type": "scatter",
         "x": [
          1895,
          1895,
          1912.5,
          1912.5
         ],
         "xaxis": "x",
         "y": [
          0,
          0.6054193547798552,
          0.6054193547798552,
          0.3774948632217267
         ],
         "yaxis": "y"
        },
        {
         "hoverinfo": "text",
         "marker": {
          "color": "rgb(61,153,112)"
         },
         "mode": "lines",
         "type": "scatter",
         "x": [
          1955,
          1955,
          1965,
          1965
         ],
         "xaxis": "x",
         "y": [
          0,
          0.1371857857181842,
          0.1371857857181842,
          0
         ],
         "yaxis": "y"
        },
        {
         "hoverinfo": "text",
         "marker": {
          "color": "rgb(61,153,112)"
         },
         "mode": "lines",
         "type": "scatter",
         "x": [
          1945,
          1945,
          1960,
          1960
         ],
         "xaxis": "x",
         "y": [
          0,
          0.4287055803693257,
          0.4287055803693257,
          0.1371857857181842
         ],
         "yaxis": "y"
        },
        {
         "hoverinfo": "text",
         "marker": {
          "color": "rgb(61,153,112)"
         },
         "mode": "lines",
         "type": "scatter",
         "x": [
          1935,
          1935,
          1952.5,
          1952.5
         ],
         "xaxis": "x",
         "y": [
          0,
          0.6768565893403442,
          0.6768565893403442,
          0.4287055803693257
         ],
         "yaxis": "y"
        },
        {
         "hoverinfo": "text",
         "marker": {
          "color": "rgb(61,153,112)"
         },
         "mode": "lines",
         "type": "scatter",
         "x": [
          1903.75,
          1903.75,
          1943.75,
          1943.75
         ],
         "xaxis": "x",
         "y": [
          0.6054193547798552,
          1.0706722754480482,
          1.0706722754480482,
          0.6768565893403442
         ],
         "yaxis": "y"
        },
        {
         "hoverinfo": "text",
         "marker": {
          "color": "rgb(61,153,112)"
         },
         "mode": "lines",
         "type": "scatter",
         "x": [
          1995,
          1995,
          2005,
          2005
         ],
         "xaxis": "x",
         "y": [
          0,
          0.1851170112865958,
          0.1851170112865958,
          0
         ],
         "yaxis": "y"
        },
        {
         "hoverinfo": "text",
         "marker": {
          "color": "rgb(61,153,112)"
         },
         "mode": "lines",
         "type": "scatter",
         "x": [
          1985,
          1985,
          2000,
          2000
         ],
         "xaxis": "x",
         "y": [
          0,
          0.600843388922416,
          0.600843388922416,
          0.1851170112865958
         ],
         "yaxis": "y"
        },
        {
         "hoverinfo": "text",
         "marker": {
          "color": "rgb(61,153,112)"
         },
         "mode": "lines",
         "type": "scatter",
         "x": [
          1975,
          1975,
          1992.5,
          1992.5
         ],
         "xaxis": "x",
         "y": [
          0,
          0.7971837935710373,
          0.7971837935710373,
          0.600843388922416
         ],
         "yaxis": "y"
        },
        {
         "hoverinfo": "text",
         "marker": {
          "color": "rgb(61,153,112)"
         },
         "mode": "lines",
         "type": "scatter",
         "x": [
          2025,
          2025,
          2035,
          2035
         ],
         "xaxis": "x",
         "y": [
          0,
          0.20445958448383222,
          0.20445958448383222,
          0
         ],
         "yaxis": "y"
        },
        {
         "hoverinfo": "text",
         "marker": {
          "color": "rgb(61,153,112)"
         },
         "mode": "lines",
         "type": "scatter",
         "x": [
          2045,
          2045,
          2055,
          2055
         ],
         "xaxis": "x",
         "y": [
          0,
          0.43222838124059254,
          0.43222838124059254,
          0
         ],
         "yaxis": "y"
        },
        {
         "hoverinfo": "text",
         "marker": {
          "color": "rgb(61,153,112)"
         },
         "mode": "lines",
         "type": "scatter",
         "x": [
          2030,
          2030,
          2050,
          2050
         ],
         "xaxis": "x",
         "y": [
          0.20445958448383222,
          0.6104056648453716,
          0.6104056648453716,
          0.43222838124059254
         ],
         "yaxis": "y"
        },
        {
         "hoverinfo": "text",
         "marker": {
          "color": "rgb(61,153,112)"
         },
         "mode": "lines",
         "type": "scatter",
         "x": [
          2015,
          2015,
          2040,
          2040
         ],
         "xaxis": "x",
         "y": [
          0,
          0.9684586456482945,
          0.9684586456482945,
          0.6104056648453716
         ],
         "yaxis": "y"
        },
        {
         "hoverinfo": "text",
         "marker": {
          "color": "rgb(61,153,112)"
         },
         "mode": "lines",
         "type": "scatter",
         "x": [
          1983.75,
          1983.75,
          2027.5,
          2027.5
         ],
         "xaxis": "x",
         "y": [
          0.7971837935710373,
          1.1732969025262618,
          1.1732969025262618,
          0.9684586456482945
         ],
         "yaxis": "y"
        },
        {
         "hoverinfo": "text",
         "marker": {
          "color": "rgb(61,153,112)"
         },
         "mode": "lines",
         "type": "scatter",
         "x": [
          1923.75,
          1923.75,
          2005.625,
          2005.625
         ],
         "xaxis": "x",
         "y": [
          1.0706722754480482,
          1.4226196247174292,
          1.4226196247174292,
          1.1732969025262618
         ],
         "yaxis": "y"
        },
        {
         "hoverinfo": "text",
         "marker": {
          "color": "rgb(61,153,112)"
         },
         "mode": "lines",
         "type": "scatter",
         "x": [
          1854.375,
          1854.375,
          1964.6875,
          1964.6875
         ],
         "xaxis": "x",
         "y": [
          1.2223791923548293,
          1.8804849176400964,
          1.8804849176400964,
          1.4226196247174292
         ],
         "yaxis": "y"
        },
        {
         "hoverinfo": "text",
         "marker": {
          "color": "rgb(61,153,112)"
         },
         "mode": "lines",
         "type": "scatter",
         "x": [
          1822.5,
          1822.5,
          1909.53125,
          1909.53125
         ],
         "xaxis": "x",
         "y": [
          0.9922538455896165,
          2.237446445154156,
          2.237446445154156,
          1.8804849176400964
         ],
         "yaxis": "y"
        },
        {
         "hoverinfo": "text",
         "marker": {
          "color": "rgb(61,153,112)"
         },
         "mode": "lines",
         "type": "scatter",
         "x": [
          1754.0625,
          1754.0625,
          1866.015625,
          1866.015625
         ],
         "xaxis": "x",
         "y": [
          1.7109220370051172,
          2.639165174356453,
          2.639165174356453,
          2.237446445154156
         ],
         "yaxis": "y"
        },
        {
         "hoverinfo": "text",
         "marker": {
          "color": "rgb(61,153,112)"
         },
         "mode": "lines",
         "type": "scatter",
         "x": [
          1049.0576171875,
          1049.0576171875,
          1810.0390625,
          1810.0390625
         ],
         "xaxis": "x",
         "y": [
          2.5658770284812085,
          3.1368355714169764,
          3.1368355714169764,
          2.639165174356453
         ],
         "yaxis": "y"
        },
        {
         "hoverinfo": "text",
         "marker": {
          "color": "rgb(61,153,112)"
         },
         "mode": "lines",
         "type": "scatter",
         "x": [
          2065,
          2065,
          2075,
          2075
         ],
         "xaxis": "x",
         "y": [
          0,
          0.2651379127822598,
          0.2651379127822598,
          0
         ],
         "yaxis": "y"
        },
        {
         "hoverinfo": "text",
         "marker": {
          "color": "rgb(61,153,112)"
         },
         "mode": "lines",
         "type": "scatter",
         "x": [
          2095,
          2095,
          2105,
          2105
         ],
         "xaxis": "x",
         "y": [
          0,
          0.16575678521276857,
          0.16575678521276857,
          0
         ],
         "yaxis": "y"
        },
        {
         "hoverinfo": "text",
         "marker": {
          "color": "rgb(61,153,112)"
         },
         "mode": "lines",
         "type": "scatter",
         "x": [
          2085,
          2085,
          2100,
          2100
         ],
         "xaxis": "x",
         "y": [
          0,
          0.5213434908808319,
          0.5213434908808319,
          0.16575678521276857
         ],
         "yaxis": "y"
        },
        {
         "hoverinfo": "text",
         "marker": {
          "color": "rgb(61,153,112)"
         },
         "mode": "lines",
         "type": "scatter",
         "x": [
          2070,
          2070,
          2092.5,
          2092.5
         ],
         "xaxis": "x",
         "y": [
          0.2651379127822598,
          0.8407247086606393,
          0.8407247086606393,
          0.5213434908808319
         ],
         "yaxis": "y"
        },
        {
         "hoverinfo": "text",
         "marker": {
          "color": "rgb(61,153,112)"
         },
         "mode": "lines",
         "type": "scatter",
         "x": [
          2145,
          2145,
          2155,
          2155
         ],
         "xaxis": "x",
         "y": [
          0,
          0.7103917292719882,
          0.7103917292719882,
          0
         ],
         "yaxis": "y"
        },
        {
         "hoverinfo": "text",
         "marker": {
          "color": "rgb(61,153,112)"
         },
         "mode": "lines",
         "type": "scatter",
         "x": [
          2135,
          2135,
          2150,
          2150
         ],
         "xaxis": "x",
         "y": [
          0,
          0.9665345125657234,
          0.9665345125657234,
          0.7103917292719882
         ],
         "yaxis": "y"
        },
        {
         "hoverinfo": "text",
         "marker": {
          "color": "rgb(61,153,112)"
         },
         "mode": "lines",
         "type": "scatter",
         "x": [
          2125,
          2125,
          2142.5,
          2142.5
         ],
         "xaxis": "x",
         "y": [
          0,
          1.0334119673703015,
          1.0334119673703015,
          0.9665345125657234
         ],
         "yaxis": "y"
        },
        {
         "hoverinfo": "text",
         "marker": {
          "color": "rgb(61,153,112)"
         },
         "mode": "lines",
         "type": "scatter",
         "x": [
          2115,
          2115,
          2133.75,
          2133.75
         ],
         "xaxis": "x",
         "y": [
          0,
          1.2673226128816069,
          1.2673226128816069,
          1.0334119673703015
         ],
         "yaxis": "y"
        },
        {
         "hoverinfo": "text",
         "marker": {
          "color": "rgb(61,153,112)"
         },
         "mode": "lines",
         "type": "scatter",
         "x": [
          2081.25,
          2081.25,
          2124.375,
          2124.375
         ],
         "xaxis": "x",
         "y": [
          0.8407247086606393,
          1.431676019717515,
          1.431676019717515,
          1.2673226128816069
         ],
         "yaxis": "y"
        },
        {
         "hoverinfo": "text",
         "marker": {
          "color": "rgb(61,153,112)"
         },
         "mode": "lines",
         "type": "scatter",
         "x": [
          2165,
          2165,
          2175,
          2175
         ],
         "xaxis": "x",
         "y": [
          0,
          0.0026381881868881574,
          0.0026381881868881574,
          0
         ],
         "yaxis": "y"
        },
        {
         "hoverinfo": "text",
         "marker": {
          "color": "rgb(61,153,112)"
         },
         "mode": "lines",
         "type": "scatter",
         "x": [
          2185,
          2185,
          2195,
          2195
         ],
         "xaxis": "x",
         "y": [
          0,
          0.23347965453960196,
          0.23347965453960196,
          0
         ],
         "yaxis": "y"
        },
        {
         "hoverinfo": "text",
         "marker": {
          "color": "rgb(61,153,112)"
         },
         "mode": "lines",
         "type": "scatter",
         "x": [
          2205,
          2205,
          2215,
          2215
         ],
         "xaxis": "x",
         "y": [
          0,
          0.29728464897646,
          0.29728464897646,
          0
         ],
         "yaxis": "y"
        },
        {
         "hoverinfo": "text",
         "marker": {
          "color": "rgb(61,153,112)"
         },
         "mode": "lines",
         "type": "scatter",
         "x": [
          2190,
          2190,
          2210,
          2210
         ],
         "xaxis": "x",
         "y": [
          0.23347965453960196,
          1.164708068478869,
          1.164708068478869,
          0.29728464897646
         ],
         "yaxis": "y"
        },
        {
         "hoverinfo": "text",
         "marker": {
          "color": "rgb(61,153,112)"
         },
         "mode": "lines",
         "type": "scatter",
         "x": [
          2170,
          2170,
          2200,
          2200
         ],
         "xaxis": "x",
         "y": [
          0.0026381881868881574,
          1.9710219689001165,
          1.9710219689001165,
          1.164708068478869
         ],
         "yaxis": "y"
        },
        {
         "hoverinfo": "text",
         "marker": {
          "color": "rgb(61,153,112)"
         },
         "mode": "lines",
         "type": "scatter",
         "x": [
          2102.8125,
          2102.8125,
          2185,
          2185
         ],
         "xaxis": "x",
         "y": [
          1.431676019717515,
          2.2057428733732287,
          2.2057428733732287,
          1.9710219689001165
         ],
         "yaxis": "y"
        },
        {
         "hoverinfo": "text",
         "marker": {
          "color": "rgb(61,153,112)"
         },
         "mode": "lines",
         "type": "scatter",
         "x": [
          2235,
          2235,
          2245,
          2245
         ],
         "xaxis": "x",
         "y": [
          0,
          0.74834869036299,
          0.74834869036299,
          0
         ],
         "yaxis": "y"
        },
        {
         "hoverinfo": "text",
         "marker": {
          "color": "rgb(61,153,112)"
         },
         "mode": "lines",
         "type": "scatter",
         "x": [
          2225,
          2225,
          2240,
          2240
         ],
         "xaxis": "x",
         "y": [
          0,
          1.6798067879472973,
          1.6798067879472973,
          0.74834869036299
         ],
         "yaxis": "y"
        },
        {
         "hoverinfo": "text",
         "marker": {
          "color": "rgb(61,153,112)"
         },
         "mode": "lines",
         "type": "scatter",
         "x": [
          2255,
          2255,
          2265,
          2265
         ],
         "xaxis": "x",
         "y": [
          0,
          0.8673198352672834,
          0.8673198352672834,
          0
         ],
         "yaxis": "y"
        },
        {
         "hoverinfo": "text",
         "marker": {
          "color": "rgb(61,153,112)"
         },
         "mode": "lines",
         "type": "scatter",
         "x": [
          2275,
          2275,
          2285,
          2285
         ],
         "xaxis": "x",
         "y": [
          0,
          0.7605522717505863,
          0.7605522717505863,
          0
         ],
         "yaxis": "y"
        },
        {
         "hoverinfo": "text",
         "marker": {
          "color": "rgb(61,153,112)"
         },
         "mode": "lines",
         "type": "scatter",
         "x": [
          2295,
          2295,
          2305,
          2305
         ],
         "xaxis": "x",
         "y": [
          0,
          0.44940050177273533,
          0.44940050177273533,
          0
         ],
         "yaxis": "y"
        },
        {
         "hoverinfo": "text",
         "marker": {
          "color": "rgb(61,153,112)"
         },
         "mode": "lines",
         "type": "scatter",
         "x": [
          2315,
          2315,
          2325,
          2325
         ],
         "xaxis": "x",
         "y": [
          0,
          0.5192835554382665,
          0.5192835554382665,
          0
         ],
         "yaxis": "y"
        },
        {
         "hoverinfo": "text",
         "marker": {
          "color": "rgb(61,153,112)"
         },
         "mode": "lines",
         "type": "scatter",
         "x": [
          2300,
          2300,
          2320,
          2320
         ],
         "xaxis": "x",
         "y": [
          0.44940050177273533,
          1.0786167128191253,
          1.0786167128191253,
          0.5192835554382665
         ],
         "yaxis": "y"
        },
        {
         "hoverinfo": "text",
         "marker": {
          "color": "rgb(61,153,112)"
         },
         "mode": "lines",
         "type": "scatter",
         "x": [
          2280,
          2280,
          2310,
          2310
         ],
         "xaxis": "x",
         "y": [
          0.7605522717505863,
          1.244463999765953,
          1.244463999765953,
          1.0786167128191253
         ],
         "yaxis": "y"
        },
        {
         "hoverinfo": "text",
         "marker": {
          "color": "rgb(61,153,112)"
         },
         "mode": "lines",
         "type": "scatter",
         "x": [
          2260,
          2260,
          2295,
          2295
         ],
         "xaxis": "x",
         "y": [
          0.8673198352672834,
          1.5225393437585997,
          1.5225393437585997,
          1.244463999765953
         ],
         "yaxis": "y"
        },
        {
         "hoverinfo": "text",
         "marker": {
          "color": "rgb(61,153,112)"
         },
         "mode": "lines",
         "type": "scatter",
         "x": [
          2335,
          2335,
          2345,
          2345
         ],
         "xaxis": "x",
         "y": [
          0,
          0.5775259235471762,
          0.5775259235471762,
          0
         ],
         "yaxis": "y"
        },
        {
         "hoverinfo": "text",
         "marker": {
          "color": "rgb(61,153,112)"
         },
         "mode": "lines",
         "type": "scatter",
         "x": [
          2365,
          2365,
          2375,
          2375
         ],
         "xaxis": "x",
         "y": [
          0,
          0,
          0,
          0
         ],
         "yaxis": "y"
        },
        {
         "hoverinfo": "text",
         "marker": {
          "color": "rgb(61,153,112)"
         },
         "mode": "lines",
         "type": "scatter",
         "x": [
          2355,
          2355,
          2370,
          2370
         ],
         "xaxis": "x",
         "y": [
          0,
          0.5885329853043999,
          0.5885329853043999,
          0
         ],
         "yaxis": "y"
        },
        {
         "hoverinfo": "text",
         "marker": {
          "color": "rgb(61,153,112)"
         },
         "mode": "lines",
         "type": "scatter",
         "x": [
          2385,
          2385,
          2395,
          2395
         ],
         "xaxis": "x",
         "y": [
          0,
          0.605440328374043,
          0.605440328374043,
          0
         ],
         "yaxis": "y"
        },
        {
         "hoverinfo": "text",
         "marker": {
          "color": "rgb(61,153,112)"
         },
         "mode": "lines",
         "type": "scatter",
         "x": [
          2362.5,
          2362.5,
          2390,
          2390
         ],
         "xaxis": "x",
         "y": [
          0.5885329853043999,
          0.9040708189570524,
          0.9040708189570524,
          0.605440328374043
         ],
         "yaxis": "y"
        },
        {
         "hoverinfo": "text",
         "marker": {
          "color": "rgb(61,153,112)"
         },
         "mode": "lines",
         "type": "scatter",
         "x": [
          2340,
          2340,
          2376.25,
          2376.25
         ],
         "xaxis": "x",
         "y": [
          0.5775259235471762,
          1.1071813301794633,
          1.1071813301794633,
          0.9040708189570524
         ],
         "yaxis": "y"
        },
        {
         "hoverinfo": "text",
         "marker": {
          "color": "rgb(61,153,112)"
         },
         "mode": "lines",
         "type": "scatter",
         "x": [
          2415,
          2415,
          2425,
          2425
         ],
         "xaxis": "x",
         "y": [
          0,
          0.3572981293913297,
          0.3572981293913297,
          0
         ],
         "yaxis": "y"
        },
        {
         "hoverinfo": "text",
         "marker": {
          "color": "rgb(61,153,112)"
         },
         "mode": "lines",
         "type": "scatter",
         "x": [
          2405,
          2405,
          2420,
          2420
         ],
         "xaxis": "x",
         "y": [
          0,
          0.6570520766897632,
          0.6570520766897632,
          0.3572981293913297
         ],
         "yaxis": "y"
        },
        {
         "hoverinfo": "text",
         "marker": {
          "color": "rgb(61,153,112)"
         },
         "mode": "lines",
         "type": "scatter",
         "x": [
          2435,
          2435,
          2445,
          2445
         ],
         "xaxis": "x",
         "y": [
          0,
          1.1068428694455474,
          1.1068428694455474,
          0
         ],
         "yaxis": "y"
        },
        {
         "hoverinfo": "text",
         "marker": {
          "color": "rgb(61,153,112)"
         },
         "mode": "lines",
         "type": "scatter",
         "x": [
          2412.5,
          2412.5,
          2440,
          2440
         ],
         "xaxis": "x",
         "y": [
          0.6570520766897632,
          1.254313628887527,
          1.254313628887527,
          1.1068428694455474
         ],
         "yaxis": "y"
        },
        {
         "hoverinfo": "text",
         "marker": {
          "color": "rgb(61,153,112)"
         },
         "mode": "lines",
         "type": "scatter",
         "x": [
          2358.125,
          2358.125,
          2426.25,
          2426.25
         ],
         "xaxis": "x",
         "y": [
          1.1071813301794633,
          1.85644828773427,
          1.85644828773427,
          1.254313628887527
         ],
         "yaxis": "y"
        },
        {
         "hoverinfo": "text",
         "marker": {
          "color": "rgb(61,153,112)"
         },
         "mode": "lines",
         "type": "scatter",
         "x": [
          2277.5,
          2277.5,
          2392.1875,
          2392.1875
         ],
         "xaxis": "x",
         "y": [
          1.5225393437585997,
          2.2210295625734577,
          2.2210295625734577,
          1.85644828773427
         ],
         "yaxis": "y"
        },
        {
         "hoverinfo": "text",
         "marker": {
          "color": "rgb(61,153,112)"
         },
         "mode": "lines",
         "type": "scatter",
         "x": [
          2232.5,
          2232.5,
          2334.84375,
          2334.84375
         ],
         "xaxis": "x",
         "y": [
          1.6798067879472973,
          2.9434873501148062,
          2.9434873501148062,
          2.2210295625734577
         ],
         "yaxis": "y"
        },
        {
         "hoverinfo": "text",
         "marker": {
          "color": "rgb(61,153,112)"
         },
         "mode": "lines",
         "type": "scatter",
         "x": [
          2143.90625,
          2143.90625,
          2283.671875,
          2283.671875
         ],
         "xaxis": "x",
         "y": [
          2.2057428733732287,
          3.190287180348813,
          3.190287180348813,
          2.9434873501148062
         ],
         "yaxis": "y"
        },
        {
         "hoverinfo": "text",
         "marker": {
          "color": "rgb(61,153,112)"
         },
         "mode": "lines",
         "type": "scatter",
         "x": [
          2455,
          2455,
          2465,
          2465
         ],
         "xaxis": "x",
         "y": [
          0,
          0.40471808775105955,
          0.40471808775105955,
          0
         ],
         "yaxis": "y"
        },
        {
         "hoverinfo": "text",
         "marker": {
          "color": "rgb(61,153,112)"
         },
         "mode": "lines",
         "type": "scatter",
         "x": [
          2485,
          2485,
          2495,
          2495
         ],
         "xaxis": "x",
         "y": [
          0,
          0.5295195523768338,
          0.5295195523768338,
          0
         ],
         "yaxis": "y"
        },
        {
         "hoverinfo": "text",
         "marker": {
          "color": "rgb(61,153,112)"
         },
         "mode": "lines",
         "type": "scatter",
         "x": [
          2475,
          2475,
          2490,
          2490
         ],
         "xaxis": "x",
         "y": [
          0,
          0.8993587280858827,
          0.8993587280858827,
          0.5295195523768338
         ],
         "yaxis": "y"
        },
        {
         "hoverinfo": "text",
         "marker": {
          "color": "rgb(61,153,112)"
         },
         "mode": "lines",
         "type": "scatter",
         "x": [
          2460,
          2460,
          2482.5,
          2482.5
         ],
         "xaxis": "x",
         "y": [
          0.40471808775105955,
          1.0197758305737759,
          1.0197758305737759,
          0.8993587280858827
         ],
         "yaxis": "y"
        },
        {
         "hoverinfo": "text",
         "marker": {
          "color": "rgb(61,153,112)"
         },
         "mode": "lines",
         "type": "scatter",
         "x": [
          2515,
          2515,
          2525,
          2525
         ],
         "xaxis": "x",
         "y": [
          0,
          0.30770093037835217,
          0.30770093037835217,
          0
         ],
         "yaxis": "y"
        },
        {
         "hoverinfo": "text",
         "marker": {
          "color": "rgb(61,153,112)"
         },
         "mode": "lines",
         "type": "scatter",
         "x": [
          2505,
          2505,
          2520,
          2520
         ],
         "xaxis": "x",
         "y": [
          0,
          1.0385891434271817,
          1.0385891434271817,
          0.30770093037835217
         ],
         "yaxis": "y"
        },
        {
         "hoverinfo": "text",
         "marker": {
          "color": "rgb(61,153,112)"
         },
         "mode": "lines",
         "type": "scatter",
         "x": [
          2471.25,
          2471.25,
          2512.5,
          2512.5
         ],
         "xaxis": "x",
         "y": [
          1.0197758305737759,
          1.6721107741275643,
          1.6721107741275643,
          1.0385891434271817
         ],
         "yaxis": "y"
        },
        {
         "hoverinfo": "text",
         "marker": {
          "color": "rgb(61,153,112)"
         },
         "mode": "lines",
         "type": "scatter",
         "x": [
          2545,
          2545,
          2555,
          2555
         ],
         "xaxis": "x",
         "y": [
          0,
          0.2841163879762608,
          0.2841163879762608,
          0
         ],
         "yaxis": "y"
        },
        {
         "hoverinfo": "text",
         "marker": {
          "color": "rgb(61,153,112)"
         },
         "mode": "lines",
         "type": "scatter",
         "x": [
          2535,
          2535,
          2550,
          2550
         ],
         "xaxis": "x",
         "y": [
          0,
          0.5995586218270959,
          0.5995586218270959,
          0.2841163879762608
         ],
         "yaxis": "y"
        },
        {
         "hoverinfo": "text",
         "marker": {
          "color": "rgb(61,153,112)"
         },
         "mode": "lines",
         "type": "scatter",
         "x": [
          2565,
          2565,
          2575,
          2575
         ],
         "xaxis": "x",
         "y": [
          0,
          0.7212417457089371,
          0.7212417457089371,
          0
         ],
         "yaxis": "y"
        },
        {
         "hoverinfo": "text",
         "marker": {
          "color": "rgb(61,153,112)"
         },
         "mode": "lines",
         "type": "scatter",
         "x": [
          2542.5,
          2542.5,
          2570,
          2570
         ],
         "xaxis": "x",
         "y": [
          0.5995586218270959,
          1.003591645654635,
          1.003591645654635,
          0.7212417457089371
         ],
         "yaxis": "y"
        },
        {
         "hoverinfo": "text",
         "marker": {
          "color": "rgb(61,153,112)"
         },
         "mode": "lines",
         "type": "scatter",
         "x": [
          2585,
          2585,
          2595,
          2595
         ],
         "xaxis": "x",
         "y": [
          0,
          0.9047830738515557,
          0.9047830738515557,
          0
         ],
         "yaxis": "y"
        },
        {
         "hoverinfo": "text",
         "marker": {
          "color": "rgb(61,153,112)"
         },
         "mode": "lines",
         "type": "scatter",
         "x": [
          2605,
          2605,
          2615,
          2615
         ],
         "xaxis": "x",
         "y": [
          0,
          0.9508459928757975,
          0.9508459928757975,
          0
         ],
         "yaxis": "y"
        },
        {
         "hoverinfo": "text",
         "marker": {
          "color": "rgb(61,153,112)"
         },
         "mode": "lines",
         "type": "scatter",
         "x": [
          2590,
          2590,
          2610,
          2610
         ],
         "xaxis": "x",
         "y": [
          0.9047830738515557,
          1.376311279722513,
          1.376311279722513,
          0.9508459928757975
         ],
         "yaxis": "y"
        },
        {
         "hoverinfo": "text",
         "marker": {
          "color": "rgb(61,153,112)"
         },
         "mode": "lines",
         "type": "scatter",
         "x": [
          2556.25,
          2556.25,
          2600,
          2600
         ],
         "xaxis": "x",
         "y": [
          1.003591645654635,
          1.8465688033834173,
          1.8465688033834173,
          1.376311279722513
         ],
         "yaxis": "y"
        },
        {
         "hoverinfo": "text",
         "marker": {
          "color": "rgb(61,153,112)"
         },
         "mode": "lines",
         "type": "scatter",
         "x": [
          2491.875,
          2491.875,
          2578.125,
          2578.125
         ],
         "xaxis": "x",
         "y": [
          1.6721107741275643,
          1.999482134649459,
          1.999482134649459,
          1.8465688033834173
         ],
         "yaxis": "y"
        },
        {
         "hoverinfo": "text",
         "marker": {
          "color": "rgb(61,153,112)"
         },
         "mode": "lines",
         "type": "scatter",
         "x": [
          2625,
          2625,
          2635,
          2635
         ],
         "xaxis": "x",
         "y": [
          0,
          1.4882738247025542,
          1.4882738247025542,
          0
         ],
         "yaxis": "y"
        },
        {
         "hoverinfo": "text",
         "marker": {
          "color": "rgb(61,153,112)"
         },
         "mode": "lines",
         "type": "scatter",
         "x": [
          2665,
          2665,
          2675,
          2675
         ],
         "xaxis": "x",
         "y": [
          0,
          0.7267497246243403,
          0.7267497246243403,
          0
         ],
         "yaxis": "y"
        },
        {
         "hoverinfo": "text",
         "marker": {
          "color": "rgb(61,153,112)"
         },
         "mode": "lines",
         "type": "scatter",
         "x": [
          2655,
          2655,
          2670,
          2670
         ],
         "xaxis": "x",
         "y": [
          0,
          0.9516485381756062,
          0.9516485381756062,
          0.7267497246243403
         ],
         "yaxis": "y"
        },
        {
         "hoverinfo": "text",
         "marker": {
          "color": "rgb(61,153,112)"
         },
         "mode": "lines",
         "type": "scatter",
         "x": [
          2645,
          2645,
          2662.5,
          2662.5
         ],
         "xaxis": "x",
         "y": [
          0,
          1.2146121552461142,
          1.2146121552461142,
          0.9516485381756062
         ],
         "yaxis": "y"
        },
        {
         "hoverinfo": "text",
         "marker": {
          "color": "rgb(61,153,112)"
         },
         "mode": "lines",
         "type": "scatter",
         "x": [
          2705,
          2705,
          2715,
          2715
         ],
         "xaxis": "x",
         "y": [
          0,
          0.7305160192277677,
          0.7305160192277677,
          0
         ],
         "yaxis": "y"
        },
        {
         "hoverinfo": "text",
         "marker": {
          "color": "rgb(61,153,112)"
         },
         "mode": "lines",
         "type": "scatter",
         "x": [
          2695,
          2695,
          2710,
          2710
         ],
         "xaxis": "x",
         "y": [
          0,
          0.9396354381420975,
          0.9396354381420975,
          0.7305160192277677
         ],
         "yaxis": "y"
        },
        {
         "hoverinfo": "text",
         "marker": {
          "color": "rgb(61,153,112)"
         },
         "mode": "lines",
         "type": "scatter",
         "x": [
          2685,
          2685,
          2702.5,
          2702.5
         ],
         "xaxis": "x",
         "y": [
          0,
          1.2817633997415834,
          1.2817633997415834,
          0.9396354381420975
         ],
         "yaxis": "y"
        },
        {
         "hoverinfo": "text",
         "marker": {
          "color": "rgb(61,153,112)"
         },
         "mode": "lines",
         "type": "scatter",
         "x": [
          2653.75,
          2653.75,
          2693.75,
          2693.75
         ],
         "xaxis": "x",
         "y": [
          1.2146121552461142,
          2.040841117285709,
          2.040841117285709,
          1.2817633997415834
         ],
         "yaxis": "y"
        },
        {
         "hoverinfo": "text",
         "marker": {
          "color": "rgb(61,153,112)"
         },
         "mode": "lines",
         "type": "scatter",
         "x": [
          2630,
          2630,
          2673.75,
          2673.75
         ],
         "xaxis": "x",
         "y": [
          1.4882738247025542,
          2.42775734242735,
          2.42775734242735,
          2.040841117285709
         ],
         "yaxis": "y"
        },
        {
         "hoverinfo": "text",
         "marker": {
          "color": "rgb(61,153,112)"
         },
         "mode": "lines",
         "type": "scatter",
         "x": [
          2535,
          2535,
          2651.875,
          2651.875
         ],
         "xaxis": "x",
         "y": [
          1.999482134649459,
          3.23938834126035,
          3.23938834126035,
          2.42775734242735
         ],
         "yaxis": "y"
        },
        {
         "hoverinfo": "text",
         "marker": {
          "color": "rgb(61,153,112)"
         },
         "mode": "lines",
         "type": "scatter",
         "x": [
          2213.7890625,
          2213.7890625,
          2593.4375,
          2593.4375
         ],
         "xaxis": "x",
         "y": [
          3.190287180348813,
          4.226871660715366,
          4.226871660715366,
          3.23938834126035
         ],
         "yaxis": "y"
        },
        {
         "hoverinfo": "text",
         "marker": {
          "color": "rgb(61,153,112)"
         },
         "mode": "lines",
         "type": "scatter",
         "x": [
          1429.54833984375,
          1429.54833984375,
          2403.61328125,
          2403.61328125
         ],
         "xaxis": "x",
         "y": [
          3.1368355714169764,
          5.296221338506663,
          5.296221338506663,
          4.226871660715366
         ],
         "yaxis": "y"
        },
        {
         "hoverinfo": "text",
         "marker": {
          "color": "rgb(61,153,112)"
         },
         "mode": "lines",
         "type": "scatter",
         "x": [
          587.265625,
          587.265625,
          1916.580810546875,
          1916.580810546875
         ],
         "xaxis": "x",
         "y": [
          4.620329962210145,
          5.774940460541111,
          5.774940460541111,
          5.296221338506663
         ],
         "yaxis": "y"
        },
        {
         "hoverinfo": "text",
         "marker": {
          "color": "rgb(61,153,112)"
         },
         "mode": "lines",
         "type": "scatter",
         "x": [
          156.845703125,
          156.845703125,
          1251.9232177734375,
          1251.9232177734375
         ],
         "xaxis": "x",
         "y": [
          4.47625933333318,
          6.9392951293785545,
          6.9392951293785545,
          5.774940460541111
         ],
         "yaxis": "y"
        },
        {
         "hoverinfo": "text",
         "marker": {
          "color": "rgb(61,153,112)"
         },
         "mode": "lines",
         "type": "scatter",
         "x": [
          2725,
          2725,
          2735,
          2735
         ],
         "xaxis": "x",
         "y": [
          0,
          1.8195726872870852,
          1.8195726872870852,
          0
         ],
         "yaxis": "y"
        },
        {
         "hoverinfo": "text",
         "marker": {
          "color": "rgb(61,153,112)"
         },
         "mode": "lines",
         "type": "scatter",
         "x": [
          2755,
          2755,
          2765,
          2765
         ],
         "xaxis": "x",
         "y": [
          0,
          2.5402286336994666,
          2.5402286336994666,
          0
         ],
         "yaxis": "y"
        },
        {
         "hoverinfo": "text",
         "marker": {
          "color": "rgb(61,153,112)"
         },
         "mode": "lines",
         "type": "scatter",
         "x": [
          2745,
          2745,
          2760,
          2760
         ],
         "xaxis": "x",
         "y": [
          0,
          3.1522193653084125,
          3.1522193653084125,
          2.5402286336994666
         ],
         "yaxis": "y"
        },
        {
         "hoverinfo": "text",
         "marker": {
          "color": "rgb(61,153,112)"
         },
         "mode": "lines",
         "type": "scatter",
         "x": [
          2730,
          2730,
          2752.5,
          2752.5
         ],
         "xaxis": "x",
         "y": [
          1.8195726872870852,
          4.804004680779418,
          4.804004680779418,
          3.1522193653084125
         ],
         "yaxis": "y"
        },
        {
         "hoverinfo": "text",
         "marker": {
          "color": "rgb(61,153,112)"
         },
         "mode": "lines",
         "type": "scatter",
         "x": [
          2785,
          2785,
          2795,
          2795
         ],
         "xaxis": "x",
         "y": [
          0,
          1.3391538831768972,
          1.3391538831768972,
          0
         ],
         "yaxis": "y"
        },
        {
         "hoverinfo": "text",
         "marker": {
          "color": "rgb(61,153,112)"
         },
         "mode": "lines",
         "type": "scatter",
         "x": [
          2775,
          2775,
          2790,
          2790
         ],
         "xaxis": "x",
         "y": [
          0,
          1.5816208600391297,
          1.5816208600391297,
          1.3391538831768972
         ],
         "yaxis": "y"
        },
        {
         "hoverinfo": "text",
         "marker": {
          "color": "rgb(61,153,112)"
         },
         "mode": "lines",
         "type": "scatter",
         "x": [
          2805,
          2805,
          2815,
          2815
         ],
         "xaxis": "x",
         "y": [
          0,
          0.457604317991323,
          0.457604317991323,
          0
         ],
         "yaxis": "y"
        },
        {
         "hoverinfo": "text",
         "marker": {
          "color": "rgb(61,153,112)"
         },
         "mode": "lines",
         "type": "scatter",
         "x": [
          2845,
          2845,
          2855,
          2855
         ],
         "xaxis": "x",
         "y": [
          0,
          0.5486973092216039,
          0.5486973092216039,
          0
         ],
         "yaxis": "y"
        },
        {
         "hoverinfo": "text",
         "marker": {
          "color": "rgb(61,153,112)"
         },
         "mode": "lines",
         "type": "scatter",
         "x": [
          2835,
          2835,
          2850,
          2850
         ],
         "xaxis": "x",
         "y": [
          0,
          0.8186339868870135,
          0.8186339868870135,
          0.5486973092216039
         ],
         "yaxis": "y"
        },
        {
         "hoverinfo": "text",
         "marker": {
          "color": "rgb(61,153,112)"
         },
         "mode": "lines",
         "type": "scatter",
         "x": [
          2825,
          2825,
          2842.5,
          2842.5
         ],
         "xaxis": "x",
         "y": [
          0,
          1.0189540675811715,
          1.0189540675811715,
          0.8186339868870135
         ],
         "yaxis": "y"
        },
        {
         "hoverinfo": "text",
         "marker": {
          "color": "rgb(61,153,112)"
         },
         "mode": "lines",
         "type": "scatter",
         "x": [
          2810,
          2810,
          2833.75,
          2833.75
         ],
         "xaxis": "x",
         "y": [
          0.457604317991323,
          1.7575210248124054,
          1.7575210248124054,
          1.0189540675811715
         ],
         "yaxis": "y"
        },
        {
         "hoverinfo": "text",
         "marker": {
          "color": "rgb(61,153,112)"
         },
         "mode": "lines",
         "type": "scatter",
         "x": [
          2782.5,
          2782.5,
          2821.875,
          2821.875
         ],
         "xaxis": "x",
         "y": [
          1.5816208600391297,
          3.1853857222022604,
          3.1853857222022604,
          1.7575210248124054
         ],
         "yaxis": "y"
        },
        {
         "hoverinfo": "text",
         "marker": {
          "color": "rgb(61,153,112)"
         },
         "mode": "lines",
         "type": "scatter",
         "x": [
          2865,
          2865,
          2875,
          2875
         ],
         "xaxis": "x",
         "y": [
          0,
          3.5640648443068135,
          3.5640648443068135,
          0
         ],
         "yaxis": "y"
        },
        {
         "hoverinfo": "text",
         "marker": {
          "color": "rgb(61,153,112)"
         },
         "mode": "lines",
         "type": "scatter",
         "x": [
          2802.1875,
          2802.1875,
          2870,
          2870
         ],
         "xaxis": "x",
         "y": [
          3.1853857222022604,
          5.024248185255959,
          5.024248185255959,
          3.5640648443068135
         ],
         "yaxis": "y"
        },
        {
         "hoverinfo": "text",
         "marker": {
          "color": "rgb(61,153,112)"
         },
         "mode": "lines",
         "type": "scatter",
         "x": [
          2741.25,
          2741.25,
          2836.09375,
          2836.09375
         ],
         "xaxis": "x",
         "y": [
          4.804004680779418,
          8.303130261102691,
          8.303130261102691,
          5.024248185255959
         ],
         "yaxis": "y"
        },
        {
         "hoverinfo": "text",
         "marker": {
          "color": "rgb(61,153,112)"
         },
         "mode": "lines",
         "type": "scatter",
         "x": [
          704.3844604492188,
          704.3844604492188,
          2788.671875,
          2788.671875
         ],
         "xaxis": "x",
         "y": [
          6.9392951293785545,
          10.47294440501479,
          10.47294440501479,
          8.303130261102691
         ],
         "yaxis": "y"
        },
        {
         "hoverinfo": "text",
         "marker": {
          "color": "rgb(255,65,54)"
         },
         "mode": "lines",
         "type": "scatter",
         "x": [
          2885,
          2885,
          2895,
          2895
         ],
         "xaxis": "x",
         "y": [
          0,
          3.649685224335885,
          3.649685224335885,
          0
         ],
         "yaxis": "y"
        },
        {
         "hoverinfo": "text",
         "marker": {
          "color": "rgb(255,65,54)"
         },
         "mode": "lines",
         "type": "scatter",
         "x": [
          2905,
          2905,
          2915,
          2915
         ],
         "xaxis": "x",
         "y": [
          0,
          0,
          0,
          0
         ],
         "yaxis": "y"
        },
        {
         "hoverinfo": "text",
         "marker": {
          "color": "rgb(255,65,54)"
         },
         "mode": "lines",
         "type": "scatter",
         "x": [
          2925,
          2925,
          2935,
          2935
         ],
         "xaxis": "x",
         "y": [
          0,
          0.560106043193538,
          0.560106043193538,
          0
         ],
         "yaxis": "y"
        },
        {
         "hoverinfo": "text",
         "marker": {
          "color": "rgb(255,65,54)"
         },
         "mode": "lines",
         "type": "scatter",
         "x": [
          2945,
          2945,
          2955,
          2955
         ],
         "xaxis": "x",
         "y": [
          0,
          0.7204307270132125,
          0.7204307270132125,
          0
         ],
         "yaxis": "y"
        },
        {
         "hoverinfo": "text",
         "marker": {
          "color": "rgb(255,65,54)"
         },
         "mode": "lines",
         "type": "scatter",
         "x": [
          2930,
          2930,
          2950,
          2950
         ],
         "xaxis": "x",
         "y": [
          0.560106043193538,
          1.1400193765875126,
          1.1400193765875126,
          0.7204307270132125
         ],
         "yaxis": "y"
        },
        {
         "hoverinfo": "text",
         "marker": {
          "color": "rgb(255,65,54)"
         },
         "mode": "lines",
         "type": "scatter",
         "x": [
          2910,
          2910,
          2940,
          2940
         ],
         "xaxis": "x",
         "y": [
          0,
          1.909180715569676,
          1.909180715569676,
          1.1400193765875126
         ],
         "yaxis": "y"
        },
        {
         "hoverinfo": "text",
         "marker": {
          "color": "rgb(255,65,54)"
         },
         "mode": "lines",
         "type": "scatter",
         "x": [
          2965,
          2965,
          2975,
          2975
         ],
         "xaxis": "x",
         "y": [
          0,
          0.4095800622535579,
          0.4095800622535579,
          0
         ],
         "yaxis": "y"
        },
        {
         "hoverinfo": "text",
         "marker": {
          "color": "rgb(255,65,54)"
         },
         "mode": "lines",
         "type": "scatter",
         "x": [
          2985,
          2985,
          2995,
          2995
         ],
         "xaxis": "x",
         "y": [
          0,
          0.6408408994580621,
          0.6408408994580621,
          0
         ],
         "yaxis": "y"
        },
        {
         "hoverinfo": "text",
         "marker": {
          "color": "rgb(255,65,54)"
         },
         "mode": "lines",
         "type": "scatter",
         "x": [
          2970,
          2970,
          2990,
          2990
         ],
         "xaxis": "x",
         "y": [
          0.4095800622535579,
          0.9357552294019035,
          0.9357552294019035,
          0.6408408994580621
         ],
         "yaxis": "y"
        },
        {
         "hoverinfo": "text",
         "marker": {
          "color": "rgb(255,65,54)"
         },
         "mode": "lines",
         "type": "scatter",
         "x": [
          3005,
          3005,
          3015,
          3015
         ],
         "xaxis": "x",
         "y": [
          0,
          0,
          0,
          0
         ],
         "yaxis": "y"
        },
        {
         "hoverinfo": "text",
         "marker": {
          "color": "rgb(255,65,54)"
         },
         "mode": "lines",
         "type": "scatter",
         "x": [
          3035,
          3035,
          3045,
          3045
         ],
         "xaxis": "x",
         "y": [
          0,
          0.5371142252741415,
          0.5371142252741415,
          0
         ],
         "yaxis": "y"
        },
        {
         "hoverinfo": "text",
         "marker": {
          "color": "rgb(255,65,54)"
         },
         "mode": "lines",
         "type": "scatter",
         "x": [
          3025,
          3025,
          3040,
          3040
         ],
         "xaxis": "x",
         "y": [
          0,
          0.7897568775676888,
          0.7897568775676888,
          0.5371142252741415
         ],
         "yaxis": "y"
        },
        {
         "hoverinfo": "text",
         "marker": {
          "color": "rgb(255,65,54)"
         },
         "mode": "lines",
         "type": "scatter",
         "x": [
          3010,
          3010,
          3032.5,
          3032.5
         ],
         "xaxis": "x",
         "y": [
          0,
          0.8772105975056126,
          0.8772105975056126,
          0.7897568775676888
         ],
         "yaxis": "y"
        },
        {
         "hoverinfo": "text",
         "marker": {
          "color": "rgb(255,65,54)"
         },
         "mode": "lines",
         "type": "scatter",
         "x": [
          3055,
          3055,
          3065,
          3065
         ],
         "xaxis": "x",
         "y": [
          0,
          0.4488437359872793,
          0.4488437359872793,
          0
         ],
         "yaxis": "y"
        },
        {
         "hoverinfo": "text",
         "marker": {
          "color": "rgb(255,65,54)"
         },
         "mode": "lines",
         "type": "scatter",
         "x": [
          3105,
          3105,
          3115,
          3115
         ],
         "xaxis": "x",
         "y": [
          0,
          0.06727379876564799,
          0.06727379876564799,
          0
         ],
         "yaxis": "y"
        },
        {
         "hoverinfo": "text",
         "marker": {
          "color": "rgb(255,65,54)"
         },
         "mode": "lines",
         "type": "scatter",
         "x": [
          3095,
          3095,
          3110,
          3110
         ],
         "xaxis": "x",
         "y": [
          0,
          0.1833540789887269,
          0.1833540789887269,
          0.06727379876564799
         ],
         "yaxis": "y"
        },
        {
         "hoverinfo": "text",
         "marker": {
          "color": "rgb(255,65,54)"
         },
         "mode": "lines",
         "type": "scatter",
         "x": [
          3145,
          3145,
          3155,
          3155
         ],
         "xaxis": "x",
         "y": [
          0,
          0.014510035027884838,
          0.014510035027884838,
          0
         ],
         "yaxis": "y"
        },
        {
         "hoverinfo": "text",
         "marker": {
          "color": "rgb(255,65,54)"
         },
         "mode": "lines",
         "type": "scatter",
         "x": [
          3135,
          3135,
          3150,
          3150
         ],
         "xaxis": "x",
         "y": [
          0,
          0.04748738736398672,
          0.04748738736398672,
          0.014510035027884838
         ],
         "yaxis": "y"
        },
        {
         "hoverinfo": "text",
         "marker": {
          "color": "rgb(255,65,54)"
         },
         "mode": "lines",
         "type": "scatter",
         "x": [
          3125,
          3125,
          3142.5,
          3142.5
         ],
         "xaxis": "x",
         "y": [
          0,
          0.3000728334092377,
          0.3000728334092377,
          0.04748738736398672
         ],
         "yaxis": "y"
        },
        {
         "hoverinfo": "text",
         "marker": {
          "color": "rgb(255,65,54)"
         },
         "mode": "lines",
         "type": "scatter",
         "x": [
          3102.5,
          3102.5,
          3133.75,
          3133.75
         ],
         "xaxis": "x",
         "y": [
          0.1833540789887269,
          0.43838602814103045,
          0.43838602814103045,
          0.3000728334092377
         ],
         "yaxis": "y"
        },
        {
         "hoverinfo": "text",
         "marker": {
          "color": "rgb(255,65,54)"
         },
         "mode": "lines",
         "type": "scatter",
         "x": [
          3085,
          3085,
          3118.125,
          3118.125
         ],
         "xaxis": "x",
         "y": [
          0,
          0.6742163546797136,
          0.6742163546797136,
          0.43838602814103045
         ],
         "yaxis": "y"
        },
        {
         "hoverinfo": "text",
         "marker": {
          "color": "rgb(255,65,54)"
         },
         "mode": "lines",
         "type": "scatter",
         "x": [
          3075,
          3075,
          3101.5625,
          3101.5625
         ],
         "xaxis": "x",
         "y": [
          0,
          0.8302032314940944,
          0.8302032314940944,
          0.6742163546797136
         ],
         "yaxis": "y"
        },
        {
         "hoverinfo": "text",
         "marker": {
          "color": "rgb(255,65,54)"
         },
         "mode": "lines",
         "type": "scatter",
         "x": [
          3060,
          3060,
          3088.28125,
          3088.28125
         ],
         "xaxis": "x",
         "y": [
          0.4488437359872793,
          1.0708278509725488,
          1.0708278509725488,
          0.8302032314940944
         ],
         "yaxis": "y"
        },
        {
         "hoverinfo": "text",
         "marker": {
          "color": "rgb(255,65,54)"
         },
         "mode": "lines",
         "type": "scatter",
         "x": [
          3021.25,
          3021.25,
          3074.140625,
          3074.140625
         ],
         "xaxis": "x",
         "y": [
          0.8772105975056126,
          1.3620429627451858,
          1.3620429627451858,
          1.0708278509725488
         ],
         "yaxis": "y"
        },
        {
         "hoverinfo": "text",
         "marker": {
          "color": "rgb(255,65,54)"
         },
         "mode": "lines",
         "type": "scatter",
         "x": [
          2980,
          2980,
          3047.6953125,
          3047.6953125
         ],
         "xaxis": "x",
         "y": [
          0.9357552294019035,
          1.6348972778795412,
          1.6348972778795412,
          1.3620429627451858
         ],
         "yaxis": "y"
        },
        {
         "hoverinfo": "text",
         "marker": {
          "color": "rgb(255,65,54)"
         },
         "mode": "lines",
         "type": "scatter",
         "x": [
          3165,
          3165,
          3175,
          3175
         ],
         "xaxis": "x",
         "y": [
          0,
          0.8048494513746222,
          0.8048494513746222,
          0
         ],
         "yaxis": "y"
        },
        {
         "hoverinfo": "text",
         "marker": {
          "color": "rgb(255,65,54)"
         },
         "mode": "lines",
         "type": "scatter",
         "x": [
          3205,
          3205,
          3215,
          3215
         ],
         "xaxis": "x",
         "y": [
          0,
          0.34957414968308703,
          0.34957414968308703,
          0
         ],
         "yaxis": "y"
        },
        {
         "hoverinfo": "text",
         "marker": {
          "color": "rgb(255,65,54)"
         },
         "mode": "lines",
         "type": "scatter",
         "x": [
          3195,
          3195,
          3210,
          3210
         ],
         "xaxis": "x",
         "y": [
          0,
          0.6366680295571542,
          0.6366680295571542,
          0.34957414968308703
         ],
         "yaxis": "y"
        },
        {
         "hoverinfo": "text",
         "marker": {
          "color": "rgb(255,65,54)"
         },
         "mode": "lines",
         "type": "scatter",
         "x": [
          3185,
          3185,
          3202.5,
          3202.5
         ],
         "xaxis": "x",
         "y": [
          0,
          0.9066633748773956,
          0.9066633748773956,
          0.6366680295571542
         ],
         "yaxis": "y"
        },
        {
         "hoverinfo": "text",
         "marker": {
          "color": "rgb(255,65,54)"
         },
         "mode": "lines",
         "type": "scatter",
         "x": [
          3170,
          3170,
          3193.75,
          3193.75
         ],
         "xaxis": "x",
         "y": [
          0.8048494513746222,
          1.3034018322936196,
          1.3034018322936196,
          0.9066633748773956
         ],
         "yaxis": "y"
        },
        {
         "hoverinfo": "text",
         "marker": {
          "color": "rgb(255,65,54)"
         },
         "mode": "lines",
         "type": "scatter",
         "x": [
          3225,
          3225,
          3235,
          3235
         ],
         "xaxis": "x",
         "y": [
          0,
          0.7486989722718169,
          0.7486989722718169,
          0
         ],
         "yaxis": "y"
        },
        {
         "hoverinfo": "text",
         "marker": {
          "color": "rgb(255,65,54)"
         },
         "mode": "lines",
         "type": "scatter",
         "x": [
          3245,
          3245,
          3255,
          3255
         ],
         "xaxis": "x",
         "y": [
          0,
          0.1572009402453289,
          0.1572009402453289,
          0
         ],
         "yaxis": "y"
        },
        {
         "hoverinfo": "text",
         "marker": {
          "color": "rgb(255,65,54)"
         },
         "mode": "lines",
         "type": "scatter",
         "x": [
          3275,
          3275,
          3285,
          3285
         ],
         "xaxis": "x",
         "y": [
          0,
          0.26187730742719506,
          0.26187730742719506,
          0
         ],
         "yaxis": "y"
        },
        {
         "hoverinfo": "text",
         "marker": {
          "color": "rgb(255,65,54)"
         },
         "mode": "lines",
         "type": "scatter",
         "x": [
          3265,
          3265,
          3280,
          3280
         ],
         "xaxis": "x",
         "y": [
          0,
          0.6266801258891913,
          0.6266801258891913,
          0.26187730742719506
         ],
         "yaxis": "y"
        },
        {
         "hoverinfo": "text",
         "marker": {
          "color": "rgb(255,65,54)"
         },
         "mode": "lines",
         "type": "scatter",
         "x": [
          3250,
          3250,
          3272.5,
          3272.5
         ],
         "xaxis": "x",
         "y": [
          0.1572009402453289,
          0.8185164669340278,
          0.8185164669340278,
          0.6266801258891913
         ],
         "yaxis": "y"
        },
        {
         "hoverinfo": "text",
         "marker": {
          "color": "rgb(255,65,54)"
         },
         "mode": "lines",
         "type": "scatter",
         "x": [
          3295,
          3295,
          3305,
          3305
         ],
         "xaxis": "x",
         "y": [
          0,
          0.5863043646137156,
          0.5863043646137156,
          0
         ],
         "yaxis": "y"
        },
        {
         "hoverinfo": "text",
         "marker": {
          "color": "rgb(255,65,54)"
         },
         "mode": "lines",
         "type": "scatter",
         "x": [
          3325,
          3325,
          3335,
          3335
         ],
         "xaxis": "x",
         "y": [
          0,
          0.005276376373776315,
          0.005276376373776315,
          0
         ],
         "yaxis": "y"
        },
        {
         "hoverinfo": "text",
         "marker": {
          "color": "rgb(255,65,54)"
         },
         "mode": "lines",
         "type": "scatter",
         "x": [
          3315,
          3315,
          3330,
          3330
         ],
         "xaxis": "x",
         "y": [
          0,
          0.7065938784964287,
          0.7065938784964287,
          0.005276376373776315
         ],
         "yaxis": "y"
        },
        {
         "hoverinfo": "text",
         "marker": {
          "color": "rgb(255,65,54)"
         },
         "mode": "lines",
         "type": "scatter",
         "x": [
          3300,
          3300,
          3322.5,
          3322.5
         ],
         "xaxis": "x",
         "y": [
          0.5863043646137156,
          0.9494721047944662,
          0.9494721047944662,
          0.7065938784964287
         ],
         "yaxis": "y"
        },
        {
         "hoverinfo": "text",
         "marker": {
          "color": "rgb(255,65,54)"
         },
         "mode": "lines",
         "type": "scatter",
         "x": [
          3261.25,
          3261.25,
          3311.25,
          3311.25
         ],
         "xaxis": "x",
         "y": [
          0.8185164669340278,
          1.2029270322239347,
          1.2029270322239347,
          0.9494721047944662
         ],
         "yaxis": "y"
        },
        {
         "hoverinfo": "text",
         "marker": {
          "color": "rgb(255,65,54)"
         },
         "mode": "lines",
         "type": "scatter",
         "x": [
          3230,
          3230,
          3286.25,
          3286.25
         ],
         "xaxis": "x",
         "y": [
          0.7486989722718169,
          1.4421958224322924,
          1.4421958224322924,
          1.2029270322239347
         ],
         "yaxis": "y"
        },
        {
         "hoverinfo": "text",
         "marker": {
          "color": "rgb(255,65,54)"
         },
         "mode": "lines",
         "type": "scatter",
         "x": [
          3181.875,
          3181.875,
          3258.125,
          3258.125
         ],
         "xaxis": "x",
         "y": [
          1.3034018322936196,
          1.8732223153557885,
          1.8732223153557885,
          1.4421958224322924
         ],
         "yaxis": "y"
        },
        {
         "hoverinfo": "text",
         "marker": {
          "color": "rgb(255,65,54)"
         },
         "mode": "lines",
         "type": "scatter",
         "x": [
          3013.84765625,
          3013.84765625,
          3220,
          3220
         ],
         "xaxis": "x",
         "y": [
          1.6348972778795412,
          2.584045140623537,
          2.584045140623537,
          1.8732223153557885
         ],
         "yaxis": "y"
        },
        {
         "hoverinfo": "text",
         "marker": {
          "color": "rgb(255,65,54)"
         },
         "mode": "lines",
         "type": "scatter",
         "x": [
          2925,
          2925,
          3116.923828125,
          3116.923828125
         ],
         "xaxis": "x",
         "y": [
          1.909180715569676,
          3.139626881833342,
          3.139626881833342,
          2.584045140623537
         ],
         "yaxis": "y"
        },
        {
         "hoverinfo": "text",
         "marker": {
          "color": "rgb(255,65,54)"
         },
         "mode": "lines",
         "type": "scatter",
         "x": [
          3345,
          3345,
          3355,
          3355
         ],
         "xaxis": "x",
         "y": [
          0,
          0.5982672244578033,
          0.5982672244578033,
          0
         ],
         "yaxis": "y"
        },
        {
         "hoverinfo": "text",
         "marker": {
          "color": "rgb(255,65,54)"
         },
         "mode": "lines",
         "type": "scatter",
         "x": [
          3395,
          3395,
          3405,
          3405
         ],
         "xaxis": "x",
         "y": [
          0,
          0.1457185600585421,
          0.1457185600585421,
          0
         ],
         "yaxis": "y"
        },
        {
         "hoverinfo": "text",
         "marker": {
          "color": "rgb(255,65,54)"
         },
         "mode": "lines",
         "type": "scatter",
         "x": [
          3385,
          3385,
          3400,
          3400
         ],
         "xaxis": "x",
         "y": [
          0,
          0.4829930207155105,
          0.4829930207155105,
          0.1457185600585421
         ],
         "yaxis": "y"
        },
        {
         "hoverinfo": "text",
         "marker": {
          "color": "rgb(255,65,54)"
         },
         "mode": "lines",
         "type": "scatter",
         "x": [
          3375,
          3375,
          3392.5,
          3392.5
         ],
         "xaxis": "x",
         "y": [
          0,
          0.594494715199224,
          0.594494715199224,
          0.4829930207155105
         ],
         "yaxis": "y"
        },
        {
         "hoverinfo": "text",
         "marker": {
          "color": "rgb(255,65,54)"
         },
         "mode": "lines",
         "type": "scatter",
         "x": [
          3365,
          3365,
          3383.75,
          3383.75
         ],
         "xaxis": "x",
         "y": [
          0,
          0.6908277521802832,
          0.6908277521802832,
          0.594494715199224
         ],
         "yaxis": "y"
        },
        {
         "hoverinfo": "text",
         "marker": {
          "color": "rgb(255,65,54)"
         },
         "mode": "lines",
         "type": "scatter",
         "x": [
          3415,
          3415,
          3425,
          3425
         ],
         "xaxis": "x",
         "y": [
          0,
          0.338564657618638,
          0.338564657618638,
          0
         ],
         "yaxis": "y"
        },
        {
         "hoverinfo": "text",
         "marker": {
          "color": "rgb(255,65,54)"
         },
         "mode": "lines",
         "type": "scatter",
         "x": [
          3445,
          3445,
          3455,
          3455
         ],
         "xaxis": "x",
         "y": [
          0,
          0,
          0,
          0
         ],
         "yaxis": "y"
        },
        {
         "hoverinfo": "text",
         "marker": {
          "color": "rgb(255,65,54)"
         },
         "mode": "lines",
         "type": "scatter",
         "x": [
          3435,
          3435,
          3450,
          3450
         ],
         "xaxis": "x",
         "y": [
          0,
          0.5759430568577422,
          0.5759430568577422,
          0
         ],
         "yaxis": "y"
        },
        {
         "hoverinfo": "text",
         "marker": {
          "color": "rgb(255,65,54)"
         },
         "mode": "lines",
         "type": "scatter",
         "x": [
          3420,
          3420,
          3442.5,
          3442.5
         ],
         "xaxis": "x",
         "y": [
          0.338564657618638,
          0.8016361059705714,
          0.8016361059705714,
          0.5759430568577422
         ],
         "yaxis": "y"
        },
        {
         "hoverinfo": "text",
         "marker": {
          "color": "rgb(255,65,54)"
         },
         "mode": "lines",
         "type": "scatter",
         "x": [
          3374.375,
          3374.375,
          3431.25,
          3431.25
         ],
         "xaxis": "x",
         "y": [
          0.6908277521802832,
          1.100260530691341,
          1.100260530691341,
          0.8016361059705714
         ],
         "yaxis": "y"
        },
        {
         "hoverinfo": "text",
         "marker": {
          "color": "rgb(255,65,54)"
         },
         "mode": "lines",
         "type": "scatter",
         "x": [
          3475,
          3475,
          3485,
          3485
         ],
         "xaxis": "x",
         "y": [
          0,
          0.41810645159958154,
          0.41810645159958154,
          0
         ],
         "yaxis": "y"
        },
        {
         "hoverinfo": "text",
         "marker": {
          "color": "rgb(255,65,54)"
         },
         "mode": "lines",
         "type": "scatter",
         "x": [
          3465,
          3465,
          3480,
          3480
         ],
         "xaxis": "x",
         "y": [
          0,
          0.6000690999000425,
          0.6000690999000425,
          0.41810645159958154
         ],
         "yaxis": "y"
        },
        {
         "hoverinfo": "text",
         "marker": {
          "color": "rgb(255,65,54)"
         },
         "mode": "lines",
         "type": "scatter",
         "x": [
          3495,
          3495,
          3505,
          3505
         ],
         "xaxis": "x",
         "y": [
          0,
          0.40086319513970575,
          0.40086319513970575,
          0
         ],
         "yaxis": "y"
        },
        {
         "hoverinfo": "text",
         "marker": {
          "color": "rgb(255,65,54)"
         },
         "mode": "lines",
         "type": "scatter",
         "x": [
          3515,
          3515,
          3525,
          3525
         ],
         "xaxis": "x",
         "y": [
          0,
          0.625400089037772,
          0.625400089037772,
          0
         ],
         "yaxis": "y"
        },
        {
         "hoverinfo": "text",
         "marker": {
          "color": "rgb(255,65,54)"
         },
         "mode": "lines",
         "type": "scatter",
         "x": [
          3535,
          3535,
          3545,
          3545
         ],
         "xaxis": "x",
         "y": [
          0,
          0.7480998475651058,
          0.7480998475651058,
          0
         ],
         "yaxis": "y"
        },
        {
         "hoverinfo": "text",
         "marker": {
          "color": "rgb(255,65,54)"
         },
         "mode": "lines",
         "type": "scatter",
         "x": [
          3520,
          3520,
          3540,
          3540
         ],
         "xaxis": "x",
         "y": [
          0.625400089037772,
          0.9680390262675431,
          0.9680390262675431,
          0.7480998475651058
         ],
         "yaxis": "y"
        },
        {
         "hoverinfo": "text",
         "marker": {
          "color": "rgb(255,65,54)"
         },
         "mode": "lines",
         "type": "scatter",
         "x": [
          3500,
          3500,
          3530,
          3530
         ],
         "xaxis": "x",
         "y": [
          0.40086319513970575,
          1.111406169419011,
          1.111406169419011,
          0.9680390262675431
         ],
         "yaxis": "y"
        },
        {
         "hoverinfo": "text",
         "marker": {
          "color": "rgb(255,65,54)"
         },
         "mode": "lines",
         "type": "scatter",
         "x": [
          3472.5,
          3472.5,
          3515,
          3515
         ],
         "xaxis": "x",
         "y": [
          0.6000690999000425,
          1.3227625283552182,
          1.3227625283552182,
          1.111406169419011
         ],
         "yaxis": "y"
        },
        {
         "hoverinfo": "text",
         "marker": {
          "color": "rgb(255,65,54)"
         },
         "mode": "lines",
         "type": "scatter",
         "x": [
          3402.8125,
          3402.8125,
          3493.75,
          3493.75
         ],
         "xaxis": "x",
         "y": [
          1.100260530691341,
          1.7261155869901093,
          1.7261155869901093,
          1.3227625283552182
         ],
         "yaxis": "y"
        },
        {
         "hoverinfo": "text",
         "marker": {
          "color": "rgb(255,65,54)"
         },
         "mode": "lines",
         "type": "scatter",
         "x": [
          3555,
          3555,
          3565,
          3565
         ],
         "xaxis": "x",
         "y": [
          0,
          0.0699119869525362,
          0.0699119869525362,
          0
         ],
         "yaxis": "y"
        },
        {
         "hoverinfo": "text",
         "marker": {
          "color": "rgb(255,65,54)"
         },
         "mode": "lines",
         "type": "scatter",
         "x": [
          3575,
          3575,
          3585,
          3585
         ],
         "xaxis": "x",
         "y": [
          0,
          0.39990087683565967,
          0.39990087683565967,
          0
         ],
         "yaxis": "y"
        },
        {
         "hoverinfo": "text",
         "marker": {
          "color": "rgb(255,65,54)"
         },
         "mode": "lines",
         "type": "scatter",
         "x": [
          3595,
          3595,
          3605,
          3605
         ],
         "xaxis": "x",
         "y": [
          0,
          0.21485954806987725,
          0.21485954806987725,
          0
         ],
         "yaxis": "y"
        },
        {
         "hoverinfo": "text",
         "marker": {
          "color": "rgb(255,65,54)"
         },
         "mode": "lines",
         "type": "scatter",
         "x": [
          3615,
          3615,
          3625,
          3625
         ],
         "xaxis": "x",
         "y": [
          0,
          0.30261699207897835,
          0.30261699207897835,
          0
         ],
         "yaxis": "y"
        },
        {
         "hoverinfo": "text",
         "marker": {
          "color": "rgb(255,65,54)"
         },
         "mode": "lines",
         "type": "scatter",
         "x": [
          3600,
          3600,
          3620,
          3620
         ],
         "xaxis": "x",
         "y": [
          0.21485954806987725,
          0.47651572983520263,
          0.47651572983520263,
          0.30261699207897835
         ],
         "yaxis": "y"
        },
        {
         "hoverinfo": "text",
         "marker": {
          "color": "rgb(255,65,54)"
         },
         "mode": "lines",
         "type": "scatter",
         "x": [
          3580,
          3580,
          3610,
          3610
         ],
         "xaxis": "x",
         "y": [
          0.39990087683565967,
          0.6208484125651433,
          0.6208484125651433,
          0.47651572983520263
         ],
         "yaxis": "y"
        },
        {
         "hoverinfo": "text",
         "marker": {
          "color": "rgb(255,65,54)"
         },
         "mode": "lines",
         "type": "scatter",
         "x": [
          3560,
          3560,
          3595,
          3595
         ],
         "xaxis": "x",
         "y": [
          0.0699119869525362,
          0.6772904967519339,
          0.6772904967519339,
          0.6208484125651433
         ],
         "yaxis": "y"
        },
        {
         "hoverinfo": "text",
         "marker": {
          "color": "rgb(255,65,54)"
         },
         "mode": "lines",
         "type": "scatter",
         "x": [
          3645,
          3645,
          3655,
          3655
         ],
         "xaxis": "x",
         "y": [
          0,
          0.15018110591992528,
          0.15018110591992528,
          0
         ],
         "yaxis": "y"
        },
        {
         "hoverinfo": "text",
         "marker": {
          "color": "rgb(255,65,54)"
         },
         "mode": "lines",
         "type": "scatter",
         "x": [
          3635,
          3635,
          3650,
          3650
         ],
         "xaxis": "x",
         "y": [
          0,
          0.9902855582303762,
          0.9902855582303762,
          0.15018110591992528
         ],
         "yaxis": "y"
        },
        {
         "hoverinfo": "text",
         "marker": {
          "color": "rgb(255,65,54)"
         },
         "mode": "lines",
         "type": "scatter",
         "x": [
          3705,
          3705,
          3715,
          3715
         ],
         "xaxis": "x",
         "y": [
          0,
          0.14510035027884866,
          0.14510035027884866,
          0
         ],
         "yaxis": "y"
        },
        {
         "hoverinfo": "text",
         "marker": {
          "color": "rgb(255,65,54)"
         },
         "mode": "lines",
         "type": "scatter",
         "x": [
          3695,
          3695,
          3710,
          3710
         ],
         "xaxis": "x",
         "y": [
          0,
          0.2834485161948222,
          0.2834485161948222,
          0.14510035027884866
         ],
         "yaxis": "y"
        },
        {
         "hoverinfo": "text",
         "marker": {
          "color": "rgb(255,65,54)"
         },
         "mode": "lines",
         "type": "scatter",
         "x": [
          3685,
          3685,
          3702.5,
          3702.5
         ],
         "xaxis": "x",
         "y": [
          0,
          0.37904342198922336,
          0.37904342198922336,
          0.2834485161948222
         ],
         "yaxis": "y"
        },
        {
         "hoverinfo": "text",
         "marker": {
          "color": "rgb(255,65,54)"
         },
         "mode": "lines",
         "type": "scatter",
         "x": [
          3675,
          3675,
          3693.75,
          3693.75
         ],
         "xaxis": "x",
         "y": [
          0,
          0.6807603653597664,
          0.6807603653597664,
          0.37904342198922336
         ],
         "yaxis": "y"
        },
        {
         "hoverinfo": "text",
         "marker": {
          "color": "rgb(255,65,54)"
         },
         "mode": "lines",
         "type": "scatter",
         "x": [
          3735,
          3735,
          3745,
          3745
         ],
         "xaxis": "x",
         "y": [
          0,
          0.009233658654108523,
          0.009233658654108523,
          0
         ],
         "yaxis": "y"
        },
        {
         "hoverinfo": "text",
         "marker": {
          "color": "rgb(255,65,54)"
         },
         "mode": "lines",
         "type": "scatter",
         "x": [
          3765,
          3765,
          3775,
          3775
         ],
         "xaxis": "x",
         "y": [
          0,
          0.33329273560918077,
          0.33329273560918077,
          0
         ],
         "yaxis": "y"
        },
        {
         "hoverinfo": "text",
         "marker": {
          "color": "rgb(255,65,54)"
         },
         "mode": "lines",
         "type": "scatter",
         "x": [
          3755,
          3755,
          3770,
          3770
         ],
         "xaxis": "x",
         "y": [
          0,
          0.40087824505875164,
          0.40087824505875164,
          0.33329273560918077
         ],
         "yaxis": "y"
        },
        {
         "hoverinfo": "text",
         "marker": {
          "color": "rgb(255,65,54)"
         },
         "mode": "lines",
         "type": "scatter",
         "x": [
          3740,
          3740,
          3762.5,
          3762.5
         ],
         "xaxis": "x",
         "y": [
          0.009233658654108523,
          0.5840207430746159,
          0.5840207430746159,
          0.40087824505875164
         ],
         "yaxis": "y"
        },
        {
         "hoverinfo": "text",
         "marker": {
          "color": "rgb(255,65,54)"
         },
         "mode": "lines",
         "type": "scatter",
         "x": [
          3725,
          3725,
          3751.25,
          3751.25
         ],
         "xaxis": "x",
         "y": [
          0,
          0.703467771493247,
          0.703467771493247,
          0.5840207430746159
         ],
         "yaxis": "y"
        },
        {
         "hoverinfo": "text",
         "marker": {
          "color": "rgb(255,65,54)"
         },
         "mode": "lines",
         "type": "scatter",
         "x": [
          3684.375,
          3684.375,
          3738.125,
          3738.125
         ],
         "xaxis": "x",
         "y": [
          0.6807603653597664,
          1.0594614725583837,
          1.0594614725583837,
          0.703467771493247
         ],
         "yaxis": "y"
        },
        {
         "hoverinfo": "text",
         "marker": {
          "color": "rgb(255,65,54)"
         },
         "mode": "lines",
         "type": "scatter",
         "x": [
          3665,
          3665,
          3711.25,
          3711.25
         ],
         "xaxis": "x",
         "y": [
          0,
          1.214713714894928,
          1.214713714894928,
          1.0594614725583837
         ],
         "yaxis": "y"
        },
        {
         "hoverinfo": "text",
         "marker": {
          "color": "rgb(255,65,54)"
         },
         "mode": "lines",
         "type": "scatter",
         "x": [
          3642.5,
          3642.5,
          3688.125,
          3688.125
         ],
         "xaxis": "x",
         "y": [
          0.9902855582303762,
          1.5287667363887913,
          1.5287667363887913,
          1.214713714894928
         ],
         "yaxis": "y"
        },
        {
         "hoverinfo": "text",
         "marker": {
          "color": "rgb(255,65,54)"
         },
         "mode": "lines",
         "type": "scatter",
         "x": [
          3577.5,
          3577.5,
          3665.3125,
          3665.3125
         ],
         "xaxis": "x",
         "y": [
          0.6772904967519339,
          1.8317621268753326,
          1.8317621268753326,
          1.5287667363887913
         ],
         "yaxis": "y"
        },
        {
         "hoverinfo": "text",
         "marker": {
          "color": "rgb(255,65,54)"
         },
         "mode": "lines",
         "type": "scatter",
         "x": [
          3448.28125,
          3448.28125,
          3621.40625,
          3621.40625
         ],
         "xaxis": "x",
         "y": [
          1.7261155869901093,
          2.3840520822286266,
          2.3840520822286266,
          1.8317621268753326
         ],
         "yaxis": "y"
        },
        {
         "hoverinfo": "text",
         "marker": {
          "color": "rgb(255,65,54)"
         },
         "mode": "lines",
         "type": "scatter",
         "x": [
          3350,
          3350,
          3534.84375,
          3534.84375
         ],
         "xaxis": "x",
         "y": [
          0.5982672244578033,
          3.8400778318208215,
          3.8400778318208215,
          2.3840520822286266
         ],
         "yaxis": "y"
        },
        {
         "hoverinfo": "text",
         "marker": {
          "color": "rgb(255,65,54)"
         },
         "mode": "lines",
         "type": "scatter",
         "x": [
          3020.9619140625,
          3020.9619140625,
          3442.421875,
          3442.421875
         ],
         "xaxis": "x",
         "y": [
          3.139626881833342,
          4.08056547720667,
          4.08056547720667,
          3.8400778318208215
         ],
         "yaxis": "y"
        },
        {
         "hoverinfo": "text",
         "marker": {
          "color": "rgb(255,65,54)"
         },
         "mode": "lines",
         "type": "scatter",
         "x": [
          3795,
          3795,
          3805,
          3805
         ],
         "xaxis": "x",
         "y": [
          0,
          1.0356883050248935,
          1.0356883050248935,
          0
         ],
         "yaxis": "y"
        },
        {
         "hoverinfo": "text",
         "marker": {
          "color": "rgb(255,65,54)"
         },
         "mode": "lines",
         "type": "scatter",
         "x": [
          3785,
          3785,
          3800,
          3800
         ],
         "xaxis": "x",
         "y": [
          0,
          2.328518771789339,
          2.328518771789339,
          1.0356883050248935
         ],
         "yaxis": "y"
        },
        {
         "hoverinfo": "text",
         "marker": {
          "color": "rgb(255,65,54)"
         },
         "mode": "lines",
         "type": "scatter",
         "x": [
          3825,
          3825,
          3835,
          3835
         ],
         "xaxis": "x",
         "y": [
          0,
          0,
          0,
          0
         ],
         "yaxis": "y"
        },
        {
         "hoverinfo": "text",
         "marker": {
          "color": "rgb(255,65,54)"
         },
         "mode": "lines",
         "type": "scatter",
         "x": [
          3815,
          3815,
          3830,
          3830
         ],
         "xaxis": "x",
         "y": [
          0,
          0.029020070055769676,
          0.029020070055769676,
          0
         ],
         "yaxis": "y"
        },
        {
         "hoverinfo": "text",
         "marker": {
          "color": "rgb(255,65,54)"
         },
         "mode": "lines",
         "type": "scatter",
         "x": [
          3855,
          3855,
          3865,
          3865
         ],
         "xaxis": "x",
         "y": [
          0,
          0.10684662156897029,
          0.10684662156897029,
          0
         ],
         "yaxis": "y"
        },
        {
         "hoverinfo": "text",
         "marker": {
          "color": "rgb(255,65,54)"
         },
         "mode": "lines",
         "type": "scatter",
         "x": [
          3845,
          3845,
          3860,
          3860
         ],
         "xaxis": "x",
         "y": [
          0,
          0.32874924350623247,
          0.32874924350623247,
          0.10684662156897029
         ],
         "yaxis": "y"
        },
        {
         "hoverinfo": "text",
         "marker": {
          "color": "rgb(255,65,54)"
         },
         "mode": "lines",
         "type": "scatter",
         "x": [
          3822.5,
          3822.5,
          3852.5,
          3852.5
         ],
         "xaxis": "x",
         "y": [
          0.029020070055769676,
          0.5990926360520973,
          0.5990926360520973,
          0.32874924350623247
         ],
         "yaxis": "y"
        },
        {
         "hoverinfo": "text",
         "marker": {
          "color": "rgb(255,65,54)"
         },
         "mode": "lines",
         "type": "scatter",
         "x": [
          3885,
          3885,
          3895,
          3895
         ],
         "xaxis": "x",
         "y": [
          0,
          0,
          0,
          0
         ],
         "yaxis": "y"
        },
        {
         "hoverinfo": "text",
         "marker": {
          "color": "rgb(255,65,54)"
         },
         "mode": "lines",
         "type": "scatter",
         "x": [
          3875,
          3875,
          3890,
          3890
         ],
         "xaxis": "x",
         "y": [
          0,
          0.07782655151320061,
          0.07782655151320061,
          0
         ],
         "yaxis": "y"
        },
        {
         "hoverinfo": "text",
         "marker": {
          "color": "rgb(255,65,54)"
         },
         "mode": "lines",
         "type": "scatter",
         "x": [
          3915,
          3915,
          3925,
          3925
         ],
         "xaxis": "x",
         "y": [
          0,
          0,
          0,
          0
         ],
         "yaxis": "y"
        },
        {
         "hoverinfo": "text",
         "marker": {
          "color": "rgb(255,65,54)"
         },
         "mode": "lines",
         "type": "scatter",
         "x": [
          3905,
          3905,
          3920,
          3920
         ],
         "xaxis": "x",
         "y": [
          0,
          0,
          0,
          0
         ],
         "yaxis": "y"
        },
        {
         "hoverinfo": "text",
         "marker": {
          "color": "rgb(255,65,54)"
         },
         "mode": "lines",
         "type": "scatter",
         "x": [
          3935,
          3935,
          3945,
          3945
         ],
         "xaxis": "x",
         "y": [
          0,
          0,
          0,
          0
         ],
         "yaxis": "y"
        },
        {
         "hoverinfo": "text",
         "marker": {
          "color": "rgb(255,65,54)"
         },
         "mode": "lines",
         "type": "scatter",
         "x": [
          3912.5,
          3912.5,
          3940,
          3940
         ],
         "xaxis": "x",
         "y": [
          0,
          0.07782655151320084,
          0.07782655151320084,
          0
         ],
         "yaxis": "y"
        },
        {
         "hoverinfo": "text",
         "marker": {
          "color": "rgb(255,65,54)"
         },
         "mode": "lines",
         "type": "scatter",
         "x": [
          3882.5,
          3882.5,
          3926.25,
          3926.25
         ],
         "xaxis": "x",
         "y": [
          0.07782655151320061,
          0.4322488848253125,
          0.4322488848253125,
          0.07782655151320084
         ],
         "yaxis": "y"
        },
        {
         "hoverinfo": "text",
         "marker": {
          "color": "rgb(255,65,54)"
         },
         "mode": "lines",
         "type": "scatter",
         "x": [
          3955,
          3955,
          3965,
          3965
         ],
         "xaxis": "x",
         "y": [
          0,
          0,
          0,
          0
         ],
         "yaxis": "y"
        },
        {
         "hoverinfo": "text",
         "marker": {
          "color": "rgb(255,65,54)"
         },
         "mode": "lines",
         "type": "scatter",
         "x": [
          4005,
          4005,
          4015,
          4015
         ],
         "xaxis": "x",
         "y": [
          0,
          0,
          0,
          0
         ],
         "yaxis": "y"
        },
        {
         "hoverinfo": "text",
         "marker": {
          "color": "rgb(255,65,54)"
         },
         "mode": "lines",
         "type": "scatter",
         "x": [
          3995,
          3995,
          4010,
          4010
         ],
         "xaxis": "x",
         "y": [
          0,
          0.08310292788697704,
          0.08310292788697704,
          0
         ],
         "yaxis": "y"
        },
        {
         "hoverinfo": "text",
         "marker": {
          "color": "rgb(255,65,54)"
         },
         "mode": "lines",
         "type": "scatter",
         "x": [
          3985,
          3985,
          4002.5,
          4002.5
         ],
         "xaxis": "x",
         "y": [
          0,
          0.201014435926166,
          0.201014435926166,
          0.08310292788697704
         ],
         "yaxis": "y"
        },
        {
         "hoverinfo": "text",
         "marker": {
          "color": "rgb(255,65,54)"
         },
         "mode": "lines",
         "type": "scatter",
         "x": [
          3975,
          3975,
          3993.75,
          3993.75
         ],
         "xaxis": "x",
         "y": [
          0,
          0.3285018489709994,
          0.3285018489709994,
          0.201014435926166
         ],
         "yaxis": "y"
        },
        {
         "hoverinfo": "text",
         "marker": {
          "color": "rgb(255,65,54)"
         },
         "mode": "lines",
         "type": "scatter",
         "x": [
          3960,
          3960,
          3984.375,
          3984.375
         ],
         "xaxis": "x",
         "y": [
          0,
          0.5782870586411831,
          0.5782870586411831,
          0.3285018489709994
         ],
         "yaxis": "y"
        },
        {
         "hoverinfo": "text",
         "marker": {
          "color": "rgb(255,65,54)"
         },
         "mode": "lines",
         "type": "scatter",
         "x": [
          3904.375,
          3904.375,
          3972.1875,
          3972.1875
         ],
         "xaxis": "x",
         "y": [
          0.4322488848253125,
          0.8289959985615999,
          0.8289959985615999,
          0.5782870586411831
         ],
         "yaxis": "y"
        },
        {
         "hoverinfo": "text",
         "marker": {
          "color": "rgb(255,65,54)"
         },
         "mode": "lines",
         "type": "scatter",
         "x": [
          4045,
          4045,
          4055,
          4055
         ],
         "xaxis": "x",
         "y": [
          0,
          0.007914564560664417,
          0.007914564560664417,
          0
         ],
         "yaxis": "y"
        },
        {
         "hoverinfo": "text",
         "marker": {
          "color": "rgb(255,65,54)"
         },
         "mode": "lines",
         "type": "scatter",
         "x": [
          4035,
          4035,
          4050,
          4050
         ],
         "xaxis": "x",
         "y": [
          0,
          0.11212299794274672,
          0.11212299794274672,
          0.007914564560664417
         ],
         "yaxis": "y"
        },
        {
         "hoverinfo": "text",
         "marker": {
          "color": "rgb(255,65,54)"
         },
         "mode": "lines",
         "type": "scatter",
         "x": [
          4025,
          4025,
          4042.5,
          4042.5
         ],
         "xaxis": "x",
         "y": [
          0,
          0.6328367803779785,
          0.6328367803779785,
          0.11212299794274672
         ],
         "yaxis": "y"
        },
        {
         "hoverinfo": "text",
         "marker": {
          "color": "rgb(255,65,54)"
         },
         "mode": "lines",
         "type": "scatter",
         "x": [
          4065,
          4065,
          4075,
          4075
         ],
         "xaxis": "x",
         "y": [
          0,
          0.08969839835419746,
          0.08969839835419746,
          0
         ],
         "yaxis": "y"
        },
        {
         "hoverinfo": "text",
         "marker": {
          "color": "rgb(255,65,54)"
         },
         "mode": "lines",
         "type": "scatter",
         "x": [
          4085,
          4085,
          4095,
          4095
         ],
         "xaxis": "x",
         "y": [
          0,
          0.05935923420498357,
          0.05935923420498357,
          0
         ],
         "yaxis": "y"
        },
        {
         "hoverinfo": "text",
         "marker": {
          "color": "rgb(255,65,54)"
         },
         "mode": "lines",
         "type": "scatter",
         "x": [
          4105,
          4105,
          4115,
          4115
         ],
         "xaxis": "x",
         "y": [
          0,
          0.07552692494306501,
          0.07552692494306501,
          0
         ],
         "yaxis": "y"
        },
        {
         "hoverinfo": "text",
         "marker": {
          "color": "rgb(255,65,54)"
         },
         "mode": "lines",
         "type": "scatter",
         "x": [
          4090,
          4090,
          4110,
          4110
         ],
         "xaxis": "x",
         "y": [
          0.05935923420498357,
          0.47375932600305104,
          0.47375932600305104,
          0.07552692494306501
         ],
         "yaxis": "y"
        },
        {
         "hoverinfo": "text",
         "marker": {
          "color": "rgb(255,65,54)"
         },
         "mode": "lines",
         "type": "scatter",
         "x": [
          4070,
          4070,
          4100,
          4100
         ],
         "xaxis": "x",
         "y": [
          0.08969839835419746,
          0.7545078955970271,
          0.7545078955970271,
          0.47375932600305104
         ],
         "yaxis": "y"
        },
        {
         "hoverinfo": "text",
         "marker": {
          "color": "rgb(255,65,54)"
         },
         "mode": "lines",
         "type": "scatter",
         "x": [
          4033.75,
          4033.75,
          4085,
          4085
         ],
         "xaxis": "x",
         "y": [
          0.6328367803779785,
          0.9876294868474089,
          0.9876294868474089,
          0.7545078955970271
         ],
         "yaxis": "y"
        },
        {
         "hoverinfo": "text",
         "marker": {
          "color": "rgb(255,65,54)"
         },
         "mode": "lines",
         "type": "scatter",
         "x": [
          3938.28125,
          3938.28125,
          4059.375,
          4059.375
         ],
         "xaxis": "x",
         "y": [
          0.8289959985615999,
          1.413482960877901,
          1.413482960877901,
          0.9876294868474089
         ],
         "yaxis": "y"
        },
        {
         "hoverinfo": "text",
         "marker": {
          "color": "rgb(255,65,54)"
         },
         "mode": "lines",
         "type": "scatter",
         "x": [
          3837.5,
          3837.5,
          3998.828125,
          3998.828125
         ],
         "xaxis": "x",
         "y": [
          0.5990926360520973,
          2.0590385919557015,
          2.0590385919557015,
          1.413482960877901
         ],
         "yaxis": "y"
        },
        {
         "hoverinfo": "text",
         "marker": {
          "color": "rgb(255,65,54)"
         },
         "mode": "lines",
         "type": "scatter",
         "x": [
          4125,
          4125,
          4135,
          4135
         ],
         "xaxis": "x",
         "y": [
          0,
          0.026381881868881685,
          0.026381881868881685,
          0
         ],
         "yaxis": "y"
        },
        {
         "hoverinfo": "text",
         "marker": {
          "color": "rgb(255,65,54)"
         },
         "mode": "lines",
         "type": "scatter",
         "x": [
          4145,
          4145,
          4155,
          4155
         ],
         "xaxis": "x",
         "y": [
          0,
          0.7575737025439763,
          0.7575737025439763,
          0
         ],
         "yaxis": "y"
        },
        {
         "hoverinfo": "text",
         "marker": {
          "color": "rgb(255,65,54)"
         },
         "mode": "lines",
         "type": "scatter",
         "x": [
          4130,
          4130,
          4150,
          4150
         ],
         "xaxis": "x",
         "y": [
          0.026381881868881685,
          1.282461514554853,
          1.282461514554853,
          0.7575737025439763
         ],
         "yaxis": "y"
        },
        {
         "hoverinfo": "text",
         "marker": {
          "color": "rgb(255,65,54)"
         },
         "mode": "lines",
         "type": "scatter",
         "x": [
          4165,
          4165,
          4175,
          4175
         ],
         "xaxis": "x",
         "y": [
          0,
          1.0469503725905016,
          1.0469503725905016,
          0
         ],
         "yaxis": "y"
        },
        {
         "hoverinfo": "text",
         "marker": {
          "color": "rgb(255,65,54)"
         },
         "mode": "lines",
         "type": "scatter",
         "x": [
          4195,
          4195,
          4205,
          4205
         ],
         "xaxis": "x",
         "y": [
          0,
          0.05804014011153935,
          0.05804014011153935,
          0
         ],
         "yaxis": "y"
        },
        {
         "hoverinfo": "text",
         "marker": {
          "color": "rgb(255,65,54)"
         },
         "mode": "lines",
         "type": "scatter",
         "x": [
          4185,
          4185,
          4200,
          4200
         ],
         "xaxis": "x",
         "y": [
          0,
          0.26870622757860896,
          0.26870622757860896,
          0.05804014011153935
         ],
         "yaxis": "y"
        },
        {
         "hoverinfo": "text",
         "marker": {
          "color": "rgb(255,65,54)"
         },
         "mode": "lines",
         "type": "scatter",
         "x": [
          4235,
          4235,
          4245,
          4245
         ],
         "xaxis": "x",
         "y": [
          0,
          0.046168293270542726,
          0.046168293270542726,
          0
         ],
         "yaxis": "y"
        },
        {
         "hoverinfo": "text",
         "marker": {
          "color": "rgb(255,65,54)"
         },
         "mode": "lines",
         "type": "scatter",
         "x": [
          4225,
          4225,
          4240,
          4240
         ],
         "xaxis": "x",
         "y": [
          0,
          0.11080390384930272,
          0.11080390384930272,
          0.046168293270542726
         ],
         "yaxis": "y"
        },
        {
         "hoverinfo": "text",
         "marker": {
          "color": "rgb(255,65,54)"
         },
         "mode": "lines",
         "type": "scatter",
         "x": [
          4215,
          4215,
          4232.5,
          4232.5
         ],
         "xaxis": "x",
         "y": [
          0,
          0.38468867736220635,
          0.38468867736220635,
          0.11080390384930272
         ],
         "yaxis": "y"
        },
        {
         "hoverinfo": "text",
         "marker": {
          "color": "rgb(255,65,54)"
         },
         "mode": "lines",
         "type": "scatter",
         "x": [
          4192.5,
          4192.5,
          4223.75,
          4223.75
         ],
         "xaxis": "x",
         "y": [
          0.26870622757860896,
          0.8374337396444497,
          0.8374337396444497,
          0.38468867736220635
         ],
         "yaxis": "y"
        },
        {
         "hoverinfo": "text",
         "marker": {
          "color": "rgb(255,65,54)"
         },
         "mode": "lines",
         "type": "scatter",
         "x": [
          4265,
          4265,
          4275,
          4275
         ],
         "xaxis": "x",
         "y": [
          0,
          0.6339998755290465,
          0.6339998755290465,
          0
         ],
         "yaxis": "y"
        },
        {
         "hoverinfo": "text",
         "marker": {
          "color": "rgb(255,65,54)"
         },
         "mode": "lines",
         "type": "scatter",
         "x": [
          4255,
          4255,
          4270,
          4270
         ],
         "xaxis": "x",
         "y": [
          0,
          1.2494614515272715,
          1.2494614515272715,
          0.6339998755290465
         ],
         "yaxis": "y"
        },
        {
         "hoverinfo": "text",
         "marker": {
          "color": "rgb(255,65,54)"
         },
         "mode": "lines",
         "type": "scatter",
         "x": [
          4208.125,
          4208.125,
          4262.5,
          4262.5
         ],
         "xaxis": "x",
         "y": [
          0.8374337396444497,
          1.5596951938118664,
          1.5596951938118664,
          1.2494614515272715
         ],
         "yaxis": "y"
        },
        {
         "hoverinfo": "text",
         "marker": {
          "color": "rgb(255,65,54)"
         },
         "mode": "lines",
         "type": "scatter",
         "x": [
          4170,
          4170,
          4235.3125,
          4235.3125
         ],
         "xaxis": "x",
         "y": [
          1.0469503725905016,
          2.0523317203567166,
          2.0523317203567166,
          1.5596951938118664
         ],
         "yaxis": "y"
        },
        {
         "hoverinfo": "text",
         "marker": {
          "color": "rgb(255,65,54)"
         },
         "mode": "lines",
         "type": "scatter",
         "x": [
          4140,
          4140,
          4202.65625,
          4202.65625
         ],
         "xaxis": "x",
         "y": [
          1.282461514554853,
          3.068985102800138,
          3.068985102800138,
          2.0523317203567166
         ],
         "yaxis": "y"
        },
        {
         "hoverinfo": "text",
         "marker": {
          "color": "rgb(255,65,54)"
         },
         "mode": "lines",
         "type": "scatter",
         "x": [
          3918.1640625,
          3918.1640625,
          4171.328125,
          4171.328125
         ],
         "xaxis": "x",
         "y": [
          2.0590385919557015,
          3.537364021118567,
          3.537364021118567,
          3.068985102800138
         ],
         "yaxis": "y"
        },
        {
         "hoverinfo": "text",
         "marker": {
          "color": "rgb(255,65,54)"
         },
         "mode": "lines",
         "type": "scatter",
         "x": [
          3792.5,
          3792.5,
          4044.74609375,
          4044.74609375
         ],
         "xaxis": "x",
         "y": [
          2.328518771789339,
          5.575155637429696,
          5.575155637429696,
          3.537364021118567
         ],
         "yaxis": "y"
        },
        {
         "hoverinfo": "text",
         "marker": {
          "color": "rgb(255,65,54)"
         },
         "mode": "lines",
         "type": "scatter",
         "x": [
          3231.69189453125,
          3231.69189453125,
          3918.623046875,
          3918.623046875
         ],
         "xaxis": "x",
         "y": [
          4.08056547720667,
          7.836967515136137,
          7.836967515136137,
          5.575155637429696
         ],
         "yaxis": "y"
        },
        {
         "hoverinfo": "text",
         "marker": {
          "color": "rgb(255,65,54)"
         },
         "mode": "lines",
         "type": "scatter",
         "x": [
          2890,
          2890,
          3575.157470703125,
          3575.157470703125
         ],
         "xaxis": "x",
         "y": [
          3.649685224335885,
          11.54133241304427,
          11.54133241304427,
          7.836967515136137
         ],
         "yaxis": "y"
        },
        {
         "hoverinfo": "text",
         "marker": {
          "color": "rgb(0,116,217)"
         },
         "mode": "lines",
         "type": "scatter",
         "x": [
          1746.5281677246094,
          1746.5281677246094,
          3232.5787353515625,
          3232.5787353515625
         ],
         "xaxis": "x",
         "y": [
          10.47294440501479,
          18.053782984035443,
          18.053782984035443,
          11.54133241304427
         ],
         "yaxis": "y"
        }
       ],
       "layout": {
        "autosize": false,
        "height": 1000,
        "hovermode": "closest",
        "showlegend": false,
        "template": {
         "data": {
          "bar": [
           {
            "error_x": {
             "color": "#2a3f5f"
            },
            "error_y": {
             "color": "#2a3f5f"
            },
            "marker": {
             "line": {
              "color": "#E5ECF6",
              "width": 0.5
             },
             "pattern": {
              "fillmode": "overlay",
              "size": 10,
              "solidity": 0.2
             }
            },
            "type": "bar"
           }
          ],
          "barpolar": [
           {
            "marker": {
             "line": {
              "color": "#E5ECF6",
              "width": 0.5
             },
             "pattern": {
              "fillmode": "overlay",
              "size": 10,
              "solidity": 0.2
             }
            },
            "type": "barpolar"
           }
          ],
          "carpet": [
           {
            "aaxis": {
             "endlinecolor": "#2a3f5f",
             "gridcolor": "white",
             "linecolor": "white",
             "minorgridcolor": "white",
             "startlinecolor": "#2a3f5f"
            },
            "baxis": {
             "endlinecolor": "#2a3f5f",
             "gridcolor": "white",
             "linecolor": "white",
             "minorgridcolor": "white",
             "startlinecolor": "#2a3f5f"
            },
            "type": "carpet"
           }
          ],
          "choropleth": [
           {
            "colorbar": {
             "outlinewidth": 0,
             "ticks": ""
            },
            "type": "choropleth"
           }
          ],
          "contour": [
           {
            "colorbar": {
             "outlinewidth": 0,
             "ticks": ""
            },
            "colorscale": [
             [
              0,
              "#0d0887"
             ],
             [
              0.1111111111111111,
              "#46039f"
             ],
             [
              0.2222222222222222,
              "#7201a8"
             ],
             [
              0.3333333333333333,
              "#9c179e"
             ],
             [
              0.4444444444444444,
              "#bd3786"
             ],
             [
              0.5555555555555556,
              "#d8576b"
             ],
             [
              0.6666666666666666,
              "#ed7953"
             ],
             [
              0.7777777777777778,
              "#fb9f3a"
             ],
             [
              0.8888888888888888,
              "#fdca26"
             ],
             [
              1,
              "#f0f921"
             ]
            ],
            "type": "contour"
           }
          ],
          "contourcarpet": [
           {
            "colorbar": {
             "outlinewidth": 0,
             "ticks": ""
            },
            "type": "contourcarpet"
           }
          ],
          "heatmap": [
           {
            "colorbar": {
             "outlinewidth": 0,
             "ticks": ""
            },
            "colorscale": [
             [
              0,
              "#0d0887"
             ],
             [
              0.1111111111111111,
              "#46039f"
             ],
             [
              0.2222222222222222,
              "#7201a8"
             ],
             [
              0.3333333333333333,
              "#9c179e"
             ],
             [
              0.4444444444444444,
              "#bd3786"
             ],
             [
              0.5555555555555556,
              "#d8576b"
             ],
             [
              0.6666666666666666,
              "#ed7953"
             ],
             [
              0.7777777777777778,
              "#fb9f3a"
             ],
             [
              0.8888888888888888,
              "#fdca26"
             ],
             [
              1,
              "#f0f921"
             ]
            ],
            "type": "heatmap"
           }
          ],
          "heatmapgl": [
           {
            "colorbar": {
             "outlinewidth": 0,
             "ticks": ""
            },
            "colorscale": [
             [
              0,
              "#0d0887"
             ],
             [
              0.1111111111111111,
              "#46039f"
             ],
             [
              0.2222222222222222,
              "#7201a8"
             ],
             [
              0.3333333333333333,
              "#9c179e"
             ],
             [
              0.4444444444444444,
              "#bd3786"
             ],
             [
              0.5555555555555556,
              "#d8576b"
             ],
             [
              0.6666666666666666,
              "#ed7953"
             ],
             [
              0.7777777777777778,
              "#fb9f3a"
             ],
             [
              0.8888888888888888,
              "#fdca26"
             ],
             [
              1,
              "#f0f921"
             ]
            ],
            "type": "heatmapgl"
           }
          ],
          "histogram": [
           {
            "marker": {
             "pattern": {
              "fillmode": "overlay",
              "size": 10,
              "solidity": 0.2
             }
            },
            "type": "histogram"
           }
          ],
          "histogram2d": [
           {
            "colorbar": {
             "outlinewidth": 0,
             "ticks": ""
            },
            "colorscale": [
             [
              0,
              "#0d0887"
             ],
             [
              0.1111111111111111,
              "#46039f"
             ],
             [
              0.2222222222222222,
              "#7201a8"
             ],
             [
              0.3333333333333333,
              "#9c179e"
             ],
             [
              0.4444444444444444,
              "#bd3786"
             ],
             [
              0.5555555555555556,
              "#d8576b"
             ],
             [
              0.6666666666666666,
              "#ed7953"
             ],
             [
              0.7777777777777778,
              "#fb9f3a"
             ],
             [
              0.8888888888888888,
              "#fdca26"
             ],
             [
              1,
              "#f0f921"
             ]
            ],
            "type": "histogram2d"
           }
          ],
          "histogram2dcontour": [
           {
            "colorbar": {
             "outlinewidth": 0,
             "ticks": ""
            },
            "colorscale": [
             [
              0,
              "#0d0887"
             ],
             [
              0.1111111111111111,
              "#46039f"
             ],
             [
              0.2222222222222222,
              "#7201a8"
             ],
             [
              0.3333333333333333,
              "#9c179e"
             ],
             [
              0.4444444444444444,
              "#bd3786"
             ],
             [
              0.5555555555555556,
              "#d8576b"
             ],
             [
              0.6666666666666666,
              "#ed7953"
             ],
             [
              0.7777777777777778,
              "#fb9f3a"
             ],
             [
              0.8888888888888888,
              "#fdca26"
             ],
             [
              1,
              "#f0f921"
             ]
            ],
            "type": "histogram2dcontour"
           }
          ],
          "mesh3d": [
           {
            "colorbar": {
             "outlinewidth": 0,
             "ticks": ""
            },
            "type": "mesh3d"
           }
          ],
          "parcoords": [
           {
            "line": {
             "colorbar": {
              "outlinewidth": 0,
              "ticks": ""
             }
            },
            "type": "parcoords"
           }
          ],
          "pie": [
           {
            "automargin": true,
            "type": "pie"
           }
          ],
          "scatter": [
           {
            "fillpattern": {
             "fillmode": "overlay",
             "size": 10,
             "solidity": 0.2
            },
            "type": "scatter"
           }
          ],
          "scatter3d": [
           {
            "line": {
             "colorbar": {
              "outlinewidth": 0,
              "ticks": ""
             }
            },
            "marker": {
             "colorbar": {
              "outlinewidth": 0,
              "ticks": ""
             }
            },
            "type": "scatter3d"
           }
          ],
          "scattercarpet": [
           {
            "marker": {
             "colorbar": {
              "outlinewidth": 0,
              "ticks": ""
             }
            },
            "type": "scattercarpet"
           }
          ],
          "scattergeo": [
           {
            "marker": {
             "colorbar": {
              "outlinewidth": 0,
              "ticks": ""
             }
            },
            "type": "scattergeo"
           }
          ],
          "scattergl": [
           {
            "marker": {
             "colorbar": {
              "outlinewidth": 0,
              "ticks": ""
             }
            },
            "type": "scattergl"
           }
          ],
          "scattermapbox": [
           {
            "marker": {
             "colorbar": {
              "outlinewidth": 0,
              "ticks": ""
             }
            },
            "type": "scattermapbox"
           }
          ],
          "scatterpolar": [
           {
            "marker": {
             "colorbar": {
              "outlinewidth": 0,
              "ticks": ""
             }
            },
            "type": "scatterpolar"
           }
          ],
          "scatterpolargl": [
           {
            "marker": {
             "colorbar": {
              "outlinewidth": 0,
              "ticks": ""
             }
            },
            "type": "scatterpolargl"
           }
          ],
          "scatterternary": [
           {
            "marker": {
             "colorbar": {
              "outlinewidth": 0,
              "ticks": ""
             }
            },
            "type": "scatterternary"
           }
          ],
          "surface": [
           {
            "colorbar": {
             "outlinewidth": 0,
             "ticks": ""
            },
            "colorscale": [
             [
              0,
              "#0d0887"
             ],
             [
              0.1111111111111111,
              "#46039f"
             ],
             [
              0.2222222222222222,
              "#7201a8"
             ],
             [
              0.3333333333333333,
              "#9c179e"
             ],
             [
              0.4444444444444444,
              "#bd3786"
             ],
             [
              0.5555555555555556,
              "#d8576b"
             ],
             [
              0.6666666666666666,
              "#ed7953"
             ],
             [
              0.7777777777777778,
              "#fb9f3a"
             ],
             [
              0.8888888888888888,
              "#fdca26"
             ],
             [
              1,
              "#f0f921"
             ]
            ],
            "type": "surface"
           }
          ],
          "table": [
           {
            "cells": {
             "fill": {
              "color": "#EBF0F8"
             },
             "line": {
              "color": "white"
             }
            },
            "header": {
             "fill": {
              "color": "#C8D4E3"
             },
             "line": {
              "color": "white"
             }
            },
            "type": "table"
           }
          ]
         },
         "layout": {
          "annotationdefaults": {
           "arrowcolor": "#2a3f5f",
           "arrowhead": 0,
           "arrowwidth": 1
          },
          "autotypenumbers": "strict",
          "coloraxis": {
           "colorbar": {
            "outlinewidth": 0,
            "ticks": ""
           }
          },
          "colorscale": {
           "diverging": [
            [
             0,
             "#8e0152"
            ],
            [
             0.1,
             "#c51b7d"
            ],
            [
             0.2,
             "#de77ae"
            ],
            [
             0.3,
             "#f1b6da"
            ],
            [
             0.4,
             "#fde0ef"
            ],
            [
             0.5,
             "#f7f7f7"
            ],
            [
             0.6,
             "#e6f5d0"
            ],
            [
             0.7,
             "#b8e186"
            ],
            [
             0.8,
             "#7fbc41"
            ],
            [
             0.9,
             "#4d9221"
            ],
            [
             1,
             "#276419"
            ]
           ],
           "sequential": [
            [
             0,
             "#0d0887"
            ],
            [
             0.1111111111111111,
             "#46039f"
            ],
            [
             0.2222222222222222,
             "#7201a8"
            ],
            [
             0.3333333333333333,
             "#9c179e"
            ],
            [
             0.4444444444444444,
             "#bd3786"
            ],
            [
             0.5555555555555556,
             "#d8576b"
            ],
            [
             0.6666666666666666,
             "#ed7953"
            ],
            [
             0.7777777777777778,
             "#fb9f3a"
            ],
            [
             0.8888888888888888,
             "#fdca26"
            ],
            [
             1,
             "#f0f921"
            ]
           ],
           "sequentialminus": [
            [
             0,
             "#0d0887"
            ],
            [
             0.1111111111111111,
             "#46039f"
            ],
            [
             0.2222222222222222,
             "#7201a8"
            ],
            [
             0.3333333333333333,
             "#9c179e"
            ],
            [
             0.4444444444444444,
             "#bd3786"
            ],
            [
             0.5555555555555556,
             "#d8576b"
            ],
            [
             0.6666666666666666,
             "#ed7953"
            ],
            [
             0.7777777777777778,
             "#fb9f3a"
            ],
            [
             0.8888888888888888,
             "#fdca26"
            ],
            [
             1,
             "#f0f921"
            ]
           ]
          },
          "colorway": [
           "#636efa",
           "#EF553B",
           "#00cc96",
           "#ab63fa",
           "#FFA15A",
           "#19d3f3",
           "#FF6692",
           "#B6E880",
           "#FF97FF",
           "#FECB52"
          ],
          "font": {
           "color": "#2a3f5f"
          },
          "geo": {
           "bgcolor": "white",
           "lakecolor": "white",
           "landcolor": "#E5ECF6",
           "showlakes": true,
           "showland": true,
           "subunitcolor": "white"
          },
          "hoverlabel": {
           "align": "left"
          },
          "hovermode": "closest",
          "mapbox": {
           "style": "light"
          },
          "paper_bgcolor": "white",
          "plot_bgcolor": "#E5ECF6",
          "polar": {
           "angularaxis": {
            "gridcolor": "white",
            "linecolor": "white",
            "ticks": ""
           },
           "bgcolor": "#E5ECF6",
           "radialaxis": {
            "gridcolor": "white",
            "linecolor": "white",
            "ticks": ""
           }
          },
          "scene": {
           "xaxis": {
            "backgroundcolor": "#E5ECF6",
            "gridcolor": "white",
            "gridwidth": 2,
            "linecolor": "white",
            "showbackground": true,
            "ticks": "",
            "zerolinecolor": "white"
           },
           "yaxis": {
            "backgroundcolor": "#E5ECF6",
            "gridcolor": "white",
            "gridwidth": 2,
            "linecolor": "white",
            "showbackground": true,
            "ticks": "",
            "zerolinecolor": "white"
           },
           "zaxis": {
            "backgroundcolor": "#E5ECF6",
            "gridcolor": "white",
            "gridwidth": 2,
            "linecolor": "white",
            "showbackground": true,
            "ticks": "",
            "zerolinecolor": "white"
           }
          },
          "shapedefaults": {
           "line": {
            "color": "#2a3f5f"
           }
          },
          "ternary": {
           "aaxis": {
            "gridcolor": "white",
            "linecolor": "white",
            "ticks": ""
           },
           "baxis": {
            "gridcolor": "white",
            "linecolor": "white",
            "ticks": ""
           },
           "bgcolor": "#E5ECF6",
           "caxis": {
            "gridcolor": "white",
            "linecolor": "white",
            "ticks": ""
           }
          },
          "title": {
           "x": 0.05
          },
          "xaxis": {
           "automargin": true,
           "gridcolor": "white",
           "linecolor": "white",
           "ticks": "",
           "title": {
            "standoff": 15
           },
           "zerolinecolor": "white",
           "zerolinewidth": 2
          },
          "yaxis": {
           "automargin": true,
           "gridcolor": "white",
           "linecolor": "white",
           "ticks": "",
           "title": {
            "standoff": 15
           },
           "zerolinecolor": "white",
           "zerolinewidth": 2
          }
         }
        },
        "width": 5000,
        "xaxis": {
         "mirror": "allticks",
         "rangemode": "tozero",
         "showgrid": false,
         "showline": true,
         "showticklabels": true,
         "tickmode": "array",
         "ticks": "outside",
         "ticktext": [
          "Lincoln-Navigator Luxury",
          "Nissan-Pathfinder Armada SE",
          "Volkswagen-Phaeton 4dr",
          "Chevrolet-SSR",
          "GMC-Yukon 1500 SLE",
          "Cadillac-Escalade",
          "Chevrolet-Tahoe LT",
          "GMC-Envoy XUV SLE",
          "Isuzu-Ascender S",
          "Ford-F-150 Regular Cab XL",
          "Toyota-Sequoia SR5",
          "Dodge-Durango SLT",
          "Ford-Expedition 4.6 XLT",
          "Dodge-Dakota Club Cab",
          "Toyota-Tundra Regular Cab V6",
          "Toyota-Tundra Access Cab V6 SR5",
          "Mazda-B4000 SE Cab Plus",
          "Chevrolet-Silverado 1500 Regular Cab",
          "GMC-Sonoma Crew Cab",
          "Dodge-Ram 1500 Regular Cab ST",
          "Ford-Freestar SE",
          "Mercury-Monterey Luxury",
          "Chrysler-Concorde LXi 4dr",
          "Dodge-Intrepid ES 4dr",
          "Buick-Park Avenue 4dr",
          "Buick-Park Avenue Ultra 4dr",
          "Nissan-Quest S",
          "Nissan-Quest SE",
          "Toyota-Sienna CE",
          "Toyota-Sienna XLE Limited",
          "Chrysler-Town and Country LX",
          "Oldsmobile-Silhouette GL",
          "Pontiac-Montana EWB",
          "Honda-Odyssey LX",
          "Honda-Odyssey EX",
          "Chrysler-Town and Country Limited",
          "Dodge-Grand Caravan SXT",
          "Lincoln-Town Car Ultimate L 4dr",
          "Lincoln-Town Car Signature 4dr",
          "Lincoln-Town Car Ultimate 4dr",
          "Ford-Crown Victoria LX Sport 4dr",
          "Ford-Crown Victoria 4dr",
          "Ford-Crown Victoria LX 4dr",
          "Mercury-Grand Marquis LS Ultimate 4dr",
          "Mercury-Grand Marquis GS 4dr",
          "Mercury-Grand Marquis LS Premium 4dr",
          "Mercedes-Benz-S430 4dr",
          "Jaguar-Vanden Plas 4dr",
          "Jaguar-XJ8 4dr",
          "Mercedes-Benz-S500 4dr",
          "BMW-745i 4dr",
          "Audi-A8 L Quattro 4dr",
          "BMW-745Li 4dr",
          "Porsche-911 GT2 2dr",
          "Volvo-S60 R 4dr",
          "Mitsubishi-Lancer Evolution 4dr",
          "Subaru-Impreza WRX STi 4dr",
          "Mercedes-Benz-SLK32 AMG 2dr",
          "Porsche-911 Carrera 4S coupe 2dr (convert)",
          "Porsche-911 Carrera convertible 2dr (coupe)",
          "Porsche-911 Targa coupe 2dr",
          "Mercedes-Benz-C32 AMG 4dr",
          "BMW-M3 coupe 2dr",
          "BMW-M3 convertible 2dr",
          "Acura-NSX coupe 2dr manual S",
          "Nissan-350Z coupe 2dr",
          "Nissan-350Z Enthusiast convertible 2dr",
          "Jeep-Wrangler Sahara convertible 2dr",
          "BMW-Z4 convertible 2.5i 2dr",
          "Chevrolet-Tracker",
          "Suzuki-Vitara LX",
          "Hyundai-Tiburon GT V6 2dr",
          "Volkswagen-Jetta GLI VR6 4dr",
          "Mitsubishi-Eclipse GTS 2dr",
          "Mitsubishi-Eclipse Spyder GT convertible 2dr",
          "Porsche-Boxster convertible 2dr",
          "Porsche-Boxster S convertible 2dr",
          "Chrysler-Crossfire 2dr",
          "Audi-TT 3.2 coupe 2dr (convertible)",
          "BMW-Z4 convertible 3.0i 2dr",
          "BMW-530i 4dr",
          "Chevrolet-Malibu Maxx LS",
          "Chevrolet-Monte Carlo SS 2dr",
          "Buick-Regal LS 4dr",
          "Buick-LeSabre Custom 4dr",
          "Buick-LeSabre Limited 4dr",
          "Chevrolet-Impala LS 4dr",
          "Pontiac-Grand Prix GT1 4dr",
          "Pontiac-Grand Prix GT2 4dr",
          "Buick-Century Custom 4dr",
          "Chevrolet-Impala 4dr",
          "Chevrolet-Monte Carlo LS 2dr",
          "Chrysler-Concorde LX 4dr",
          "Dodge-Intrepid SE 4dr",
          "BMW-525i 4dr",
          "Ford-Taurus SES Duratec 4dr",
          "Mercury-Sable LS Premium 4dr",
          "Ford-Taurus SE",
          "Mercury-Sable GS",
          "Ford-Taurus LX 4dr",
          "Mercury-Sable GS 4dr",
          "Acura-TL 4dr",
          "Infiniti-G35 4dr",
          "Infiniti-G35 Sport Coupe 2dr",
          "Audi-A6 2.7 Turbo Quattro 4dr",
          "Volvo-S80 T6 4dr",
          "Nissan-Murano SL",
          "Cadillac-CTS VVT 4dr",
          "Infiniti-G35 4dr",
          "Jaguar-S-Type 3.0 4dr",
          "Lincoln-LS V6 Luxury 4dr",
          "Lincoln-LS V6 Premium 4dr",
          "Mercedes-Benz-E320 4dr",
          "Mercedes-Benz-E320",
          "Infiniti-I35 4dr",
          "Nissan-Altima SE 4dr",
          "Buick-Regal GS 4dr",
          "Chevrolet-Impala SS 4dr",
          "Nissan-Maxima SE 4dr",
          "Nissan-Maxima SL 4dr",
          "Chrysler-300M 4dr",
          "Chrysler-300M Special Edition 4dr",
          "Ford-Mustang 2dr (convertible)",
          "Chevrolet-Malibu LS 4dr",
          "Chevrolet-Malibu LT 4dr",
          "Saturn-L300-2 4dr",
          "Oldsmobile-Alero GLS 2dr",
          "Pontiac-Grand Am GT 2dr",
          "Jaguar-X-Type 2.5 4dr",
          "Suzuki-Verona LX 4dr",
          "Kia-Optima LX V6 4dr",
          "Hyundai-Sonata GLS 4dr",
          "Hyundai-Sonata LX 4dr",
          "BMW-325i 4dr",
          "BMW-325Ci 2dr",
          "Hyundai-Santa Fe GLS",
          "BMW-325xi Sport",
          "BMW-325Ci convertible 2dr",
          "BMW-325xi 4dr",
          "Mercedes-Benz-C240 4dr",
          "Mercedes-Benz-C240 4dr",
          "Mercedes-Benz-C240",
          "Honda-Accord LX V6 4dr",
          "Honda-Accord EX V6 2dr",
          "Lexus-ES 330 4dr",
          "Toyota-Camry Solara SE V6 2dr",
          "Toyota-Camry Solara SLE V6 2dr",
          "Toyota-Avalon XL 4dr",
          "Toyota-Avalon XLS 4dr",
          "Toyota-Camry LE V6 4dr",
          "Toyota-Camry XLE V6 4dr",
          "Audi-A6 3.0 4dr",
          "Volvo-S80 2.9 4dr",
          "Chrysler-Sebring Touring 4dr",
          "Chrysler-Sebring Limited convertible 2dr",
          "BMW-330xi 4dr",
          "BMW-330i 4dr",
          "BMW-330Ci 2dr",
          "Mercedes-Benz-C320 4dr",
          "Mercedes-Benz-C320 4dr",
          "Mercedes-Benz-C320 Sport 2dr",
          "Mercedes-Benz-C320 Sport 4dr",
          "Audi-A4 3.0 4dr",
          "BMW-330Ci convertible 2dr",
          "Jaguar-X-Type 3.0 4dr",
          "Audi-A4 3.0 Quattro 4dr manual",
          "Audi-A4 3.0 Quattro 4dr auto",
          "Audi-A4 3.0 convertible 2dr",
          "Mercedes-Benz-CLK320 coupe 2dr (convertible)",
          "Volkswagen-Passat GLX V6 4MOTION 4dr",
          "Subaru-Outback H6 4dr",
          "Subaru-Outback H-6 VDC 4dr",
          "Jeep-Grand Cherokee Laredo",
          "Kia-Sorento LX",
          "Isuzu-Rodeo S",
          "Nissan-Xterra XE V6",
          "Land Rover-Freelander SE",
          "Ford-Escape XLS",
          "Lexus-IS 300 4dr manual",
          "Lexus-IS 300 4dr auto",
          "Lexus-IS 300 SportCross",
          "Dodge-Caravan SE",
          "Chevrolet-Colorado Z85",
          "GMC-Canyon Z85 SL Regular Cab",
          "Nissan-Frontier King Cab XE V6",
          "Kia-Amanti 4dr",
          "Dodge-Dakota Regular Cab",
          "Acura-3.5 RL 4dr",
          "Acura-3.5 RL w/Navigation 4dr",
          "Mitsubishi-Galant GTS 4dr",
          "Mitsubishi-Diamante LS 4dr",
          "Hyundai-XG350 4dr",
          "Hyundai-XG350 L 4dr",
          "Pontiac-Aztekt",
          "Buick-Rendezvous CX",
          "Chevrolet-Venture LS",
          "Pontiac-Montana",
          "BMW-X3 3.0i",
          "Audi-A4 3.0 Quattro convertible 2dr",
          "Lexus-RX 330",
          "Toyota-Highlander V6",
          "Suzuki-XL-7 EX",
          "Audi-A6 3.0 Quattro 4dr",
          "Audi-A6 3.0 Avant Quattro",
          "Lexus-GS 300 4dr",
          "Mazda-MPV ES",
          "Jaguar-XK8 coupe 2dr",
          "Jaguar-XK8 convertible 2dr",
          "Ford-Thunderbird Deluxe convert w/hardtop 2d",
          "Volkswagen-Passat W8 4MOTION 4dr",
          "Volkswagen-Passat W8",
          "Ford-Mustang GT Premium convertible 2dr",
          "Mercedes-Benz-SL500 convertible 2dr",
          "Mercedes-Benz-CLK500 coupe 2dr (convertible)",
          "Cadillac-XLR convertible 2dr",
          "Lexus-SC 430 convertible 2dr",
          "Chevrolet-Corvette 2dr",
          "Chevrolet-Corvette convertible 2dr",
          "Jaguar-XKR coupe 2dr",
          "Jaguar-XKR convertible 2dr",
          "Audi-S4 Quattro 4dr",
          "Audi-S4 Avant Quattro",
          "Audi-RS 6 4dr",
          "Jaguar-S-Type R 4dr",
          "Jaguar-XJR 4dr",
          "Mercedes-Benz-E500 4dr",
          "Pontiac-GTO 2dr",
          "Cadillac-SRX V8",
          "Infiniti-FX45",
          "Infiniti-M45 4dr",
          "Infiniti-Q45 Luxury 4dr",
          "Mercedes-Benz-CL500 2dr",
          "Mercedes-Benz-E500",
          "Audi-A6 4.2 Quattro 4dr",
          "Lexus-GS 430 4dr",
          "Lexus-LS 430 4dr",
          "Lincoln-LS V8 Sport 4dr",
          "Lincoln-LS V8 Ultimate 4dr",
          "BMW-545iA 4dr",
          "Jaguar-S-Type 4.2 4dr",
          "Cadillac-Seville SLS 4dr",
          "Cadillac-Deville 4dr",
          "Cadillac-Deville DTS 4dr",
          "Mercury-Marauder 4dr",
          "Pontiac-Bonneville GXP 4dr",
          "Acura-MDX",
          "Honda-Pilot LX",
          "Nissan-Pathfinder SE",
          "Mitsubishi-Endeavor XLS",
          "Toyota-4Runner SR5 V6",
          "Infiniti-FX35",
          "Buick-Rainier",
          "Chevrolet-TrailBlazer LT",
          "GMC-Safari SLE",
          "Ford-Explorer XLT V6",
          "Mercury-Mountaineer",
          "Chevrolet-Astro",
          "Mitsubishi-Montero XLS",
          "Chrysler-Pacifica",
          "Kia-Sedona LX",
          "Volkswagen-Touareg V6",
          "Volvo-XC90 T6",
          "Land Rover-Discovery SE",
          "Lexus-GX 470",
          "BMW-X5 4.4i",
          "Mercedes-Benz-ML500",
          "Lincoln-Aviator Ultimate",
          "Porsche-Cayenne S",
          "Lexus-LX 470",
          "Mercedes-Benz-G500",
          "Land Rover-Range Rover HSE",
          "Toyota-Land Cruiser",
          "Mercedes-Benz-CL600 2dr",
          "Volkswagen-Phaeton W12 4dr",
          "Dodge-Viper SRT-10 convertible 2dr",
          "Mercedes-Benz-SL55 AMG 2dr",
          "Mercedes-Benz-SL600 convertible 2dr",
          "GMC-Sierra Extended Cab 1500",
          "Chevrolet-Silverado SS",
          "Nissan-Titan King Cab XE",
          "Cadillac-Escalade EXT",
          "GMC-Yukon XL 2500 SLT",
          "Chevrolet-Suburban 1500 LT",
          "GMC-Sierra HD 2500",
          "Chevrolet-Avalanche 1500",
          "Ford-F-150 Supercab Lariat",
          "Ford-Excursion 6.8 XLT",
          "Hummer-H2",
          "Honda-Insight 2dr (gas/electric)",
          "Toyota-Prius 4dr (gas/electric)",
          "Mazda-MX-5 Miata convertible 2dr",
          "Mazda-MX-5 Miata LS convertible 2dr",
          "Audi-TT 1.8 convertible 2dr (coupe)",
          "Mercedes-Benz-SLK230 convertible 2dr",
          "Audi-TT 1.8 Quattro 2dr (convertible)",
          "Honda-S2000 convertible 2dr",
          "Volkswagen-Golf GLS 4dr",
          "Volkswagen-New Beetle GLS convertible 2dr",
          "Honda-Civic Si 2dr hatch",
          "Volkswagen-New Beetle GLS 1.8T 2dr",
          "Suzuki-Aeno S 4dr",
          "Suzuki-Aerio LX 4dr",
          "Toyota-Celica GT-S 2dr",
          "Acura-RSX Type S 2dr",
          "Volkswagen-GTI 1.8T 2dr hatch",
          "Mazda-Mazda3 s 4dr",
          "Mitsubishi-Lancer Sportback LS",
          "Volkswagen-Jetta GL",
          "Suzuki-Forenza EX 4dr",
          "Mitsubishi-Lancer ES 4dr",
          "Mitsubishi-Lancer LS 4dr",
          "Mitsubishi-Lancer OZ Rally 4dr auto",
          "Suzuki-Forenza S 4dr",
          "Kia-Spectra 4dr",
          "Kia-Spectra GS 4dr hatch",
          "Kia-Spectra GSX 4dr hatch",
          "Honda-Element LX",
          "Jeep-Liberty Sport",
          "Mazda-Tribute DX 2.0",
          "Saturn-VUE",
          "Honda-CR-V LX",
          "Mitsubishi-Outlander LS",
          "Chrysler-PT Cruiser GT 4dr",
          "Subaru-Impreza WRX 4dr",
          "Volvo-S40 4dr",
          "Volvo-V40",
          "Nissan-Sentra SE-R 4dr",
          "Subaru-Impreza 2.5 RS 4dr",
          "Subaru-Forester X",
          "Suzuki-Aerio SX",
          "Toyota-RAV4",
          "Ford-Focus SVT 2dr",
          "Chrysler-PT Cruiser 4dr",
          "Chrysler-PT Cruiser Limited 4dr",
          "Mazda-RX-8 4dr automatic",
          "Mazda-RX-8 4dr manual",
          "Audi-A41.8T convertible 2dr",
          "Mercedes-Benz-C230 Sport 2dr",
          "Audi-A4 1.8T 4dr",
          "Volkswagen-Passat GLS 4dr",
          "Volkswagen-Passat GLS 1.8T",
          "Saab-9-3 Arc convertible 2dr",
          "Saab-9-3 Aero convertible 2dr",
          "Acura-TSX 4dr",
          "Saab-9-3 Arc Sport 4dr",
          "Saab-9-3 Aero 4dr",
          "Saab-9-5 Aero",
          "Saab-9-5 Arc 4dr",
          "Saab-9-5 Aero 4dr",
          "Volvo-S80 2.5T 4dr",
          "Volvo-XC70",
          "Volvo-S60 2.5 4dr",
          "Volvo-S60 T5 4dr",
          "Volvo-C70 LPT convertible 2dr",
          "Volvo-C70 HPT convertible 2dr",
          "Honda-Accord LX 2dr",
          "Honda-Accord EX 2dr",
          "Mazda-Mazda6 i 4dr",
          "Oldsmobile-Alero GX 2dr",
          "Chevrolet-Malibu 4dr",
          "Saturn-L300 2",
          "Toyota-Camry LE 4dr",
          "Toyota-Camry Solara SE 2dr",
          "Nissan-Altima S 4dr",
          "Ford-Ranger 2.3 XL Regular Cab",
          "Mazda-B2300 SX Regular Cab",
          "Toyota-Tacoma",
          "Subaru-Baja",
          "Subaru-Outback Limited Sedan 4dr",
          "Subaru-Outback",
          "Subaru-Legacy L 4dr",
          "Subaru-Legacy GT 4dr",
          "Kia-Optima LX 4dr",
          "Dodge-Stratus SXT 4dr",
          "Dodge-Stratus SE 4dr",
          "Chrysler-Sebring convertible 2dr",
          "Chrysler-Sebring 4dr",
          "Mitsubishi-Galant ES 2.4L 4dr",
          "Honda-Civic Hybrid 4dr manual (gas/electric)",
          "Honda-Civic HX 2dr",
          "Volkswagen-Jetta GLS TDI 4dr",
          "Toyota-Corolla CE 4dr",
          "Toyota-Corolla S 4dr",
          "Toyota-Corolla LE 4dr",
          "Honda-Civic EX 4dr",
          "Honda-Civic DX 2dr",
          "Honda-Civic LX 4dr",
          "Chevrolet-Cavalier 4dr",
          "Chevrolet-Cavalier 2dr",
          "Chevrolet-Cavalier LS 2dr",
          "Saturn-lon3 4dr",
          "Saturn-Ion1 4dr",
          "Saturn-lon2 4dr",
          "Saturn-lon2 quad coupe 2dr",
          "Saturn-lon3 quad coupe 2dr",
          "Pontiac-Sunfire 1SA 2dr",
          "Pontiac-Sunfire 1SC 2dr",
          "Ford-Focus ZTW",
          "Mazda-Mazda3 i 4dr",
          "Hyundai-Elantra GT 4dr hatch",
          "Hyundai-Elantra GLS 4dr",
          "Hyundai-Elantra GT 4dr",
          "Ford-Focus LX 4dr",
          "Ford-Focus ZX5 5dr",
          "Ford-Focus ZX3 2dr hatch",
          "Ford-Focus SE 4dr",
          "Nissan-Sentra 1.8 4dr",
          "Nissan-Sentra 1.8 S 4dr",
          "Dodge-Neon SE 4dr",
          "Dodge-Neon SXT 4dr",
          "Pontiac-Vibe",
          "Toyota-Matrix XR",
          "Toyota-Echo 2dr manual",
          "Toyota-Echo 4dr",
          "Scion-xA 4dr hatch",
          "Toyota-Echo 2dr auto",
          "MINI-Cooper",
          "MINI-Cooper S",
          "Kia-Rio 4dr auto",
          "Kia-Rio 4dr manual",
          "Kia-Rio Cinco",
          "Chevrolet-Aveo 4dr",
          "Hyundai-Accent GT 2dr hatch",
          "Hyundai-Accent 2dr hatch",
          "Hyundai-Accent GL 4dr",
          "Toyota-MR2 Spyder convertible 2dr",
          "Chevrolet-Aveo LS 4dr hatch",
          "Scion-xB"
         ],
         "tickvals": [
          5,
          15,
          25,
          35,
          45,
          55,
          65,
          75,
          85,
          95,
          105,
          115,
          125,
          135,
          145,
          155,
          165,
          175,
          185,
          195,
          205,
          215,
          225,
          235,
          245,
          255,
          265,
          275,
          285,
          295,
          305,
          315,
          325,
          335,
          345,
          355,
          365,
          375,
          385,
          395,
          405,
          415,
          425,
          435,
          445,
          455,
          465,
          475,
          485,
          495,
          505,
          515,
          525,
          535,
          545,
          555,
          565,
          575,
          585,
          595,
          605,
          615,
          625,
          635,
          645,
          655,
          665,
          675,
          685,
          695,
          705,
          715,
          725,
          735,
          745,
          755,
          765,
          775,
          785,
          795,
          805,
          815,
          825,
          835,
          845,
          855,
          865,
          875,
          885,
          895,
          905,
          915,
          925,
          935,
          945,
          955,
          965,
          975,
          985,
          995,
          1005,
          1015,
          1025,
          1035,
          1045,
          1055,
          1065,
          1075,
          1085,
          1095,
          1105,
          1115,
          1125,
          1135,
          1145,
          1155,
          1165,
          1175,
          1185,
          1195,
          1205,
          1215,
          1225,
          1235,
          1245,
          1255,
          1265,
          1275,
          1285,
          1295,
          1305,
          1315,
          1325,
          1335,
          1345,
          1355,
          1365,
          1375,
          1385,
          1395,
          1405,
          1415,
          1425,
          1435,
          1445,
          1455,
          1465,
          1475,
          1485,
          1495,
          1505,
          1515,
          1525,
          1535,
          1545,
          1555,
          1565,
          1575,
          1585,
          1595,
          1605,
          1615,
          1625,
          1635,
          1645,
          1655,
          1665,
          1675,
          1685,
          1695,
          1705,
          1715,
          1725,
          1735,
          1745,
          1755,
          1765,
          1775,
          1785,
          1795,
          1805,
          1815,
          1825,
          1835,
          1845,
          1855,
          1865,
          1875,
          1885,
          1895,
          1905,
          1915,
          1925,
          1935,
          1945,
          1955,
          1965,
          1975,
          1985,
          1995,
          2005,
          2015,
          2025,
          2035,
          2045,
          2055,
          2065,
          2075,
          2085,
          2095,
          2105,
          2115,
          2125,
          2135,
          2145,
          2155,
          2165,
          2175,
          2185,
          2195,
          2205,
          2215,
          2225,
          2235,
          2245,
          2255,
          2265,
          2275,
          2285,
          2295,
          2305,
          2315,
          2325,
          2335,
          2345,
          2355,
          2365,
          2375,
          2385,
          2395,
          2405,
          2415,
          2425,
          2435,
          2445,
          2455,
          2465,
          2475,
          2485,
          2495,
          2505,
          2515,
          2525,
          2535,
          2545,
          2555,
          2565,
          2575,
          2585,
          2595,
          2605,
          2615,
          2625,
          2635,
          2645,
          2655,
          2665,
          2675,
          2685,
          2695,
          2705,
          2715,
          2725,
          2735,
          2745,
          2755,
          2765,
          2775,
          2785,
          2795,
          2805,
          2815,
          2825,
          2835,
          2845,
          2855,
          2865,
          2875,
          2885,
          2895,
          2905,
          2915,
          2925,
          2935,
          2945,
          2955,
          2965,
          2975,
          2985,
          2995,
          3005,
          3015,
          3025,
          3035,
          3045,
          3055,
          3065,
          3075,
          3085,
          3095,
          3105,
          3115,
          3125,
          3135,
          3145,
          3155,
          3165,
          3175,
          3185,
          3195,
          3205,
          3215,
          3225,
          3235,
          3245,
          3255,
          3265,
          3275,
          3285,
          3295,
          3305,
          3315,
          3325,
          3335,
          3345,
          3355,
          3365,
          3375,
          3385,
          3395,
          3405,
          3415,
          3425,
          3435,
          3445,
          3455,
          3465,
          3475,
          3485,
          3495,
          3505,
          3515,
          3525,
          3535,
          3545,
          3555,
          3565,
          3575,
          3585,
          3595,
          3605,
          3615,
          3625,
          3635,
          3645,
          3655,
          3665,
          3675,
          3685,
          3695,
          3705,
          3715,
          3725,
          3735,
          3745,
          3755,
          3765,
          3775,
          3785,
          3795,
          3805,
          3815,
          3825,
          3835,
          3845,
          3855,
          3865,
          3875,
          3885,
          3895,
          3905,
          3915,
          3925,
          3935,
          3945,
          3955,
          3965,
          3975,
          3985,
          3995,
          4005,
          4015,
          4025,
          4035,
          4045,
          4055,
          4065,
          4075,
          4085,
          4095,
          4105,
          4115,
          4125,
          4135,
          4145,
          4155,
          4165,
          4175,
          4185,
          4195,
          4205,
          4215,
          4225,
          4235,
          4245,
          4255,
          4265,
          4275
         ],
         "type": "linear",
         "zeroline": false
        },
        "yaxis": {
         "mirror": "allticks",
         "rangemode": "tozero",
         "showgrid": false,
         "showline": true,
         "showticklabels": true,
         "ticks": "outside",
         "type": "linear",
         "zeroline": false
        }
       }
      },
      "text/html": [
       "<div>                            <div id=\"fe07e64e-b367-4074-a31a-491c8b8ff470\" class=\"plotly-graph-div\" style=\"height:1000px; width:5000px;\"></div>            <script type=\"text/javascript\">                require([\"plotly\"], function(Plotly) {                    window.PLOTLYENV=window.PLOTLYENV || {};                                    if (document.getElementById(\"fe07e64e-b367-4074-a31a-491c8b8ff470\")) {                    Plotly.newPlot(                        \"fe07e64e-b367-4074-a31a-491c8b8ff470\",                        [{\"hoverinfo\":\"text\",\"marker\":{\"color\":\"rgb(61,153,112)\"},\"mode\":\"lines\",\"x\":[5.0,5.0,15.0,15.0],\"xaxis\":\"x\",\"y\":[0.0,1.3766427250461366,1.3766427250461366,0.0],\"yaxis\":\"y\",\"type\":\"scatter\"},{\"hoverinfo\":\"text\",\"marker\":{\"color\":\"rgb(61,153,112)\"},\"mode\":\"lines\",\"x\":[55.0,55.0,65.0,65.0],\"xaxis\":\"x\",\"y\":[0.0,0.4407951848073419,0.4407951848073419,0.0],\"yaxis\":\"y\",\"type\":\"scatter\"},{\"hoverinfo\":\"text\",\"marker\":{\"color\":\"rgb(61,153,112)\"},\"mode\":\"lines\",\"x\":[45.0,45.0,60.0,60.0],\"xaxis\":\"x\",\"y\":[0.0,0.7639621584838846,0.7639621584838846,0.4407951848073419],\"yaxis\":\"y\",\"type\":\"scatter\"},{\"hoverinfo\":\"text\",\"marker\":{\"color\":\"rgb(61,153,112)\"},\"mode\":\"lines\",\"x\":[35.0,35.0,52.5,52.5],\"xaxis\":\"x\",\"y\":[0.0,1.0647382743132376,1.0647382743132376,0.7639621584838846],\"yaxis\":\"y\",\"type\":\"scatter\"},{\"hoverinfo\":\"text\",\"marker\":{\"color\":\"rgb(61,153,112)\"},\"mode\":\"lines\",\"x\":[25.0,25.0,43.75,43.75],\"xaxis\":\"x\",\"y\":[0.0,1.6449819136366497,1.6449819136366497,1.0647382743132376],\"yaxis\":\"y\",\"type\":\"scatter\"},{\"hoverinfo\":\"text\",\"marker\":{\"color\":\"rgb(61,153,112)\"},\"mode\":\"lines\",\"x\":[10.0,10.0,34.375,34.375],\"xaxis\":\"x\",\"y\":[1.3766427250461366,2.033527592825295,2.033527592825295,1.6449819136366497],\"yaxis\":\"y\",\"type\":\"scatter\"},{\"hoverinfo\":\"text\",\"marker\":{\"color\":\"rgb(61,153,112)\"},\"mode\":\"lines\",\"x\":[75.0,75.0,85.0,85.0],\"xaxis\":\"x\",\"y\":[0.0,0.17678163154097484,0.17678163154097484,0.0],\"yaxis\":\"y\",\"type\":\"scatter\"},{\"hoverinfo\":\"text\",\"marker\":{\"color\":\"rgb(61,153,112)\"},\"mode\":\"lines\",\"x\":[115.0,115.0,125.0,125.0],\"xaxis\":\"x\",\"y\":[0.0,0.5024131758914188,0.5024131758914188,0.0],\"yaxis\":\"y\",\"type\":\"scatter\"},{\"hoverinfo\":\"text\",\"marker\":{\"color\":\"rgb(61,153,112)\"},\"mode\":\"lines\",\"x\":[105.0,105.0,120.0,120.0],\"xaxis\":\"x\",\"y\":[0.0,0.8603083261505542,0.8603083261505542,0.5024131758914188],\"yaxis\":\"y\",\"type\":\"scatter\"},{\"hoverinfo\":\"text\",\"marker\":{\"color\":\"rgb(61,153,112)\"},\"mode\":\"lines\",\"x\":[95.0,95.0,112.5,112.5],\"xaxis\":\"x\",\"y\":[0.0,1.3240455436276783,1.3240455436276783,0.8603083261505542],\"yaxis\":\"y\",\"type\":\"scatter\"},{\"hoverinfo\":\"text\",\"marker\":{\"color\":\"rgb(61,153,112)\"},\"mode\":\"lines\",\"x\":[80.0,80.0,103.75,103.75],\"xaxis\":\"x\",\"y\":[0.17678163154097484,2.074224751629029,2.074224751629029,1.3240455436276783],\"yaxis\":\"y\",\"type\":\"scatter\"},{\"hoverinfo\":\"text\",\"marker\":{\"color\":\"rgb(61,153,112)\"},\"mode\":\"lines\",\"x\":[22.1875,22.1875,91.875,91.875],\"xaxis\":\"x\",\"y\":[2.033527592825295,2.581499712605417,2.581499712605417,2.074224751629029],\"yaxis\":\"y\",\"type\":\"scatter\"},{\"hoverinfo\":\"text\",\"marker\":{\"color\":\"rgb(61,153,112)\"},\"mode\":\"lines\",\"x\":[145.0,145.0,155.0,155.0],\"xaxis\":\"x\",\"y\":[0.0,0.7931618327872396,0.7931618327872396,0.0],\"yaxis\":\"y\",\"type\":\"scatter\"},{\"hoverinfo\":\"text\",\"marker\":{\"color\":\"rgb(61,153,112)\"},\"mode\":\"lines\",\"x\":[135.0,135.0,150.0,150.0],\"xaxis\":\"x\",\"y\":[0.0,1.3534732972795,1.3534732972795,0.7931618327872396],\"yaxis\":\"y\",\"type\":\"scatter\"},{\"hoverinfo\":\"text\",\"marker\":{\"color\":\"rgb(61,153,112)\"},\"mode\":\"lines\",\"x\":[175.0,175.0,185.0,185.0],\"xaxis\":\"x\",\"y\":[0.0,0.6314305668042566,0.6314305668042566,0.0],\"yaxis\":\"y\",\"type\":\"scatter\"},{\"hoverinfo\":\"text\",\"marker\":{\"color\":\"rgb(61,153,112)\"},\"mode\":\"lines\",\"x\":[205.0,205.0,215.0,215.0],\"xaxis\":\"x\",\"y\":[0.0,0.3668481894353864,0.3668481894353864,0.0],\"yaxis\":\"y\",\"type\":\"scatter\"},{\"hoverinfo\":\"text\",\"marker\":{\"color\":\"rgb(61,153,112)\"},\"mode\":\"lines\",\"x\":[195.0,195.0,210.0,210.0],\"xaxis\":\"x\",\"y\":[0.0,0.8044198168750263,0.8044198168750263,0.3668481894353864],\"yaxis\":\"y\",\"type\":\"scatter\"},{\"hoverinfo\":\"text\",\"marker\":{\"color\":\"rgb(61,153,112)\"},\"mode\":\"lines\",\"x\":[180.0,180.0,202.5,202.5],\"xaxis\":\"x\",\"y\":[0.6314305668042566,1.060819703608684,1.060819703608684,0.8044198168750263],\"yaxis\":\"y\",\"type\":\"scatter\"},{\"hoverinfo\":\"text\",\"marker\":{\"color\":\"rgb(61,153,112)\"},\"mode\":\"lines\",\"x\":[165.0,165.0,191.25,191.25],\"xaxis\":\"x\",\"y\":[0.0,1.5390978240787594,1.5390978240787594,1.060819703608684],\"yaxis\":\"y\",\"type\":\"scatter\"},{\"hoverinfo\":\"text\",\"marker\":{\"color\":\"rgb(61,153,112)\"},\"mode\":\"lines\",\"x\":[142.5,142.5,178.125,178.125],\"xaxis\":\"x\",\"y\":[1.3534732972795,1.9467369651771083,1.9467369651771083,1.5390978240787594],\"yaxis\":\"y\",\"type\":\"scatter\"},{\"hoverinfo\":\"text\",\"marker\":{\"color\":\"rgb(61,153,112)\"},\"mode\":\"lines\",\"x\":[225.0,225.0,235.0,235.0],\"xaxis\":\"x\",\"y\":[0.0,0.34756140922510254,0.34756140922510254,0.0],\"yaxis\":\"y\",\"type\":\"scatter\"},{\"hoverinfo\":\"text\",\"marker\":{\"color\":\"rgb(61,153,112)\"},\"mode\":\"lines\",\"x\":[245.0,245.0,255.0,255.0],\"xaxis\":\"x\",\"y\":[0.0,0.6665804637095292,0.6665804637095292,0.0],\"yaxis\":\"y\",\"type\":\"scatter\"},{\"hoverinfo\":\"text\",\"marker\":{\"color\":\"rgb(61,153,112)\"},\"mode\":\"lines\",\"x\":[230.0,230.0,250.0,250.0],\"xaxis\":\"x\",\"y\":[0.34756140922510254,0.8296824983056018,0.8296824983056018,0.6665804637095292],\"yaxis\":\"y\",\"type\":\"scatter\"},{\"hoverinfo\":\"text\",\"marker\":{\"color\":\"rgb(61,153,112)\"},\"mode\":\"lines\",\"x\":[265.0,265.0,275.0,275.0],\"xaxis\":\"x\",\"y\":[0.0,0.33640721453094435,0.33640721453094435,0.0],\"yaxis\":\"y\",\"type\":\"scatter\"},{\"hoverinfo\":\"text\",\"marker\":{\"color\":\"rgb(61,153,112)\"},\"mode\":\"lines\",\"x\":[285.0,285.0,295.0,295.0],\"xaxis\":\"x\",\"y\":[0.0,0.05935923420498357,0.05935923420498357,0.0],\"yaxis\":\"y\",\"type\":\"scatter\"},{\"hoverinfo\":\"text\",\"marker\":{\"color\":\"rgb(61,153,112)\"},\"mode\":\"lines\",\"x\":[305.0,305.0,315.0,315.0],\"xaxis\":\"x\",\"y\":[0.0,0.22929562005336643,0.22929562005336643,0.0],\"yaxis\":\"y\",\"type\":\"scatter\"},{\"hoverinfo\":\"text\",\"marker\":{\"color\":\"rgb(61,153,112)\"},\"mode\":\"lines\",\"x\":[290.0,290.0,310.0,310.0],\"xaxis\":\"x\",\"y\":[0.05935923420498357,0.7329632731058123,0.7329632731058123,0.22929562005336643],\"yaxis\":\"y\",\"type\":\"scatter\"},{\"hoverinfo\":\"text\",\"marker\":{\"color\":\"rgb(61,153,112)\"},\"mode\":\"lines\",\"x\":[335.0,335.0,345.0,345.0],\"xaxis\":\"x\",\"y\":[0.0,0.07255017513942419,0.07255017513942419,0.0],\"yaxis\":\"y\",\"type\":\"scatter\"},{\"hoverinfo\":\"text\",\"marker\":{\"color\":\"rgb(61,153,112)\"},\"mode\":\"lines\",\"x\":[355.0,355.0,365.0,365.0],\"xaxis\":\"x\",\"y\":[0.0,0.14378125618540472,0.14378125618540472,0.0],\"yaxis\":\"y\",\"type\":\"scatter\"},{\"hoverinfo\":\"text\",\"marker\":{\"color\":\"rgb(61,153,112)\"},\"mode\":\"lines\",\"x\":[340.0,340.0,360.0,360.0],\"xaxis\":\"x\",\"y\":[0.07255017513942419,0.48858516762599186,0.48858516762599186,0.14378125618540472],\"yaxis\":\"y\",\"type\":\"scatter\"},{\"hoverinfo\":\"text\",\"marker\":{\"color\":\"rgb(61,153,112)\"},\"mode\":\"lines\",\"x\":[325.0,325.0,350.0,350.0],\"xaxis\":\"x\",\"y\":[0.0,0.8844116212932362,0.8844116212932362,0.48858516762599186],\"yaxis\":\"y\",\"type\":\"scatter\"},{\"hoverinfo\":\"text\",\"marker\":{\"color\":\"rgb(61,153,112)\"},\"mode\":\"lines\",\"x\":[300.0,300.0,337.5,337.5],\"xaxis\":\"x\",\"y\":[0.7329632731058123,1.0115651357275055,1.0115651357275055,0.8844116212932362],\"yaxis\":\"y\",\"type\":\"scatter\"},{\"hoverinfo\":\"text\",\"marker\":{\"color\":\"rgb(61,153,112)\"},\"mode\":\"lines\",\"x\":[270.0,270.0,318.75,318.75],\"xaxis\":\"x\",\"y\":[0.33640721453094435,1.1107223948711185,1.1107223948711185,1.0115651357275055],\"yaxis\":\"y\",\"type\":\"scatter\"},{\"hoverinfo\":\"text\",\"marker\":{\"color\":\"rgb(61,153,112)\"},\"mode\":\"lines\",\"x\":[240.0,240.0,294.375,294.375],\"xaxis\":\"x\",\"y\":[0.8296824983056018,1.8085630468508815,1.8085630468508815,1.1107223948711185],\"yaxis\":\"y\",\"type\":\"scatter\"},{\"hoverinfo\":\"text\",\"marker\":{\"color\":\"rgb(61,153,112)\"},\"mode\":\"lines\",\"x\":[385.0,385.0,395.0,395.0],\"xaxis\":\"x\",\"y\":[0.0,0.0,0.0,0.0],\"yaxis\":\"y\",\"type\":\"scatter\"},{\"hoverinfo\":\"text\",\"marker\":{\"color\":\"rgb(61,153,112)\"},\"mode\":\"lines\",\"x\":[415.0,415.0,425.0,425.0],\"xaxis\":\"x\",\"y\":[0.0,0.0,0.0,0.0],\"yaxis\":\"y\",\"type\":\"scatter\"},{\"hoverinfo\":\"text\",\"marker\":{\"color\":\"rgb(61,153,112)\"},\"mode\":\"lines\",\"x\":[445.0,445.0,455.0,455.0],\"xaxis\":\"x\",\"y\":[0.0,0.0,0.0,0.0],\"yaxis\":\"y\",\"type\":\"scatter\"},{\"hoverinfo\":\"text\",\"marker\":{\"color\":\"rgb(61,153,112)\"},\"mode\":\"lines\",\"x\":[435.0,435.0,450.0,450.0],\"xaxis\":\"x\",\"y\":[0.0,0.0,0.0,0.0],\"yaxis\":\"y\",\"type\":\"scatter\"},{\"hoverinfo\":\"text\",\"marker\":{\"color\":\"rgb(61,153,112)\"},\"mode\":\"lines\",\"x\":[420.0,420.0,442.5,442.5],\"xaxis\":\"x\",\"y\":[0.0,0.00659547046722031,0.00659547046722031,0.0],\"yaxis\":\"y\",\"type\":\"scatter\"},{\"hoverinfo\":\"text\",\"marker\":{\"color\":\"rgb(61,153,112)\"},\"mode\":\"lines\",\"x\":[405.0,405.0,431.25,431.25],\"xaxis\":\"x\",\"y\":[0.0,0.2091572409647399,0.2091572409647399,0.00659547046722031],\"yaxis\":\"y\",\"type\":\"scatter\"},{\"hoverinfo\":\"text\",\"marker\":{\"color\":\"rgb(61,153,112)\"},\"mode\":\"lines\",\"x\":[390.0,390.0,418.125,418.125],\"xaxis\":\"x\",\"y\":[0.0,0.6268105479053591,0.6268105479053591,0.2091572409647399],\"yaxis\":\"y\",\"type\":\"scatter\"},{\"hoverinfo\":\"text\",\"marker\":{\"color\":\"rgb(61,153,112)\"},\"mode\":\"lines\",\"x\":[375.0,375.0,404.0625,404.0625],\"xaxis\":\"x\",\"y\":[0.0,1.386578117151217,1.386578117151217,0.6268105479053591],\"yaxis\":\"y\",\"type\":\"scatter\"},{\"hoverinfo\":\"text\",\"marker\":{\"color\":\"rgb(61,153,112)\"},\"mode\":\"lines\",\"x\":[475.0,475.0,485.0,485.0],\"xaxis\":\"x\",\"y\":[0.0,0.0,0.0,0.0],\"yaxis\":\"y\",\"type\":\"scatter\"},{\"hoverinfo\":\"text\",\"marker\":{\"color\":\"rgb(61,153,112)\"},\"mode\":\"lines\",\"x\":[465.0,465.0,480.0,480.0],\"xaxis\":\"x\",\"y\":[0.0,0.7720184531902091,0.7720184531902091,0.0],\"yaxis\":\"y\",\"type\":\"scatter\"},{\"hoverinfo\":\"text\",\"marker\":{\"color\":\"rgb(61,153,112)\"},\"mode\":\"lines\",\"x\":[515.0,515.0,525.0,525.0],\"xaxis\":\"x\",\"y\":[0.0,0.5109143115690568,0.5109143115690568,0.0],\"yaxis\":\"y\",\"type\":\"scatter\"},{\"hoverinfo\":\"text\",\"marker\":{\"color\":\"rgb(61,153,112)\"},\"mode\":\"lines\",\"x\":[505.0,505.0,520.0,520.0],\"xaxis\":\"x\",\"y\":[0.0,0.7424460576153299,0.7424460576153299,0.5109143115690568],\"yaxis\":\"y\",\"type\":\"scatter\"},{\"hoverinfo\":\"text\",\"marker\":{\"color\":\"rgb(61,153,112)\"},\"mode\":\"lines\",\"x\":[495.0,495.0,512.5,512.5],\"xaxis\":\"x\",\"y\":[0.0,1.0090353699490506,1.0090353699490506,0.7424460576153299],\"yaxis\":\"y\",\"type\":\"scatter\"},{\"hoverinfo\":\"text\",\"marker\":{\"color\":\"rgb(61,153,112)\"},\"mode\":\"lines\",\"x\":[472.5,472.5,503.75,503.75],\"xaxis\":\"x\",\"y\":[0.7720184531902091,1.39318680813606,1.39318680813606,1.0090353699490506],\"yaxis\":\"y\",\"type\":\"scatter\"},{\"hoverinfo\":\"text\",\"marker\":{\"color\":\"rgb(61,153,112)\"},\"mode\":\"lines\",\"x\":[389.53125,389.53125,488.125,488.125],\"xaxis\":\"x\",\"y\":[1.386578117151217,2.155744664953073,2.155744664953073,1.39318680813606],\"yaxis\":\"y\",\"type\":\"scatter\"},{\"hoverinfo\":\"text\",\"marker\":{\"color\":\"rgb(61,153,112)\"},\"mode\":\"lines\",\"x\":[267.1875,267.1875,438.828125,438.828125],\"xaxis\":\"x\",\"y\":[1.8085630468508815,2.7543031827269617,2.7543031827269617,2.155744664953073],\"yaxis\":\"y\",\"type\":\"scatter\"},{\"hoverinfo\":\"text\",\"marker\":{\"color\":\"rgb(61,153,112)\"},\"mode\":\"lines\",\"x\":[160.3125,160.3125,353.0078125,353.0078125],\"xaxis\":\"x\",\"y\":[1.9467369651771083,3.515999960363973,3.515999960363973,2.7543031827269617],\"yaxis\":\"y\",\"type\":\"scatter\"},{\"hoverinfo\":\"text\",\"marker\":{\"color\":\"rgb(61,153,112)\"},\"mode\":\"lines\",\"x\":[57.03125,57.03125,256.66015625,256.66015625],\"xaxis\":\"x\",\"y\":[2.581499712605417,4.47625933333318,4.47625933333318,3.515999960363973],\"yaxis\":\"y\",\"type\":\"scatter\"},{\"hoverinfo\":\"text\",\"marker\":{\"color\":\"rgb(61,153,112)\"},\"mode\":\"lines\",\"x\":[555.0,555.0,565.0,565.0],\"xaxis\":\"x\",\"y\":[0.0,0.8608245840194403,0.8608245840194403,0.0],\"yaxis\":\"y\",\"type\":\"scatter\"},{\"hoverinfo\":\"text\",\"marker\":{\"color\":\"rgb(61,153,112)\"},\"mode\":\"lines\",\"x\":[545.0,545.0,560.0,560.0],\"xaxis\":\"x\",\"y\":[0.0,1.238530555143815,1.238530555143815,0.8608245840194403],\"yaxis\":\"y\",\"type\":\"scatter\"},{\"hoverinfo\":\"text\",\"marker\":{\"color\":\"rgb(61,153,112)\"},\"mode\":\"lines\",\"x\":[595.0,595.0,605.0,605.0],\"xaxis\":\"x\",\"y\":[0.0,0.02110550549510526,0.02110550549510526,0.0],\"yaxis\":\"y\",\"type\":\"scatter\"},{\"hoverinfo\":\"text\",\"marker\":{\"color\":\"rgb(61,153,112)\"},\"mode\":\"lines\",\"x\":[585.0,585.0,600.0,600.0],\"xaxis\":\"x\",\"y\":[0.0,0.42853672687095534,0.42853672687095534,0.02110550549510526],\"yaxis\":\"y\",\"type\":\"scatter\"},{\"hoverinfo\":\"text\",\"marker\":{\"color\":\"rgb(61,153,112)\"},\"mode\":\"lines\",\"x\":[575.0,575.0,592.5,592.5],\"xaxis\":\"x\",\"y\":[0.0,1.5359234090133622,1.5359234090133622,0.42853672687095534],\"yaxis\":\"y\",\"type\":\"scatter\"},{\"hoverinfo\":\"text\",\"marker\":{\"color\":\"rgb(61,153,112)\"},\"mode\":\"lines\",\"x\":[625.0,625.0,635.0,635.0],\"xaxis\":\"x\",\"y\":[0.0,0.5133169165772321,0.5133169165772321,0.0],\"yaxis\":\"y\",\"type\":\"scatter\"},{\"hoverinfo\":\"text\",\"marker\":{\"color\":\"rgb(61,153,112)\"},\"mode\":\"lines\",\"x\":[615.0,615.0,630.0,630.0],\"xaxis\":\"x\",\"y\":[0.0,0.608250912963334,0.608250912963334,0.5133169165772321],\"yaxis\":\"y\",\"type\":\"scatter\"},{\"hoverinfo\":\"text\",\"marker\":{\"color\":\"rgb(61,153,112)\"},\"mode\":\"lines\",\"x\":[655.0,655.0,665.0,665.0],\"xaxis\":\"x\",\"y\":[0.0,0.3165825824265789,0.3165825824265789,0.0],\"yaxis\":\"y\",\"type\":\"scatter\"},{\"hoverinfo\":\"text\",\"marker\":{\"color\":\"rgb(61,153,112)\"},\"mode\":\"lines\",\"x\":[645.0,645.0,660.0,660.0],\"xaxis\":\"x\",\"y\":[0.0,1.0054042073585485,1.0054042073585485,0.3165825824265789],\"yaxis\":\"y\",\"type\":\"scatter\"},{\"hoverinfo\":\"text\",\"marker\":{\"color\":\"rgb(61,153,112)\"},\"mode\":\"lines\",\"x\":[622.5,622.5,652.5,652.5],\"xaxis\":\"x\",\"y\":[0.608250912963334,1.7043392943616007,1.7043392943616007,1.0054042073585485],\"yaxis\":\"y\",\"type\":\"scatter\"},{\"hoverinfo\":\"text\",\"marker\":{\"color\":\"rgb(61,153,112)\"},\"mode\":\"lines\",\"x\":[583.75,583.75,637.5,637.5],\"xaxis\":\"x\",\"y\":[1.5359234090133622,2.2071396304756745,2.2071396304756745,1.7043392943616007],\"yaxis\":\"y\",\"type\":\"scatter\"},{\"hoverinfo\":\"text\",\"marker\":{\"color\":\"rgb(61,153,112)\"},\"mode\":\"lines\",\"x\":[552.5,552.5,610.625,610.625],\"xaxis\":\"x\",\"y\":[1.238530555143815,2.7408967857266693,2.7408967857266693,2.2071396304756745],\"yaxis\":\"y\",\"type\":\"scatter\"},{\"hoverinfo\":\"text\",\"marker\":{\"color\":\"rgb(61,153,112)\"},\"mode\":\"lines\",\"x\":[695.0,695.0,705.0,705.0],\"xaxis\":\"x\",\"y\":[0.0,0.20314049039038817,0.20314049039038817,0.0],\"yaxis\":\"y\",\"type\":\"scatter\"},{\"hoverinfo\":\"text\",\"marker\":{\"color\":\"rgb(61,153,112)\"},\"mode\":\"lines\",\"x\":[685.0,685.0,700.0,700.0],\"xaxis\":\"x\",\"y\":[0.0,1.110998431165903,1.110998431165903,0.20314049039038817],\"yaxis\":\"y\",\"type\":\"scatter\"},{\"hoverinfo\":\"text\",\"marker\":{\"color\":\"rgb(61,153,112)\"},\"mode\":\"lines\",\"x\":[735.0,735.0,745.0,745.0],\"xaxis\":\"x\",\"y\":[0.0,0.07255017513942436,0.07255017513942436,0.0],\"yaxis\":\"y\",\"type\":\"scatter\"},{\"hoverinfo\":\"text\",\"marker\":{\"color\":\"rgb(61,153,112)\"},\"mode\":\"lines\",\"x\":[725.0,725.0,740.0,740.0],\"xaxis\":\"x\",\"y\":[0.0,0.6140785793283269,0.6140785793283269,0.07255017513942436],\"yaxis\":\"y\",\"type\":\"scatter\"},{\"hoverinfo\":\"text\",\"marker\":{\"color\":\"rgb(61,153,112)\"},\"mode\":\"lines\",\"x\":[715.0,715.0,732.5,732.5],\"xaxis\":\"x\",\"y\":[0.0,0.9245680092932024,0.9245680092932024,0.6140785793283269],\"yaxis\":\"y\",\"type\":\"scatter\"},{\"hoverinfo\":\"text\",\"marker\":{\"color\":\"rgb(61,153,112)\"},\"mode\":\"lines\",\"x\":[755.0,755.0,765.0,765.0],\"xaxis\":\"x\",\"y\":[0.0,0.9032805661391312,0.9032805661391312,0.0],\"yaxis\":\"y\",\"type\":\"scatter\"},{\"hoverinfo\":\"text\",\"marker\":{\"color\":\"rgb(61,153,112)\"},\"mode\":\"lines\",\"x\":[785.0,785.0,795.0,795.0],\"xaxis\":\"x\",\"y\":[0.0,0.669570806084279,0.669570806084279,0.0],\"yaxis\":\"y\",\"type\":\"scatter\"},{\"hoverinfo\":\"text\",\"marker\":{\"color\":\"rgb(61,153,112)\"},\"mode\":\"lines\",\"x\":[775.0,775.0,790.0,790.0],\"xaxis\":\"x\",\"y\":[0.0,1.2147791979358908,1.2147791979358908,0.669570806084279],\"yaxis\":\"y\",\"type\":\"scatter\"},{\"hoverinfo\":\"text\",\"marker\":{\"color\":\"rgb(61,153,112)\"},\"mode\":\"lines\",\"x\":[760.0,760.0,782.5,782.5],\"xaxis\":\"x\",\"y\":[0.9032805661391312,1.2830210021437727,1.2830210021437727,1.2147791979358908],\"yaxis\":\"y\",\"type\":\"scatter\"},{\"hoverinfo\":\"text\",\"marker\":{\"color\":\"rgb(61,153,112)\"},\"mode\":\"lines\",\"x\":[723.75,723.75,771.25,771.25],\"xaxis\":\"x\",\"y\":[0.9245680092932024,1.782625736811748,1.782625736811748,1.2830210021437727],\"yaxis\":\"y\",\"type\":\"scatter\"},{\"hoverinfo\":\"text\",\"marker\":{\"color\":\"rgb(61,153,112)\"},\"mode\":\"lines\",\"x\":[692.5,692.5,747.5,747.5],\"xaxis\":\"x\",\"y\":[1.110998431165903,1.9960734192638436,1.9960734192638436,1.782625736811748],\"yaxis\":\"y\",\"type\":\"scatter\"},{\"hoverinfo\":\"text\",\"marker\":{\"color\":\"rgb(61,153,112)\"},\"mode\":\"lines\",\"x\":[675.0,675.0,720.0,720.0],\"xaxis\":\"x\",\"y\":[0.0,2.9894599976628395,2.9894599976628395,1.9960734192638436],\"yaxis\":\"y\",\"type\":\"scatter\"},{\"hoverinfo\":\"text\",\"marker\":{\"color\":\"rgb(61,153,112)\"},\"mode\":\"lines\",\"x\":[581.5625,581.5625,697.5,697.5],\"xaxis\":\"x\",\"y\":[2.7408967857266693,3.6659931641046484,3.6659931641046484,2.9894599976628395],\"yaxis\":\"y\",\"type\":\"scatter\"},{\"hoverinfo\":\"text\",\"marker\":{\"color\":\"rgb(61,153,112)\"},\"mode\":\"lines\",\"x\":[535.0,535.0,639.53125,639.53125],\"xaxis\":\"x\",\"y\":[0.0,4.620329962210145,4.620329962210145,3.6659931641046484],\"yaxis\":\"y\",\"type\":\"scatter\"},{\"hoverinfo\":\"text\",\"marker\":{\"color\":\"rgb(61,153,112)\"},\"mode\":\"lines\",\"x\":[805.0,805.0,815.0,815.0],\"xaxis\":\"x\",\"y\":[0.0,0.7573302012861695,0.7573302012861695,0.0],\"yaxis\":\"y\",\"type\":\"scatter\"},{\"hoverinfo\":\"text\",\"marker\":{\"color\":\"rgb(61,153,112)\"},\"mode\":\"lines\",\"x\":[845.0,845.0,855.0,855.0],\"xaxis\":\"x\",\"y\":[0.0,0.031658258242657895,0.031658258242657895,0.0],\"yaxis\":\"y\",\"type\":\"scatter\"},{\"hoverinfo\":\"text\",\"marker\":{\"color\":\"rgb(61,153,112)\"},\"mode\":\"lines\",\"x\":[875.0,875.0,885.0,885.0],\"xaxis\":\"x\",\"y\":[0.0,0.00923365865410855,0.00923365865410855,0.0],\"yaxis\":\"y\",\"type\":\"scatter\"},{\"hoverinfo\":\"text\",\"marker\":{\"color\":\"rgb(61,153,112)\"},\"mode\":\"lines\",\"x\":[865.0,865.0,880.0,880.0],\"xaxis\":\"x\",\"y\":[0.0,0.13985695653704647,0.13985695653704647,0.00923365865410855],\"yaxis\":\"y\",\"type\":\"scatter\"},{\"hoverinfo\":\"text\",\"marker\":{\"color\":\"rgb(61,153,112)\"},\"mode\":\"lines\",\"x\":[850.0,850.0,872.5,872.5],\"xaxis\":\"x\",\"y\":[0.031658258242657895,0.3030442659319022,0.3030442659319022,0.13985695653704647],\"yaxis\":\"y\",\"type\":\"scatter\"},{\"hoverinfo\":\"text\",\"marker\":{\"color\":\"rgb(61,153,112)\"},\"mode\":\"lines\",\"x\":[835.0,835.0,861.25,861.25],\"xaxis\":\"x\",\"y\":[0.0,0.5225353016837871,0.5225353016837871,0.3030442659319022],\"yaxis\":\"y\",\"type\":\"scatter\"},{\"hoverinfo\":\"text\",\"marker\":{\"color\":\"rgb(61,153,112)\"},\"mode\":\"lines\",\"x\":[825.0,825.0,848.125,848.125],\"xaxis\":\"x\",\"y\":[0.0,0.5886504543166151,0.5886504543166151,0.5225353016837871],\"yaxis\":\"y\",\"type\":\"scatter\"},{\"hoverinfo\":\"text\",\"marker\":{\"color\":\"rgb(61,153,112)\"},\"mode\":\"lines\",\"x\":[905.0,905.0,915.0,915.0],\"xaxis\":\"x\",\"y\":[0.0,0.21595428191804764,0.21595428191804764,0.0],\"yaxis\":\"y\",\"type\":\"scatter\"},{\"hoverinfo\":\"text\",\"marker\":{\"color\":\"rgb(61,153,112)\"},\"mode\":\"lines\",\"x\":[895.0,895.0,910.0,910.0],\"xaxis\":\"x\",\"y\":[0.0,0.6616960915858818,0.6616960915858818,0.21595428191804764],\"yaxis\":\"y\",\"type\":\"scatter\"},{\"hoverinfo\":\"text\",\"marker\":{\"color\":\"rgb(61,153,112)\"},\"mode\":\"lines\",\"x\":[836.5625,836.5625,902.5,902.5],\"xaxis\":\"x\",\"y\":[0.5886504543166151,1.022072398119621,1.022072398119621,0.6616960915858818],\"yaxis\":\"y\",\"type\":\"scatter\"},{\"hoverinfo\":\"text\",\"marker\":{\"color\":\"rgb(61,153,112)\"},\"mode\":\"lines\",\"x\":[810.0,810.0,869.53125,869.53125],\"xaxis\":\"x\",\"y\":[0.7573302012861695,1.1324604615011835,1.1324604615011835,1.022072398119621],\"yaxis\":\"y\",\"type\":\"scatter\"},{\"hoverinfo\":\"text\",\"marker\":{\"color\":\"rgb(61,153,112)\"},\"mode\":\"lines\",\"x\":[925.0,925.0,935.0,935.0],\"xaxis\":\"x\",\"y\":[0.0,0.27922827888262536,0.27922827888262536,0.0],\"yaxis\":\"y\",\"type\":\"scatter\"},{\"hoverinfo\":\"text\",\"marker\":{\"color\":\"rgb(61,153,112)\"},\"mode\":\"lines\",\"x\":[955.0,955.0,965.0,965.0],\"xaxis\":\"x\",\"y\":[0.0,0.13948321668990776,0.13948321668990776,0.0],\"yaxis\":\"y\",\"type\":\"scatter\"},{\"hoverinfo\":\"text\",\"marker\":{\"color\":\"rgb(61,153,112)\"},\"mode\":\"lines\",\"x\":[975.0,975.0,985.0,985.0],\"xaxis\":\"x\",\"y\":[0.0,0.011871846840996708,0.011871846840996708,0.0],\"yaxis\":\"y\",\"type\":\"scatter\"},{\"hoverinfo\":\"text\",\"marker\":{\"color\":\"rgb(61,153,112)\"},\"mode\":\"lines\",\"x\":[995.0,995.0,1005.0,1005.0],\"xaxis\":\"x\",\"y\":[0.0,0.13948321668990776,0.13948321668990776,0.0],\"yaxis\":\"y\",\"type\":\"scatter\"},{\"hoverinfo\":\"text\",\"marker\":{\"color\":\"rgb(61,153,112)\"},\"mode\":\"lines\",\"x\":[980.0,980.0,1000.0,1000.0],\"xaxis\":\"x\",\"y\":[0.011871846840996708,0.3854127477633728,0.3854127477633728,0.13948321668990776],\"yaxis\":\"y\",\"type\":\"scatter\"},{\"hoverinfo\":\"text\",\"marker\":{\"color\":\"rgb(61,153,112)\"},\"mode\":\"lines\",\"x\":[960.0,960.0,990.0,990.0],\"xaxis\":\"x\",\"y\":[0.13948321668990776,0.7053607980247537,0.7053607980247537,0.3854127477633728],\"yaxis\":\"y\",\"type\":\"scatter\"},{\"hoverinfo\":\"text\",\"marker\":{\"color\":\"rgb(61,153,112)\"},\"mode\":\"lines\",\"x\":[945.0,945.0,975.0,975.0],\"xaxis\":\"x\",\"y\":[0.0,1.1026303919999334,1.1026303919999334,0.7053607980247537],\"yaxis\":\"y\",\"type\":\"scatter\"},{\"hoverinfo\":\"text\",\"marker\":{\"color\":\"rgb(61,153,112)\"},\"mode\":\"lines\",\"x\":[930.0,930.0,960.0,960.0],\"xaxis\":\"x\",\"y\":[0.27922827888262536,1.297333261925008,1.297333261925008,1.1026303919999334],\"yaxis\":\"y\",\"type\":\"scatter\"},{\"hoverinfo\":\"text\",\"marker\":{\"color\":\"rgb(61,153,112)\"},\"mode\":\"lines\",\"x\":[839.765625,839.765625,945.0,945.0],\"xaxis\":\"x\",\"y\":[1.1324604615011835,1.5965750378860881,1.5965750378860881,1.297333261925008],\"yaxis\":\"y\",\"type\":\"scatter\"},{\"hoverinfo\":\"text\",\"marker\":{\"color\":\"rgb(61,153,112)\"},\"mode\":\"lines\",\"x\":[1025.0,1025.0,1035.0,1035.0],\"xaxis\":\"x\",\"y\":[0.0,0.45867692989585823,0.45867692989585823,0.0],\"yaxis\":\"y\",\"type\":\"scatter\"},{\"hoverinfo\":\"text\",\"marker\":{\"color\":\"rgb(61,153,112)\"},\"mode\":\"lines\",\"x\":[1015.0,1015.0,1030.0,1030.0],\"xaxis\":\"x\",\"y\":[0.0,0.8452840500392081,0.8452840500392081,0.45867692989585823],\"yaxis\":\"y\",\"type\":\"scatter\"},{\"hoverinfo\":\"text\",\"marker\":{\"color\":\"rgb(61,153,112)\"},\"mode\":\"lines\",\"x\":[1045.0,1045.0,1055.0,1055.0],\"xaxis\":\"x\",\"y\":[0.0,0.5047019005026115,0.5047019005026115,0.0],\"yaxis\":\"y\",\"type\":\"scatter\"},{\"hoverinfo\":\"text\",\"marker\":{\"color\":\"rgb(61,153,112)\"},\"mode\":\"lines\",\"x\":[1075.0,1075.0,1085.0,1085.0],\"xaxis\":\"x\",\"y\":[0.0,0.3196750839218841,0.3196750839218841,0.0],\"yaxis\":\"y\",\"type\":\"scatter\"},{\"hoverinfo\":\"text\",\"marker\":{\"color\":\"rgb(61,153,112)\"},\"mode\":\"lines\",\"x\":[1065.0,1065.0,1080.0,1080.0],\"xaxis\":\"x\",\"y\":[0.0,0.5206759742362687,0.5206759742362687,0.3196750839218841],\"yaxis\":\"y\",\"type\":\"scatter\"},{\"hoverinfo\":\"text\",\"marker\":{\"color\":\"rgb(61,153,112)\"},\"mode\":\"lines\",\"x\":[1105.0,1105.0,1115.0,1115.0],\"xaxis\":\"x\",\"y\":[0.0,0.0,0.0,0.0],\"yaxis\":\"y\",\"type\":\"scatter\"},{\"hoverinfo\":\"text\",\"marker\":{\"color\":\"rgb(61,153,112)\"},\"mode\":\"lines\",\"x\":[1095.0,1095.0,1110.0,1110.0],\"xaxis\":\"x\",\"y\":[0.0,0.42819665454013367,0.42819665454013367,0.0],\"yaxis\":\"y\",\"type\":\"scatter\"},{\"hoverinfo\":\"text\",\"marker\":{\"color\":\"rgb(61,153,112)\"},\"mode\":\"lines\",\"x\":[1125.0,1125.0,1135.0,1135.0],\"xaxis\":\"x\",\"y\":[0.0,0.43662014492999013,0.43662014492999013,0.0],\"yaxis\":\"y\",\"type\":\"scatter\"},{\"hoverinfo\":\"text\",\"marker\":{\"color\":\"rgb(61,153,112)\"},\"mode\":\"lines\",\"x\":[1102.5,1102.5,1130.0,1130.0],\"xaxis\":\"x\",\"y\":[0.42819665454013367,0.687582258922163,0.687582258922163,0.43662014492999013],\"yaxis\":\"y\",\"type\":\"scatter\"},{\"hoverinfo\":\"text\",\"marker\":{\"color\":\"rgb(61,153,112)\"},\"mode\":\"lines\",\"x\":[1072.5,1072.5,1116.25,1116.25],\"xaxis\":\"x\",\"y\":[0.5206759742362687,0.9333532822742471,0.9333532822742471,0.687582258922163],\"yaxis\":\"y\",\"type\":\"scatter\"},{\"hoverinfo\":\"text\",\"marker\":{\"color\":\"rgb(61,153,112)\"},\"mode\":\"lines\",\"x\":[1050.0,1050.0,1094.375,1094.375],\"xaxis\":\"x\",\"y\":[0.5047019005026115,0.9757830262015764,0.9757830262015764,0.9333532822742471],\"yaxis\":\"y\",\"type\":\"scatter\"},{\"hoverinfo\":\"text\",\"marker\":{\"color\":\"rgb(61,153,112)\"},\"mode\":\"lines\",\"x\":[1145.0,1145.0,1155.0,1155.0],\"xaxis\":\"x\",\"y\":[0.0,0.5135165862378397,0.5135165862378397,0.0],\"yaxis\":\"y\",\"type\":\"scatter\"},{\"hoverinfo\":\"text\",\"marker\":{\"color\":\"rgb(61,153,112)\"},\"mode\":\"lines\",\"x\":[1165.0,1165.0,1175.0,1175.0],\"xaxis\":\"x\",\"y\":[0.0,0.3799404211862313,0.3799404211862313,0.0],\"yaxis\":\"y\",\"type\":\"scatter\"},{\"hoverinfo\":\"text\",\"marker\":{\"color\":\"rgb(61,153,112)\"},\"mode\":\"lines\",\"x\":[1185.0,1185.0,1195.0,1195.0],\"xaxis\":\"x\",\"y\":[0.0,0.003957282280332236,0.003957282280332236,0.0],\"yaxis\":\"y\",\"type\":\"scatter\"},{\"hoverinfo\":\"text\",\"marker\":{\"color\":\"rgb(61,153,112)\"},\"mode\":\"lines\",\"x\":[1205.0,1205.0,1215.0,1215.0],\"xaxis\":\"x\",\"y\":[0.0,0.11463027843191562,0.11463027843191562,0.0],\"yaxis\":\"y\",\"type\":\"scatter\"},{\"hoverinfo\":\"text\",\"marker\":{\"color\":\"rgb(61,153,112)\"},\"mode\":\"lines\",\"x\":[1190.0,1190.0,1210.0,1210.0],\"xaxis\":\"x\",\"y\":[0.003957282280332236,0.6215258543963026,0.6215258543963026,0.11463027843191562],\"yaxis\":\"y\",\"type\":\"scatter\"},{\"hoverinfo\":\"text\",\"marker\":{\"color\":\"rgb(61,153,112)\"},\"mode\":\"lines\",\"x\":[1170.0,1170.0,1200.0,1200.0],\"xaxis\":\"x\",\"y\":[0.3799404211862313,0.7394166301063599,0.7394166301063599,0.6215258543963026],\"yaxis\":\"y\",\"type\":\"scatter\"},{\"hoverinfo\":\"text\",\"marker\":{\"color\":\"rgb(61,153,112)\"},\"mode\":\"lines\",\"x\":[1150.0,1150.0,1185.0,1185.0],\"xaxis\":\"x\",\"y\":[0.5135165862378397,1.0702444529812802,1.0702444529812802,0.7394166301063599],\"yaxis\":\"y\",\"type\":\"scatter\"},{\"hoverinfo\":\"text\",\"marker\":{\"color\":\"rgb(61,153,112)\"},\"mode\":\"lines\",\"x\":[1072.1875,1072.1875,1167.5,1167.5],\"xaxis\":\"x\",\"y\":[0.9757830262015764,1.3195562125374303,1.3195562125374303,1.0702444529812802],\"yaxis\":\"y\",\"type\":\"scatter\"},{\"hoverinfo\":\"text\",\"marker\":{\"color\":\"rgb(61,153,112)\"},\"mode\":\"lines\",\"x\":[1022.5,1022.5,1119.84375,1119.84375],\"xaxis\":\"x\",\"y\":[0.8452840500392081,1.4691766215819533,1.4691766215819533,1.3195562125374303],\"yaxis\":\"y\",\"type\":\"scatter\"},{\"hoverinfo\":\"text\",\"marker\":{\"color\":\"rgb(61,153,112)\"},\"mode\":\"lines\",\"x\":[1235.0,1235.0,1245.0,1245.0],\"xaxis\":\"x\",\"y\":[0.0,0.3984118649954745,0.3984118649954745,0.0],\"yaxis\":\"y\",\"type\":\"scatter\"},{\"hoverinfo\":\"text\",\"marker\":{\"color\":\"rgb(61,153,112)\"},\"mode\":\"lines\",\"x\":[1265.0,1265.0,1275.0,1275.0],\"xaxis\":\"x\",\"y\":[0.0,0.10776334616106555,0.10776334616106555,0.0],\"yaxis\":\"y\",\"type\":\"scatter\"},{\"hoverinfo\":\"text\",\"marker\":{\"color\":\"rgb(61,153,112)\"},\"mode\":\"lines\",\"x\":[1255.0,1255.0,1270.0,1270.0],\"xaxis\":\"x\",\"y\":[0.0,0.5089940301976521,0.5089940301976521,0.10776334616106555],\"yaxis\":\"y\",\"type\":\"scatter\"},{\"hoverinfo\":\"text\",\"marker\":{\"color\":\"rgb(61,153,112)\"},\"mode\":\"lines\",\"x\":[1240.0,1240.0,1262.5,1262.5],\"xaxis\":\"x\",\"y\":[0.3984118649954745,1.0678656889179021,1.0678656889179021,0.5089940301976521],\"yaxis\":\"y\",\"type\":\"scatter\"},{\"hoverinfo\":\"text\",\"marker\":{\"color\":\"rgb(61,153,112)\"},\"mode\":\"lines\",\"x\":[1225.0,1225.0,1251.25,1251.25],\"xaxis\":\"x\",\"y\":[0.0,1.1625364070056756,1.1625364070056756,1.0678656889179021],\"yaxis\":\"y\",\"type\":\"scatter\"},{\"hoverinfo\":\"text\",\"marker\":{\"color\":\"rgb(61,153,112)\"},\"mode\":\"lines\",\"x\":[1315.0,1315.0,1325.0,1325.0],\"xaxis\":\"x\",\"y\":[0.0,0.0,0.0,0.0],\"yaxis\":\"y\",\"type\":\"scatter\"},{\"hoverinfo\":\"text\",\"marker\":{\"color\":\"rgb(61,153,112)\"},\"mode\":\"lines\",\"x\":[1305.0,1305.0,1320.0,1320.0],\"xaxis\":\"x\",\"y\":[0.0,0.21927306135912047,0.21927306135912047,0.0],\"yaxis\":\"y\",\"type\":\"scatter\"},{\"hoverinfo\":\"text\",\"marker\":{\"color\":\"rgb(61,153,112)\"},\"mode\":\"lines\",\"x\":[1295.0,1295.0,1312.5,1312.5],\"xaxis\":\"x\",\"y\":[0.0,0.40490630461108007,0.40490630461108007,0.21927306135912047],\"yaxis\":\"y\",\"type\":\"scatter\"},{\"hoverinfo\":\"text\",\"marker\":{\"color\":\"rgb(61,153,112)\"},\"mode\":\"lines\",\"x\":[1285.0,1285.0,1303.75,1303.75],\"xaxis\":\"x\",\"y\":[0.0,0.7339967786035912,0.7339967786035912,0.40490630461108007],\"yaxis\":\"y\",\"type\":\"scatter\"},{\"hoverinfo\":\"text\",\"marker\":{\"color\":\"rgb(61,153,112)\"},\"mode\":\"lines\",\"x\":[1335.0,1335.0,1345.0,1345.0],\"xaxis\":\"x\",\"y\":[0.0,0.07552692494306501,0.07552692494306501,0.0],\"yaxis\":\"y\",\"type\":\"scatter\"},{\"hoverinfo\":\"text\",\"marker\":{\"color\":\"rgb(61,153,112)\"},\"mode\":\"lines\",\"x\":[1375.0,1375.0,1385.0,1385.0],\"xaxis\":\"x\",\"y\":[0.0,0.1480404754202705,0.1480404754202705,0.0],\"yaxis\":\"y\",\"type\":\"scatter\"},{\"hoverinfo\":\"text\",\"marker\":{\"color\":\"rgb(61,153,112)\"},\"mode\":\"lines\",\"x\":[1365.0,1365.0,1380.0,1380.0],\"xaxis\":\"x\",\"y\":[0.0,0.24736330367902512,0.24736330367902512,0.1480404754202705],\"yaxis\":\"y\",\"type\":\"scatter\"},{\"hoverinfo\":\"text\",\"marker\":{\"color\":\"rgb(61,153,112)\"},\"mode\":\"lines\",\"x\":[1405.0,1405.0,1415.0,1415.0],\"xaxis\":\"x\",\"y\":[0.0,0.16098528993780198,0.16098528993780198,0.0],\"yaxis\":\"y\",\"type\":\"scatter\"},{\"hoverinfo\":\"text\",\"marker\":{\"color\":\"rgb(61,153,112)\"},\"mode\":\"lines\",\"x\":[1395.0,1395.0,1410.0,1410.0],\"xaxis\":\"x\",\"y\":[0.0,0.24989236006504278,0.24989236006504278,0.16098528993780198],\"yaxis\":\"y\",\"type\":\"scatter\"},{\"hoverinfo\":\"text\",\"marker\":{\"color\":\"rgb(61,153,112)\"},\"mode\":\"lines\",\"x\":[1372.5,1372.5,1402.5,1402.5],\"xaxis\":\"x\",\"y\":[0.24736330367902512,0.53899093688355,0.53899093688355,0.24989236006504278],\"yaxis\":\"y\",\"type\":\"scatter\"},{\"hoverinfo\":\"text\",\"marker\":{\"color\":\"rgb(61,153,112)\"},\"mode\":\"lines\",\"x\":[1355.0,1355.0,1387.5,1387.5],\"xaxis\":\"x\",\"y\":[0.0,0.61571528118491,0.61571528118491,0.53899093688355],\"yaxis\":\"y\",\"type\":\"scatter\"},{\"hoverinfo\":\"text\",\"marker\":{\"color\":\"rgb(61,153,112)\"},\"mode\":\"lines\",\"x\":[1340.0,1340.0,1371.25,1371.25],\"xaxis\":\"x\",\"y\":[0.07552692494306501,0.881784235162757,0.881784235162757,0.61571528118491],\"yaxis\":\"y\",\"type\":\"scatter\"},{\"hoverinfo\":\"text\",\"marker\":{\"color\":\"rgb(61,153,112)\"},\"mode\":\"lines\",\"x\":[1294.375,1294.375,1355.625,1355.625],\"xaxis\":\"x\",\"y\":[0.7339967786035912,1.0221313920867514,1.0221313920867514,0.881784235162757],\"yaxis\":\"y\",\"type\":\"scatter\"},{\"hoverinfo\":\"text\",\"marker\":{\"color\":\"rgb(61,153,112)\"},\"mode\":\"lines\",\"x\":[1425.0,1425.0,1435.0,1435.0],\"xaxis\":\"x\",\"y\":[0.0,0.3940674977541629,0.3940674977541629,0.0],\"yaxis\":\"y\",\"type\":\"scatter\"},{\"hoverinfo\":\"text\",\"marker\":{\"color\":\"rgb(61,153,112)\"},\"mode\":\"lines\",\"x\":[1455.0,1455.0,1465.0,1465.0],\"xaxis\":\"x\",\"y\":[0.0,0.02902007005576976,0.02902007005576976,0.0],\"yaxis\":\"y\",\"type\":\"scatter\"},{\"hoverinfo\":\"text\",\"marker\":{\"color\":\"rgb(61,153,112)\"},\"mode\":\"lines\",\"x\":[1445.0,1445.0,1460.0,1460.0],\"xaxis\":\"x\",\"y\":[0.0,0.15055193377250667,0.15055193377250667,0.02902007005576976],\"yaxis\":\"y\",\"type\":\"scatter\"},{\"hoverinfo\":\"text\",\"marker\":{\"color\":\"rgb(61,153,112)\"},\"mode\":\"lines\",\"x\":[1475.0,1475.0,1485.0,1485.0],\"xaxis\":\"x\",\"y\":[0.0,0.02902007005576976,0.02902007005576976,0.0],\"yaxis\":\"y\",\"type\":\"scatter\"},{\"hoverinfo\":\"text\",\"marker\":{\"color\":\"rgb(61,153,112)\"},\"mode\":\"lines\",\"x\":[1495.0,1495.0,1505.0,1505.0],\"xaxis\":\"x\",\"y\":[0.0,0.0870602101673092,0.0870602101673092,0.0],\"yaxis\":\"y\",\"type\":\"scatter\"},{\"hoverinfo\":\"text\",\"marker\":{\"color\":\"rgb(61,153,112)\"},\"mode\":\"lines\",\"x\":[1480.0,1480.0,1500.0,1500.0],\"xaxis\":\"x\",\"y\":[0.02902007005576976,0.2816750184487215,0.2816750184487215,0.0870602101673092],\"yaxis\":\"y\",\"type\":\"scatter\"},{\"hoverinfo\":\"text\",\"marker\":{\"color\":\"rgb(61,153,112)\"},\"mode\":\"lines\",\"x\":[1452.5,1452.5,1490.0,1490.0],\"xaxis\":\"x\",\"y\":[0.15055193377250667,0.5167319294187035,0.5167319294187035,0.2816750184487215],\"yaxis\":\"y\",\"type\":\"scatter\"},{\"hoverinfo\":\"text\",\"marker\":{\"color\":\"rgb(61,153,112)\"},\"mode\":\"lines\",\"x\":[1430.0,1430.0,1471.25,1471.25],\"xaxis\":\"x\",\"y\":[0.3940674977541629,0.6326273215250021,0.6326273215250021,0.5167319294187035],\"yaxis\":\"y\",\"type\":\"scatter\"},{\"hoverinfo\":\"text\",\"marker\":{\"color\":\"rgb(61,153,112)\"},\"mode\":\"lines\",\"x\":[1515.0,1515.0,1525.0,1525.0],\"xaxis\":\"x\",\"y\":[0.0,0.3176227369702831,0.3176227369702831,0.0],\"yaxis\":\"y\",\"type\":\"scatter\"},{\"hoverinfo\":\"text\",\"marker\":{\"color\":\"rgb(61,153,112)\"},\"mode\":\"lines\",\"x\":[1535.0,1535.0,1545.0,1545.0],\"xaxis\":\"x\",\"y\":[0.0,0.4366535540408523,0.4366535540408523,0.0],\"yaxis\":\"y\",\"type\":\"scatter\"},{\"hoverinfo\":\"text\",\"marker\":{\"color\":\"rgb(61,153,112)\"},\"mode\":\"lines\",\"x\":[1520.0,1520.0,1540.0,1540.0],\"xaxis\":\"x\",\"y\":[0.3176227369702831,0.661340547701305,0.661340547701305,0.4366535540408523],\"yaxis\":\"y\",\"type\":\"scatter\"},{\"hoverinfo\":\"text\",\"marker\":{\"color\":\"rgb(61,153,112)\"},\"mode\":\"lines\",\"x\":[1450.625,1450.625,1530.0,1530.0],\"xaxis\":\"x\",\"y\":[0.6326273215250021,0.9411469717192529,0.9411469717192529,0.661340547701305],\"yaxis\":\"y\",\"type\":\"scatter\"},{\"hoverinfo\":\"text\",\"marker\":{\"color\":\"rgb(61,153,112)\"},\"mode\":\"lines\",\"x\":[1565.0,1565.0,1575.0,1575.0],\"xaxis\":\"x\",\"y\":[0.0,0.0,0.0,0.0],\"yaxis\":\"y\",\"type\":\"scatter\"},{\"hoverinfo\":\"text\",\"marker\":{\"color\":\"rgb(61,153,112)\"},\"mode\":\"lines\",\"x\":[1555.0,1555.0,1570.0,1570.0],\"xaxis\":\"x\",\"y\":[0.0,0.314046019770402,0.314046019770402,0.0],\"yaxis\":\"y\",\"type\":\"scatter\"},{\"hoverinfo\":\"text\",\"marker\":{\"color\":\"rgb(61,153,112)\"},\"mode\":\"lines\",\"x\":[1605.0,1605.0,1615.0,1615.0],\"xaxis\":\"x\",\"y\":[0.0,0.0,0.0,0.0],\"yaxis\":\"y\",\"type\":\"scatter\"},{\"hoverinfo\":\"text\",\"marker\":{\"color\":\"rgb(61,153,112)\"},\"mode\":\"lines\",\"x\":[1595.0,1595.0,1610.0,1610.0],\"xaxis\":\"x\",\"y\":[0.0,0.1763677535015709,0.1763677535015709,0.0],\"yaxis\":\"y\",\"type\":\"scatter\"},{\"hoverinfo\":\"text\",\"marker\":{\"color\":\"rgb(61,153,112)\"},\"mode\":\"lines\",\"x\":[1585.0,1585.0,1602.5,1602.5],\"xaxis\":\"x\",\"y\":[0.0,0.2587267068293609,0.2587267068293609,0.1763677535015709],\"yaxis\":\"y\",\"type\":\"scatter\"},{\"hoverinfo\":\"text\",\"marker\":{\"color\":\"rgb(61,153,112)\"},\"mode\":\"lines\",\"x\":[1625.0,1625.0,1635.0,1635.0],\"xaxis\":\"x\",\"y\":[0.0,0.4823666329193535,0.4823666329193535,0.0],\"yaxis\":\"y\",\"type\":\"scatter\"},{\"hoverinfo\":\"text\",\"marker\":{\"color\":\"rgb(61,153,112)\"},\"mode\":\"lines\",\"x\":[1593.75,1593.75,1630.0,1630.0],\"xaxis\":\"x\",\"y\":[0.2587267068293609,0.5769476802056995,0.5769476802056995,0.4823666329193535],\"yaxis\":\"y\",\"type\":\"scatter\"},{\"hoverinfo\":\"text\",\"marker\":{\"color\":\"rgb(61,153,112)\"},\"mode\":\"lines\",\"x\":[1562.5,1562.5,1611.875,1611.875],\"xaxis\":\"x\",\"y\":[0.314046019770402,0.794457468132567,0.794457468132567,0.5769476802056995],\"yaxis\":\"y\",\"type\":\"scatter\"},{\"hoverinfo\":\"text\",\"marker\":{\"color\":\"rgb(61,153,112)\"},\"mode\":\"lines\",\"x\":[1655.0,1655.0,1665.0,1665.0],\"xaxis\":\"x\",\"y\":[0.0,0.2651568718531224,0.2651568718531224,0.0],\"yaxis\":\"y\",\"type\":\"scatter\"},{\"hoverinfo\":\"text\",\"marker\":{\"color\":\"rgb(61,153,112)\"},\"mode\":\"lines\",\"x\":[1645.0,1645.0,1660.0,1660.0],\"xaxis\":\"x\",\"y\":[0.0,0.5799990193829636,0.5799990193829636,0.2651568718531224],\"yaxis\":\"y\",\"type\":\"scatter\"},{\"hoverinfo\":\"text\",\"marker\":{\"color\":\"rgb(61,153,112)\"},\"mode\":\"lines\",\"x\":[1675.0,1675.0,1685.0,1685.0],\"xaxis\":\"x\",\"y\":[0.0,0.4159942903180524,0.4159942903180524,0.0],\"yaxis\":\"y\",\"type\":\"scatter\"},{\"hoverinfo\":\"text\",\"marker\":{\"color\":\"rgb(61,153,112)\"},\"mode\":\"lines\",\"x\":[1705.0,1705.0,1715.0,1715.0],\"xaxis\":\"x\",\"y\":[0.0,0.026381881868881574,0.026381881868881574,0.0],\"yaxis\":\"y\",\"type\":\"scatter\"},{\"hoverinfo\":\"text\",\"marker\":{\"color\":\"rgb(61,153,112)\"},\"mode\":\"lines\",\"x\":[1695.0,1695.0,1710.0,1710.0],\"xaxis\":\"x\",\"y\":[0.0,0.45931370728498455,0.45931370728498455,0.026381881868881574],\"yaxis\":\"y\",\"type\":\"scatter\"},{\"hoverinfo\":\"text\",\"marker\":{\"color\":\"rgb(61,153,112)\"},\"mode\":\"lines\",\"x\":[1680.0,1680.0,1702.5,1702.5],\"xaxis\":\"x\",\"y\":[0.4159942903180524,0.6522941765118083,0.6522941765118083,0.45931370728498455],\"yaxis\":\"y\",\"type\":\"scatter\"},{\"hoverinfo\":\"text\",\"marker\":{\"color\":\"rgb(61,153,112)\"},\"mode\":\"lines\",\"x\":[1652.5,1652.5,1691.25,1691.25],\"xaxis\":\"x\",\"y\":[0.5799990193829636,0.7971616015591234,0.7971616015591234,0.6522941765118083],\"yaxis\":\"y\",\"type\":\"scatter\"},{\"hoverinfo\":\"text\",\"marker\":{\"color\":\"rgb(61,153,112)\"},\"mode\":\"lines\",\"x\":[1587.1875,1587.1875,1671.875,1671.875],\"xaxis\":\"x\",\"y\":[0.794457468132567,1.2380461562454337,1.2380461562454337,0.7971616015591234],\"yaxis\":\"y\",\"type\":\"scatter\"},{\"hoverinfo\":\"text\",\"marker\":{\"color\":\"rgb(61,153,112)\"},\"mode\":\"lines\",\"x\":[1490.3125,1490.3125,1629.53125,1629.53125],\"xaxis\":\"x\",\"y\":[0.9411469717192529,1.4565836012526507,1.4565836012526507,1.2380461562454337],\"yaxis\":\"y\",\"type\":\"scatter\"},{\"hoverinfo\":\"text\",\"marker\":{\"color\":\"rgb(61,153,112)\"},\"mode\":\"lines\",\"x\":[1325.0,1325.0,1559.921875,1559.921875],\"xaxis\":\"x\",\"y\":[1.0221313920867514,1.6609169265078758,1.6609169265078758,1.4565836012526507],\"yaxis\":\"y\",\"type\":\"scatter\"},{\"hoverinfo\":\"text\",\"marker\":{\"color\":\"rgb(61,153,112)\"},\"mode\":\"lines\",\"x\":[1238.125,1238.125,1442.4609375,1442.4609375],\"xaxis\":\"x\",\"y\":[1.1625364070056756,1.8542705804631137,1.8542705804631137,1.6609169265078758],\"yaxis\":\"y\",\"type\":\"scatter\"},{\"hoverinfo\":\"text\",\"marker\":{\"color\":\"rgb(61,153,112)\"},\"mode\":\"lines\",\"x\":[1071.171875,1071.171875,1340.29296875,1340.29296875],\"xaxis\":\"x\",\"y\":[1.4691766215819533,2.373357605091366,2.373357605091366,1.8542705804631137],\"yaxis\":\"y\",\"type\":\"scatter\"},{\"hoverinfo\":\"text\",\"marker\":{\"color\":\"rgb(61,153,112)\"},\"mode\":\"lines\",\"x\":[892.3828125,892.3828125,1205.732421875,1205.732421875],\"xaxis\":\"x\",\"y\":[1.5965750378860881,2.5658770284812085,2.5658770284812085,2.373357605091366],\"yaxis\":\"y\",\"type\":\"scatter\"},{\"hoverinfo\":\"text\",\"marker\":{\"color\":\"rgb(61,153,112)\"},\"mode\":\"lines\",\"x\":[1745.0,1745.0,1755.0,1755.0],\"xaxis\":\"x\",\"y\":[0.0,0.3734648431730917,0.3734648431730917,0.0],\"yaxis\":\"y\",\"type\":\"scatter\"},{\"hoverinfo\":\"text\",\"marker\":{\"color\":\"rgb(61,153,112)\"},\"mode\":\"lines\",\"x\":[1735.0,1735.0,1750.0,1750.0],\"xaxis\":\"x\",\"y\":[0.0,0.702248415415063,0.702248415415063,0.3734648431730917],\"yaxis\":\"y\",\"type\":\"scatter\"},{\"hoverinfo\":\"text\",\"marker\":{\"color\":\"rgb(61,153,112)\"},\"mode\":\"lines\",\"x\":[1725.0,1725.0,1742.5,1742.5],\"xaxis\":\"x\",\"y\":[0.0,0.7833517748138139,0.7833517748138139,0.702248415415063],\"yaxis\":\"y\",\"type\":\"scatter\"},{\"hoverinfo\":\"text\",\"marker\":{\"color\":\"rgb(61,153,112)\"},\"mode\":\"lines\",\"x\":[1795.0,1795.0,1805.0,1805.0],\"xaxis\":\"x\",\"y\":[0.0,0.16488676168050984,0.16488676168050984,0.0],\"yaxis\":\"y\",\"type\":\"scatter\"},{\"hoverinfo\":\"text\",\"marker\":{\"color\":\"rgb(61,153,112)\"},\"mode\":\"lines\",\"x\":[1785.0,1785.0,1800.0,1800.0],\"xaxis\":\"x\",\"y\":[0.0,0.26872532904724217,0.26872532904724217,0.16488676168050984],\"yaxis\":\"y\",\"type\":\"scatter\"},{\"hoverinfo\":\"text\",\"marker\":{\"color\":\"rgb(61,153,112)\"},\"mode\":\"lines\",\"x\":[1775.0,1775.0,1792.5,1792.5],\"xaxis\":\"x\",\"y\":[0.0,0.5567283051120444,0.5567283051120444,0.26872532904724217],\"yaxis\":\"y\",\"type\":\"scatter\"},{\"hoverinfo\":\"text\",\"marker\":{\"color\":\"rgb(61,153,112)\"},\"mode\":\"lines\",\"x\":[1765.0,1765.0,1783.75,1783.75],\"xaxis\":\"x\",\"y\":[0.0,1.2037269615913178,1.2037269615913178,0.5567283051120444],\"yaxis\":\"y\",\"type\":\"scatter\"},{\"hoverinfo\":\"text\",\"marker\":{\"color\":\"rgb(61,153,112)\"},\"mode\":\"lines\",\"x\":[1733.75,1733.75,1774.375,1774.375],\"xaxis\":\"x\",\"y\":[0.7833517748138139,1.7109220370051172,1.7109220370051172,1.2037269615913178],\"yaxis\":\"y\",\"type\":\"scatter\"},{\"hoverinfo\":\"text\",\"marker\":{\"color\":\"rgb(61,153,112)\"},\"mode\":\"lines\",\"x\":[1825.0,1825.0,1835.0,1835.0],\"xaxis\":\"x\",\"y\":[0.0,0.5003710281520319,0.5003710281520319,0.0],\"yaxis\":\"y\",\"type\":\"scatter\"},{\"hoverinfo\":\"text\",\"marker\":{\"color\":\"rgb(61,153,112)\"},\"mode\":\"lines\",\"x\":[1815.0,1815.0,1830.0,1830.0],\"xaxis\":\"x\",\"y\":[0.0,0.9922538455896165,0.9922538455896165,0.5003710281520319],\"yaxis\":\"y\",\"type\":\"scatter\"},{\"hoverinfo\":\"text\",\"marker\":{\"color\":\"rgb(61,153,112)\"},\"mode\":\"lines\",\"x\":[1875.0,1875.0,1885.0,1885.0],\"xaxis\":\"x\",\"y\":[0.0,0.017148223214772995,0.017148223214772995,0.0],\"yaxis\":\"y\",\"type\":\"scatter\"},{\"hoverinfo\":\"text\",\"marker\":{\"color\":\"rgb(61,153,112)\"},\"mode\":\"lines\",\"x\":[1865.0,1865.0,1880.0,1880.0],\"xaxis\":\"x\",\"y\":[0.0,0.7798768424067805,0.7798768424067805,0.017148223214772995],\"yaxis\":\"y\",\"type\":\"scatter\"},{\"hoverinfo\":\"text\",\"marker\":{\"color\":\"rgb(61,153,112)\"},\"mode\":\"lines\",\"x\":[1855.0,1855.0,1872.5,1872.5],\"xaxis\":\"x\",\"y\":[0.0,0.8076698769387711,0.8076698769387711,0.7798768424067805],\"yaxis\":\"y\",\"type\":\"scatter\"},{\"hoverinfo\":\"text\",\"marker\":{\"color\":\"rgb(61,153,112)\"},\"mode\":\"lines\",\"x\":[1845.0,1845.0,1863.75,1863.75],\"xaxis\":\"x\",\"y\":[0.0,1.2223791923548293,1.2223791923548293,0.8076698769387711],\"yaxis\":\"y\",\"type\":\"scatter\"},{\"hoverinfo\":\"text\",\"marker\":{\"color\":\"rgb(61,153,112)\"},\"mode\":\"lines\",\"x\":[1915.0,1915.0,1925.0,1925.0],\"xaxis\":\"x\",\"y\":[0.0,0.0,0.0,0.0],\"yaxis\":\"y\",\"type\":\"scatter\"},{\"hoverinfo\":\"text\",\"marker\":{\"color\":\"rgb(61,153,112)\"},\"mode\":\"lines\",\"x\":[1905.0,1905.0,1920.0,1920.0],\"xaxis\":\"x\",\"y\":[0.0,0.3774948632217267,0.3774948632217267,0.0],\"yaxis\":\"y\",\"type\":\"scatter\"},{\"hoverinfo\":\"text\",\"marker\":{\"color\":\"rgb(61,153,112)\"},\"mode\":\"lines\",\"x\":[1895.0,1895.0,1912.5,1912.5],\"xaxis\":\"x\",\"y\":[0.0,0.6054193547798552,0.6054193547798552,0.3774948632217267],\"yaxis\":\"y\",\"type\":\"scatter\"},{\"hoverinfo\":\"text\",\"marker\":{\"color\":\"rgb(61,153,112)\"},\"mode\":\"lines\",\"x\":[1955.0,1955.0,1965.0,1965.0],\"xaxis\":\"x\",\"y\":[0.0,0.1371857857181842,0.1371857857181842,0.0],\"yaxis\":\"y\",\"type\":\"scatter\"},{\"hoverinfo\":\"text\",\"marker\":{\"color\":\"rgb(61,153,112)\"},\"mode\":\"lines\",\"x\":[1945.0,1945.0,1960.0,1960.0],\"xaxis\":\"x\",\"y\":[0.0,0.4287055803693257,0.4287055803693257,0.1371857857181842],\"yaxis\":\"y\",\"type\":\"scatter\"},{\"hoverinfo\":\"text\",\"marker\":{\"color\":\"rgb(61,153,112)\"},\"mode\":\"lines\",\"x\":[1935.0,1935.0,1952.5,1952.5],\"xaxis\":\"x\",\"y\":[0.0,0.6768565893403442,0.6768565893403442,0.4287055803693257],\"yaxis\":\"y\",\"type\":\"scatter\"},{\"hoverinfo\":\"text\",\"marker\":{\"color\":\"rgb(61,153,112)\"},\"mode\":\"lines\",\"x\":[1903.75,1903.75,1943.75,1943.75],\"xaxis\":\"x\",\"y\":[0.6054193547798552,1.0706722754480482,1.0706722754480482,0.6768565893403442],\"yaxis\":\"y\",\"type\":\"scatter\"},{\"hoverinfo\":\"text\",\"marker\":{\"color\":\"rgb(61,153,112)\"},\"mode\":\"lines\",\"x\":[1995.0,1995.0,2005.0,2005.0],\"xaxis\":\"x\",\"y\":[0.0,0.1851170112865958,0.1851170112865958,0.0],\"yaxis\":\"y\",\"type\":\"scatter\"},{\"hoverinfo\":\"text\",\"marker\":{\"color\":\"rgb(61,153,112)\"},\"mode\":\"lines\",\"x\":[1985.0,1985.0,2000.0,2000.0],\"xaxis\":\"x\",\"y\":[0.0,0.600843388922416,0.600843388922416,0.1851170112865958],\"yaxis\":\"y\",\"type\":\"scatter\"},{\"hoverinfo\":\"text\",\"marker\":{\"color\":\"rgb(61,153,112)\"},\"mode\":\"lines\",\"x\":[1975.0,1975.0,1992.5,1992.5],\"xaxis\":\"x\",\"y\":[0.0,0.7971837935710373,0.7971837935710373,0.600843388922416],\"yaxis\":\"y\",\"type\":\"scatter\"},{\"hoverinfo\":\"text\",\"marker\":{\"color\":\"rgb(61,153,112)\"},\"mode\":\"lines\",\"x\":[2025.0,2025.0,2035.0,2035.0],\"xaxis\":\"x\",\"y\":[0.0,0.20445958448383222,0.20445958448383222,0.0],\"yaxis\":\"y\",\"type\":\"scatter\"},{\"hoverinfo\":\"text\",\"marker\":{\"color\":\"rgb(61,153,112)\"},\"mode\":\"lines\",\"x\":[2045.0,2045.0,2055.0,2055.0],\"xaxis\":\"x\",\"y\":[0.0,0.43222838124059254,0.43222838124059254,0.0],\"yaxis\":\"y\",\"type\":\"scatter\"},{\"hoverinfo\":\"text\",\"marker\":{\"color\":\"rgb(61,153,112)\"},\"mode\":\"lines\",\"x\":[2030.0,2030.0,2050.0,2050.0],\"xaxis\":\"x\",\"y\":[0.20445958448383222,0.6104056648453716,0.6104056648453716,0.43222838124059254],\"yaxis\":\"y\",\"type\":\"scatter\"},{\"hoverinfo\":\"text\",\"marker\":{\"color\":\"rgb(61,153,112)\"},\"mode\":\"lines\",\"x\":[2015.0,2015.0,2040.0,2040.0],\"xaxis\":\"x\",\"y\":[0.0,0.9684586456482945,0.9684586456482945,0.6104056648453716],\"yaxis\":\"y\",\"type\":\"scatter\"},{\"hoverinfo\":\"text\",\"marker\":{\"color\":\"rgb(61,153,112)\"},\"mode\":\"lines\",\"x\":[1983.75,1983.75,2027.5,2027.5],\"xaxis\":\"x\",\"y\":[0.7971837935710373,1.1732969025262618,1.1732969025262618,0.9684586456482945],\"yaxis\":\"y\",\"type\":\"scatter\"},{\"hoverinfo\":\"text\",\"marker\":{\"color\":\"rgb(61,153,112)\"},\"mode\":\"lines\",\"x\":[1923.75,1923.75,2005.625,2005.625],\"xaxis\":\"x\",\"y\":[1.0706722754480482,1.4226196247174292,1.4226196247174292,1.1732969025262618],\"yaxis\":\"y\",\"type\":\"scatter\"},{\"hoverinfo\":\"text\",\"marker\":{\"color\":\"rgb(61,153,112)\"},\"mode\":\"lines\",\"x\":[1854.375,1854.375,1964.6875,1964.6875],\"xaxis\":\"x\",\"y\":[1.2223791923548293,1.8804849176400964,1.8804849176400964,1.4226196247174292],\"yaxis\":\"y\",\"type\":\"scatter\"},{\"hoverinfo\":\"text\",\"marker\":{\"color\":\"rgb(61,153,112)\"},\"mode\":\"lines\",\"x\":[1822.5,1822.5,1909.53125,1909.53125],\"xaxis\":\"x\",\"y\":[0.9922538455896165,2.237446445154156,2.237446445154156,1.8804849176400964],\"yaxis\":\"y\",\"type\":\"scatter\"},{\"hoverinfo\":\"text\",\"marker\":{\"color\":\"rgb(61,153,112)\"},\"mode\":\"lines\",\"x\":[1754.0625,1754.0625,1866.015625,1866.015625],\"xaxis\":\"x\",\"y\":[1.7109220370051172,2.639165174356453,2.639165174356453,2.237446445154156],\"yaxis\":\"y\",\"type\":\"scatter\"},{\"hoverinfo\":\"text\",\"marker\":{\"color\":\"rgb(61,153,112)\"},\"mode\":\"lines\",\"x\":[1049.0576171875,1049.0576171875,1810.0390625,1810.0390625],\"xaxis\":\"x\",\"y\":[2.5658770284812085,3.1368355714169764,3.1368355714169764,2.639165174356453],\"yaxis\":\"y\",\"type\":\"scatter\"},{\"hoverinfo\":\"text\",\"marker\":{\"color\":\"rgb(61,153,112)\"},\"mode\":\"lines\",\"x\":[2065.0,2065.0,2075.0,2075.0],\"xaxis\":\"x\",\"y\":[0.0,0.2651379127822598,0.2651379127822598,0.0],\"yaxis\":\"y\",\"type\":\"scatter\"},{\"hoverinfo\":\"text\",\"marker\":{\"color\":\"rgb(61,153,112)\"},\"mode\":\"lines\",\"x\":[2095.0,2095.0,2105.0,2105.0],\"xaxis\":\"x\",\"y\":[0.0,0.16575678521276857,0.16575678521276857,0.0],\"yaxis\":\"y\",\"type\":\"scatter\"},{\"hoverinfo\":\"text\",\"marker\":{\"color\":\"rgb(61,153,112)\"},\"mode\":\"lines\",\"x\":[2085.0,2085.0,2100.0,2100.0],\"xaxis\":\"x\",\"y\":[0.0,0.5213434908808319,0.5213434908808319,0.16575678521276857],\"yaxis\":\"y\",\"type\":\"scatter\"},{\"hoverinfo\":\"text\",\"marker\":{\"color\":\"rgb(61,153,112)\"},\"mode\":\"lines\",\"x\":[2070.0,2070.0,2092.5,2092.5],\"xaxis\":\"x\",\"y\":[0.2651379127822598,0.8407247086606393,0.8407247086606393,0.5213434908808319],\"yaxis\":\"y\",\"type\":\"scatter\"},{\"hoverinfo\":\"text\",\"marker\":{\"color\":\"rgb(61,153,112)\"},\"mode\":\"lines\",\"x\":[2145.0,2145.0,2155.0,2155.0],\"xaxis\":\"x\",\"y\":[0.0,0.7103917292719882,0.7103917292719882,0.0],\"yaxis\":\"y\",\"type\":\"scatter\"},{\"hoverinfo\":\"text\",\"marker\":{\"color\":\"rgb(61,153,112)\"},\"mode\":\"lines\",\"x\":[2135.0,2135.0,2150.0,2150.0],\"xaxis\":\"x\",\"y\":[0.0,0.9665345125657234,0.9665345125657234,0.7103917292719882],\"yaxis\":\"y\",\"type\":\"scatter\"},{\"hoverinfo\":\"text\",\"marker\":{\"color\":\"rgb(61,153,112)\"},\"mode\":\"lines\",\"x\":[2125.0,2125.0,2142.5,2142.5],\"xaxis\":\"x\",\"y\":[0.0,1.0334119673703015,1.0334119673703015,0.9665345125657234],\"yaxis\":\"y\",\"type\":\"scatter\"},{\"hoverinfo\":\"text\",\"marker\":{\"color\":\"rgb(61,153,112)\"},\"mode\":\"lines\",\"x\":[2115.0,2115.0,2133.75,2133.75],\"xaxis\":\"x\",\"y\":[0.0,1.2673226128816069,1.2673226128816069,1.0334119673703015],\"yaxis\":\"y\",\"type\":\"scatter\"},{\"hoverinfo\":\"text\",\"marker\":{\"color\":\"rgb(61,153,112)\"},\"mode\":\"lines\",\"x\":[2081.25,2081.25,2124.375,2124.375],\"xaxis\":\"x\",\"y\":[0.8407247086606393,1.431676019717515,1.431676019717515,1.2673226128816069],\"yaxis\":\"y\",\"type\":\"scatter\"},{\"hoverinfo\":\"text\",\"marker\":{\"color\":\"rgb(61,153,112)\"},\"mode\":\"lines\",\"x\":[2165.0,2165.0,2175.0,2175.0],\"xaxis\":\"x\",\"y\":[0.0,0.0026381881868881574,0.0026381881868881574,0.0],\"yaxis\":\"y\",\"type\":\"scatter\"},{\"hoverinfo\":\"text\",\"marker\":{\"color\":\"rgb(61,153,112)\"},\"mode\":\"lines\",\"x\":[2185.0,2185.0,2195.0,2195.0],\"xaxis\":\"x\",\"y\":[0.0,0.23347965453960196,0.23347965453960196,0.0],\"yaxis\":\"y\",\"type\":\"scatter\"},{\"hoverinfo\":\"text\",\"marker\":{\"color\":\"rgb(61,153,112)\"},\"mode\":\"lines\",\"x\":[2205.0,2205.0,2215.0,2215.0],\"xaxis\":\"x\",\"y\":[0.0,0.29728464897646,0.29728464897646,0.0],\"yaxis\":\"y\",\"type\":\"scatter\"},{\"hoverinfo\":\"text\",\"marker\":{\"color\":\"rgb(61,153,112)\"},\"mode\":\"lines\",\"x\":[2190.0,2190.0,2210.0,2210.0],\"xaxis\":\"x\",\"y\":[0.23347965453960196,1.164708068478869,1.164708068478869,0.29728464897646],\"yaxis\":\"y\",\"type\":\"scatter\"},{\"hoverinfo\":\"text\",\"marker\":{\"color\":\"rgb(61,153,112)\"},\"mode\":\"lines\",\"x\":[2170.0,2170.0,2200.0,2200.0],\"xaxis\":\"x\",\"y\":[0.0026381881868881574,1.9710219689001165,1.9710219689001165,1.164708068478869],\"yaxis\":\"y\",\"type\":\"scatter\"},{\"hoverinfo\":\"text\",\"marker\":{\"color\":\"rgb(61,153,112)\"},\"mode\":\"lines\",\"x\":[2102.8125,2102.8125,2185.0,2185.0],\"xaxis\":\"x\",\"y\":[1.431676019717515,2.2057428733732287,2.2057428733732287,1.9710219689001165],\"yaxis\":\"y\",\"type\":\"scatter\"},{\"hoverinfo\":\"text\",\"marker\":{\"color\":\"rgb(61,153,112)\"},\"mode\":\"lines\",\"x\":[2235.0,2235.0,2245.0,2245.0],\"xaxis\":\"x\",\"y\":[0.0,0.74834869036299,0.74834869036299,0.0],\"yaxis\":\"y\",\"type\":\"scatter\"},{\"hoverinfo\":\"text\",\"marker\":{\"color\":\"rgb(61,153,112)\"},\"mode\":\"lines\",\"x\":[2225.0,2225.0,2240.0,2240.0],\"xaxis\":\"x\",\"y\":[0.0,1.6798067879472973,1.6798067879472973,0.74834869036299],\"yaxis\":\"y\",\"type\":\"scatter\"},{\"hoverinfo\":\"text\",\"marker\":{\"color\":\"rgb(61,153,112)\"},\"mode\":\"lines\",\"x\":[2255.0,2255.0,2265.0,2265.0],\"xaxis\":\"x\",\"y\":[0.0,0.8673198352672834,0.8673198352672834,0.0],\"yaxis\":\"y\",\"type\":\"scatter\"},{\"hoverinfo\":\"text\",\"marker\":{\"color\":\"rgb(61,153,112)\"},\"mode\":\"lines\",\"x\":[2275.0,2275.0,2285.0,2285.0],\"xaxis\":\"x\",\"y\":[0.0,0.7605522717505863,0.7605522717505863,0.0],\"yaxis\":\"y\",\"type\":\"scatter\"},{\"hoverinfo\":\"text\",\"marker\":{\"color\":\"rgb(61,153,112)\"},\"mode\":\"lines\",\"x\":[2295.0,2295.0,2305.0,2305.0],\"xaxis\":\"x\",\"y\":[0.0,0.44940050177273533,0.44940050177273533,0.0],\"yaxis\":\"y\",\"type\":\"scatter\"},{\"hoverinfo\":\"text\",\"marker\":{\"color\":\"rgb(61,153,112)\"},\"mode\":\"lines\",\"x\":[2315.0,2315.0,2325.0,2325.0],\"xaxis\":\"x\",\"y\":[0.0,0.5192835554382665,0.5192835554382665,0.0],\"yaxis\":\"y\",\"type\":\"scatter\"},{\"hoverinfo\":\"text\",\"marker\":{\"color\":\"rgb(61,153,112)\"},\"mode\":\"lines\",\"x\":[2300.0,2300.0,2320.0,2320.0],\"xaxis\":\"x\",\"y\":[0.44940050177273533,1.0786167128191253,1.0786167128191253,0.5192835554382665],\"yaxis\":\"y\",\"type\":\"scatter\"},{\"hoverinfo\":\"text\",\"marker\":{\"color\":\"rgb(61,153,112)\"},\"mode\":\"lines\",\"x\":[2280.0,2280.0,2310.0,2310.0],\"xaxis\":\"x\",\"y\":[0.7605522717505863,1.244463999765953,1.244463999765953,1.0786167128191253],\"yaxis\":\"y\",\"type\":\"scatter\"},{\"hoverinfo\":\"text\",\"marker\":{\"color\":\"rgb(61,153,112)\"},\"mode\":\"lines\",\"x\":[2260.0,2260.0,2295.0,2295.0],\"xaxis\":\"x\",\"y\":[0.8673198352672834,1.5225393437585997,1.5225393437585997,1.244463999765953],\"yaxis\":\"y\",\"type\":\"scatter\"},{\"hoverinfo\":\"text\",\"marker\":{\"color\":\"rgb(61,153,112)\"},\"mode\":\"lines\",\"x\":[2335.0,2335.0,2345.0,2345.0],\"xaxis\":\"x\",\"y\":[0.0,0.5775259235471762,0.5775259235471762,0.0],\"yaxis\":\"y\",\"type\":\"scatter\"},{\"hoverinfo\":\"text\",\"marker\":{\"color\":\"rgb(61,153,112)\"},\"mode\":\"lines\",\"x\":[2365.0,2365.0,2375.0,2375.0],\"xaxis\":\"x\",\"y\":[0.0,0.0,0.0,0.0],\"yaxis\":\"y\",\"type\":\"scatter\"},{\"hoverinfo\":\"text\",\"marker\":{\"color\":\"rgb(61,153,112)\"},\"mode\":\"lines\",\"x\":[2355.0,2355.0,2370.0,2370.0],\"xaxis\":\"x\",\"y\":[0.0,0.5885329853043999,0.5885329853043999,0.0],\"yaxis\":\"y\",\"type\":\"scatter\"},{\"hoverinfo\":\"text\",\"marker\":{\"color\":\"rgb(61,153,112)\"},\"mode\":\"lines\",\"x\":[2385.0,2385.0,2395.0,2395.0],\"xaxis\":\"x\",\"y\":[0.0,0.605440328374043,0.605440328374043,0.0],\"yaxis\":\"y\",\"type\":\"scatter\"},{\"hoverinfo\":\"text\",\"marker\":{\"color\":\"rgb(61,153,112)\"},\"mode\":\"lines\",\"x\":[2362.5,2362.5,2390.0,2390.0],\"xaxis\":\"x\",\"y\":[0.5885329853043999,0.9040708189570524,0.9040708189570524,0.605440328374043],\"yaxis\":\"y\",\"type\":\"scatter\"},{\"hoverinfo\":\"text\",\"marker\":{\"color\":\"rgb(61,153,112)\"},\"mode\":\"lines\",\"x\":[2340.0,2340.0,2376.25,2376.25],\"xaxis\":\"x\",\"y\":[0.5775259235471762,1.1071813301794633,1.1071813301794633,0.9040708189570524],\"yaxis\":\"y\",\"type\":\"scatter\"},{\"hoverinfo\":\"text\",\"marker\":{\"color\":\"rgb(61,153,112)\"},\"mode\":\"lines\",\"x\":[2415.0,2415.0,2425.0,2425.0],\"xaxis\":\"x\",\"y\":[0.0,0.3572981293913297,0.3572981293913297,0.0],\"yaxis\":\"y\",\"type\":\"scatter\"},{\"hoverinfo\":\"text\",\"marker\":{\"color\":\"rgb(61,153,112)\"},\"mode\":\"lines\",\"x\":[2405.0,2405.0,2420.0,2420.0],\"xaxis\":\"x\",\"y\":[0.0,0.6570520766897632,0.6570520766897632,0.3572981293913297],\"yaxis\":\"y\",\"type\":\"scatter\"},{\"hoverinfo\":\"text\",\"marker\":{\"color\":\"rgb(61,153,112)\"},\"mode\":\"lines\",\"x\":[2435.0,2435.0,2445.0,2445.0],\"xaxis\":\"x\",\"y\":[0.0,1.1068428694455474,1.1068428694455474,0.0],\"yaxis\":\"y\",\"type\":\"scatter\"},{\"hoverinfo\":\"text\",\"marker\":{\"color\":\"rgb(61,153,112)\"},\"mode\":\"lines\",\"x\":[2412.5,2412.5,2440.0,2440.0],\"xaxis\":\"x\",\"y\":[0.6570520766897632,1.254313628887527,1.254313628887527,1.1068428694455474],\"yaxis\":\"y\",\"type\":\"scatter\"},{\"hoverinfo\":\"text\",\"marker\":{\"color\":\"rgb(61,153,112)\"},\"mode\":\"lines\",\"x\":[2358.125,2358.125,2426.25,2426.25],\"xaxis\":\"x\",\"y\":[1.1071813301794633,1.85644828773427,1.85644828773427,1.254313628887527],\"yaxis\":\"y\",\"type\":\"scatter\"},{\"hoverinfo\":\"text\",\"marker\":{\"color\":\"rgb(61,153,112)\"},\"mode\":\"lines\",\"x\":[2277.5,2277.5,2392.1875,2392.1875],\"xaxis\":\"x\",\"y\":[1.5225393437585997,2.2210295625734577,2.2210295625734577,1.85644828773427],\"yaxis\":\"y\",\"type\":\"scatter\"},{\"hoverinfo\":\"text\",\"marker\":{\"color\":\"rgb(61,153,112)\"},\"mode\":\"lines\",\"x\":[2232.5,2232.5,2334.84375,2334.84375],\"xaxis\":\"x\",\"y\":[1.6798067879472973,2.9434873501148062,2.9434873501148062,2.2210295625734577],\"yaxis\":\"y\",\"type\":\"scatter\"},{\"hoverinfo\":\"text\",\"marker\":{\"color\":\"rgb(61,153,112)\"},\"mode\":\"lines\",\"x\":[2143.90625,2143.90625,2283.671875,2283.671875],\"xaxis\":\"x\",\"y\":[2.2057428733732287,3.190287180348813,3.190287180348813,2.9434873501148062],\"yaxis\":\"y\",\"type\":\"scatter\"},{\"hoverinfo\":\"text\",\"marker\":{\"color\":\"rgb(61,153,112)\"},\"mode\":\"lines\",\"x\":[2455.0,2455.0,2465.0,2465.0],\"xaxis\":\"x\",\"y\":[0.0,0.40471808775105955,0.40471808775105955,0.0],\"yaxis\":\"y\",\"type\":\"scatter\"},{\"hoverinfo\":\"text\",\"marker\":{\"color\":\"rgb(61,153,112)\"},\"mode\":\"lines\",\"x\":[2485.0,2485.0,2495.0,2495.0],\"xaxis\":\"x\",\"y\":[0.0,0.5295195523768338,0.5295195523768338,0.0],\"yaxis\":\"y\",\"type\":\"scatter\"},{\"hoverinfo\":\"text\",\"marker\":{\"color\":\"rgb(61,153,112)\"},\"mode\":\"lines\",\"x\":[2475.0,2475.0,2490.0,2490.0],\"xaxis\":\"x\",\"y\":[0.0,0.8993587280858827,0.8993587280858827,0.5295195523768338],\"yaxis\":\"y\",\"type\":\"scatter\"},{\"hoverinfo\":\"text\",\"marker\":{\"color\":\"rgb(61,153,112)\"},\"mode\":\"lines\",\"x\":[2460.0,2460.0,2482.5,2482.5],\"xaxis\":\"x\",\"y\":[0.40471808775105955,1.0197758305737759,1.0197758305737759,0.8993587280858827],\"yaxis\":\"y\",\"type\":\"scatter\"},{\"hoverinfo\":\"text\",\"marker\":{\"color\":\"rgb(61,153,112)\"},\"mode\":\"lines\",\"x\":[2515.0,2515.0,2525.0,2525.0],\"xaxis\":\"x\",\"y\":[0.0,0.30770093037835217,0.30770093037835217,0.0],\"yaxis\":\"y\",\"type\":\"scatter\"},{\"hoverinfo\":\"text\",\"marker\":{\"color\":\"rgb(61,153,112)\"},\"mode\":\"lines\",\"x\":[2505.0,2505.0,2520.0,2520.0],\"xaxis\":\"x\",\"y\":[0.0,1.0385891434271817,1.0385891434271817,0.30770093037835217],\"yaxis\":\"y\",\"type\":\"scatter\"},{\"hoverinfo\":\"text\",\"marker\":{\"color\":\"rgb(61,153,112)\"},\"mode\":\"lines\",\"x\":[2471.25,2471.25,2512.5,2512.5],\"xaxis\":\"x\",\"y\":[1.0197758305737759,1.6721107741275643,1.6721107741275643,1.0385891434271817],\"yaxis\":\"y\",\"type\":\"scatter\"},{\"hoverinfo\":\"text\",\"marker\":{\"color\":\"rgb(61,153,112)\"},\"mode\":\"lines\",\"x\":[2545.0,2545.0,2555.0,2555.0],\"xaxis\":\"x\",\"y\":[0.0,0.2841163879762608,0.2841163879762608,0.0],\"yaxis\":\"y\",\"type\":\"scatter\"},{\"hoverinfo\":\"text\",\"marker\":{\"color\":\"rgb(61,153,112)\"},\"mode\":\"lines\",\"x\":[2535.0,2535.0,2550.0,2550.0],\"xaxis\":\"x\",\"y\":[0.0,0.5995586218270959,0.5995586218270959,0.2841163879762608],\"yaxis\":\"y\",\"type\":\"scatter\"},{\"hoverinfo\":\"text\",\"marker\":{\"color\":\"rgb(61,153,112)\"},\"mode\":\"lines\",\"x\":[2565.0,2565.0,2575.0,2575.0],\"xaxis\":\"x\",\"y\":[0.0,0.7212417457089371,0.7212417457089371,0.0],\"yaxis\":\"y\",\"type\":\"scatter\"},{\"hoverinfo\":\"text\",\"marker\":{\"color\":\"rgb(61,153,112)\"},\"mode\":\"lines\",\"x\":[2542.5,2542.5,2570.0,2570.0],\"xaxis\":\"x\",\"y\":[0.5995586218270959,1.003591645654635,1.003591645654635,0.7212417457089371],\"yaxis\":\"y\",\"type\":\"scatter\"},{\"hoverinfo\":\"text\",\"marker\":{\"color\":\"rgb(61,153,112)\"},\"mode\":\"lines\",\"x\":[2585.0,2585.0,2595.0,2595.0],\"xaxis\":\"x\",\"y\":[0.0,0.9047830738515557,0.9047830738515557,0.0],\"yaxis\":\"y\",\"type\":\"scatter\"},{\"hoverinfo\":\"text\",\"marker\":{\"color\":\"rgb(61,153,112)\"},\"mode\":\"lines\",\"x\":[2605.0,2605.0,2615.0,2615.0],\"xaxis\":\"x\",\"y\":[0.0,0.9508459928757975,0.9508459928757975,0.0],\"yaxis\":\"y\",\"type\":\"scatter\"},{\"hoverinfo\":\"text\",\"marker\":{\"color\":\"rgb(61,153,112)\"},\"mode\":\"lines\",\"x\":[2590.0,2590.0,2610.0,2610.0],\"xaxis\":\"x\",\"y\":[0.9047830738515557,1.376311279722513,1.376311279722513,0.9508459928757975],\"yaxis\":\"y\",\"type\":\"scatter\"},{\"hoverinfo\":\"text\",\"marker\":{\"color\":\"rgb(61,153,112)\"},\"mode\":\"lines\",\"x\":[2556.25,2556.25,2600.0,2600.0],\"xaxis\":\"x\",\"y\":[1.003591645654635,1.8465688033834173,1.8465688033834173,1.376311279722513],\"yaxis\":\"y\",\"type\":\"scatter\"},{\"hoverinfo\":\"text\",\"marker\":{\"color\":\"rgb(61,153,112)\"},\"mode\":\"lines\",\"x\":[2491.875,2491.875,2578.125,2578.125],\"xaxis\":\"x\",\"y\":[1.6721107741275643,1.999482134649459,1.999482134649459,1.8465688033834173],\"yaxis\":\"y\",\"type\":\"scatter\"},{\"hoverinfo\":\"text\",\"marker\":{\"color\":\"rgb(61,153,112)\"},\"mode\":\"lines\",\"x\":[2625.0,2625.0,2635.0,2635.0],\"xaxis\":\"x\",\"y\":[0.0,1.4882738247025542,1.4882738247025542,0.0],\"yaxis\":\"y\",\"type\":\"scatter\"},{\"hoverinfo\":\"text\",\"marker\":{\"color\":\"rgb(61,153,112)\"},\"mode\":\"lines\",\"x\":[2665.0,2665.0,2675.0,2675.0],\"xaxis\":\"x\",\"y\":[0.0,0.7267497246243403,0.7267497246243403,0.0],\"yaxis\":\"y\",\"type\":\"scatter\"},{\"hoverinfo\":\"text\",\"marker\":{\"color\":\"rgb(61,153,112)\"},\"mode\":\"lines\",\"x\":[2655.0,2655.0,2670.0,2670.0],\"xaxis\":\"x\",\"y\":[0.0,0.9516485381756062,0.9516485381756062,0.7267497246243403],\"yaxis\":\"y\",\"type\":\"scatter\"},{\"hoverinfo\":\"text\",\"marker\":{\"color\":\"rgb(61,153,112)\"},\"mode\":\"lines\",\"x\":[2645.0,2645.0,2662.5,2662.5],\"xaxis\":\"x\",\"y\":[0.0,1.2146121552461142,1.2146121552461142,0.9516485381756062],\"yaxis\":\"y\",\"type\":\"scatter\"},{\"hoverinfo\":\"text\",\"marker\":{\"color\":\"rgb(61,153,112)\"},\"mode\":\"lines\",\"x\":[2705.0,2705.0,2715.0,2715.0],\"xaxis\":\"x\",\"y\":[0.0,0.7305160192277677,0.7305160192277677,0.0],\"yaxis\":\"y\",\"type\":\"scatter\"},{\"hoverinfo\":\"text\",\"marker\":{\"color\":\"rgb(61,153,112)\"},\"mode\":\"lines\",\"x\":[2695.0,2695.0,2710.0,2710.0],\"xaxis\":\"x\",\"y\":[0.0,0.9396354381420975,0.9396354381420975,0.7305160192277677],\"yaxis\":\"y\",\"type\":\"scatter\"},{\"hoverinfo\":\"text\",\"marker\":{\"color\":\"rgb(61,153,112)\"},\"mode\":\"lines\",\"x\":[2685.0,2685.0,2702.5,2702.5],\"xaxis\":\"x\",\"y\":[0.0,1.2817633997415834,1.2817633997415834,0.9396354381420975],\"yaxis\":\"y\",\"type\":\"scatter\"},{\"hoverinfo\":\"text\",\"marker\":{\"color\":\"rgb(61,153,112)\"},\"mode\":\"lines\",\"x\":[2653.75,2653.75,2693.75,2693.75],\"xaxis\":\"x\",\"y\":[1.2146121552461142,2.040841117285709,2.040841117285709,1.2817633997415834],\"yaxis\":\"y\",\"type\":\"scatter\"},{\"hoverinfo\":\"text\",\"marker\":{\"color\":\"rgb(61,153,112)\"},\"mode\":\"lines\",\"x\":[2630.0,2630.0,2673.75,2673.75],\"xaxis\":\"x\",\"y\":[1.4882738247025542,2.42775734242735,2.42775734242735,2.040841117285709],\"yaxis\":\"y\",\"type\":\"scatter\"},{\"hoverinfo\":\"text\",\"marker\":{\"color\":\"rgb(61,153,112)\"},\"mode\":\"lines\",\"x\":[2535.0,2535.0,2651.875,2651.875],\"xaxis\":\"x\",\"y\":[1.999482134649459,3.23938834126035,3.23938834126035,2.42775734242735],\"yaxis\":\"y\",\"type\":\"scatter\"},{\"hoverinfo\":\"text\",\"marker\":{\"color\":\"rgb(61,153,112)\"},\"mode\":\"lines\",\"x\":[2213.7890625,2213.7890625,2593.4375,2593.4375],\"xaxis\":\"x\",\"y\":[3.190287180348813,4.226871660715366,4.226871660715366,3.23938834126035],\"yaxis\":\"y\",\"type\":\"scatter\"},{\"hoverinfo\":\"text\",\"marker\":{\"color\":\"rgb(61,153,112)\"},\"mode\":\"lines\",\"x\":[1429.54833984375,1429.54833984375,2403.61328125,2403.61328125],\"xaxis\":\"x\",\"y\":[3.1368355714169764,5.296221338506663,5.296221338506663,4.226871660715366],\"yaxis\":\"y\",\"type\":\"scatter\"},{\"hoverinfo\":\"text\",\"marker\":{\"color\":\"rgb(61,153,112)\"},\"mode\":\"lines\",\"x\":[587.265625,587.265625,1916.580810546875,1916.580810546875],\"xaxis\":\"x\",\"y\":[4.620329962210145,5.774940460541111,5.774940460541111,5.296221338506663],\"yaxis\":\"y\",\"type\":\"scatter\"},{\"hoverinfo\":\"text\",\"marker\":{\"color\":\"rgb(61,153,112)\"},\"mode\":\"lines\",\"x\":[156.845703125,156.845703125,1251.9232177734375,1251.9232177734375],\"xaxis\":\"x\",\"y\":[4.47625933333318,6.9392951293785545,6.9392951293785545,5.774940460541111],\"yaxis\":\"y\",\"type\":\"scatter\"},{\"hoverinfo\":\"text\",\"marker\":{\"color\":\"rgb(61,153,112)\"},\"mode\":\"lines\",\"x\":[2725.0,2725.0,2735.0,2735.0],\"xaxis\":\"x\",\"y\":[0.0,1.8195726872870852,1.8195726872870852,0.0],\"yaxis\":\"y\",\"type\":\"scatter\"},{\"hoverinfo\":\"text\",\"marker\":{\"color\":\"rgb(61,153,112)\"},\"mode\":\"lines\",\"x\":[2755.0,2755.0,2765.0,2765.0],\"xaxis\":\"x\",\"y\":[0.0,2.5402286336994666,2.5402286336994666,0.0],\"yaxis\":\"y\",\"type\":\"scatter\"},{\"hoverinfo\":\"text\",\"marker\":{\"color\":\"rgb(61,153,112)\"},\"mode\":\"lines\",\"x\":[2745.0,2745.0,2760.0,2760.0],\"xaxis\":\"x\",\"y\":[0.0,3.1522193653084125,3.1522193653084125,2.5402286336994666],\"yaxis\":\"y\",\"type\":\"scatter\"},{\"hoverinfo\":\"text\",\"marker\":{\"color\":\"rgb(61,153,112)\"},\"mode\":\"lines\",\"x\":[2730.0,2730.0,2752.5,2752.5],\"xaxis\":\"x\",\"y\":[1.8195726872870852,4.804004680779418,4.804004680779418,3.1522193653084125],\"yaxis\":\"y\",\"type\":\"scatter\"},{\"hoverinfo\":\"text\",\"marker\":{\"color\":\"rgb(61,153,112)\"},\"mode\":\"lines\",\"x\":[2785.0,2785.0,2795.0,2795.0],\"xaxis\":\"x\",\"y\":[0.0,1.3391538831768972,1.3391538831768972,0.0],\"yaxis\":\"y\",\"type\":\"scatter\"},{\"hoverinfo\":\"text\",\"marker\":{\"color\":\"rgb(61,153,112)\"},\"mode\":\"lines\",\"x\":[2775.0,2775.0,2790.0,2790.0],\"xaxis\":\"x\",\"y\":[0.0,1.5816208600391297,1.5816208600391297,1.3391538831768972],\"yaxis\":\"y\",\"type\":\"scatter\"},{\"hoverinfo\":\"text\",\"marker\":{\"color\":\"rgb(61,153,112)\"},\"mode\":\"lines\",\"x\":[2805.0,2805.0,2815.0,2815.0],\"xaxis\":\"x\",\"y\":[0.0,0.457604317991323,0.457604317991323,0.0],\"yaxis\":\"y\",\"type\":\"scatter\"},{\"hoverinfo\":\"text\",\"marker\":{\"color\":\"rgb(61,153,112)\"},\"mode\":\"lines\",\"x\":[2845.0,2845.0,2855.0,2855.0],\"xaxis\":\"x\",\"y\":[0.0,0.5486973092216039,0.5486973092216039,0.0],\"yaxis\":\"y\",\"type\":\"scatter\"},{\"hoverinfo\":\"text\",\"marker\":{\"color\":\"rgb(61,153,112)\"},\"mode\":\"lines\",\"x\":[2835.0,2835.0,2850.0,2850.0],\"xaxis\":\"x\",\"y\":[0.0,0.8186339868870135,0.8186339868870135,0.5486973092216039],\"yaxis\":\"y\",\"type\":\"scatter\"},{\"hoverinfo\":\"text\",\"marker\":{\"color\":\"rgb(61,153,112)\"},\"mode\":\"lines\",\"x\":[2825.0,2825.0,2842.5,2842.5],\"xaxis\":\"x\",\"y\":[0.0,1.0189540675811715,1.0189540675811715,0.8186339868870135],\"yaxis\":\"y\",\"type\":\"scatter\"},{\"hoverinfo\":\"text\",\"marker\":{\"color\":\"rgb(61,153,112)\"},\"mode\":\"lines\",\"x\":[2810.0,2810.0,2833.75,2833.75],\"xaxis\":\"x\",\"y\":[0.457604317991323,1.7575210248124054,1.7575210248124054,1.0189540675811715],\"yaxis\":\"y\",\"type\":\"scatter\"},{\"hoverinfo\":\"text\",\"marker\":{\"color\":\"rgb(61,153,112)\"},\"mode\":\"lines\",\"x\":[2782.5,2782.5,2821.875,2821.875],\"xaxis\":\"x\",\"y\":[1.5816208600391297,3.1853857222022604,3.1853857222022604,1.7575210248124054],\"yaxis\":\"y\",\"type\":\"scatter\"},{\"hoverinfo\":\"text\",\"marker\":{\"color\":\"rgb(61,153,112)\"},\"mode\":\"lines\",\"x\":[2865.0,2865.0,2875.0,2875.0],\"xaxis\":\"x\",\"y\":[0.0,3.5640648443068135,3.5640648443068135,0.0],\"yaxis\":\"y\",\"type\":\"scatter\"},{\"hoverinfo\":\"text\",\"marker\":{\"color\":\"rgb(61,153,112)\"},\"mode\":\"lines\",\"x\":[2802.1875,2802.1875,2870.0,2870.0],\"xaxis\":\"x\",\"y\":[3.1853857222022604,5.024248185255959,5.024248185255959,3.5640648443068135],\"yaxis\":\"y\",\"type\":\"scatter\"},{\"hoverinfo\":\"text\",\"marker\":{\"color\":\"rgb(61,153,112)\"},\"mode\":\"lines\",\"x\":[2741.25,2741.25,2836.09375,2836.09375],\"xaxis\":\"x\",\"y\":[4.804004680779418,8.303130261102691,8.303130261102691,5.024248185255959],\"yaxis\":\"y\",\"type\":\"scatter\"},{\"hoverinfo\":\"text\",\"marker\":{\"color\":\"rgb(61,153,112)\"},\"mode\":\"lines\",\"x\":[704.3844604492188,704.3844604492188,2788.671875,2788.671875],\"xaxis\":\"x\",\"y\":[6.9392951293785545,10.47294440501479,10.47294440501479,8.303130261102691],\"yaxis\":\"y\",\"type\":\"scatter\"},{\"hoverinfo\":\"text\",\"marker\":{\"color\":\"rgb(255,65,54)\"},\"mode\":\"lines\",\"x\":[2885.0,2885.0,2895.0,2895.0],\"xaxis\":\"x\",\"y\":[0.0,3.649685224335885,3.649685224335885,0.0],\"yaxis\":\"y\",\"type\":\"scatter\"},{\"hoverinfo\":\"text\",\"marker\":{\"color\":\"rgb(255,65,54)\"},\"mode\":\"lines\",\"x\":[2905.0,2905.0,2915.0,2915.0],\"xaxis\":\"x\",\"y\":[0.0,0.0,0.0,0.0],\"yaxis\":\"y\",\"type\":\"scatter\"},{\"hoverinfo\":\"text\",\"marker\":{\"color\":\"rgb(255,65,54)\"},\"mode\":\"lines\",\"x\":[2925.0,2925.0,2935.0,2935.0],\"xaxis\":\"x\",\"y\":[0.0,0.560106043193538,0.560106043193538,0.0],\"yaxis\":\"y\",\"type\":\"scatter\"},{\"hoverinfo\":\"text\",\"marker\":{\"color\":\"rgb(255,65,54)\"},\"mode\":\"lines\",\"x\":[2945.0,2945.0,2955.0,2955.0],\"xaxis\":\"x\",\"y\":[0.0,0.7204307270132125,0.7204307270132125,0.0],\"yaxis\":\"y\",\"type\":\"scatter\"},{\"hoverinfo\":\"text\",\"marker\":{\"color\":\"rgb(255,65,54)\"},\"mode\":\"lines\",\"x\":[2930.0,2930.0,2950.0,2950.0],\"xaxis\":\"x\",\"y\":[0.560106043193538,1.1400193765875126,1.1400193765875126,0.7204307270132125],\"yaxis\":\"y\",\"type\":\"scatter\"},{\"hoverinfo\":\"text\",\"marker\":{\"color\":\"rgb(255,65,54)\"},\"mode\":\"lines\",\"x\":[2910.0,2910.0,2940.0,2940.0],\"xaxis\":\"x\",\"y\":[0.0,1.909180715569676,1.909180715569676,1.1400193765875126],\"yaxis\":\"y\",\"type\":\"scatter\"},{\"hoverinfo\":\"text\",\"marker\":{\"color\":\"rgb(255,65,54)\"},\"mode\":\"lines\",\"x\":[2965.0,2965.0,2975.0,2975.0],\"xaxis\":\"x\",\"y\":[0.0,0.4095800622535579,0.4095800622535579,0.0],\"yaxis\":\"y\",\"type\":\"scatter\"},{\"hoverinfo\":\"text\",\"marker\":{\"color\":\"rgb(255,65,54)\"},\"mode\":\"lines\",\"x\":[2985.0,2985.0,2995.0,2995.0],\"xaxis\":\"x\",\"y\":[0.0,0.6408408994580621,0.6408408994580621,0.0],\"yaxis\":\"y\",\"type\":\"scatter\"},{\"hoverinfo\":\"text\",\"marker\":{\"color\":\"rgb(255,65,54)\"},\"mode\":\"lines\",\"x\":[2970.0,2970.0,2990.0,2990.0],\"xaxis\":\"x\",\"y\":[0.4095800622535579,0.9357552294019035,0.9357552294019035,0.6408408994580621],\"yaxis\":\"y\",\"type\":\"scatter\"},{\"hoverinfo\":\"text\",\"marker\":{\"color\":\"rgb(255,65,54)\"},\"mode\":\"lines\",\"x\":[3005.0,3005.0,3015.0,3015.0],\"xaxis\":\"x\",\"y\":[0.0,0.0,0.0,0.0],\"yaxis\":\"y\",\"type\":\"scatter\"},{\"hoverinfo\":\"text\",\"marker\":{\"color\":\"rgb(255,65,54)\"},\"mode\":\"lines\",\"x\":[3035.0,3035.0,3045.0,3045.0],\"xaxis\":\"x\",\"y\":[0.0,0.5371142252741415,0.5371142252741415,0.0],\"yaxis\":\"y\",\"type\":\"scatter\"},{\"hoverinfo\":\"text\",\"marker\":{\"color\":\"rgb(255,65,54)\"},\"mode\":\"lines\",\"x\":[3025.0,3025.0,3040.0,3040.0],\"xaxis\":\"x\",\"y\":[0.0,0.7897568775676888,0.7897568775676888,0.5371142252741415],\"yaxis\":\"y\",\"type\":\"scatter\"},{\"hoverinfo\":\"text\",\"marker\":{\"color\":\"rgb(255,65,54)\"},\"mode\":\"lines\",\"x\":[3010.0,3010.0,3032.5,3032.5],\"xaxis\":\"x\",\"y\":[0.0,0.8772105975056126,0.8772105975056126,0.7897568775676888],\"yaxis\":\"y\",\"type\":\"scatter\"},{\"hoverinfo\":\"text\",\"marker\":{\"color\":\"rgb(255,65,54)\"},\"mode\":\"lines\",\"x\":[3055.0,3055.0,3065.0,3065.0],\"xaxis\":\"x\",\"y\":[0.0,0.4488437359872793,0.4488437359872793,0.0],\"yaxis\":\"y\",\"type\":\"scatter\"},{\"hoverinfo\":\"text\",\"marker\":{\"color\":\"rgb(255,65,54)\"},\"mode\":\"lines\",\"x\":[3105.0,3105.0,3115.0,3115.0],\"xaxis\":\"x\",\"y\":[0.0,0.06727379876564799,0.06727379876564799,0.0],\"yaxis\":\"y\",\"type\":\"scatter\"},{\"hoverinfo\":\"text\",\"marker\":{\"color\":\"rgb(255,65,54)\"},\"mode\":\"lines\",\"x\":[3095.0,3095.0,3110.0,3110.0],\"xaxis\":\"x\",\"y\":[0.0,0.1833540789887269,0.1833540789887269,0.06727379876564799],\"yaxis\":\"y\",\"type\":\"scatter\"},{\"hoverinfo\":\"text\",\"marker\":{\"color\":\"rgb(255,65,54)\"},\"mode\":\"lines\",\"x\":[3145.0,3145.0,3155.0,3155.0],\"xaxis\":\"x\",\"y\":[0.0,0.014510035027884838,0.014510035027884838,0.0],\"yaxis\":\"y\",\"type\":\"scatter\"},{\"hoverinfo\":\"text\",\"marker\":{\"color\":\"rgb(255,65,54)\"},\"mode\":\"lines\",\"x\":[3135.0,3135.0,3150.0,3150.0],\"xaxis\":\"x\",\"y\":[0.0,0.04748738736398672,0.04748738736398672,0.014510035027884838],\"yaxis\":\"y\",\"type\":\"scatter\"},{\"hoverinfo\":\"text\",\"marker\":{\"color\":\"rgb(255,65,54)\"},\"mode\":\"lines\",\"x\":[3125.0,3125.0,3142.5,3142.5],\"xaxis\":\"x\",\"y\":[0.0,0.3000728334092377,0.3000728334092377,0.04748738736398672],\"yaxis\":\"y\",\"type\":\"scatter\"},{\"hoverinfo\":\"text\",\"marker\":{\"color\":\"rgb(255,65,54)\"},\"mode\":\"lines\",\"x\":[3102.5,3102.5,3133.75,3133.75],\"xaxis\":\"x\",\"y\":[0.1833540789887269,0.43838602814103045,0.43838602814103045,0.3000728334092377],\"yaxis\":\"y\",\"type\":\"scatter\"},{\"hoverinfo\":\"text\",\"marker\":{\"color\":\"rgb(255,65,54)\"},\"mode\":\"lines\",\"x\":[3085.0,3085.0,3118.125,3118.125],\"xaxis\":\"x\",\"y\":[0.0,0.6742163546797136,0.6742163546797136,0.43838602814103045],\"yaxis\":\"y\",\"type\":\"scatter\"},{\"hoverinfo\":\"text\",\"marker\":{\"color\":\"rgb(255,65,54)\"},\"mode\":\"lines\",\"x\":[3075.0,3075.0,3101.5625,3101.5625],\"xaxis\":\"x\",\"y\":[0.0,0.8302032314940944,0.8302032314940944,0.6742163546797136],\"yaxis\":\"y\",\"type\":\"scatter\"},{\"hoverinfo\":\"text\",\"marker\":{\"color\":\"rgb(255,65,54)\"},\"mode\":\"lines\",\"x\":[3060.0,3060.0,3088.28125,3088.28125],\"xaxis\":\"x\",\"y\":[0.4488437359872793,1.0708278509725488,1.0708278509725488,0.8302032314940944],\"yaxis\":\"y\",\"type\":\"scatter\"},{\"hoverinfo\":\"text\",\"marker\":{\"color\":\"rgb(255,65,54)\"},\"mode\":\"lines\",\"x\":[3021.25,3021.25,3074.140625,3074.140625],\"xaxis\":\"x\",\"y\":[0.8772105975056126,1.3620429627451858,1.3620429627451858,1.0708278509725488],\"yaxis\":\"y\",\"type\":\"scatter\"},{\"hoverinfo\":\"text\",\"marker\":{\"color\":\"rgb(255,65,54)\"},\"mode\":\"lines\",\"x\":[2980.0,2980.0,3047.6953125,3047.6953125],\"xaxis\":\"x\",\"y\":[0.9357552294019035,1.6348972778795412,1.6348972778795412,1.3620429627451858],\"yaxis\":\"y\",\"type\":\"scatter\"},{\"hoverinfo\":\"text\",\"marker\":{\"color\":\"rgb(255,65,54)\"},\"mode\":\"lines\",\"x\":[3165.0,3165.0,3175.0,3175.0],\"xaxis\":\"x\",\"y\":[0.0,0.8048494513746222,0.8048494513746222,0.0],\"yaxis\":\"y\",\"type\":\"scatter\"},{\"hoverinfo\":\"text\",\"marker\":{\"color\":\"rgb(255,65,54)\"},\"mode\":\"lines\",\"x\":[3205.0,3205.0,3215.0,3215.0],\"xaxis\":\"x\",\"y\":[0.0,0.34957414968308703,0.34957414968308703,0.0],\"yaxis\":\"y\",\"type\":\"scatter\"},{\"hoverinfo\":\"text\",\"marker\":{\"color\":\"rgb(255,65,54)\"},\"mode\":\"lines\",\"x\":[3195.0,3195.0,3210.0,3210.0],\"xaxis\":\"x\",\"y\":[0.0,0.6366680295571542,0.6366680295571542,0.34957414968308703],\"yaxis\":\"y\",\"type\":\"scatter\"},{\"hoverinfo\":\"text\",\"marker\":{\"color\":\"rgb(255,65,54)\"},\"mode\":\"lines\",\"x\":[3185.0,3185.0,3202.5,3202.5],\"xaxis\":\"x\",\"y\":[0.0,0.9066633748773956,0.9066633748773956,0.6366680295571542],\"yaxis\":\"y\",\"type\":\"scatter\"},{\"hoverinfo\":\"text\",\"marker\":{\"color\":\"rgb(255,65,54)\"},\"mode\":\"lines\",\"x\":[3170.0,3170.0,3193.75,3193.75],\"xaxis\":\"x\",\"y\":[0.8048494513746222,1.3034018322936196,1.3034018322936196,0.9066633748773956],\"yaxis\":\"y\",\"type\":\"scatter\"},{\"hoverinfo\":\"text\",\"marker\":{\"color\":\"rgb(255,65,54)\"},\"mode\":\"lines\",\"x\":[3225.0,3225.0,3235.0,3235.0],\"xaxis\":\"x\",\"y\":[0.0,0.7486989722718169,0.7486989722718169,0.0],\"yaxis\":\"y\",\"type\":\"scatter\"},{\"hoverinfo\":\"text\",\"marker\":{\"color\":\"rgb(255,65,54)\"},\"mode\":\"lines\",\"x\":[3245.0,3245.0,3255.0,3255.0],\"xaxis\":\"x\",\"y\":[0.0,0.1572009402453289,0.1572009402453289,0.0],\"yaxis\":\"y\",\"type\":\"scatter\"},{\"hoverinfo\":\"text\",\"marker\":{\"color\":\"rgb(255,65,54)\"},\"mode\":\"lines\",\"x\":[3275.0,3275.0,3285.0,3285.0],\"xaxis\":\"x\",\"y\":[0.0,0.26187730742719506,0.26187730742719506,0.0],\"yaxis\":\"y\",\"type\":\"scatter\"},{\"hoverinfo\":\"text\",\"marker\":{\"color\":\"rgb(255,65,54)\"},\"mode\":\"lines\",\"x\":[3265.0,3265.0,3280.0,3280.0],\"xaxis\":\"x\",\"y\":[0.0,0.6266801258891913,0.6266801258891913,0.26187730742719506],\"yaxis\":\"y\",\"type\":\"scatter\"},{\"hoverinfo\":\"text\",\"marker\":{\"color\":\"rgb(255,65,54)\"},\"mode\":\"lines\",\"x\":[3250.0,3250.0,3272.5,3272.5],\"xaxis\":\"x\",\"y\":[0.1572009402453289,0.8185164669340278,0.8185164669340278,0.6266801258891913],\"yaxis\":\"y\",\"type\":\"scatter\"},{\"hoverinfo\":\"text\",\"marker\":{\"color\":\"rgb(255,65,54)\"},\"mode\":\"lines\",\"x\":[3295.0,3295.0,3305.0,3305.0],\"xaxis\":\"x\",\"y\":[0.0,0.5863043646137156,0.5863043646137156,0.0],\"yaxis\":\"y\",\"type\":\"scatter\"},{\"hoverinfo\":\"text\",\"marker\":{\"color\":\"rgb(255,65,54)\"},\"mode\":\"lines\",\"x\":[3325.0,3325.0,3335.0,3335.0],\"xaxis\":\"x\",\"y\":[0.0,0.005276376373776315,0.005276376373776315,0.0],\"yaxis\":\"y\",\"type\":\"scatter\"},{\"hoverinfo\":\"text\",\"marker\":{\"color\":\"rgb(255,65,54)\"},\"mode\":\"lines\",\"x\":[3315.0,3315.0,3330.0,3330.0],\"xaxis\":\"x\",\"y\":[0.0,0.7065938784964287,0.7065938784964287,0.005276376373776315],\"yaxis\":\"y\",\"type\":\"scatter\"},{\"hoverinfo\":\"text\",\"marker\":{\"color\":\"rgb(255,65,54)\"},\"mode\":\"lines\",\"x\":[3300.0,3300.0,3322.5,3322.5],\"xaxis\":\"x\",\"y\":[0.5863043646137156,0.9494721047944662,0.9494721047944662,0.7065938784964287],\"yaxis\":\"y\",\"type\":\"scatter\"},{\"hoverinfo\":\"text\",\"marker\":{\"color\":\"rgb(255,65,54)\"},\"mode\":\"lines\",\"x\":[3261.25,3261.25,3311.25,3311.25],\"xaxis\":\"x\",\"y\":[0.8185164669340278,1.2029270322239347,1.2029270322239347,0.9494721047944662],\"yaxis\":\"y\",\"type\":\"scatter\"},{\"hoverinfo\":\"text\",\"marker\":{\"color\":\"rgb(255,65,54)\"},\"mode\":\"lines\",\"x\":[3230.0,3230.0,3286.25,3286.25],\"xaxis\":\"x\",\"y\":[0.7486989722718169,1.4421958224322924,1.4421958224322924,1.2029270322239347],\"yaxis\":\"y\",\"type\":\"scatter\"},{\"hoverinfo\":\"text\",\"marker\":{\"color\":\"rgb(255,65,54)\"},\"mode\":\"lines\",\"x\":[3181.875,3181.875,3258.125,3258.125],\"xaxis\":\"x\",\"y\":[1.3034018322936196,1.8732223153557885,1.8732223153557885,1.4421958224322924],\"yaxis\":\"y\",\"type\":\"scatter\"},{\"hoverinfo\":\"text\",\"marker\":{\"color\":\"rgb(255,65,54)\"},\"mode\":\"lines\",\"x\":[3013.84765625,3013.84765625,3220.0,3220.0],\"xaxis\":\"x\",\"y\":[1.6348972778795412,2.584045140623537,2.584045140623537,1.8732223153557885],\"yaxis\":\"y\",\"type\":\"scatter\"},{\"hoverinfo\":\"text\",\"marker\":{\"color\":\"rgb(255,65,54)\"},\"mode\":\"lines\",\"x\":[2925.0,2925.0,3116.923828125,3116.923828125],\"xaxis\":\"x\",\"y\":[1.909180715569676,3.139626881833342,3.139626881833342,2.584045140623537],\"yaxis\":\"y\",\"type\":\"scatter\"},{\"hoverinfo\":\"text\",\"marker\":{\"color\":\"rgb(255,65,54)\"},\"mode\":\"lines\",\"x\":[3345.0,3345.0,3355.0,3355.0],\"xaxis\":\"x\",\"y\":[0.0,0.5982672244578033,0.5982672244578033,0.0],\"yaxis\":\"y\",\"type\":\"scatter\"},{\"hoverinfo\":\"text\",\"marker\":{\"color\":\"rgb(255,65,54)\"},\"mode\":\"lines\",\"x\":[3395.0,3395.0,3405.0,3405.0],\"xaxis\":\"x\",\"y\":[0.0,0.1457185600585421,0.1457185600585421,0.0],\"yaxis\":\"y\",\"type\":\"scatter\"},{\"hoverinfo\":\"text\",\"marker\":{\"color\":\"rgb(255,65,54)\"},\"mode\":\"lines\",\"x\":[3385.0,3385.0,3400.0,3400.0],\"xaxis\":\"x\",\"y\":[0.0,0.4829930207155105,0.4829930207155105,0.1457185600585421],\"yaxis\":\"y\",\"type\":\"scatter\"},{\"hoverinfo\":\"text\",\"marker\":{\"color\":\"rgb(255,65,54)\"},\"mode\":\"lines\",\"x\":[3375.0,3375.0,3392.5,3392.5],\"xaxis\":\"x\",\"y\":[0.0,0.594494715199224,0.594494715199224,0.4829930207155105],\"yaxis\":\"y\",\"type\":\"scatter\"},{\"hoverinfo\":\"text\",\"marker\":{\"color\":\"rgb(255,65,54)\"},\"mode\":\"lines\",\"x\":[3365.0,3365.0,3383.75,3383.75],\"xaxis\":\"x\",\"y\":[0.0,0.6908277521802832,0.6908277521802832,0.594494715199224],\"yaxis\":\"y\",\"type\":\"scatter\"},{\"hoverinfo\":\"text\",\"marker\":{\"color\":\"rgb(255,65,54)\"},\"mode\":\"lines\",\"x\":[3415.0,3415.0,3425.0,3425.0],\"xaxis\":\"x\",\"y\":[0.0,0.338564657618638,0.338564657618638,0.0],\"yaxis\":\"y\",\"type\":\"scatter\"},{\"hoverinfo\":\"text\",\"marker\":{\"color\":\"rgb(255,65,54)\"},\"mode\":\"lines\",\"x\":[3445.0,3445.0,3455.0,3455.0],\"xaxis\":\"x\",\"y\":[0.0,0.0,0.0,0.0],\"yaxis\":\"y\",\"type\":\"scatter\"},{\"hoverinfo\":\"text\",\"marker\":{\"color\":\"rgb(255,65,54)\"},\"mode\":\"lines\",\"x\":[3435.0,3435.0,3450.0,3450.0],\"xaxis\":\"x\",\"y\":[0.0,0.5759430568577422,0.5759430568577422,0.0],\"yaxis\":\"y\",\"type\":\"scatter\"},{\"hoverinfo\":\"text\",\"marker\":{\"color\":\"rgb(255,65,54)\"},\"mode\":\"lines\",\"x\":[3420.0,3420.0,3442.5,3442.5],\"xaxis\":\"x\",\"y\":[0.338564657618638,0.8016361059705714,0.8016361059705714,0.5759430568577422],\"yaxis\":\"y\",\"type\":\"scatter\"},{\"hoverinfo\":\"text\",\"marker\":{\"color\":\"rgb(255,65,54)\"},\"mode\":\"lines\",\"x\":[3374.375,3374.375,3431.25,3431.25],\"xaxis\":\"x\",\"y\":[0.6908277521802832,1.100260530691341,1.100260530691341,0.8016361059705714],\"yaxis\":\"y\",\"type\":\"scatter\"},{\"hoverinfo\":\"text\",\"marker\":{\"color\":\"rgb(255,65,54)\"},\"mode\":\"lines\",\"x\":[3475.0,3475.0,3485.0,3485.0],\"xaxis\":\"x\",\"y\":[0.0,0.41810645159958154,0.41810645159958154,0.0],\"yaxis\":\"y\",\"type\":\"scatter\"},{\"hoverinfo\":\"text\",\"marker\":{\"color\":\"rgb(255,65,54)\"},\"mode\":\"lines\",\"x\":[3465.0,3465.0,3480.0,3480.0],\"xaxis\":\"x\",\"y\":[0.0,0.6000690999000425,0.6000690999000425,0.41810645159958154],\"yaxis\":\"y\",\"type\":\"scatter\"},{\"hoverinfo\":\"text\",\"marker\":{\"color\":\"rgb(255,65,54)\"},\"mode\":\"lines\",\"x\":[3495.0,3495.0,3505.0,3505.0],\"xaxis\":\"x\",\"y\":[0.0,0.40086319513970575,0.40086319513970575,0.0],\"yaxis\":\"y\",\"type\":\"scatter\"},{\"hoverinfo\":\"text\",\"marker\":{\"color\":\"rgb(255,65,54)\"},\"mode\":\"lines\",\"x\":[3515.0,3515.0,3525.0,3525.0],\"xaxis\":\"x\",\"y\":[0.0,0.625400089037772,0.625400089037772,0.0],\"yaxis\":\"y\",\"type\":\"scatter\"},{\"hoverinfo\":\"text\",\"marker\":{\"color\":\"rgb(255,65,54)\"},\"mode\":\"lines\",\"x\":[3535.0,3535.0,3545.0,3545.0],\"xaxis\":\"x\",\"y\":[0.0,0.7480998475651058,0.7480998475651058,0.0],\"yaxis\":\"y\",\"type\":\"scatter\"},{\"hoverinfo\":\"text\",\"marker\":{\"color\":\"rgb(255,65,54)\"},\"mode\":\"lines\",\"x\":[3520.0,3520.0,3540.0,3540.0],\"xaxis\":\"x\",\"y\":[0.625400089037772,0.9680390262675431,0.9680390262675431,0.7480998475651058],\"yaxis\":\"y\",\"type\":\"scatter\"},{\"hoverinfo\":\"text\",\"marker\":{\"color\":\"rgb(255,65,54)\"},\"mode\":\"lines\",\"x\":[3500.0,3500.0,3530.0,3530.0],\"xaxis\":\"x\",\"y\":[0.40086319513970575,1.111406169419011,1.111406169419011,0.9680390262675431],\"yaxis\":\"y\",\"type\":\"scatter\"},{\"hoverinfo\":\"text\",\"marker\":{\"color\":\"rgb(255,65,54)\"},\"mode\":\"lines\",\"x\":[3472.5,3472.5,3515.0,3515.0],\"xaxis\":\"x\",\"y\":[0.6000690999000425,1.3227625283552182,1.3227625283552182,1.111406169419011],\"yaxis\":\"y\",\"type\":\"scatter\"},{\"hoverinfo\":\"text\",\"marker\":{\"color\":\"rgb(255,65,54)\"},\"mode\":\"lines\",\"x\":[3402.8125,3402.8125,3493.75,3493.75],\"xaxis\":\"x\",\"y\":[1.100260530691341,1.7261155869901093,1.7261155869901093,1.3227625283552182],\"yaxis\":\"y\",\"type\":\"scatter\"},{\"hoverinfo\":\"text\",\"marker\":{\"color\":\"rgb(255,65,54)\"},\"mode\":\"lines\",\"x\":[3555.0,3555.0,3565.0,3565.0],\"xaxis\":\"x\",\"y\":[0.0,0.0699119869525362,0.0699119869525362,0.0],\"yaxis\":\"y\",\"type\":\"scatter\"},{\"hoverinfo\":\"text\",\"marker\":{\"color\":\"rgb(255,65,54)\"},\"mode\":\"lines\",\"x\":[3575.0,3575.0,3585.0,3585.0],\"xaxis\":\"x\",\"y\":[0.0,0.39990087683565967,0.39990087683565967,0.0],\"yaxis\":\"y\",\"type\":\"scatter\"},{\"hoverinfo\":\"text\",\"marker\":{\"color\":\"rgb(255,65,54)\"},\"mode\":\"lines\",\"x\":[3595.0,3595.0,3605.0,3605.0],\"xaxis\":\"x\",\"y\":[0.0,0.21485954806987725,0.21485954806987725,0.0],\"yaxis\":\"y\",\"type\":\"scatter\"},{\"hoverinfo\":\"text\",\"marker\":{\"color\":\"rgb(255,65,54)\"},\"mode\":\"lines\",\"x\":[3615.0,3615.0,3625.0,3625.0],\"xaxis\":\"x\",\"y\":[0.0,0.30261699207897835,0.30261699207897835,0.0],\"yaxis\":\"y\",\"type\":\"scatter\"},{\"hoverinfo\":\"text\",\"marker\":{\"color\":\"rgb(255,65,54)\"},\"mode\":\"lines\",\"x\":[3600.0,3600.0,3620.0,3620.0],\"xaxis\":\"x\",\"y\":[0.21485954806987725,0.47651572983520263,0.47651572983520263,0.30261699207897835],\"yaxis\":\"y\",\"type\":\"scatter\"},{\"hoverinfo\":\"text\",\"marker\":{\"color\":\"rgb(255,65,54)\"},\"mode\":\"lines\",\"x\":[3580.0,3580.0,3610.0,3610.0],\"xaxis\":\"x\",\"y\":[0.39990087683565967,0.6208484125651433,0.6208484125651433,0.47651572983520263],\"yaxis\":\"y\",\"type\":\"scatter\"},{\"hoverinfo\":\"text\",\"marker\":{\"color\":\"rgb(255,65,54)\"},\"mode\":\"lines\",\"x\":[3560.0,3560.0,3595.0,3595.0],\"xaxis\":\"x\",\"y\":[0.0699119869525362,0.6772904967519339,0.6772904967519339,0.6208484125651433],\"yaxis\":\"y\",\"type\":\"scatter\"},{\"hoverinfo\":\"text\",\"marker\":{\"color\":\"rgb(255,65,54)\"},\"mode\":\"lines\",\"x\":[3645.0,3645.0,3655.0,3655.0],\"xaxis\":\"x\",\"y\":[0.0,0.15018110591992528,0.15018110591992528,0.0],\"yaxis\":\"y\",\"type\":\"scatter\"},{\"hoverinfo\":\"text\",\"marker\":{\"color\":\"rgb(255,65,54)\"},\"mode\":\"lines\",\"x\":[3635.0,3635.0,3650.0,3650.0],\"xaxis\":\"x\",\"y\":[0.0,0.9902855582303762,0.9902855582303762,0.15018110591992528],\"yaxis\":\"y\",\"type\":\"scatter\"},{\"hoverinfo\":\"text\",\"marker\":{\"color\":\"rgb(255,65,54)\"},\"mode\":\"lines\",\"x\":[3705.0,3705.0,3715.0,3715.0],\"xaxis\":\"x\",\"y\":[0.0,0.14510035027884866,0.14510035027884866,0.0],\"yaxis\":\"y\",\"type\":\"scatter\"},{\"hoverinfo\":\"text\",\"marker\":{\"color\":\"rgb(255,65,54)\"},\"mode\":\"lines\",\"x\":[3695.0,3695.0,3710.0,3710.0],\"xaxis\":\"x\",\"y\":[0.0,0.2834485161948222,0.2834485161948222,0.14510035027884866],\"yaxis\":\"y\",\"type\":\"scatter\"},{\"hoverinfo\":\"text\",\"marker\":{\"color\":\"rgb(255,65,54)\"},\"mode\":\"lines\",\"x\":[3685.0,3685.0,3702.5,3702.5],\"xaxis\":\"x\",\"y\":[0.0,0.37904342198922336,0.37904342198922336,0.2834485161948222],\"yaxis\":\"y\",\"type\":\"scatter\"},{\"hoverinfo\":\"text\",\"marker\":{\"color\":\"rgb(255,65,54)\"},\"mode\":\"lines\",\"x\":[3675.0,3675.0,3693.75,3693.75],\"xaxis\":\"x\",\"y\":[0.0,0.6807603653597664,0.6807603653597664,0.37904342198922336],\"yaxis\":\"y\",\"type\":\"scatter\"},{\"hoverinfo\":\"text\",\"marker\":{\"color\":\"rgb(255,65,54)\"},\"mode\":\"lines\",\"x\":[3735.0,3735.0,3745.0,3745.0],\"xaxis\":\"x\",\"y\":[0.0,0.009233658654108523,0.009233658654108523,0.0],\"yaxis\":\"y\",\"type\":\"scatter\"},{\"hoverinfo\":\"text\",\"marker\":{\"color\":\"rgb(255,65,54)\"},\"mode\":\"lines\",\"x\":[3765.0,3765.0,3775.0,3775.0],\"xaxis\":\"x\",\"y\":[0.0,0.33329273560918077,0.33329273560918077,0.0],\"yaxis\":\"y\",\"type\":\"scatter\"},{\"hoverinfo\":\"text\",\"marker\":{\"color\":\"rgb(255,65,54)\"},\"mode\":\"lines\",\"x\":[3755.0,3755.0,3770.0,3770.0],\"xaxis\":\"x\",\"y\":[0.0,0.40087824505875164,0.40087824505875164,0.33329273560918077],\"yaxis\":\"y\",\"type\":\"scatter\"},{\"hoverinfo\":\"text\",\"marker\":{\"color\":\"rgb(255,65,54)\"},\"mode\":\"lines\",\"x\":[3740.0,3740.0,3762.5,3762.5],\"xaxis\":\"x\",\"y\":[0.009233658654108523,0.5840207430746159,0.5840207430746159,0.40087824505875164],\"yaxis\":\"y\",\"type\":\"scatter\"},{\"hoverinfo\":\"text\",\"marker\":{\"color\":\"rgb(255,65,54)\"},\"mode\":\"lines\",\"x\":[3725.0,3725.0,3751.25,3751.25],\"xaxis\":\"x\",\"y\":[0.0,0.703467771493247,0.703467771493247,0.5840207430746159],\"yaxis\":\"y\",\"type\":\"scatter\"},{\"hoverinfo\":\"text\",\"marker\":{\"color\":\"rgb(255,65,54)\"},\"mode\":\"lines\",\"x\":[3684.375,3684.375,3738.125,3738.125],\"xaxis\":\"x\",\"y\":[0.6807603653597664,1.0594614725583837,1.0594614725583837,0.703467771493247],\"yaxis\":\"y\",\"type\":\"scatter\"},{\"hoverinfo\":\"text\",\"marker\":{\"color\":\"rgb(255,65,54)\"},\"mode\":\"lines\",\"x\":[3665.0,3665.0,3711.25,3711.25],\"xaxis\":\"x\",\"y\":[0.0,1.214713714894928,1.214713714894928,1.0594614725583837],\"yaxis\":\"y\",\"type\":\"scatter\"},{\"hoverinfo\":\"text\",\"marker\":{\"color\":\"rgb(255,65,54)\"},\"mode\":\"lines\",\"x\":[3642.5,3642.5,3688.125,3688.125],\"xaxis\":\"x\",\"y\":[0.9902855582303762,1.5287667363887913,1.5287667363887913,1.214713714894928],\"yaxis\":\"y\",\"type\":\"scatter\"},{\"hoverinfo\":\"text\",\"marker\":{\"color\":\"rgb(255,65,54)\"},\"mode\":\"lines\",\"x\":[3577.5,3577.5,3665.3125,3665.3125],\"xaxis\":\"x\",\"y\":[0.6772904967519339,1.8317621268753326,1.8317621268753326,1.5287667363887913],\"yaxis\":\"y\",\"type\":\"scatter\"},{\"hoverinfo\":\"text\",\"marker\":{\"color\":\"rgb(255,65,54)\"},\"mode\":\"lines\",\"x\":[3448.28125,3448.28125,3621.40625,3621.40625],\"xaxis\":\"x\",\"y\":[1.7261155869901093,2.3840520822286266,2.3840520822286266,1.8317621268753326],\"yaxis\":\"y\",\"type\":\"scatter\"},{\"hoverinfo\":\"text\",\"marker\":{\"color\":\"rgb(255,65,54)\"},\"mode\":\"lines\",\"x\":[3350.0,3350.0,3534.84375,3534.84375],\"xaxis\":\"x\",\"y\":[0.5982672244578033,3.8400778318208215,3.8400778318208215,2.3840520822286266],\"yaxis\":\"y\",\"type\":\"scatter\"},{\"hoverinfo\":\"text\",\"marker\":{\"color\":\"rgb(255,65,54)\"},\"mode\":\"lines\",\"x\":[3020.9619140625,3020.9619140625,3442.421875,3442.421875],\"xaxis\":\"x\",\"y\":[3.139626881833342,4.08056547720667,4.08056547720667,3.8400778318208215],\"yaxis\":\"y\",\"type\":\"scatter\"},{\"hoverinfo\":\"text\",\"marker\":{\"color\":\"rgb(255,65,54)\"},\"mode\":\"lines\",\"x\":[3795.0,3795.0,3805.0,3805.0],\"xaxis\":\"x\",\"y\":[0.0,1.0356883050248935,1.0356883050248935,0.0],\"yaxis\":\"y\",\"type\":\"scatter\"},{\"hoverinfo\":\"text\",\"marker\":{\"color\":\"rgb(255,65,54)\"},\"mode\":\"lines\",\"x\":[3785.0,3785.0,3800.0,3800.0],\"xaxis\":\"x\",\"y\":[0.0,2.328518771789339,2.328518771789339,1.0356883050248935],\"yaxis\":\"y\",\"type\":\"scatter\"},{\"hoverinfo\":\"text\",\"marker\":{\"color\":\"rgb(255,65,54)\"},\"mode\":\"lines\",\"x\":[3825.0,3825.0,3835.0,3835.0],\"xaxis\":\"x\",\"y\":[0.0,0.0,0.0,0.0],\"yaxis\":\"y\",\"type\":\"scatter\"},{\"hoverinfo\":\"text\",\"marker\":{\"color\":\"rgb(255,65,54)\"},\"mode\":\"lines\",\"x\":[3815.0,3815.0,3830.0,3830.0],\"xaxis\":\"x\",\"y\":[0.0,0.029020070055769676,0.029020070055769676,0.0],\"yaxis\":\"y\",\"type\":\"scatter\"},{\"hoverinfo\":\"text\",\"marker\":{\"color\":\"rgb(255,65,54)\"},\"mode\":\"lines\",\"x\":[3855.0,3855.0,3865.0,3865.0],\"xaxis\":\"x\",\"y\":[0.0,0.10684662156897029,0.10684662156897029,0.0],\"yaxis\":\"y\",\"type\":\"scatter\"},{\"hoverinfo\":\"text\",\"marker\":{\"color\":\"rgb(255,65,54)\"},\"mode\":\"lines\",\"x\":[3845.0,3845.0,3860.0,3860.0],\"xaxis\":\"x\",\"y\":[0.0,0.32874924350623247,0.32874924350623247,0.10684662156897029],\"yaxis\":\"y\",\"type\":\"scatter\"},{\"hoverinfo\":\"text\",\"marker\":{\"color\":\"rgb(255,65,54)\"},\"mode\":\"lines\",\"x\":[3822.5,3822.5,3852.5,3852.5],\"xaxis\":\"x\",\"y\":[0.029020070055769676,0.5990926360520973,0.5990926360520973,0.32874924350623247],\"yaxis\":\"y\",\"type\":\"scatter\"},{\"hoverinfo\":\"text\",\"marker\":{\"color\":\"rgb(255,65,54)\"},\"mode\":\"lines\",\"x\":[3885.0,3885.0,3895.0,3895.0],\"xaxis\":\"x\",\"y\":[0.0,0.0,0.0,0.0],\"yaxis\":\"y\",\"type\":\"scatter\"},{\"hoverinfo\":\"text\",\"marker\":{\"color\":\"rgb(255,65,54)\"},\"mode\":\"lines\",\"x\":[3875.0,3875.0,3890.0,3890.0],\"xaxis\":\"x\",\"y\":[0.0,0.07782655151320061,0.07782655151320061,0.0],\"yaxis\":\"y\",\"type\":\"scatter\"},{\"hoverinfo\":\"text\",\"marker\":{\"color\":\"rgb(255,65,54)\"},\"mode\":\"lines\",\"x\":[3915.0,3915.0,3925.0,3925.0],\"xaxis\":\"x\",\"y\":[0.0,0.0,0.0,0.0],\"yaxis\":\"y\",\"type\":\"scatter\"},{\"hoverinfo\":\"text\",\"marker\":{\"color\":\"rgb(255,65,54)\"},\"mode\":\"lines\",\"x\":[3905.0,3905.0,3920.0,3920.0],\"xaxis\":\"x\",\"y\":[0.0,0.0,0.0,0.0],\"yaxis\":\"y\",\"type\":\"scatter\"},{\"hoverinfo\":\"text\",\"marker\":{\"color\":\"rgb(255,65,54)\"},\"mode\":\"lines\",\"x\":[3935.0,3935.0,3945.0,3945.0],\"xaxis\":\"x\",\"y\":[0.0,0.0,0.0,0.0],\"yaxis\":\"y\",\"type\":\"scatter\"},{\"hoverinfo\":\"text\",\"marker\":{\"color\":\"rgb(255,65,54)\"},\"mode\":\"lines\",\"x\":[3912.5,3912.5,3940.0,3940.0],\"xaxis\":\"x\",\"y\":[0.0,0.07782655151320084,0.07782655151320084,0.0],\"yaxis\":\"y\",\"type\":\"scatter\"},{\"hoverinfo\":\"text\",\"marker\":{\"color\":\"rgb(255,65,54)\"},\"mode\":\"lines\",\"x\":[3882.5,3882.5,3926.25,3926.25],\"xaxis\":\"x\",\"y\":[0.07782655151320061,0.4322488848253125,0.4322488848253125,0.07782655151320084],\"yaxis\":\"y\",\"type\":\"scatter\"},{\"hoverinfo\":\"text\",\"marker\":{\"color\":\"rgb(255,65,54)\"},\"mode\":\"lines\",\"x\":[3955.0,3955.0,3965.0,3965.0],\"xaxis\":\"x\",\"y\":[0.0,0.0,0.0,0.0],\"yaxis\":\"y\",\"type\":\"scatter\"},{\"hoverinfo\":\"text\",\"marker\":{\"color\":\"rgb(255,65,54)\"},\"mode\":\"lines\",\"x\":[4005.0,4005.0,4015.0,4015.0],\"xaxis\":\"x\",\"y\":[0.0,0.0,0.0,0.0],\"yaxis\":\"y\",\"type\":\"scatter\"},{\"hoverinfo\":\"text\",\"marker\":{\"color\":\"rgb(255,65,54)\"},\"mode\":\"lines\",\"x\":[3995.0,3995.0,4010.0,4010.0],\"xaxis\":\"x\",\"y\":[0.0,0.08310292788697704,0.08310292788697704,0.0],\"yaxis\":\"y\",\"type\":\"scatter\"},{\"hoverinfo\":\"text\",\"marker\":{\"color\":\"rgb(255,65,54)\"},\"mode\":\"lines\",\"x\":[3985.0,3985.0,4002.5,4002.5],\"xaxis\":\"x\",\"y\":[0.0,0.201014435926166,0.201014435926166,0.08310292788697704],\"yaxis\":\"y\",\"type\":\"scatter\"},{\"hoverinfo\":\"text\",\"marker\":{\"color\":\"rgb(255,65,54)\"},\"mode\":\"lines\",\"x\":[3975.0,3975.0,3993.75,3993.75],\"xaxis\":\"x\",\"y\":[0.0,0.3285018489709994,0.3285018489709994,0.201014435926166],\"yaxis\":\"y\",\"type\":\"scatter\"},{\"hoverinfo\":\"text\",\"marker\":{\"color\":\"rgb(255,65,54)\"},\"mode\":\"lines\",\"x\":[3960.0,3960.0,3984.375,3984.375],\"xaxis\":\"x\",\"y\":[0.0,0.5782870586411831,0.5782870586411831,0.3285018489709994],\"yaxis\":\"y\",\"type\":\"scatter\"},{\"hoverinfo\":\"text\",\"marker\":{\"color\":\"rgb(255,65,54)\"},\"mode\":\"lines\",\"x\":[3904.375,3904.375,3972.1875,3972.1875],\"xaxis\":\"x\",\"y\":[0.4322488848253125,0.8289959985615999,0.8289959985615999,0.5782870586411831],\"yaxis\":\"y\",\"type\":\"scatter\"},{\"hoverinfo\":\"text\",\"marker\":{\"color\":\"rgb(255,65,54)\"},\"mode\":\"lines\",\"x\":[4045.0,4045.0,4055.0,4055.0],\"xaxis\":\"x\",\"y\":[0.0,0.007914564560664417,0.007914564560664417,0.0],\"yaxis\":\"y\",\"type\":\"scatter\"},{\"hoverinfo\":\"text\",\"marker\":{\"color\":\"rgb(255,65,54)\"},\"mode\":\"lines\",\"x\":[4035.0,4035.0,4050.0,4050.0],\"xaxis\":\"x\",\"y\":[0.0,0.11212299794274672,0.11212299794274672,0.007914564560664417],\"yaxis\":\"y\",\"type\":\"scatter\"},{\"hoverinfo\":\"text\",\"marker\":{\"color\":\"rgb(255,65,54)\"},\"mode\":\"lines\",\"x\":[4025.0,4025.0,4042.5,4042.5],\"xaxis\":\"x\",\"y\":[0.0,0.6328367803779785,0.6328367803779785,0.11212299794274672],\"yaxis\":\"y\",\"type\":\"scatter\"},{\"hoverinfo\":\"text\",\"marker\":{\"color\":\"rgb(255,65,54)\"},\"mode\":\"lines\",\"x\":[4065.0,4065.0,4075.0,4075.0],\"xaxis\":\"x\",\"y\":[0.0,0.08969839835419746,0.08969839835419746,0.0],\"yaxis\":\"y\",\"type\":\"scatter\"},{\"hoverinfo\":\"text\",\"marker\":{\"color\":\"rgb(255,65,54)\"},\"mode\":\"lines\",\"x\":[4085.0,4085.0,4095.0,4095.0],\"xaxis\":\"x\",\"y\":[0.0,0.05935923420498357,0.05935923420498357,0.0],\"yaxis\":\"y\",\"type\":\"scatter\"},{\"hoverinfo\":\"text\",\"marker\":{\"color\":\"rgb(255,65,54)\"},\"mode\":\"lines\",\"x\":[4105.0,4105.0,4115.0,4115.0],\"xaxis\":\"x\",\"y\":[0.0,0.07552692494306501,0.07552692494306501,0.0],\"yaxis\":\"y\",\"type\":\"scatter\"},{\"hoverinfo\":\"text\",\"marker\":{\"color\":\"rgb(255,65,54)\"},\"mode\":\"lines\",\"x\":[4090.0,4090.0,4110.0,4110.0],\"xaxis\":\"x\",\"y\":[0.05935923420498357,0.47375932600305104,0.47375932600305104,0.07552692494306501],\"yaxis\":\"y\",\"type\":\"scatter\"},{\"hoverinfo\":\"text\",\"marker\":{\"color\":\"rgb(255,65,54)\"},\"mode\":\"lines\",\"x\":[4070.0,4070.0,4100.0,4100.0],\"xaxis\":\"x\",\"y\":[0.08969839835419746,0.7545078955970271,0.7545078955970271,0.47375932600305104],\"yaxis\":\"y\",\"type\":\"scatter\"},{\"hoverinfo\":\"text\",\"marker\":{\"color\":\"rgb(255,65,54)\"},\"mode\":\"lines\",\"x\":[4033.75,4033.75,4085.0,4085.0],\"xaxis\":\"x\",\"y\":[0.6328367803779785,0.9876294868474089,0.9876294868474089,0.7545078955970271],\"yaxis\":\"y\",\"type\":\"scatter\"},{\"hoverinfo\":\"text\",\"marker\":{\"color\":\"rgb(255,65,54)\"},\"mode\":\"lines\",\"x\":[3938.28125,3938.28125,4059.375,4059.375],\"xaxis\":\"x\",\"y\":[0.8289959985615999,1.413482960877901,1.413482960877901,0.9876294868474089],\"yaxis\":\"y\",\"type\":\"scatter\"},{\"hoverinfo\":\"text\",\"marker\":{\"color\":\"rgb(255,65,54)\"},\"mode\":\"lines\",\"x\":[3837.5,3837.5,3998.828125,3998.828125],\"xaxis\":\"x\",\"y\":[0.5990926360520973,2.0590385919557015,2.0590385919557015,1.413482960877901],\"yaxis\":\"y\",\"type\":\"scatter\"},{\"hoverinfo\":\"text\",\"marker\":{\"color\":\"rgb(255,65,54)\"},\"mode\":\"lines\",\"x\":[4125.0,4125.0,4135.0,4135.0],\"xaxis\":\"x\",\"y\":[0.0,0.026381881868881685,0.026381881868881685,0.0],\"yaxis\":\"y\",\"type\":\"scatter\"},{\"hoverinfo\":\"text\",\"marker\":{\"color\":\"rgb(255,65,54)\"},\"mode\":\"lines\",\"x\":[4145.0,4145.0,4155.0,4155.0],\"xaxis\":\"x\",\"y\":[0.0,0.7575737025439763,0.7575737025439763,0.0],\"yaxis\":\"y\",\"type\":\"scatter\"},{\"hoverinfo\":\"text\",\"marker\":{\"color\":\"rgb(255,65,54)\"},\"mode\":\"lines\",\"x\":[4130.0,4130.0,4150.0,4150.0],\"xaxis\":\"x\",\"y\":[0.026381881868881685,1.282461514554853,1.282461514554853,0.7575737025439763],\"yaxis\":\"y\",\"type\":\"scatter\"},{\"hoverinfo\":\"text\",\"marker\":{\"color\":\"rgb(255,65,54)\"},\"mode\":\"lines\",\"x\":[4165.0,4165.0,4175.0,4175.0],\"xaxis\":\"x\",\"y\":[0.0,1.0469503725905016,1.0469503725905016,0.0],\"yaxis\":\"y\",\"type\":\"scatter\"},{\"hoverinfo\":\"text\",\"marker\":{\"color\":\"rgb(255,65,54)\"},\"mode\":\"lines\",\"x\":[4195.0,4195.0,4205.0,4205.0],\"xaxis\":\"x\",\"y\":[0.0,0.05804014011153935,0.05804014011153935,0.0],\"yaxis\":\"y\",\"type\":\"scatter\"},{\"hoverinfo\":\"text\",\"marker\":{\"color\":\"rgb(255,65,54)\"},\"mode\":\"lines\",\"x\":[4185.0,4185.0,4200.0,4200.0],\"xaxis\":\"x\",\"y\":[0.0,0.26870622757860896,0.26870622757860896,0.05804014011153935],\"yaxis\":\"y\",\"type\":\"scatter\"},{\"hoverinfo\":\"text\",\"marker\":{\"color\":\"rgb(255,65,54)\"},\"mode\":\"lines\",\"x\":[4235.0,4235.0,4245.0,4245.0],\"xaxis\":\"x\",\"y\":[0.0,0.046168293270542726,0.046168293270542726,0.0],\"yaxis\":\"y\",\"type\":\"scatter\"},{\"hoverinfo\":\"text\",\"marker\":{\"color\":\"rgb(255,65,54)\"},\"mode\":\"lines\",\"x\":[4225.0,4225.0,4240.0,4240.0],\"xaxis\":\"x\",\"y\":[0.0,0.11080390384930272,0.11080390384930272,0.046168293270542726],\"yaxis\":\"y\",\"type\":\"scatter\"},{\"hoverinfo\":\"text\",\"marker\":{\"color\":\"rgb(255,65,54)\"},\"mode\":\"lines\",\"x\":[4215.0,4215.0,4232.5,4232.5],\"xaxis\":\"x\",\"y\":[0.0,0.38468867736220635,0.38468867736220635,0.11080390384930272],\"yaxis\":\"y\",\"type\":\"scatter\"},{\"hoverinfo\":\"text\",\"marker\":{\"color\":\"rgb(255,65,54)\"},\"mode\":\"lines\",\"x\":[4192.5,4192.5,4223.75,4223.75],\"xaxis\":\"x\",\"y\":[0.26870622757860896,0.8374337396444497,0.8374337396444497,0.38468867736220635],\"yaxis\":\"y\",\"type\":\"scatter\"},{\"hoverinfo\":\"text\",\"marker\":{\"color\":\"rgb(255,65,54)\"},\"mode\":\"lines\",\"x\":[4265.0,4265.0,4275.0,4275.0],\"xaxis\":\"x\",\"y\":[0.0,0.6339998755290465,0.6339998755290465,0.0],\"yaxis\":\"y\",\"type\":\"scatter\"},{\"hoverinfo\":\"text\",\"marker\":{\"color\":\"rgb(255,65,54)\"},\"mode\":\"lines\",\"x\":[4255.0,4255.0,4270.0,4270.0],\"xaxis\":\"x\",\"y\":[0.0,1.2494614515272715,1.2494614515272715,0.6339998755290465],\"yaxis\":\"y\",\"type\":\"scatter\"},{\"hoverinfo\":\"text\",\"marker\":{\"color\":\"rgb(255,65,54)\"},\"mode\":\"lines\",\"x\":[4208.125,4208.125,4262.5,4262.5],\"xaxis\":\"x\",\"y\":[0.8374337396444497,1.5596951938118664,1.5596951938118664,1.2494614515272715],\"yaxis\":\"y\",\"type\":\"scatter\"},{\"hoverinfo\":\"text\",\"marker\":{\"color\":\"rgb(255,65,54)\"},\"mode\":\"lines\",\"x\":[4170.0,4170.0,4235.3125,4235.3125],\"xaxis\":\"x\",\"y\":[1.0469503725905016,2.0523317203567166,2.0523317203567166,1.5596951938118664],\"yaxis\":\"y\",\"type\":\"scatter\"},{\"hoverinfo\":\"text\",\"marker\":{\"color\":\"rgb(255,65,54)\"},\"mode\":\"lines\",\"x\":[4140.0,4140.0,4202.65625,4202.65625],\"xaxis\":\"x\",\"y\":[1.282461514554853,3.068985102800138,3.068985102800138,2.0523317203567166],\"yaxis\":\"y\",\"type\":\"scatter\"},{\"hoverinfo\":\"text\",\"marker\":{\"color\":\"rgb(255,65,54)\"},\"mode\":\"lines\",\"x\":[3918.1640625,3918.1640625,4171.328125,4171.328125],\"xaxis\":\"x\",\"y\":[2.0590385919557015,3.537364021118567,3.537364021118567,3.068985102800138],\"yaxis\":\"y\",\"type\":\"scatter\"},{\"hoverinfo\":\"text\",\"marker\":{\"color\":\"rgb(255,65,54)\"},\"mode\":\"lines\",\"x\":[3792.5,3792.5,4044.74609375,4044.74609375],\"xaxis\":\"x\",\"y\":[2.328518771789339,5.575155637429696,5.575155637429696,3.537364021118567],\"yaxis\":\"y\",\"type\":\"scatter\"},{\"hoverinfo\":\"text\",\"marker\":{\"color\":\"rgb(255,65,54)\"},\"mode\":\"lines\",\"x\":[3231.69189453125,3231.69189453125,3918.623046875,3918.623046875],\"xaxis\":\"x\",\"y\":[4.08056547720667,7.836967515136137,7.836967515136137,5.575155637429696],\"yaxis\":\"y\",\"type\":\"scatter\"},{\"hoverinfo\":\"text\",\"marker\":{\"color\":\"rgb(255,65,54)\"},\"mode\":\"lines\",\"x\":[2890.0,2890.0,3575.157470703125,3575.157470703125],\"xaxis\":\"x\",\"y\":[3.649685224335885,11.54133241304427,11.54133241304427,7.836967515136137],\"yaxis\":\"y\",\"type\":\"scatter\"},{\"hoverinfo\":\"text\",\"marker\":{\"color\":\"rgb(0,116,217)\"},\"mode\":\"lines\",\"x\":[1746.5281677246094,1746.5281677246094,3232.5787353515625,3232.5787353515625],\"xaxis\":\"x\",\"y\":[10.47294440501479,18.053782984035443,18.053782984035443,11.54133241304427],\"yaxis\":\"y\",\"type\":\"scatter\"}],                        {\"autosize\":false,\"height\":1000,\"hovermode\":\"closest\",\"showlegend\":false,\"width\":5000,\"xaxis\":{\"mirror\":\"allticks\",\"rangemode\":\"tozero\",\"showgrid\":false,\"showline\":true,\"showticklabels\":true,\"tickmode\":\"array\",\"ticks\":\"outside\",\"ticktext\":[\"Lincoln-Navigator Luxury\",\"Nissan-Pathfinder Armada SE\",\"Volkswagen-Phaeton 4dr\",\"Chevrolet-SSR\",\"GMC-Yukon 1500 SLE\",\"Cadillac-Escalade\",\"Chevrolet-Tahoe LT\",\"GMC-Envoy XUV SLE\",\"Isuzu-Ascender S\",\"Ford-F-150 Regular Cab XL\",\"Toyota-Sequoia SR5\",\"Dodge-Durango SLT\",\"Ford-Expedition 4.6 XLT\",\"Dodge-Dakota Club Cab\",\"Toyota-Tundra Regular Cab V6\",\"Toyota-Tundra Access Cab V6 SR5\",\"Mazda-B4000 SE Cab Plus\",\"Chevrolet-Silverado 1500 Regular Cab\",\"GMC-Sonoma Crew Cab\",\"Dodge-Ram 1500 Regular Cab ST\",\"Ford-Freestar SE\",\"Mercury-Monterey Luxury\",\"Chrysler-Concorde LXi 4dr\",\"Dodge-Intrepid ES 4dr\",\"Buick-Park Avenue 4dr\",\"Buick-Park Avenue Ultra 4dr\",\"Nissan-Quest S\",\"Nissan-Quest SE\",\"Toyota-Sienna CE\",\"Toyota-Sienna XLE Limited\",\"Chrysler-Town and Country LX\",\"Oldsmobile-Silhouette GL\",\"Pontiac-Montana EWB\",\"Honda-Odyssey LX\",\"Honda-Odyssey EX\",\"Chrysler-Town and Country Limited\",\"Dodge-Grand Caravan SXT\",\"Lincoln-Town Car Ultimate L 4dr\",\"Lincoln-Town Car Signature 4dr\",\"Lincoln-Town Car Ultimate 4dr\",\"Ford-Crown Victoria LX Sport 4dr\",\"Ford-Crown Victoria 4dr\",\"Ford-Crown Victoria LX 4dr\",\"Mercury-Grand Marquis LS Ultimate 4dr\",\"Mercury-Grand Marquis GS 4dr\",\"Mercury-Grand Marquis LS Premium 4dr\",\"Mercedes-Benz-S430 4dr\",\"Jaguar-Vanden Plas 4dr\",\"Jaguar-XJ8 4dr\",\"Mercedes-Benz-S500 4dr\",\"BMW-745i 4dr\",\"Audi-A8 L Quattro 4dr\",\"BMW-745Li 4dr\",\"Porsche-911 GT2 2dr\",\"Volvo-S60 R 4dr\",\"Mitsubishi-Lancer Evolution 4dr\",\"Subaru-Impreza WRX STi 4dr\",\"Mercedes-Benz-SLK32 AMG 2dr\",\"Porsche-911 Carrera 4S coupe 2dr (convert)\",\"Porsche-911 Carrera convertible 2dr (coupe)\",\"Porsche-911 Targa coupe 2dr\",\"Mercedes-Benz-C32 AMG 4dr\",\"BMW-M3 coupe 2dr\",\"BMW-M3 convertible 2dr\",\"Acura-NSX coupe 2dr manual S\",\"Nissan-350Z coupe 2dr\",\"Nissan-350Z Enthusiast convertible 2dr\",\"Jeep-Wrangler Sahara convertible 2dr\",\"BMW-Z4 convertible 2.5i 2dr\",\"Chevrolet-Tracker\",\"Suzuki-Vitara LX\",\"Hyundai-Tiburon GT V6 2dr\",\"Volkswagen-Jetta GLI VR6 4dr\",\"Mitsubishi-Eclipse GTS 2dr\",\"Mitsubishi-Eclipse Spyder GT convertible 2dr\",\"Porsche-Boxster convertible 2dr\",\"Porsche-Boxster S convertible 2dr\",\"Chrysler-Crossfire 2dr\",\"Audi-TT 3.2 coupe 2dr (convertible)\",\"BMW-Z4 convertible 3.0i 2dr\",\"BMW-530i 4dr\",\"Chevrolet-Malibu Maxx LS\",\"Chevrolet-Monte Carlo SS 2dr\",\"Buick-Regal LS 4dr\",\"Buick-LeSabre Custom 4dr\",\"Buick-LeSabre Limited 4dr\",\"Chevrolet-Impala LS 4dr\",\"Pontiac-Grand Prix GT1 4dr\",\"Pontiac-Grand Prix GT2 4dr\",\"Buick-Century Custom 4dr\",\"Chevrolet-Impala 4dr\",\"Chevrolet-Monte Carlo LS 2dr\",\"Chrysler-Concorde LX 4dr\",\"Dodge-Intrepid SE 4dr\",\"BMW-525i 4dr\",\"Ford-Taurus SES Duratec 4dr\",\"Mercury-Sable LS Premium 4dr\",\"Ford-Taurus SE\",\"Mercury-Sable GS\",\"Ford-Taurus LX 4dr\",\"Mercury-Sable GS 4dr\",\"Acura-TL 4dr\",\"Infiniti-G35 4dr\",\"Infiniti-G35 Sport Coupe 2dr\",\"Audi-A6 2.7 Turbo Quattro 4dr\",\"Volvo-S80 T6 4dr\",\"Nissan-Murano SL\",\"Cadillac-CTS VVT 4dr\",\"Infiniti-G35 4dr\",\"Jaguar-S-Type 3.0 4dr\",\"Lincoln-LS V6 Luxury 4dr\",\"Lincoln-LS V6 Premium 4dr\",\"Mercedes-Benz-E320 4dr\",\"Mercedes-Benz-E320\",\"Infiniti-I35 4dr\",\"Nissan-Altima SE 4dr\",\"Buick-Regal GS 4dr\",\"Chevrolet-Impala SS 4dr\",\"Nissan-Maxima SE 4dr\",\"Nissan-Maxima SL 4dr\",\"Chrysler-300M 4dr\",\"Chrysler-300M Special Edition 4dr\",\"Ford-Mustang 2dr (convertible)\",\"Chevrolet-Malibu LS 4dr\",\"Chevrolet-Malibu LT 4dr\",\"Saturn-L300-2 4dr\",\"Oldsmobile-Alero GLS 2dr\",\"Pontiac-Grand Am GT 2dr\",\"Jaguar-X-Type 2.5 4dr\",\"Suzuki-Verona LX 4dr\",\"Kia-Optima LX V6 4dr\",\"Hyundai-Sonata GLS 4dr\",\"Hyundai-Sonata LX 4dr\",\"BMW-325i 4dr\",\"BMW-325Ci 2dr\",\"Hyundai-Santa Fe GLS\",\"BMW-325xi Sport\",\"BMW-325Ci convertible 2dr\",\"BMW-325xi 4dr\",\"Mercedes-Benz-C240 4dr\",\"Mercedes-Benz-C240 4dr\",\"Mercedes-Benz-C240\",\"Honda-Accord LX V6 4dr\",\"Honda-Accord EX V6 2dr\",\"Lexus-ES 330 4dr\",\"Toyota-Camry Solara SE V6 2dr\",\"Toyota-Camry Solara SLE V6 2dr\",\"Toyota-Avalon XL 4dr\",\"Toyota-Avalon XLS 4dr\",\"Toyota-Camry LE V6 4dr\",\"Toyota-Camry XLE V6 4dr\",\"Audi-A6 3.0 4dr\",\"Volvo-S80 2.9 4dr\",\"Chrysler-Sebring Touring 4dr\",\"Chrysler-Sebring Limited convertible 2dr\",\"BMW-330xi 4dr\",\"BMW-330i 4dr\",\"BMW-330Ci 2dr\",\"Mercedes-Benz-C320 4dr\",\"Mercedes-Benz-C320 4dr\",\"Mercedes-Benz-C320 Sport 2dr\",\"Mercedes-Benz-C320 Sport 4dr\",\"Audi-A4 3.0 4dr\",\"BMW-330Ci convertible 2dr\",\"Jaguar-X-Type 3.0 4dr\",\"Audi-A4 3.0 Quattro 4dr manual\",\"Audi-A4 3.0 Quattro 4dr auto\",\"Audi-A4 3.0 convertible 2dr\",\"Mercedes-Benz-CLK320 coupe 2dr (convertible)\",\"Volkswagen-Passat GLX V6 4MOTION 4dr\",\"Subaru-Outback H6 4dr\",\"Subaru-Outback H-6 VDC 4dr\",\"Jeep-Grand Cherokee Laredo\",\"Kia-Sorento LX\",\"Isuzu-Rodeo S\",\"Nissan-Xterra XE V6\",\"Land Rover-Freelander SE\",\"Ford-Escape XLS\",\"Lexus-IS 300 4dr manual\",\"Lexus-IS 300 4dr auto\",\"Lexus-IS 300 SportCross\",\"Dodge-Caravan SE\",\"Chevrolet-Colorado Z85\",\"GMC-Canyon Z85 SL Regular Cab\",\"Nissan-Frontier King Cab XE V6\",\"Kia-Amanti 4dr\",\"Dodge-Dakota Regular Cab\",\"Acura-3.5 RL 4dr\",\"Acura-3.5 RL w/Navigation 4dr\",\"Mitsubishi-Galant GTS 4dr\",\"Mitsubishi-Diamante LS 4dr\",\"Hyundai-XG350 4dr\",\"Hyundai-XG350 L 4dr\",\"Pontiac-Aztekt\",\"Buick-Rendezvous CX\",\"Chevrolet-Venture LS\",\"Pontiac-Montana\",\"BMW-X3 3.0i\",\"Audi-A4 3.0 Quattro convertible 2dr\",\"Lexus-RX 330\",\"Toyota-Highlander V6\",\"Suzuki-XL-7 EX\",\"Audi-A6 3.0 Quattro 4dr\",\"Audi-A6 3.0 Avant Quattro\",\"Lexus-GS 300 4dr\",\"Mazda-MPV ES\",\"Jaguar-XK8 coupe 2dr\",\"Jaguar-XK8 convertible 2dr\",\"Ford-Thunderbird Deluxe convert w/hardtop 2d\",\"Volkswagen-Passat W8 4MOTION 4dr\",\"Volkswagen-Passat W8\",\"Ford-Mustang GT Premium convertible 2dr\",\"Mercedes-Benz-SL500 convertible 2dr\",\"Mercedes-Benz-CLK500 coupe 2dr (convertible)\",\"Cadillac-XLR convertible 2dr\",\"Lexus-SC 430 convertible 2dr\",\"Chevrolet-Corvette 2dr\",\"Chevrolet-Corvette convertible 2dr\",\"Jaguar-XKR coupe 2dr\",\"Jaguar-XKR convertible 2dr\",\"Audi-S4 Quattro 4dr\",\"Audi-S4 Avant Quattro\",\"Audi-RS 6 4dr\",\"Jaguar-S-Type R 4dr\",\"Jaguar-XJR 4dr\",\"Mercedes-Benz-E500 4dr\",\"Pontiac-GTO 2dr\",\"Cadillac-SRX V8\",\"Infiniti-FX45\",\"Infiniti-M45 4dr\",\"Infiniti-Q45 Luxury 4dr\",\"Mercedes-Benz-CL500 2dr\",\"Mercedes-Benz-E500\",\"Audi-A6 4.2 Quattro 4dr\",\"Lexus-GS 430 4dr\",\"Lexus-LS 430 4dr\",\"Lincoln-LS V8 Sport 4dr\",\"Lincoln-LS V8 Ultimate 4dr\",\"BMW-545iA 4dr\",\"Jaguar-S-Type 4.2 4dr\",\"Cadillac-Seville SLS 4dr\",\"Cadillac-Deville 4dr\",\"Cadillac-Deville DTS 4dr\",\"Mercury-Marauder 4dr\",\"Pontiac-Bonneville GXP 4dr\",\"Acura-MDX\",\"Honda-Pilot LX\",\"Nissan-Pathfinder SE\",\"Mitsubishi-Endeavor XLS\",\"Toyota-4Runner SR5 V6\",\"Infiniti-FX35\",\"Buick-Rainier\",\"Chevrolet-TrailBlazer LT\",\"GMC-Safari SLE\",\"Ford-Explorer XLT V6\",\"Mercury-Mountaineer\",\"Chevrolet-Astro\",\"Mitsubishi-Montero XLS\",\"Chrysler-Pacifica\",\"Kia-Sedona LX\",\"Volkswagen-Touareg V6\",\"Volvo-XC90 T6\",\"Land Rover-Discovery SE\",\"Lexus-GX 470\",\"BMW-X5 4.4i\",\"Mercedes-Benz-ML500\",\"Lincoln-Aviator Ultimate\",\"Porsche-Cayenne S\",\"Lexus-LX 470\",\"Mercedes-Benz-G500\",\"Land Rover-Range Rover HSE\",\"Toyota-Land Cruiser\",\"Mercedes-Benz-CL600 2dr\",\"Volkswagen-Phaeton W12 4dr\",\"Dodge-Viper SRT-10 convertible 2dr\",\"Mercedes-Benz-SL55 AMG 2dr\",\"Mercedes-Benz-SL600 convertible 2dr\",\"GMC-Sierra Extended Cab 1500\",\"Chevrolet-Silverado SS\",\"Nissan-Titan King Cab XE\",\"Cadillac-Escalade EXT\",\"GMC-Yukon XL 2500 SLT\",\"Chevrolet-Suburban 1500 LT\",\"GMC-Sierra HD 2500\",\"Chevrolet-Avalanche 1500\",\"Ford-F-150 Supercab Lariat\",\"Ford-Excursion 6.8 XLT\",\"Hummer-H2\",\"Honda-Insight 2dr (gas/electric)\",\"Toyota-Prius 4dr (gas/electric)\",\"Mazda-MX-5 Miata convertible 2dr\",\"Mazda-MX-5 Miata LS convertible 2dr\",\"Audi-TT 1.8 convertible 2dr (coupe)\",\"Mercedes-Benz-SLK230 convertible 2dr\",\"Audi-TT 1.8 Quattro 2dr (convertible)\",\"Honda-S2000 convertible 2dr\",\"Volkswagen-Golf GLS 4dr\",\"Volkswagen-New Beetle GLS convertible 2dr\",\"Honda-Civic Si 2dr hatch\",\"Volkswagen-New Beetle GLS 1.8T 2dr\",\"Suzuki-Aeno S 4dr\",\"Suzuki-Aerio LX 4dr\",\"Toyota-Celica GT-S 2dr\",\"Acura-RSX Type S 2dr\",\"Volkswagen-GTI 1.8T 2dr hatch\",\"Mazda-Mazda3 s 4dr\",\"Mitsubishi-Lancer Sportback LS\",\"Volkswagen-Jetta GL\",\"Suzuki-Forenza EX 4dr\",\"Mitsubishi-Lancer ES 4dr\",\"Mitsubishi-Lancer LS 4dr\",\"Mitsubishi-Lancer OZ Rally 4dr auto\",\"Suzuki-Forenza S 4dr\",\"Kia-Spectra 4dr\",\"Kia-Spectra GS 4dr hatch\",\"Kia-Spectra GSX 4dr hatch\",\"Honda-Element LX\",\"Jeep-Liberty Sport\",\"Mazda-Tribute DX 2.0\",\"Saturn-VUE\",\"Honda-CR-V LX\",\"Mitsubishi-Outlander LS\",\"Chrysler-PT Cruiser GT 4dr\",\"Subaru-Impreza WRX 4dr\",\"Volvo-S40 4dr\",\"Volvo-V40\",\"Nissan-Sentra SE-R 4dr\",\"Subaru-Impreza 2.5 RS 4dr\",\"Subaru-Forester X\",\"Suzuki-Aerio SX\",\"Toyota-RAV4\",\"Ford-Focus SVT 2dr\",\"Chrysler-PT Cruiser 4dr\",\"Chrysler-PT Cruiser Limited 4dr\",\"Mazda-RX-8 4dr automatic\",\"Mazda-RX-8 4dr manual\",\"Audi-A41.8T convertible 2dr\",\"Mercedes-Benz-C230 Sport 2dr\",\"Audi-A4 1.8T 4dr\",\"Volkswagen-Passat GLS 4dr\",\"Volkswagen-Passat GLS 1.8T\",\"Saab-9-3 Arc convertible 2dr\",\"Saab-9-3 Aero convertible 2dr\",\"Acura-TSX 4dr\",\"Saab-9-3 Arc Sport 4dr\",\"Saab-9-3 Aero 4dr\",\"Saab-9-5 Aero\",\"Saab-9-5 Arc 4dr\",\"Saab-9-5 Aero 4dr\",\"Volvo-S80 2.5T 4dr\",\"Volvo-XC70\",\"Volvo-S60 2.5 4dr\",\"Volvo-S60 T5 4dr\",\"Volvo-C70 LPT convertible 2dr\",\"Volvo-C70 HPT convertible 2dr\",\"Honda-Accord LX 2dr\",\"Honda-Accord EX 2dr\",\"Mazda-Mazda6 i 4dr\",\"Oldsmobile-Alero GX 2dr\",\"Chevrolet-Malibu 4dr\",\"Saturn-L300 2\",\"Toyota-Camry LE 4dr\",\"Toyota-Camry Solara SE 2dr\",\"Nissan-Altima S 4dr\",\"Ford-Ranger 2.3 XL Regular Cab\",\"Mazda-B2300 SX Regular Cab\",\"Toyota-Tacoma\",\"Subaru-Baja\",\"Subaru-Outback Limited Sedan 4dr\",\"Subaru-Outback\",\"Subaru-Legacy L 4dr\",\"Subaru-Legacy GT 4dr\",\"Kia-Optima LX 4dr\",\"Dodge-Stratus SXT 4dr\",\"Dodge-Stratus SE 4dr\",\"Chrysler-Sebring convertible 2dr\",\"Chrysler-Sebring 4dr\",\"Mitsubishi-Galant ES 2.4L 4dr\",\"Honda-Civic Hybrid 4dr manual (gas/electric)\",\"Honda-Civic HX 2dr\",\"Volkswagen-Jetta GLS TDI 4dr\",\"Toyota-Corolla CE 4dr\",\"Toyota-Corolla S 4dr\",\"Toyota-Corolla LE 4dr\",\"Honda-Civic EX 4dr\",\"Honda-Civic DX 2dr\",\"Honda-Civic LX 4dr\",\"Chevrolet-Cavalier 4dr\",\"Chevrolet-Cavalier 2dr\",\"Chevrolet-Cavalier LS 2dr\",\"Saturn-lon3 4dr\",\"Saturn-Ion1 4dr\",\"Saturn-lon2 4dr\",\"Saturn-lon2 quad coupe 2dr\",\"Saturn-lon3 quad coupe 2dr\",\"Pontiac-Sunfire 1SA 2dr\",\"Pontiac-Sunfire 1SC 2dr\",\"Ford-Focus ZTW\",\"Mazda-Mazda3 i 4dr\",\"Hyundai-Elantra GT 4dr hatch\",\"Hyundai-Elantra GLS 4dr\",\"Hyundai-Elantra GT 4dr\",\"Ford-Focus LX 4dr\",\"Ford-Focus ZX5 5dr\",\"Ford-Focus ZX3 2dr hatch\",\"Ford-Focus SE 4dr\",\"Nissan-Sentra 1.8 4dr\",\"Nissan-Sentra 1.8 S 4dr\",\"Dodge-Neon SE 4dr\",\"Dodge-Neon SXT 4dr\",\"Pontiac-Vibe\",\"Toyota-Matrix XR\",\"Toyota-Echo 2dr manual\",\"Toyota-Echo 4dr\",\"Scion-xA 4dr hatch\",\"Toyota-Echo 2dr auto\",\"MINI-Cooper\",\"MINI-Cooper S\",\"Kia-Rio 4dr auto\",\"Kia-Rio 4dr manual\",\"Kia-Rio Cinco\",\"Chevrolet-Aveo 4dr\",\"Hyundai-Accent GT 2dr hatch\",\"Hyundai-Accent 2dr hatch\",\"Hyundai-Accent GL 4dr\",\"Toyota-MR2 Spyder convertible 2dr\",\"Chevrolet-Aveo LS 4dr hatch\",\"Scion-xB\"],\"tickvals\":[5,15,25,35,45,55,65,75,85,95,105,115,125,135,145,155,165,175,185,195,205,215,225,235,245,255,265,275,285,295,305,315,325,335,345,355,365,375,385,395,405,415,425,435,445,455,465,475,485,495,505,515,525,535,545,555,565,575,585,595,605,615,625,635,645,655,665,675,685,695,705,715,725,735,745,755,765,775,785,795,805,815,825,835,845,855,865,875,885,895,905,915,925,935,945,955,965,975,985,995,1005,1015,1025,1035,1045,1055,1065,1075,1085,1095,1105,1115,1125,1135,1145,1155,1165,1175,1185,1195,1205,1215,1225,1235,1245,1255,1265,1275,1285,1295,1305,1315,1325,1335,1345,1355,1365,1375,1385,1395,1405,1415,1425,1435,1445,1455,1465,1475,1485,1495,1505,1515,1525,1535,1545,1555,1565,1575,1585,1595,1605,1615,1625,1635,1645,1655,1665,1675,1685,1695,1705,1715,1725,1735,1745,1755,1765,1775,1785,1795,1805,1815,1825,1835,1845,1855,1865,1875,1885,1895,1905,1915,1925,1935,1945,1955,1965,1975,1985,1995,2005,2015,2025,2035,2045,2055,2065,2075,2085,2095,2105,2115,2125,2135,2145,2155,2165,2175,2185,2195,2205,2215,2225,2235,2245,2255,2265,2275,2285,2295,2305,2315,2325,2335,2345,2355,2365,2375,2385,2395,2405,2415,2425,2435,2445,2455,2465,2475,2485,2495,2505,2515,2525,2535,2545,2555,2565,2575,2585,2595,2605,2615,2625,2635,2645,2655,2665,2675,2685,2695,2705,2715,2725,2735,2745,2755,2765,2775,2785,2795,2805,2815,2825,2835,2845,2855,2865,2875,2885,2895,2905,2915,2925,2935,2945,2955,2965,2975,2985,2995,3005,3015,3025,3035,3045,3055,3065,3075,3085,3095,3105,3115,3125,3135,3145,3155,3165,3175,3185,3195,3205,3215,3225,3235,3245,3255,3265,3275,3285,3295,3305,3315,3325,3335,3345,3355,3365,3375,3385,3395,3405,3415,3425,3435,3445,3455,3465,3475,3485,3495,3505,3515,3525,3535,3545,3555,3565,3575,3585,3595,3605,3615,3625,3635,3645,3655,3665,3675,3685,3695,3705,3715,3725,3735,3745,3755,3765,3775,3785,3795,3805,3815,3825,3835,3845,3855,3865,3875,3885,3895,3905,3915,3925,3935,3945,3955,3965,3975,3985,3995,4005,4015,4025,4035,4045,4055,4065,4075,4085,4095,4105,4115,4125,4135,4145,4155,4165,4175,4185,4195,4205,4215,4225,4235,4245,4255,4265,4275],\"type\":\"linear\",\"zeroline\":false},\"yaxis\":{\"mirror\":\"allticks\",\"rangemode\":\"tozero\",\"showgrid\":false,\"showline\":true,\"showticklabels\":true,\"ticks\":\"outside\",\"type\":\"linear\",\"zeroline\":false},\"template\":{\"data\":{\"histogram2dcontour\":[{\"type\":\"histogram2dcontour\",\"colorbar\":{\"outlinewidth\":0,\"ticks\":\"\"},\"colorscale\":[[0.0,\"#0d0887\"],[0.1111111111111111,\"#46039f\"],[0.2222222222222222,\"#7201a8\"],[0.3333333333333333,\"#9c179e\"],[0.4444444444444444,\"#bd3786\"],[0.5555555555555556,\"#d8576b\"],[0.6666666666666666,\"#ed7953\"],[0.7777777777777778,\"#fb9f3a\"],[0.8888888888888888,\"#fdca26\"],[1.0,\"#f0f921\"]]}],\"choropleth\":[{\"type\":\"choropleth\",\"colorbar\":{\"outlinewidth\":0,\"ticks\":\"\"}}],\"histogram2d\":[{\"type\":\"histogram2d\",\"colorbar\":{\"outlinewidth\":0,\"ticks\":\"\"},\"colorscale\":[[0.0,\"#0d0887\"],[0.1111111111111111,\"#46039f\"],[0.2222222222222222,\"#7201a8\"],[0.3333333333333333,\"#9c179e\"],[0.4444444444444444,\"#bd3786\"],[0.5555555555555556,\"#d8576b\"],[0.6666666666666666,\"#ed7953\"],[0.7777777777777778,\"#fb9f3a\"],[0.8888888888888888,\"#fdca26\"],[1.0,\"#f0f921\"]]}],\"heatmap\":[{\"type\":\"heatmap\",\"colorbar\":{\"outlinewidth\":0,\"ticks\":\"\"},\"colorscale\":[[0.0,\"#0d0887\"],[0.1111111111111111,\"#46039f\"],[0.2222222222222222,\"#7201a8\"],[0.3333333333333333,\"#9c179e\"],[0.4444444444444444,\"#bd3786\"],[0.5555555555555556,\"#d8576b\"],[0.6666666666666666,\"#ed7953\"],[0.7777777777777778,\"#fb9f3a\"],[0.8888888888888888,\"#fdca26\"],[1.0,\"#f0f921\"]]}],\"heatmapgl\":[{\"type\":\"heatmapgl\",\"colorbar\":{\"outlinewidth\":0,\"ticks\":\"\"},\"colorscale\":[[0.0,\"#0d0887\"],[0.1111111111111111,\"#46039f\"],[0.2222222222222222,\"#7201a8\"],[0.3333333333333333,\"#9c179e\"],[0.4444444444444444,\"#bd3786\"],[0.5555555555555556,\"#d8576b\"],[0.6666666666666666,\"#ed7953\"],[0.7777777777777778,\"#fb9f3a\"],[0.8888888888888888,\"#fdca26\"],[1.0,\"#f0f921\"]]}],\"contourcarpet\":[{\"type\":\"contourcarpet\",\"colorbar\":{\"outlinewidth\":0,\"ticks\":\"\"}}],\"contour\":[{\"type\":\"contour\",\"colorbar\":{\"outlinewidth\":0,\"ticks\":\"\"},\"colorscale\":[[0.0,\"#0d0887\"],[0.1111111111111111,\"#46039f\"],[0.2222222222222222,\"#7201a8\"],[0.3333333333333333,\"#9c179e\"],[0.4444444444444444,\"#bd3786\"],[0.5555555555555556,\"#d8576b\"],[0.6666666666666666,\"#ed7953\"],[0.7777777777777778,\"#fb9f3a\"],[0.8888888888888888,\"#fdca26\"],[1.0,\"#f0f921\"]]}],\"surface\":[{\"type\":\"surface\",\"colorbar\":{\"outlinewidth\":0,\"ticks\":\"\"},\"colorscale\":[[0.0,\"#0d0887\"],[0.1111111111111111,\"#46039f\"],[0.2222222222222222,\"#7201a8\"],[0.3333333333333333,\"#9c179e\"],[0.4444444444444444,\"#bd3786\"],[0.5555555555555556,\"#d8576b\"],[0.6666666666666666,\"#ed7953\"],[0.7777777777777778,\"#fb9f3a\"],[0.8888888888888888,\"#fdca26\"],[1.0,\"#f0f921\"]]}],\"mesh3d\":[{\"type\":\"mesh3d\",\"colorbar\":{\"outlinewidth\":0,\"ticks\":\"\"}}],\"scatter\":[{\"fillpattern\":{\"fillmode\":\"overlay\",\"size\":10,\"solidity\":0.2},\"type\":\"scatter\"}],\"parcoords\":[{\"type\":\"parcoords\",\"line\":{\"colorbar\":{\"outlinewidth\":0,\"ticks\":\"\"}}}],\"scatterpolargl\":[{\"type\":\"scatterpolargl\",\"marker\":{\"colorbar\":{\"outlinewidth\":0,\"ticks\":\"\"}}}],\"bar\":[{\"error_x\":{\"color\":\"#2a3f5f\"},\"error_y\":{\"color\":\"#2a3f5f\"},\"marker\":{\"line\":{\"color\":\"#E5ECF6\",\"width\":0.5},\"pattern\":{\"fillmode\":\"overlay\",\"size\":10,\"solidity\":0.2}},\"type\":\"bar\"}],\"scattergeo\":[{\"type\":\"scattergeo\",\"marker\":{\"colorbar\":{\"outlinewidth\":0,\"ticks\":\"\"}}}],\"scatterpolar\":[{\"type\":\"scatterpolar\",\"marker\":{\"colorbar\":{\"outlinewidth\":0,\"ticks\":\"\"}}}],\"histogram\":[{\"marker\":{\"pattern\":{\"fillmode\":\"overlay\",\"size\":10,\"solidity\":0.2}},\"type\":\"histogram\"}],\"scattergl\":[{\"type\":\"scattergl\",\"marker\":{\"colorbar\":{\"outlinewidth\":0,\"ticks\":\"\"}}}],\"scatter3d\":[{\"type\":\"scatter3d\",\"line\":{\"colorbar\":{\"outlinewidth\":0,\"ticks\":\"\"}},\"marker\":{\"colorbar\":{\"outlinewidth\":0,\"ticks\":\"\"}}}],\"scattermapbox\":[{\"type\":\"scattermapbox\",\"marker\":{\"colorbar\":{\"outlinewidth\":0,\"ticks\":\"\"}}}],\"scatterternary\":[{\"type\":\"scatterternary\",\"marker\":{\"colorbar\":{\"outlinewidth\":0,\"ticks\":\"\"}}}],\"scattercarpet\":[{\"type\":\"scattercarpet\",\"marker\":{\"colorbar\":{\"outlinewidth\":0,\"ticks\":\"\"}}}],\"carpet\":[{\"aaxis\":{\"endlinecolor\":\"#2a3f5f\",\"gridcolor\":\"white\",\"linecolor\":\"white\",\"minorgridcolor\":\"white\",\"startlinecolor\":\"#2a3f5f\"},\"baxis\":{\"endlinecolor\":\"#2a3f5f\",\"gridcolor\":\"white\",\"linecolor\":\"white\",\"minorgridcolor\":\"white\",\"startlinecolor\":\"#2a3f5f\"},\"type\":\"carpet\"}],\"table\":[{\"cells\":{\"fill\":{\"color\":\"#EBF0F8\"},\"line\":{\"color\":\"white\"}},\"header\":{\"fill\":{\"color\":\"#C8D4E3\"},\"line\":{\"color\":\"white\"}},\"type\":\"table\"}],\"barpolar\":[{\"marker\":{\"line\":{\"color\":\"#E5ECF6\",\"width\":0.5},\"pattern\":{\"fillmode\":\"overlay\",\"size\":10,\"solidity\":0.2}},\"type\":\"barpolar\"}],\"pie\":[{\"automargin\":true,\"type\":\"pie\"}]},\"layout\":{\"autotypenumbers\":\"strict\",\"colorway\":[\"#636efa\",\"#EF553B\",\"#00cc96\",\"#ab63fa\",\"#FFA15A\",\"#19d3f3\",\"#FF6692\",\"#B6E880\",\"#FF97FF\",\"#FECB52\"],\"font\":{\"color\":\"#2a3f5f\"},\"hovermode\":\"closest\",\"hoverlabel\":{\"align\":\"left\"},\"paper_bgcolor\":\"white\",\"plot_bgcolor\":\"#E5ECF6\",\"polar\":{\"bgcolor\":\"#E5ECF6\",\"angularaxis\":{\"gridcolor\":\"white\",\"linecolor\":\"white\",\"ticks\":\"\"},\"radialaxis\":{\"gridcolor\":\"white\",\"linecolor\":\"white\",\"ticks\":\"\"}},\"ternary\":{\"bgcolor\":\"#E5ECF6\",\"aaxis\":{\"gridcolor\":\"white\",\"linecolor\":\"white\",\"ticks\":\"\"},\"baxis\":{\"gridcolor\":\"white\",\"linecolor\":\"white\",\"ticks\":\"\"},\"caxis\":{\"gridcolor\":\"white\",\"linecolor\":\"white\",\"ticks\":\"\"}},\"coloraxis\":{\"colorbar\":{\"outlinewidth\":0,\"ticks\":\"\"}},\"colorscale\":{\"sequential\":[[0.0,\"#0d0887\"],[0.1111111111111111,\"#46039f\"],[0.2222222222222222,\"#7201a8\"],[0.3333333333333333,\"#9c179e\"],[0.4444444444444444,\"#bd3786\"],[0.5555555555555556,\"#d8576b\"],[0.6666666666666666,\"#ed7953\"],[0.7777777777777778,\"#fb9f3a\"],[0.8888888888888888,\"#fdca26\"],[1.0,\"#f0f921\"]],\"sequentialminus\":[[0.0,\"#0d0887\"],[0.1111111111111111,\"#46039f\"],[0.2222222222222222,\"#7201a8\"],[0.3333333333333333,\"#9c179e\"],[0.4444444444444444,\"#bd3786\"],[0.5555555555555556,\"#d8576b\"],[0.6666666666666666,\"#ed7953\"],[0.7777777777777778,\"#fb9f3a\"],[0.8888888888888888,\"#fdca26\"],[1.0,\"#f0f921\"]],\"diverging\":[[0,\"#8e0152\"],[0.1,\"#c51b7d\"],[0.2,\"#de77ae\"],[0.3,\"#f1b6da\"],[0.4,\"#fde0ef\"],[0.5,\"#f7f7f7\"],[0.6,\"#e6f5d0\"],[0.7,\"#b8e186\"],[0.8,\"#7fbc41\"],[0.9,\"#4d9221\"],[1,\"#276419\"]]},\"xaxis\":{\"gridcolor\":\"white\",\"linecolor\":\"white\",\"ticks\":\"\",\"title\":{\"standoff\":15},\"zerolinecolor\":\"white\",\"automargin\":true,\"zerolinewidth\":2},\"yaxis\":{\"gridcolor\":\"white\",\"linecolor\":\"white\",\"ticks\":\"\",\"title\":{\"standoff\":15},\"zerolinecolor\":\"white\",\"automargin\":true,\"zerolinewidth\":2},\"scene\":{\"xaxis\":{\"backgroundcolor\":\"#E5ECF6\",\"gridcolor\":\"white\",\"linecolor\":\"white\",\"showbackground\":true,\"ticks\":\"\",\"zerolinecolor\":\"white\",\"gridwidth\":2},\"yaxis\":{\"backgroundcolor\":\"#E5ECF6\",\"gridcolor\":\"white\",\"linecolor\":\"white\",\"showbackground\":true,\"ticks\":\"\",\"zerolinecolor\":\"white\",\"gridwidth\":2},\"zaxis\":{\"backgroundcolor\":\"#E5ECF6\",\"gridcolor\":\"white\",\"linecolor\":\"white\",\"showbackground\":true,\"ticks\":\"\",\"zerolinecolor\":\"white\",\"gridwidth\":2}},\"shapedefaults\":{\"line\":{\"color\":\"#2a3f5f\"}},\"annotationdefaults\":{\"arrowcolor\":\"#2a3f5f\",\"arrowhead\":0,\"arrowwidth\":1},\"geo\":{\"bgcolor\":\"white\",\"landcolor\":\"#E5ECF6\",\"subunitcolor\":\"white\",\"showland\":true,\"showlakes\":true,\"lakecolor\":\"white\"},\"title\":{\"x\":0.05},\"mapbox\":{\"style\":\"light\"}}}},                        {\"responsive\": true}                    ).then(function(){\n",
       "                            \n",
       "var gd = document.getElementById('fe07e64e-b367-4074-a31a-491c8b8ff470');\n",
       "var x = new MutationObserver(function (mutations, observer) {{\n",
       "        var display = window.getComputedStyle(gd).display;\n",
       "        if (!display || display === 'none') {{\n",
       "            console.log([gd, 'removed!']);\n",
       "            Plotly.purge(gd);\n",
       "            observer.disconnect();\n",
       "        }}\n",
       "}});\n",
       "\n",
       "// Listen for the removal of the full notebook cells\n",
       "var notebookContainer = gd.closest('#notebook-container');\n",
       "if (notebookContainer) {{\n",
       "    x.observe(notebookContainer, {childList: true});\n",
       "}}\n",
       "\n",
       "// Listen for the clearing of the current output cell\n",
       "var outputEl = gd.closest('.output');\n",
       "if (outputEl) {{\n",
       "    x.observe(outputEl, {childList: true});\n",
       "}}\n",
       "\n",
       "                        })                };                });            </script>        </div>"
      ]
     },
     "metadata": {},
     "output_type": "display_data"
    }
   ],
   "source": [
    "fig = ff.create_dendrogram(X_sc,  labels=(df_2d[\"Make\"] +'-'+ df[\"Model\"]).values)\n",
    "fig.update_layout(width=5000, height=1000)\n",
    "fig.show()"
   ]
  },
  {
   "cell_type": "code",
   "execution_count": 90,
   "metadata": {},
   "outputs": [
    {
     "data": {
      "text/plain": [
       "array([2, 3, 3, 2, 2, 2, 2, 3, 3, 2, 2, 2, 2, 2, 2, 2, 2, 0, 0, 0, 0, 3,\n",
       "       3, 2, 2, 0, 2, 0, 2, 2, 2, 2, 2, 2, 2, 2, 2, 2, 0, 0, 0, 2, 2, 2,\n",
       "       2, 2, 2, 2, 2, 2, 2, 2, 2, 2, 2, 0, 0, 2, 0, 0, 0, 0, 0, 0, 0, 2,\n",
       "       2, 1, 1, 3, 3, 3, 2, 3, 2, 2, 2, 2, 2, 2, 2, 2, 0, 0, 0, 3, 0, 0,\n",
       "       0, 2, 3, 3, 3, 2, 2, 2, 2, 3, 3, 2, 2, 0, 0, 2, 2, 0, 1, 1, 2, 3,\n",
       "       3, 2, 3, 0, 0, 2, 0, 0, 0, 0, 2, 2, 1, 1, 1, 1, 3, 2, 2, 0, 0, 0,\n",
       "       0, 2, 0, 0, 0, 0, 3, 3, 2, 0, 0, 0, 2, 3, 0, 0, 0, 1, 1, 2, 3, 3,\n",
       "       1, 1, 1, 3, 3, 1, 3, 2, 2, 0, 0, 3, 0, 2, 1, 1, 1, 3, 3, 3, 2, 2,\n",
       "       2, 2, 2, 2, 2, 2, 2, 0, 0, 2, 0, 0, 2, 2, 2, 2, 0, 0, 0, 0, 0, 0,\n",
       "       0, 0, 0, 2, 3, 2, 2, 3, 1, 1, 3, 3, 3, 2, 2, 2, 1, 0, 0, 2, 0, 0,\n",
       "       2, 2, 2, 2, 2, 0, 0, 0, 2, 0, 0, 2, 2, 0, 0, 0, 0, 0, 1, 1, 3, 3,\n",
       "       3, 3, 2, 3, 3, 3, 3, 3, 0, 0, 0, 3, 2, 2, 2, 2, 2, 2, 2, 0, 0, 2,\n",
       "       0, 2, 0, 0, 0, 0, 0, 0, 3, 2, 2, 2, 0, 2, 2, 0, 0, 2, 0, 0, 0, 2,\n",
       "       2, 2, 3, 3, 3, 3, 3, 2, 2, 2, 2, 2, 3, 0, 2, 2, 1, 1, 3, 3, 2, 2,\n",
       "       2, 0, 0, 2, 2, 2, 0, 2, 3, 2, 0, 2, 3, 2, 2, 3, 2, 0, 2, 0, 0, 1,\n",
       "       0, 2, 2, 2, 0, 2, 2, 3, 3, 3, 3, 3, 3, 3, 3, 3, 3, 3, 3, 3, 2, 3,\n",
       "       1, 1, 3, 3, 3, 3, 2, 2, 3, 2, 3, 3, 3, 2, 2, 3, 3, 3, 3, 2, 3, 1,\n",
       "       0, 2, 2, 0, 3, 1, 1, 1, 1, 1, 1, 3, 2, 3, 2, 2, 2, 2, 2, 0, 0, 3,\n",
       "       1, 3, 0, 0, 1, 2, 3, 3, 1, 3, 2, 3, 3, 2, 0, 0, 0, 3, 3, 0, 2, 3,\n",
       "       3, 3, 2, 2, 3, 3, 3, 2, 3, 3])"
      ]
     },
     "execution_count": 90,
     "metadata": {},
     "output_type": "execute_result"
    }
   ],
   "source": [
    "model = AgglomerativeClustering( n_clusters=4)\n",
    "model = model.fit(X_sc)\n",
    "model.labels_"
   ]
  },
  {
   "cell_type": "code",
   "execution_count": null,
   "metadata": {},
   "outputs": [],
   "source": []
  },
  {
   "cell_type": "code",
   "execution_count": null,
   "metadata": {},
   "outputs": [],
   "source": []
  }
 ],
 "metadata": {
  "kernelspec": {
   "display_name": "Python 3",
   "language": "python",
   "name": "python3"
  },
  "language_info": {
   "codemirror_mode": {
    "name": "ipython",
    "version": 3
   },
   "file_extension": ".py",
   "mimetype": "text/x-python",
   "name": "python",
   "nbconvert_exporter": "python",
   "pygments_lexer": "ipython3",
   "version": "3.8.5"
  }
 },
 "nbformat": 4,
 "nbformat_minor": 4
}
